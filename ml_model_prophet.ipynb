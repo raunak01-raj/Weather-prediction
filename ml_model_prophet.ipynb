{
 "cells": [
  {
   "cell_type": "code",
   "execution_count": 48,
   "metadata": {},
   "outputs": [],
   "source": [
    "import numpy as np\n",
    "import matplotlib.pyplot as plt\n",
    "import matplotlib as mpl\n",
    "import pandas as pd\n",
    "from datetime import datetime\n",
    "import plotly.express as px"
   ]
  },
  {
   "cell_type": "code",
   "execution_count": 49,
   "metadata": {},
   "outputs": [
    {
     "data": {
      "text/plain": [
       "'import requests\\nimport csv\\nfrom datetime import datetime, timedelta\\n\\n# Replace with your API key\\nAPI_KEY = \" 56cdd10fcb5c468cbb4193934241803\"\\n\\n# Set the location and date range for historic weather data\\nlocation = input(\\'enter location\\')\\nstart_date = datetime(2024, 6, 13)  # Start date (YYYY, MM, DD)\\nend_date = datetime(2024, 6, 19)   # End date (YYYY, MM, DD)\\n\\n# Set the base URL and parameters for the API request\\nbase_url = \"http://api.weatherapi.com/v1/history.json\"\\nparams = {\\n    \"key\": API_KEY,\\n    \"q\": location,\\n    \"dt\": start_date.strftime(\"%Y-%m-%d\")\\n}\\n\\n# Initialize an empty list to store weather data\\nweather_data = []\\n\\n# Loop through the date range and fetch weather data for each day\\ncurrent_date = start_date\\nwhile current_date <= end_date:\\n    params[\"dt\"] = current_date.strftime(\"%Y-%m-%d\")\\n    response = requests.get(base_url, params=params)\\n    \\n    if response.status_code == 200:\\n        data = response.json()\\n        for forecast in data[\"forecast\"][\"forecastday\"]:\\n            for hour in forecast[\"hour\"]:\\n                weather_data.append({\\n                    \"Date\": hour[\"time\"].split(\" \")[0],\\n                    \"Time\": hour[\"time\"].split(\" \")[1],\\n                    \"Temperature (C)\": hour[\"temp_c\"],\\n                    \"Humidity\": hour[\"humidity\"],\\n                    \"Wind Speed (km/h)\": hour[\"wind_kph\"],\\n                    \"Precipitation (mm)\": hour[\"precip_mm\"]\\n                })\\n    else:\\n        print(f\"Error fetching data for {current_date}: {response.status_code} - {response.text}\")\\n    \\n    current_date += timedelta(days=1)\\n\\n# Save weather data to a CSV file\\nwith open(\"historic_weather_data.csv\", \"w\", newline=\"\") as csvfile:\\n    fieldnames = [\"Date\", \"Time\", \"Temperature (C)\", \"Humidity\", \"Wind Speed (km/h)\", \"Precipitation (mm)\"]\\n    writer = csv.DictWriter(csvfile, fieldnames=fieldnames)\\n    \\n    writer.writeheader()\\n    for data in weather_data:\\n        writer.writerow(data)\\n\\nprint(f\"Historic weather data of {location} saved to historic_weather_data.csv\")'"
      ]
     },
     "execution_count": 49,
     "metadata": {},
     "output_type": "execute_result"
    }
   ],
   "source": [
    "'''import requests\n",
    "import csv\n",
    "from datetime import datetime, timedelta\n",
    "\n",
    "# Replace with your API key\n",
    "API_KEY = \" 56cdd10fcb5c468cbb4193934241803\"\n",
    "\n",
    "# Set the location and date range for historic weather data\n",
    "location = input('enter location')\n",
    "start_date = datetime(2024, 6, 13)  # Start date (YYYY, MM, DD)\n",
    "end_date = datetime(2024, 6, 19)   # End date (YYYY, MM, DD)\n",
    "\n",
    "# Set the base URL and parameters for the API request\n",
    "base_url = \"http://api.weatherapi.com/v1/history.json\"\n",
    "params = {\n",
    "    \"key\": API_KEY,\n",
    "    \"q\": location,\n",
    "    \"dt\": start_date.strftime(\"%Y-%m-%d\")\n",
    "}\n",
    "\n",
    "# Initialize an empty list to store weather data\n",
    "weather_data = []\n",
    "\n",
    "# Loop through the date range and fetch weather data for each day\n",
    "current_date = start_date\n",
    "while current_date <= end_date:\n",
    "    params[\"dt\"] = current_date.strftime(\"%Y-%m-%d\")\n",
    "    response = requests.get(base_url, params=params)\n",
    "    \n",
    "    if response.status_code == 200:\n",
    "        data = response.json()\n",
    "        for forecast in data[\"forecast\"][\"forecastday\"]:\n",
    "            for hour in forecast[\"hour\"]:\n",
    "                weather_data.append({\n",
    "                    \"Date\": hour[\"time\"].split(\" \")[0],\n",
    "                    \"Time\": hour[\"time\"].split(\" \")[1],\n",
    "                    \"Temperature (C)\": hour[\"temp_c\"],\n",
    "                    \"Humidity\": hour[\"humidity\"],\n",
    "                    \"Wind Speed (km/h)\": hour[\"wind_kph\"],\n",
    "                    \"Precipitation (mm)\": hour[\"precip_mm\"]\n",
    "                })\n",
    "    else:\n",
    "        print(f\"Error fetching data for {current_date}: {response.status_code} - {response.text}\")\n",
    "    \n",
    "    current_date += timedelta(days=1)\n",
    "\n",
    "# Save weather data to a CSV file\n",
    "with open(\"historic_weather_data.csv\", \"w\", newline=\"\") as csvfile:\n",
    "    fieldnames = [\"Date\", \"Time\", \"Temperature (C)\", \"Humidity\", \"Wind Speed (km/h)\", \"Precipitation (mm)\"]\n",
    "    writer = csv.DictWriter(csvfile, fieldnames=fieldnames)\n",
    "    \n",
    "    writer.writeheader()\n",
    "    for data in weather_data:\n",
    "        writer.writerow(data)\n",
    "\n",
    "print(f\"Historic weather data of {location} saved to historic_weather_data.csv\")'''"
   ]
  },
  {
   "cell_type": "code",
   "execution_count": 50,
   "metadata": {},
   "outputs": [
    {
     "data": {
      "text/html": [
       "<div>\n",
       "<style scoped>\n",
       "    .dataframe tbody tr th:only-of-type {\n",
       "        vertical-align: middle;\n",
       "    }\n",
       "\n",
       "    .dataframe tbody tr th {\n",
       "        vertical-align: top;\n",
       "    }\n",
       "\n",
       "    .dataframe thead th {\n",
       "        text-align: right;\n",
       "    }\n",
       "</style>\n",
       "<table border=\"1\" class=\"dataframe\">\n",
       "  <thead>\n",
       "    <tr style=\"text-align: right;\">\n",
       "      <th></th>\n",
       "      <th>Date</th>\n",
       "      <th>Time</th>\n",
       "      <th>Temperature (C)</th>\n",
       "      <th>Humidity</th>\n",
       "      <th>Wind Speed (km/h)</th>\n",
       "      <th>Precipitation (mm)</th>\n",
       "    </tr>\n",
       "  </thead>\n",
       "  <tbody>\n",
       "    <tr>\n",
       "      <th>0</th>\n",
       "      <td>2024-06-18</td>\n",
       "      <td>00:00</td>\n",
       "      <td>36.8</td>\n",
       "      <td>38</td>\n",
       "      <td>11.9</td>\n",
       "      <td>0.00</td>\n",
       "    </tr>\n",
       "    <tr>\n",
       "      <th>1</th>\n",
       "      <td>2024-06-18</td>\n",
       "      <td>01:00</td>\n",
       "      <td>36.8</td>\n",
       "      <td>36</td>\n",
       "      <td>13.0</td>\n",
       "      <td>0.00</td>\n",
       "    </tr>\n",
       "    <tr>\n",
       "      <th>2</th>\n",
       "      <td>2024-06-18</td>\n",
       "      <td>02:00</td>\n",
       "      <td>36.4</td>\n",
       "      <td>36</td>\n",
       "      <td>10.4</td>\n",
       "      <td>0.00</td>\n",
       "    </tr>\n",
       "    <tr>\n",
       "      <th>3</th>\n",
       "      <td>2024-06-18</td>\n",
       "      <td>03:00</td>\n",
       "      <td>36.2</td>\n",
       "      <td>36</td>\n",
       "      <td>12.2</td>\n",
       "      <td>0.00</td>\n",
       "    </tr>\n",
       "    <tr>\n",
       "      <th>4</th>\n",
       "      <td>2024-06-18</td>\n",
       "      <td>04:00</td>\n",
       "      <td>35.6</td>\n",
       "      <td>38</td>\n",
       "      <td>7.9</td>\n",
       "      <td>0.00</td>\n",
       "    </tr>\n",
       "    <tr>\n",
       "      <th>...</th>\n",
       "      <td>...</td>\n",
       "      <td>...</td>\n",
       "      <td>...</td>\n",
       "      <td>...</td>\n",
       "      <td>...</td>\n",
       "      <td>...</td>\n",
       "    </tr>\n",
       "    <tr>\n",
       "      <th>163</th>\n",
       "      <td>2024-06-24</td>\n",
       "      <td>19:00</td>\n",
       "      <td>38.8</td>\n",
       "      <td>36</td>\n",
       "      <td>4.0</td>\n",
       "      <td>0.45</td>\n",
       "    </tr>\n",
       "    <tr>\n",
       "      <th>164</th>\n",
       "      <td>2024-06-24</td>\n",
       "      <td>20:00</td>\n",
       "      <td>38.6</td>\n",
       "      <td>36</td>\n",
       "      <td>9.7</td>\n",
       "      <td>0.54</td>\n",
       "    </tr>\n",
       "    <tr>\n",
       "      <th>165</th>\n",
       "      <td>2024-06-24</td>\n",
       "      <td>21:00</td>\n",
       "      <td>37.3</td>\n",
       "      <td>40</td>\n",
       "      <td>13.0</td>\n",
       "      <td>0.16</td>\n",
       "    </tr>\n",
       "    <tr>\n",
       "      <th>166</th>\n",
       "      <td>2024-06-24</td>\n",
       "      <td>22:00</td>\n",
       "      <td>36.1</td>\n",
       "      <td>44</td>\n",
       "      <td>14.4</td>\n",
       "      <td>0.14</td>\n",
       "    </tr>\n",
       "    <tr>\n",
       "      <th>167</th>\n",
       "      <td>2024-06-24</td>\n",
       "      <td>23:00</td>\n",
       "      <td>34.9</td>\n",
       "      <td>48</td>\n",
       "      <td>13.7</td>\n",
       "      <td>0.02</td>\n",
       "    </tr>\n",
       "  </tbody>\n",
       "</table>\n",
       "<p>168 rows × 6 columns</p>\n",
       "</div>"
      ],
      "text/plain": [
       "           Date   Time  Temperature (C)  Humidity  Wind Speed (km/h)  \\\n",
       "0    2024-06-18  00:00             36.8        38               11.9   \n",
       "1    2024-06-18  01:00             36.8        36               13.0   \n",
       "2    2024-06-18  02:00             36.4        36               10.4   \n",
       "3    2024-06-18  03:00             36.2        36               12.2   \n",
       "4    2024-06-18  04:00             35.6        38                7.9   \n",
       "..          ...    ...              ...       ...                ...   \n",
       "163  2024-06-24  19:00             38.8        36                4.0   \n",
       "164  2024-06-24  20:00             38.6        36                9.7   \n",
       "165  2024-06-24  21:00             37.3        40               13.0   \n",
       "166  2024-06-24  22:00             36.1        44               14.4   \n",
       "167  2024-06-24  23:00             34.9        48               13.7   \n",
       "\n",
       "     Precipitation (mm)  \n",
       "0                  0.00  \n",
       "1                  0.00  \n",
       "2                  0.00  \n",
       "3                  0.00  \n",
       "4                  0.00  \n",
       "..                  ...  \n",
       "163                0.45  \n",
       "164                0.54  \n",
       "165                0.16  \n",
       "166                0.14  \n",
       "167                0.02  \n",
       "\n",
       "[168 rows x 6 columns]"
      ]
     },
     "execution_count": 50,
     "metadata": {},
     "output_type": "execute_result"
    }
   ],
   "source": [
    "weather01 = pd.read_csv('historic_weather_data.csv')\n",
    "weather01"
   ]
  },
  {
   "cell_type": "code",
   "execution_count": 51,
   "metadata": {},
   "outputs": [
    {
     "data": {
      "text/html": [
       "<div>\n",
       "<style scoped>\n",
       "    .dataframe tbody tr th:only-of-type {\n",
       "        vertical-align: middle;\n",
       "    }\n",
       "\n",
       "    .dataframe tbody tr th {\n",
       "        vertical-align: top;\n",
       "    }\n",
       "\n",
       "    .dataframe thead th {\n",
       "        text-align: right;\n",
       "    }\n",
       "</style>\n",
       "<table border=\"1\" class=\"dataframe\">\n",
       "  <thead>\n",
       "    <tr style=\"text-align: right;\">\n",
       "      <th></th>\n",
       "      <th>Temperature (C)</th>\n",
       "      <th>Humidity</th>\n",
       "      <th>Wind Speed (km/h)</th>\n",
       "      <th>Precipitation (mm)</th>\n",
       "      <th>datetime</th>\n",
       "    </tr>\n",
       "  </thead>\n",
       "  <tbody>\n",
       "    <tr>\n",
       "      <th>0</th>\n",
       "      <td>36.8</td>\n",
       "      <td>38</td>\n",
       "      <td>11.9</td>\n",
       "      <td>0.00</td>\n",
       "      <td>2024-06-18 00:00:00</td>\n",
       "    </tr>\n",
       "    <tr>\n",
       "      <th>1</th>\n",
       "      <td>36.8</td>\n",
       "      <td>36</td>\n",
       "      <td>13.0</td>\n",
       "      <td>0.00</td>\n",
       "      <td>2024-06-18 01:00:00</td>\n",
       "    </tr>\n",
       "    <tr>\n",
       "      <th>2</th>\n",
       "      <td>36.4</td>\n",
       "      <td>36</td>\n",
       "      <td>10.4</td>\n",
       "      <td>0.00</td>\n",
       "      <td>2024-06-18 02:00:00</td>\n",
       "    </tr>\n",
       "    <tr>\n",
       "      <th>3</th>\n",
       "      <td>36.2</td>\n",
       "      <td>36</td>\n",
       "      <td>12.2</td>\n",
       "      <td>0.00</td>\n",
       "      <td>2024-06-18 03:00:00</td>\n",
       "    </tr>\n",
       "    <tr>\n",
       "      <th>4</th>\n",
       "      <td>35.6</td>\n",
       "      <td>38</td>\n",
       "      <td>7.9</td>\n",
       "      <td>0.00</td>\n",
       "      <td>2024-06-18 04:00:00</td>\n",
       "    </tr>\n",
       "    <tr>\n",
       "      <th>...</th>\n",
       "      <td>...</td>\n",
       "      <td>...</td>\n",
       "      <td>...</td>\n",
       "      <td>...</td>\n",
       "      <td>...</td>\n",
       "    </tr>\n",
       "    <tr>\n",
       "      <th>163</th>\n",
       "      <td>38.8</td>\n",
       "      <td>36</td>\n",
       "      <td>4.0</td>\n",
       "      <td>0.45</td>\n",
       "      <td>2024-06-24 19:00:00</td>\n",
       "    </tr>\n",
       "    <tr>\n",
       "      <th>164</th>\n",
       "      <td>38.6</td>\n",
       "      <td>36</td>\n",
       "      <td>9.7</td>\n",
       "      <td>0.54</td>\n",
       "      <td>2024-06-24 20:00:00</td>\n",
       "    </tr>\n",
       "    <tr>\n",
       "      <th>165</th>\n",
       "      <td>37.3</td>\n",
       "      <td>40</td>\n",
       "      <td>13.0</td>\n",
       "      <td>0.16</td>\n",
       "      <td>2024-06-24 21:00:00</td>\n",
       "    </tr>\n",
       "    <tr>\n",
       "      <th>166</th>\n",
       "      <td>36.1</td>\n",
       "      <td>44</td>\n",
       "      <td>14.4</td>\n",
       "      <td>0.14</td>\n",
       "      <td>2024-06-24 22:00:00</td>\n",
       "    </tr>\n",
       "    <tr>\n",
       "      <th>167</th>\n",
       "      <td>34.9</td>\n",
       "      <td>48</td>\n",
       "      <td>13.7</td>\n",
       "      <td>0.02</td>\n",
       "      <td>2024-06-24 23:00:00</td>\n",
       "    </tr>\n",
       "  </tbody>\n",
       "</table>\n",
       "<p>168 rows × 5 columns</p>\n",
       "</div>"
      ],
      "text/plain": [
       "     Temperature (C)  Humidity  Wind Speed (km/h)  Precipitation (mm)  \\\n",
       "0               36.8        38               11.9                0.00   \n",
       "1               36.8        36               13.0                0.00   \n",
       "2               36.4        36               10.4                0.00   \n",
       "3               36.2        36               12.2                0.00   \n",
       "4               35.6        38                7.9                0.00   \n",
       "..               ...       ...                ...                 ...   \n",
       "163             38.8        36                4.0                0.45   \n",
       "164             38.6        36                9.7                0.54   \n",
       "165             37.3        40               13.0                0.16   \n",
       "166             36.1        44               14.4                0.14   \n",
       "167             34.9        48               13.7                0.02   \n",
       "\n",
       "               datetime  \n",
       "0   2024-06-18 00:00:00  \n",
       "1   2024-06-18 01:00:00  \n",
       "2   2024-06-18 02:00:00  \n",
       "3   2024-06-18 03:00:00  \n",
       "4   2024-06-18 04:00:00  \n",
       "..                  ...  \n",
       "163 2024-06-24 19:00:00  \n",
       "164 2024-06-24 20:00:00  \n",
       "165 2024-06-24 21:00:00  \n",
       "166 2024-06-24 22:00:00  \n",
       "167 2024-06-24 23:00:00  \n",
       "\n",
       "[168 rows x 5 columns]"
      ]
     },
     "execution_count": 51,
     "metadata": {},
     "output_type": "execute_result"
    }
   ],
   "source": [
    "weather01['datetime'] = pd.to_datetime(weather01['Date'] + ' ' + weather01['Time'])\n",
    "\n",
    "weather01.drop(columns=['Date', 'Time'], inplace=True)\n",
    "weather01"
   ]
  },
  {
   "cell_type": "code",
   "execution_count": 52,
   "metadata": {},
   "outputs": [],
   "source": [
    "mpl.rcParams['figure.figsize'] = (15,6)\n"
   ]
  },
  {
   "cell_type": "code",
   "execution_count": 53,
   "metadata": {},
   "outputs": [],
   "source": [
    "weather01= weather01.set_index('datetime')"
   ]
  },
  {
   "cell_type": "code",
   "execution_count": 54,
   "metadata": {},
   "outputs": [
    {
     "data": {
      "text/html": [
       "<div>\n",
       "<style scoped>\n",
       "    .dataframe tbody tr th:only-of-type {\n",
       "        vertical-align: middle;\n",
       "    }\n",
       "\n",
       "    .dataframe tbody tr th {\n",
       "        vertical-align: top;\n",
       "    }\n",
       "\n",
       "    .dataframe thead th {\n",
       "        text-align: right;\n",
       "    }\n",
       "</style>\n",
       "<table border=\"1\" class=\"dataframe\">\n",
       "  <thead>\n",
       "    <tr style=\"text-align: right;\">\n",
       "      <th></th>\n",
       "      <th>Temperature (C)</th>\n",
       "      <th>Humidity</th>\n",
       "      <th>Wind Speed (km/h)</th>\n",
       "      <th>Precipitation (mm)</th>\n",
       "    </tr>\n",
       "    <tr>\n",
       "      <th>datetime</th>\n",
       "      <th></th>\n",
       "      <th></th>\n",
       "      <th></th>\n",
       "      <th></th>\n",
       "    </tr>\n",
       "  </thead>\n",
       "  <tbody>\n",
       "    <tr>\n",
       "      <th>2024-06-18 00:00:00</th>\n",
       "      <td>36.8</td>\n",
       "      <td>38</td>\n",
       "      <td>11.9</td>\n",
       "      <td>0.00</td>\n",
       "    </tr>\n",
       "    <tr>\n",
       "      <th>2024-06-18 01:00:00</th>\n",
       "      <td>36.8</td>\n",
       "      <td>36</td>\n",
       "      <td>13.0</td>\n",
       "      <td>0.00</td>\n",
       "    </tr>\n",
       "    <tr>\n",
       "      <th>2024-06-18 02:00:00</th>\n",
       "      <td>36.4</td>\n",
       "      <td>36</td>\n",
       "      <td>10.4</td>\n",
       "      <td>0.00</td>\n",
       "    </tr>\n",
       "    <tr>\n",
       "      <th>2024-06-18 03:00:00</th>\n",
       "      <td>36.2</td>\n",
       "      <td>36</td>\n",
       "      <td>12.2</td>\n",
       "      <td>0.00</td>\n",
       "    </tr>\n",
       "    <tr>\n",
       "      <th>2024-06-18 04:00:00</th>\n",
       "      <td>35.6</td>\n",
       "      <td>38</td>\n",
       "      <td>7.9</td>\n",
       "      <td>0.00</td>\n",
       "    </tr>\n",
       "    <tr>\n",
       "      <th>...</th>\n",
       "      <td>...</td>\n",
       "      <td>...</td>\n",
       "      <td>...</td>\n",
       "      <td>...</td>\n",
       "    </tr>\n",
       "    <tr>\n",
       "      <th>2024-06-24 19:00:00</th>\n",
       "      <td>38.8</td>\n",
       "      <td>36</td>\n",
       "      <td>4.0</td>\n",
       "      <td>0.45</td>\n",
       "    </tr>\n",
       "    <tr>\n",
       "      <th>2024-06-24 20:00:00</th>\n",
       "      <td>38.6</td>\n",
       "      <td>36</td>\n",
       "      <td>9.7</td>\n",
       "      <td>0.54</td>\n",
       "    </tr>\n",
       "    <tr>\n",
       "      <th>2024-06-24 21:00:00</th>\n",
       "      <td>37.3</td>\n",
       "      <td>40</td>\n",
       "      <td>13.0</td>\n",
       "      <td>0.16</td>\n",
       "    </tr>\n",
       "    <tr>\n",
       "      <th>2024-06-24 22:00:00</th>\n",
       "      <td>36.1</td>\n",
       "      <td>44</td>\n",
       "      <td>14.4</td>\n",
       "      <td>0.14</td>\n",
       "    </tr>\n",
       "    <tr>\n",
       "      <th>2024-06-24 23:00:00</th>\n",
       "      <td>34.9</td>\n",
       "      <td>48</td>\n",
       "      <td>13.7</td>\n",
       "      <td>0.02</td>\n",
       "    </tr>\n",
       "  </tbody>\n",
       "</table>\n",
       "<p>168 rows × 4 columns</p>\n",
       "</div>"
      ],
      "text/plain": [
       "                     Temperature (C)  Humidity  Wind Speed (km/h)  \\\n",
       "datetime                                                            \n",
       "2024-06-18 00:00:00             36.8        38               11.9   \n",
       "2024-06-18 01:00:00             36.8        36               13.0   \n",
       "2024-06-18 02:00:00             36.4        36               10.4   \n",
       "2024-06-18 03:00:00             36.2        36               12.2   \n",
       "2024-06-18 04:00:00             35.6        38                7.9   \n",
       "...                              ...       ...                ...   \n",
       "2024-06-24 19:00:00             38.8        36                4.0   \n",
       "2024-06-24 20:00:00             38.6        36                9.7   \n",
       "2024-06-24 21:00:00             37.3        40               13.0   \n",
       "2024-06-24 22:00:00             36.1        44               14.4   \n",
       "2024-06-24 23:00:00             34.9        48               13.7   \n",
       "\n",
       "                     Precipitation (mm)  \n",
       "datetime                                 \n",
       "2024-06-18 00:00:00                0.00  \n",
       "2024-06-18 01:00:00                0.00  \n",
       "2024-06-18 02:00:00                0.00  \n",
       "2024-06-18 03:00:00                0.00  \n",
       "2024-06-18 04:00:00                0.00  \n",
       "...                                 ...  \n",
       "2024-06-24 19:00:00                0.45  \n",
       "2024-06-24 20:00:00                0.54  \n",
       "2024-06-24 21:00:00                0.16  \n",
       "2024-06-24 22:00:00                0.14  \n",
       "2024-06-24 23:00:00                0.02  \n",
       "\n",
       "[168 rows x 4 columns]"
      ]
     },
     "execution_count": 54,
     "metadata": {},
     "output_type": "execute_result"
    }
   ],
   "source": [
    "weather01"
   ]
  },
  {
   "cell_type": "code",
   "execution_count": 55,
   "metadata": {},
   "outputs": [],
   "source": [
    "weather01 = weather01.reset_index()[['datetime','Temperature (C)','Humidity','Wind Speed (km/h)','Precipitation (mm)']].rename({'datetime':'ds','Temperature (C)':'y'}, axis = 'columns')"
   ]
  },
  {
   "cell_type": "code",
   "execution_count": 56,
   "metadata": {},
   "outputs": [
    {
     "name": "stderr",
     "output_type": "stream",
     "text": [
      "c:\\Users\\shree\\anaconda3\\Lib\\site-packages\\_plotly_utils\\basevalidators.py:106: FutureWarning:\n",
      "\n",
      "The behavior of DatetimeProperties.to_pydatetime is deprecated, in a future version this will return a Series containing python datetime objects instead of an ndarray. To retain the old behavior, call `np.array` on the result\n",
      "\n"
     ]
    },
    {
     "data": {
      "application/vnd.plotly.v1+json": {
       "config": {
        "plotlyServerURL": "https://plot.ly"
       },
       "data": [
        {
         "hovertemplate": "ds=%{x}<br>y=%{y}<extra></extra>",
         "legendgroup": "",
         "line": {
          "color": "#636efa",
          "dash": "solid"
         },
         "marker": {
          "symbol": "circle"
         },
         "mode": "lines",
         "name": "",
         "orientation": "v",
         "showlegend": false,
         "type": "scatter",
         "x": [
          "2024-06-18T00:00:00",
          "2024-06-18T01:00:00",
          "2024-06-18T02:00:00",
          "2024-06-18T03:00:00",
          "2024-06-18T04:00:00",
          "2024-06-18T05:00:00",
          "2024-06-18T06:00:00",
          "2024-06-18T07:00:00",
          "2024-06-18T08:00:00",
          "2024-06-18T09:00:00",
          "2024-06-18T10:00:00",
          "2024-06-18T11:00:00",
          "2024-06-18T12:00:00",
          "2024-06-18T13:00:00",
          "2024-06-18T14:00:00",
          "2024-06-18T15:00:00",
          "2024-06-18T16:00:00",
          "2024-06-18T17:00:00",
          "2024-06-18T18:00:00",
          "2024-06-18T19:00:00",
          "2024-06-18T20:00:00",
          "2024-06-18T21:00:00",
          "2024-06-18T22:00:00",
          "2024-06-18T23:00:00",
          "2024-06-19T00:00:00",
          "2024-06-19T01:00:00",
          "2024-06-19T02:00:00",
          "2024-06-19T03:00:00",
          "2024-06-19T04:00:00",
          "2024-06-19T05:00:00",
          "2024-06-19T06:00:00",
          "2024-06-19T07:00:00",
          "2024-06-19T08:00:00",
          "2024-06-19T09:00:00",
          "2024-06-19T10:00:00",
          "2024-06-19T11:00:00",
          "2024-06-19T12:00:00",
          "2024-06-19T13:00:00",
          "2024-06-19T14:00:00",
          "2024-06-19T15:00:00",
          "2024-06-19T16:00:00",
          "2024-06-19T17:00:00",
          "2024-06-19T18:00:00",
          "2024-06-19T19:00:00",
          "2024-06-19T20:00:00",
          "2024-06-19T21:00:00",
          "2024-06-19T22:00:00",
          "2024-06-19T23:00:00",
          "2024-06-20T00:00:00",
          "2024-06-20T01:00:00",
          "2024-06-20T02:00:00",
          "2024-06-20T03:00:00",
          "2024-06-20T04:00:00",
          "2024-06-20T05:00:00",
          "2024-06-20T06:00:00",
          "2024-06-20T07:00:00",
          "2024-06-20T08:00:00",
          "2024-06-20T09:00:00",
          "2024-06-20T10:00:00",
          "2024-06-20T11:00:00",
          "2024-06-20T12:00:00",
          "2024-06-20T13:00:00",
          "2024-06-20T14:00:00",
          "2024-06-20T15:00:00",
          "2024-06-20T16:00:00",
          "2024-06-20T17:00:00",
          "2024-06-20T18:00:00",
          "2024-06-20T19:00:00",
          "2024-06-20T20:00:00",
          "2024-06-20T21:00:00",
          "2024-06-20T22:00:00",
          "2024-06-20T23:00:00",
          "2024-06-21T00:00:00",
          "2024-06-21T01:00:00",
          "2024-06-21T02:00:00",
          "2024-06-21T03:00:00",
          "2024-06-21T04:00:00",
          "2024-06-21T05:00:00",
          "2024-06-21T06:00:00",
          "2024-06-21T07:00:00",
          "2024-06-21T08:00:00",
          "2024-06-21T09:00:00",
          "2024-06-21T10:00:00",
          "2024-06-21T11:00:00",
          "2024-06-21T12:00:00",
          "2024-06-21T13:00:00",
          "2024-06-21T14:00:00",
          "2024-06-21T15:00:00",
          "2024-06-21T16:00:00",
          "2024-06-21T17:00:00",
          "2024-06-21T18:00:00",
          "2024-06-21T19:00:00",
          "2024-06-21T20:00:00",
          "2024-06-21T21:00:00",
          "2024-06-21T22:00:00",
          "2024-06-21T23:00:00",
          "2024-06-22T00:00:00",
          "2024-06-22T01:00:00",
          "2024-06-22T02:00:00",
          "2024-06-22T03:00:00",
          "2024-06-22T04:00:00",
          "2024-06-22T05:00:00",
          "2024-06-22T06:00:00",
          "2024-06-22T07:00:00",
          "2024-06-22T08:00:00",
          "2024-06-22T09:00:00",
          "2024-06-22T10:00:00",
          "2024-06-22T11:00:00",
          "2024-06-22T12:00:00",
          "2024-06-22T13:00:00",
          "2024-06-22T14:00:00",
          "2024-06-22T15:00:00",
          "2024-06-22T16:00:00",
          "2024-06-22T17:00:00",
          "2024-06-22T18:00:00",
          "2024-06-22T19:00:00",
          "2024-06-22T20:00:00",
          "2024-06-22T21:00:00",
          "2024-06-22T22:00:00",
          "2024-06-22T23:00:00",
          "2024-06-23T00:00:00",
          "2024-06-23T01:00:00",
          "2024-06-23T02:00:00",
          "2024-06-23T03:00:00",
          "2024-06-23T04:00:00",
          "2024-06-23T05:00:00",
          "2024-06-23T06:00:00",
          "2024-06-23T07:00:00",
          "2024-06-23T08:00:00",
          "2024-06-23T09:00:00",
          "2024-06-23T10:00:00",
          "2024-06-23T11:00:00",
          "2024-06-23T12:00:00",
          "2024-06-23T13:00:00",
          "2024-06-23T14:00:00",
          "2024-06-23T15:00:00",
          "2024-06-23T16:00:00",
          "2024-06-23T17:00:00",
          "2024-06-23T18:00:00",
          "2024-06-23T19:00:00",
          "2024-06-23T20:00:00",
          "2024-06-23T21:00:00",
          "2024-06-23T22:00:00",
          "2024-06-23T23:00:00",
          "2024-06-24T00:00:00",
          "2024-06-24T01:00:00",
          "2024-06-24T02:00:00",
          "2024-06-24T03:00:00",
          "2024-06-24T04:00:00",
          "2024-06-24T05:00:00",
          "2024-06-24T06:00:00",
          "2024-06-24T07:00:00",
          "2024-06-24T08:00:00",
          "2024-06-24T09:00:00",
          "2024-06-24T10:00:00",
          "2024-06-24T11:00:00",
          "2024-06-24T12:00:00",
          "2024-06-24T13:00:00",
          "2024-06-24T14:00:00",
          "2024-06-24T15:00:00",
          "2024-06-24T16:00:00",
          "2024-06-24T17:00:00",
          "2024-06-24T18:00:00",
          "2024-06-24T19:00:00",
          "2024-06-24T20:00:00",
          "2024-06-24T21:00:00",
          "2024-06-24T22:00:00",
          "2024-06-24T23:00:00"
         ],
         "xaxis": "x",
         "y": [
          36.8,
          36.8,
          36.4,
          36.2,
          35.6,
          34.9,
          35.6,
          38,
          40.5,
          42.1,
          43.7,
          45.7,
          46.7,
          47,
          47.2,
          46.9,
          46.5,
          45.7,
          42.2,
          38.2,
          34.8,
          33.6,
          33.1,
          32.7,
          32.5,
          32.5,
          32.3,
          32.6,
          32.9,
          32.9,
          34.9,
          37.5,
          39.3,
          40.3,
          41.9,
          43.1,
          43.5,
          43.3,
          43.3,
          43.9,
          44,
          42.9,
          41.3,
          38.6,
          35.6,
          33.2,
          32.6,
          32.4,
          30.9,
          31.3,
          31.4,
          30.5,
          29.9,
          29.8,
          30.8,
          32.5,
          34.5,
          36.6,
          38.4,
          39.9,
          41.2,
          42.2,
          42.9,
          43,
          42.8,
          42,
          40.5,
          38.9,
          36,
          33.2,
          31,
          30.2,
          33.9,
          33.5,
          33.6,
          33.1,
          31.8,
          31,
          31.9,
          32.8,
          33.5,
          34.2,
          35.1,
          36.3,
          38,
          39.5,
          40.2,
          40.6,
          40.6,
          40.4,
          39.5,
          37.1,
          35.2,
          34.8,
          34.3,
          33.3,
          31.6,
          32.2,
          32.3,
          32.1,
          31.7,
          31.6,
          32.3,
          33.5,
          34.8,
          36.2,
          37.4,
          38.6,
          39.3,
          38.8,
          39,
          39.1,
          37.4,
          36.1,
          36,
          36.4,
          36.1,
          35.5,
          35.2,
          34.6,
          35,
          34.5,
          33.8,
          33.4,
          33.1,
          33.1,
          34.4,
          36,
          37.4,
          38.7,
          39.8,
          40.4,
          40.5,
          40.6,
          40.9,
          41.2,
          40.6,
          39.8,
          39.3,
          38.8,
          38.6,
          38.4,
          38,
          37.5,
          34.8,
          35,
          35.1,
          34.9,
          34.6,
          34.5,
          35.2,
          36.6,
          37.9,
          39.2,
          40.5,
          41.1,
          41,
          41,
          40.8,
          40.5,
          40,
          39.4,
          39.2,
          38.8,
          38.6,
          37.3,
          36.1,
          34.9
         ],
         "yaxis": "y"
        }
       ],
       "layout": {
        "legend": {
         "tracegroupgap": 0
        },
        "template": {
         "data": {
          "bar": [
           {
            "error_x": {
             "color": "#2a3f5f"
            },
            "error_y": {
             "color": "#2a3f5f"
            },
            "marker": {
             "line": {
              "color": "#E5ECF6",
              "width": 0.5
             },
             "pattern": {
              "fillmode": "overlay",
              "size": 10,
              "solidity": 0.2
             }
            },
            "type": "bar"
           }
          ],
          "barpolar": [
           {
            "marker": {
             "line": {
              "color": "#E5ECF6",
              "width": 0.5
             },
             "pattern": {
              "fillmode": "overlay",
              "size": 10,
              "solidity": 0.2
             }
            },
            "type": "barpolar"
           }
          ],
          "carpet": [
           {
            "aaxis": {
             "endlinecolor": "#2a3f5f",
             "gridcolor": "white",
             "linecolor": "white",
             "minorgridcolor": "white",
             "startlinecolor": "#2a3f5f"
            },
            "baxis": {
             "endlinecolor": "#2a3f5f",
             "gridcolor": "white",
             "linecolor": "white",
             "minorgridcolor": "white",
             "startlinecolor": "#2a3f5f"
            },
            "type": "carpet"
           }
          ],
          "choropleth": [
           {
            "colorbar": {
             "outlinewidth": 0,
             "ticks": ""
            },
            "type": "choropleth"
           }
          ],
          "contour": [
           {
            "colorbar": {
             "outlinewidth": 0,
             "ticks": ""
            },
            "colorscale": [
             [
              0,
              "#0d0887"
             ],
             [
              0.1111111111111111,
              "#46039f"
             ],
             [
              0.2222222222222222,
              "#7201a8"
             ],
             [
              0.3333333333333333,
              "#9c179e"
             ],
             [
              0.4444444444444444,
              "#bd3786"
             ],
             [
              0.5555555555555556,
              "#d8576b"
             ],
             [
              0.6666666666666666,
              "#ed7953"
             ],
             [
              0.7777777777777778,
              "#fb9f3a"
             ],
             [
              0.8888888888888888,
              "#fdca26"
             ],
             [
              1,
              "#f0f921"
             ]
            ],
            "type": "contour"
           }
          ],
          "contourcarpet": [
           {
            "colorbar": {
             "outlinewidth": 0,
             "ticks": ""
            },
            "type": "contourcarpet"
           }
          ],
          "heatmap": [
           {
            "colorbar": {
             "outlinewidth": 0,
             "ticks": ""
            },
            "colorscale": [
             [
              0,
              "#0d0887"
             ],
             [
              0.1111111111111111,
              "#46039f"
             ],
             [
              0.2222222222222222,
              "#7201a8"
             ],
             [
              0.3333333333333333,
              "#9c179e"
             ],
             [
              0.4444444444444444,
              "#bd3786"
             ],
             [
              0.5555555555555556,
              "#d8576b"
             ],
             [
              0.6666666666666666,
              "#ed7953"
             ],
             [
              0.7777777777777778,
              "#fb9f3a"
             ],
             [
              0.8888888888888888,
              "#fdca26"
             ],
             [
              1,
              "#f0f921"
             ]
            ],
            "type": "heatmap"
           }
          ],
          "heatmapgl": [
           {
            "colorbar": {
             "outlinewidth": 0,
             "ticks": ""
            },
            "colorscale": [
             [
              0,
              "#0d0887"
             ],
             [
              0.1111111111111111,
              "#46039f"
             ],
             [
              0.2222222222222222,
              "#7201a8"
             ],
             [
              0.3333333333333333,
              "#9c179e"
             ],
             [
              0.4444444444444444,
              "#bd3786"
             ],
             [
              0.5555555555555556,
              "#d8576b"
             ],
             [
              0.6666666666666666,
              "#ed7953"
             ],
             [
              0.7777777777777778,
              "#fb9f3a"
             ],
             [
              0.8888888888888888,
              "#fdca26"
             ],
             [
              1,
              "#f0f921"
             ]
            ],
            "type": "heatmapgl"
           }
          ],
          "histogram": [
           {
            "marker": {
             "pattern": {
              "fillmode": "overlay",
              "size": 10,
              "solidity": 0.2
             }
            },
            "type": "histogram"
           }
          ],
          "histogram2d": [
           {
            "colorbar": {
             "outlinewidth": 0,
             "ticks": ""
            },
            "colorscale": [
             [
              0,
              "#0d0887"
             ],
             [
              0.1111111111111111,
              "#46039f"
             ],
             [
              0.2222222222222222,
              "#7201a8"
             ],
             [
              0.3333333333333333,
              "#9c179e"
             ],
             [
              0.4444444444444444,
              "#bd3786"
             ],
             [
              0.5555555555555556,
              "#d8576b"
             ],
             [
              0.6666666666666666,
              "#ed7953"
             ],
             [
              0.7777777777777778,
              "#fb9f3a"
             ],
             [
              0.8888888888888888,
              "#fdca26"
             ],
             [
              1,
              "#f0f921"
             ]
            ],
            "type": "histogram2d"
           }
          ],
          "histogram2dcontour": [
           {
            "colorbar": {
             "outlinewidth": 0,
             "ticks": ""
            },
            "colorscale": [
             [
              0,
              "#0d0887"
             ],
             [
              0.1111111111111111,
              "#46039f"
             ],
             [
              0.2222222222222222,
              "#7201a8"
             ],
             [
              0.3333333333333333,
              "#9c179e"
             ],
             [
              0.4444444444444444,
              "#bd3786"
             ],
             [
              0.5555555555555556,
              "#d8576b"
             ],
             [
              0.6666666666666666,
              "#ed7953"
             ],
             [
              0.7777777777777778,
              "#fb9f3a"
             ],
             [
              0.8888888888888888,
              "#fdca26"
             ],
             [
              1,
              "#f0f921"
             ]
            ],
            "type": "histogram2dcontour"
           }
          ],
          "mesh3d": [
           {
            "colorbar": {
             "outlinewidth": 0,
             "ticks": ""
            },
            "type": "mesh3d"
           }
          ],
          "parcoords": [
           {
            "line": {
             "colorbar": {
              "outlinewidth": 0,
              "ticks": ""
             }
            },
            "type": "parcoords"
           }
          ],
          "pie": [
           {
            "automargin": true,
            "type": "pie"
           }
          ],
          "scatter": [
           {
            "fillpattern": {
             "fillmode": "overlay",
             "size": 10,
             "solidity": 0.2
            },
            "type": "scatter"
           }
          ],
          "scatter3d": [
           {
            "line": {
             "colorbar": {
              "outlinewidth": 0,
              "ticks": ""
             }
            },
            "marker": {
             "colorbar": {
              "outlinewidth": 0,
              "ticks": ""
             }
            },
            "type": "scatter3d"
           }
          ],
          "scattercarpet": [
           {
            "marker": {
             "colorbar": {
              "outlinewidth": 0,
              "ticks": ""
             }
            },
            "type": "scattercarpet"
           }
          ],
          "scattergeo": [
           {
            "marker": {
             "colorbar": {
              "outlinewidth": 0,
              "ticks": ""
             }
            },
            "type": "scattergeo"
           }
          ],
          "scattergl": [
           {
            "marker": {
             "colorbar": {
              "outlinewidth": 0,
              "ticks": ""
             }
            },
            "type": "scattergl"
           }
          ],
          "scattermapbox": [
           {
            "marker": {
             "colorbar": {
              "outlinewidth": 0,
              "ticks": ""
             }
            },
            "type": "scattermapbox"
           }
          ],
          "scatterpolar": [
           {
            "marker": {
             "colorbar": {
              "outlinewidth": 0,
              "ticks": ""
             }
            },
            "type": "scatterpolar"
           }
          ],
          "scatterpolargl": [
           {
            "marker": {
             "colorbar": {
              "outlinewidth": 0,
              "ticks": ""
             }
            },
            "type": "scatterpolargl"
           }
          ],
          "scatterternary": [
           {
            "marker": {
             "colorbar": {
              "outlinewidth": 0,
              "ticks": ""
             }
            },
            "type": "scatterternary"
           }
          ],
          "surface": [
           {
            "colorbar": {
             "outlinewidth": 0,
             "ticks": ""
            },
            "colorscale": [
             [
              0,
              "#0d0887"
             ],
             [
              0.1111111111111111,
              "#46039f"
             ],
             [
              0.2222222222222222,
              "#7201a8"
             ],
             [
              0.3333333333333333,
              "#9c179e"
             ],
             [
              0.4444444444444444,
              "#bd3786"
             ],
             [
              0.5555555555555556,
              "#d8576b"
             ],
             [
              0.6666666666666666,
              "#ed7953"
             ],
             [
              0.7777777777777778,
              "#fb9f3a"
             ],
             [
              0.8888888888888888,
              "#fdca26"
             ],
             [
              1,
              "#f0f921"
             ]
            ],
            "type": "surface"
           }
          ],
          "table": [
           {
            "cells": {
             "fill": {
              "color": "#EBF0F8"
             },
             "line": {
              "color": "white"
             }
            },
            "header": {
             "fill": {
              "color": "#C8D4E3"
             },
             "line": {
              "color": "white"
             }
            },
            "type": "table"
           }
          ]
         },
         "layout": {
          "annotationdefaults": {
           "arrowcolor": "#2a3f5f",
           "arrowhead": 0,
           "arrowwidth": 1
          },
          "autotypenumbers": "strict",
          "coloraxis": {
           "colorbar": {
            "outlinewidth": 0,
            "ticks": ""
           }
          },
          "colorscale": {
           "diverging": [
            [
             0,
             "#8e0152"
            ],
            [
             0.1,
             "#c51b7d"
            ],
            [
             0.2,
             "#de77ae"
            ],
            [
             0.3,
             "#f1b6da"
            ],
            [
             0.4,
             "#fde0ef"
            ],
            [
             0.5,
             "#f7f7f7"
            ],
            [
             0.6,
             "#e6f5d0"
            ],
            [
             0.7,
             "#b8e186"
            ],
            [
             0.8,
             "#7fbc41"
            ],
            [
             0.9,
             "#4d9221"
            ],
            [
             1,
             "#276419"
            ]
           ],
           "sequential": [
            [
             0,
             "#0d0887"
            ],
            [
             0.1111111111111111,
             "#46039f"
            ],
            [
             0.2222222222222222,
             "#7201a8"
            ],
            [
             0.3333333333333333,
             "#9c179e"
            ],
            [
             0.4444444444444444,
             "#bd3786"
            ],
            [
             0.5555555555555556,
             "#d8576b"
            ],
            [
             0.6666666666666666,
             "#ed7953"
            ],
            [
             0.7777777777777778,
             "#fb9f3a"
            ],
            [
             0.8888888888888888,
             "#fdca26"
            ],
            [
             1,
             "#f0f921"
            ]
           ],
           "sequentialminus": [
            [
             0,
             "#0d0887"
            ],
            [
             0.1111111111111111,
             "#46039f"
            ],
            [
             0.2222222222222222,
             "#7201a8"
            ],
            [
             0.3333333333333333,
             "#9c179e"
            ],
            [
             0.4444444444444444,
             "#bd3786"
            ],
            [
             0.5555555555555556,
             "#d8576b"
            ],
            [
             0.6666666666666666,
             "#ed7953"
            ],
            [
             0.7777777777777778,
             "#fb9f3a"
            ],
            [
             0.8888888888888888,
             "#fdca26"
            ],
            [
             1,
             "#f0f921"
            ]
           ]
          },
          "colorway": [
           "#636efa",
           "#EF553B",
           "#00cc96",
           "#ab63fa",
           "#FFA15A",
           "#19d3f3",
           "#FF6692",
           "#B6E880",
           "#FF97FF",
           "#FECB52"
          ],
          "font": {
           "color": "#2a3f5f"
          },
          "geo": {
           "bgcolor": "white",
           "lakecolor": "white",
           "landcolor": "#E5ECF6",
           "showlakes": true,
           "showland": true,
           "subunitcolor": "white"
          },
          "hoverlabel": {
           "align": "left"
          },
          "hovermode": "closest",
          "mapbox": {
           "style": "light"
          },
          "paper_bgcolor": "white",
          "plot_bgcolor": "#E5ECF6",
          "polar": {
           "angularaxis": {
            "gridcolor": "white",
            "linecolor": "white",
            "ticks": ""
           },
           "bgcolor": "#E5ECF6",
           "radialaxis": {
            "gridcolor": "white",
            "linecolor": "white",
            "ticks": ""
           }
          },
          "scene": {
           "xaxis": {
            "backgroundcolor": "#E5ECF6",
            "gridcolor": "white",
            "gridwidth": 2,
            "linecolor": "white",
            "showbackground": true,
            "ticks": "",
            "zerolinecolor": "white"
           },
           "yaxis": {
            "backgroundcolor": "#E5ECF6",
            "gridcolor": "white",
            "gridwidth": 2,
            "linecolor": "white",
            "showbackground": true,
            "ticks": "",
            "zerolinecolor": "white"
           },
           "zaxis": {
            "backgroundcolor": "#E5ECF6",
            "gridcolor": "white",
            "gridwidth": 2,
            "linecolor": "white",
            "showbackground": true,
            "ticks": "",
            "zerolinecolor": "white"
           }
          },
          "shapedefaults": {
           "line": {
            "color": "#2a3f5f"
           }
          },
          "ternary": {
           "aaxis": {
            "gridcolor": "white",
            "linecolor": "white",
            "ticks": ""
           },
           "baxis": {
            "gridcolor": "white",
            "linecolor": "white",
            "ticks": ""
           },
           "bgcolor": "#E5ECF6",
           "caxis": {
            "gridcolor": "white",
            "linecolor": "white",
            "ticks": ""
           }
          },
          "title": {
           "x": 0.05
          },
          "xaxis": {
           "automargin": true,
           "gridcolor": "white",
           "linecolor": "white",
           "ticks": "",
           "title": {
            "standoff": 15
           },
           "zerolinecolor": "white",
           "zerolinewidth": 2
          },
          "yaxis": {
           "automargin": true,
           "gridcolor": "white",
           "linecolor": "white",
           "ticks": "",
           "title": {
            "standoff": 15
           },
           "zerolinecolor": "white",
           "zerolinewidth": 2
          }
         }
        },
        "title": {
         "text": "Weather Data Over Time"
        },
        "xaxis": {
         "anchor": "y",
         "domain": [
          0,
          1
         ],
         "title": {
          "text": "ds"
         }
        },
        "yaxis": {
         "anchor": "x",
         "domain": [
          0,
          1
         ],
         "title": {
          "text": "y"
         }
        }
       }
      }
     },
     "metadata": {},
     "output_type": "display_data"
    }
   ],
   "source": [
    "fig = px.line(weather01, x='ds', y='y', title='Weather Data Over Time')\n",
    "fig.show()"
   ]
  },
  {
   "cell_type": "code",
   "execution_count": 57,
   "metadata": {},
   "outputs": [
    {
     "data": {
      "text/plain": [
       "\"import seaborn as sns\\nsns.lineplot(x = 'ds', y= 'y', data= weather01)\""
      ]
     },
     "execution_count": 57,
     "metadata": {},
     "output_type": "execute_result"
    }
   ],
   "source": [
    "'''import seaborn as sns\n",
    "sns.lineplot(x = 'ds', y= 'y', data= weather01)'''"
   ]
  },
  {
   "cell_type": "code",
   "execution_count": 58,
   "metadata": {},
   "outputs": [
    {
     "data": {
      "image/png": "[encoded data removed]",
      "text/plain": [
       "<Figure size 1500x600 with 4 Axes>"
      ]
     },
     "execution_count": 58,
     "metadata": {},
     "output_type": "execute_result"
    },
    {
     "data": {
      "image/png": "[encoded data removed]",
      "text/plain": [
       "<Figure size 1500x600 with 4 Axes>"
      ]
     },
     "metadata": {},
     "output_type": "display_data"
    }
   ],
   "source": [
    "from statsmodels.tsa.seasonal import seasonal_decompose\n",
    "temperature = seasonal_decompose(weather01['y'] , model = 'multiplicative' , period = 7)\n",
    "temperature.plot()\n",
    "\n"
   ]
  },
  {
   "cell_type": "code",
   "execution_count": 59,
   "metadata": {},
   "outputs": [
    {
     "data": {
      "text/html": [
       "<div>\n",
       "<style scoped>\n",
       "    .dataframe tbody tr th:only-of-type {\n",
       "        vertical-align: middle;\n",
       "    }\n",
       "\n",
       "    .dataframe tbody tr th {\n",
       "        vertical-align: top;\n",
       "    }\n",
       "\n",
       "    .dataframe thead th {\n",
       "        text-align: right;\n",
       "    }\n",
       "</style>\n",
       "<table border=\"1\" class=\"dataframe\">\n",
       "  <thead>\n",
       "    <tr style=\"text-align: right;\">\n",
       "      <th></th>\n",
       "      <th>ds</th>\n",
       "      <th>y</th>\n",
       "      <th>Humidity</th>\n",
       "      <th>Wind Speed (km/h)</th>\n",
       "      <th>Precipitation (mm)</th>\n",
       "    </tr>\n",
       "  </thead>\n",
       "  <tbody>\n",
       "    <tr>\n",
       "      <th>118</th>\n",
       "      <td>2024-06-22 22:00:00</td>\n",
       "      <td>35.2</td>\n",
       "      <td>50</td>\n",
       "      <td>18.7</td>\n",
       "      <td>0.00</td>\n",
       "    </tr>\n",
       "    <tr>\n",
       "      <th>119</th>\n",
       "      <td>2024-06-22 23:00:00</td>\n",
       "      <td>34.6</td>\n",
       "      <td>52</td>\n",
       "      <td>18.4</td>\n",
       "      <td>0.00</td>\n",
       "    </tr>\n",
       "    <tr>\n",
       "      <th>120</th>\n",
       "      <td>2024-06-23 00:00:00</td>\n",
       "      <td>35.0</td>\n",
       "      <td>45</td>\n",
       "      <td>14.4</td>\n",
       "      <td>0.00</td>\n",
       "    </tr>\n",
       "    <tr>\n",
       "      <th>121</th>\n",
       "      <td>2024-06-23 01:00:00</td>\n",
       "      <td>34.5</td>\n",
       "      <td>46</td>\n",
       "      <td>16.2</td>\n",
       "      <td>0.00</td>\n",
       "    </tr>\n",
       "    <tr>\n",
       "      <th>122</th>\n",
       "      <td>2024-06-23 02:00:00</td>\n",
       "      <td>33.8</td>\n",
       "      <td>49</td>\n",
       "      <td>14.4</td>\n",
       "      <td>0.00</td>\n",
       "    </tr>\n",
       "    <tr>\n",
       "      <th>123</th>\n",
       "      <td>2024-06-23 03:00:00</td>\n",
       "      <td>33.4</td>\n",
       "      <td>51</td>\n",
       "      <td>13.3</td>\n",
       "      <td>0.00</td>\n",
       "    </tr>\n",
       "    <tr>\n",
       "      <th>124</th>\n",
       "      <td>2024-06-23 04:00:00</td>\n",
       "      <td>33.1</td>\n",
       "      <td>53</td>\n",
       "      <td>11.9</td>\n",
       "      <td>0.00</td>\n",
       "    </tr>\n",
       "    <tr>\n",
       "      <th>125</th>\n",
       "      <td>2024-06-23 05:00:00</td>\n",
       "      <td>33.1</td>\n",
       "      <td>53</td>\n",
       "      <td>11.2</td>\n",
       "      <td>0.00</td>\n",
       "    </tr>\n",
       "    <tr>\n",
       "      <th>126</th>\n",
       "      <td>2024-06-23 06:00:00</td>\n",
       "      <td>34.4</td>\n",
       "      <td>48</td>\n",
       "      <td>12.2</td>\n",
       "      <td>0.00</td>\n",
       "    </tr>\n",
       "    <tr>\n",
       "      <th>127</th>\n",
       "      <td>2024-06-23 07:00:00</td>\n",
       "      <td>36.0</td>\n",
       "      <td>42</td>\n",
       "      <td>10.8</td>\n",
       "      <td>0.00</td>\n",
       "    </tr>\n",
       "    <tr>\n",
       "      <th>128</th>\n",
       "      <td>2024-06-23 08:00:00</td>\n",
       "      <td>37.4</td>\n",
       "      <td>38</td>\n",
       "      <td>9.7</td>\n",
       "      <td>0.00</td>\n",
       "    </tr>\n",
       "    <tr>\n",
       "      <th>129</th>\n",
       "      <td>2024-06-23 09:00:00</td>\n",
       "      <td>38.7</td>\n",
       "      <td>35</td>\n",
       "      <td>8.6</td>\n",
       "      <td>0.00</td>\n",
       "    </tr>\n",
       "    <tr>\n",
       "      <th>130</th>\n",
       "      <td>2024-06-23 10:00:00</td>\n",
       "      <td>39.8</td>\n",
       "      <td>32</td>\n",
       "      <td>9.0</td>\n",
       "      <td>0.00</td>\n",
       "    </tr>\n",
       "    <tr>\n",
       "      <th>131</th>\n",
       "      <td>2024-06-23 11:00:00</td>\n",
       "      <td>40.4</td>\n",
       "      <td>31</td>\n",
       "      <td>7.9</td>\n",
       "      <td>0.01</td>\n",
       "    </tr>\n",
       "    <tr>\n",
       "      <th>132</th>\n",
       "      <td>2024-06-23 12:00:00</td>\n",
       "      <td>40.5</td>\n",
       "      <td>30</td>\n",
       "      <td>7.6</td>\n",
       "      <td>0.00</td>\n",
       "    </tr>\n",
       "    <tr>\n",
       "      <th>133</th>\n",
       "      <td>2024-06-23 13:00:00</td>\n",
       "      <td>40.6</td>\n",
       "      <td>30</td>\n",
       "      <td>7.6</td>\n",
       "      <td>0.00</td>\n",
       "    </tr>\n",
       "    <tr>\n",
       "      <th>134</th>\n",
       "      <td>2024-06-23 14:00:00</td>\n",
       "      <td>40.9</td>\n",
       "      <td>29</td>\n",
       "      <td>8.3</td>\n",
       "      <td>0.00</td>\n",
       "    </tr>\n",
       "    <tr>\n",
       "      <th>135</th>\n",
       "      <td>2024-06-23 15:00:00</td>\n",
       "      <td>41.2</td>\n",
       "      <td>29</td>\n",
       "      <td>7.9</td>\n",
       "      <td>0.00</td>\n",
       "    </tr>\n",
       "    <tr>\n",
       "      <th>136</th>\n",
       "      <td>2024-06-23 16:00:00</td>\n",
       "      <td>40.6</td>\n",
       "      <td>30</td>\n",
       "      <td>10.4</td>\n",
       "      <td>0.00</td>\n",
       "    </tr>\n",
       "    <tr>\n",
       "      <th>137</th>\n",
       "      <td>2024-06-23 17:00:00</td>\n",
       "      <td>39.8</td>\n",
       "      <td>31</td>\n",
       "      <td>14.4</td>\n",
       "      <td>0.00</td>\n",
       "    </tr>\n",
       "    <tr>\n",
       "      <th>138</th>\n",
       "      <td>2024-06-23 18:00:00</td>\n",
       "      <td>39.3</td>\n",
       "      <td>33</td>\n",
       "      <td>13.0</td>\n",
       "      <td>0.00</td>\n",
       "    </tr>\n",
       "    <tr>\n",
       "      <th>139</th>\n",
       "      <td>2024-06-23 19:00:00</td>\n",
       "      <td>38.8</td>\n",
       "      <td>34</td>\n",
       "      <td>10.8</td>\n",
       "      <td>0.29</td>\n",
       "    </tr>\n",
       "    <tr>\n",
       "      <th>140</th>\n",
       "      <td>2024-06-23 20:00:00</td>\n",
       "      <td>38.6</td>\n",
       "      <td>34</td>\n",
       "      <td>12.2</td>\n",
       "      <td>0.00</td>\n",
       "    </tr>\n",
       "    <tr>\n",
       "      <th>141</th>\n",
       "      <td>2024-06-23 21:00:00</td>\n",
       "      <td>38.4</td>\n",
       "      <td>35</td>\n",
       "      <td>13.7</td>\n",
       "      <td>0.00</td>\n",
       "    </tr>\n",
       "    <tr>\n",
       "      <th>142</th>\n",
       "      <td>2024-06-23 22:00:00</td>\n",
       "      <td>38.0</td>\n",
       "      <td>36</td>\n",
       "      <td>10.4</td>\n",
       "      <td>0.00</td>\n",
       "    </tr>\n",
       "    <tr>\n",
       "      <th>143</th>\n",
       "      <td>2024-06-23 23:00:00</td>\n",
       "      <td>37.5</td>\n",
       "      <td>37</td>\n",
       "      <td>9.7</td>\n",
       "      <td>0.00</td>\n",
       "    </tr>\n",
       "    <tr>\n",
       "      <th>144</th>\n",
       "      <td>2024-06-24 00:00:00</td>\n",
       "      <td>34.8</td>\n",
       "      <td>47</td>\n",
       "      <td>4.7</td>\n",
       "      <td>0.11</td>\n",
       "    </tr>\n",
       "    <tr>\n",
       "      <th>145</th>\n",
       "      <td>2024-06-24 01:00:00</td>\n",
       "      <td>35.0</td>\n",
       "      <td>46</td>\n",
       "      <td>1.8</td>\n",
       "      <td>0.03</td>\n",
       "    </tr>\n",
       "    <tr>\n",
       "      <th>146</th>\n",
       "      <td>2024-06-24 02:00:00</td>\n",
       "      <td>35.1</td>\n",
       "      <td>46</td>\n",
       "      <td>3.2</td>\n",
       "      <td>0.00</td>\n",
       "    </tr>\n",
       "    <tr>\n",
       "      <th>147</th>\n",
       "      <td>2024-06-24 03:00:00</td>\n",
       "      <td>34.9</td>\n",
       "      <td>47</td>\n",
       "      <td>3.6</td>\n",
       "      <td>0.00</td>\n",
       "    </tr>\n",
       "    <tr>\n",
       "      <th>148</th>\n",
       "      <td>2024-06-24 04:00:00</td>\n",
       "      <td>34.6</td>\n",
       "      <td>48</td>\n",
       "      <td>4.3</td>\n",
       "      <td>0.00</td>\n",
       "    </tr>\n",
       "    <tr>\n",
       "      <th>149</th>\n",
       "      <td>2024-06-24 05:00:00</td>\n",
       "      <td>34.5</td>\n",
       "      <td>48</td>\n",
       "      <td>5.0</td>\n",
       "      <td>0.00</td>\n",
       "    </tr>\n",
       "    <tr>\n",
       "      <th>150</th>\n",
       "      <td>2024-06-24 06:00:00</td>\n",
       "      <td>35.2</td>\n",
       "      <td>46</td>\n",
       "      <td>5.8</td>\n",
       "      <td>0.00</td>\n",
       "    </tr>\n",
       "    <tr>\n",
       "      <th>151</th>\n",
       "      <td>2024-06-24 07:00:00</td>\n",
       "      <td>36.6</td>\n",
       "      <td>42</td>\n",
       "      <td>4.7</td>\n",
       "      <td>0.00</td>\n",
       "    </tr>\n",
       "    <tr>\n",
       "      <th>152</th>\n",
       "      <td>2024-06-24 08:00:00</td>\n",
       "      <td>37.9</td>\n",
       "      <td>38</td>\n",
       "      <td>4.3</td>\n",
       "      <td>0.00</td>\n",
       "    </tr>\n",
       "    <tr>\n",
       "      <th>153</th>\n",
       "      <td>2024-06-24 09:00:00</td>\n",
       "      <td>39.2</td>\n",
       "      <td>35</td>\n",
       "      <td>2.9</td>\n",
       "      <td>0.00</td>\n",
       "    </tr>\n",
       "    <tr>\n",
       "      <th>154</th>\n",
       "      <td>2024-06-24 10:00:00</td>\n",
       "      <td>40.5</td>\n",
       "      <td>32</td>\n",
       "      <td>2.9</td>\n",
       "      <td>0.00</td>\n",
       "    </tr>\n",
       "    <tr>\n",
       "      <th>155</th>\n",
       "      <td>2024-06-24 11:00:00</td>\n",
       "      <td>41.1</td>\n",
       "      <td>30</td>\n",
       "      <td>3.2</td>\n",
       "      <td>0.00</td>\n",
       "    </tr>\n",
       "    <tr>\n",
       "      <th>156</th>\n",
       "      <td>2024-06-24 12:00:00</td>\n",
       "      <td>41.0</td>\n",
       "      <td>30</td>\n",
       "      <td>5.0</td>\n",
       "      <td>0.00</td>\n",
       "    </tr>\n",
       "    <tr>\n",
       "      <th>157</th>\n",
       "      <td>2024-06-24 13:00:00</td>\n",
       "      <td>41.0</td>\n",
       "      <td>30</td>\n",
       "      <td>5.8</td>\n",
       "      <td>0.00</td>\n",
       "    </tr>\n",
       "    <tr>\n",
       "      <th>158</th>\n",
       "      <td>2024-06-24 14:00:00</td>\n",
       "      <td>40.8</td>\n",
       "      <td>31</td>\n",
       "      <td>6.8</td>\n",
       "      <td>0.00</td>\n",
       "    </tr>\n",
       "    <tr>\n",
       "      <th>159</th>\n",
       "      <td>2024-06-24 15:00:00</td>\n",
       "      <td>40.5</td>\n",
       "      <td>31</td>\n",
       "      <td>7.9</td>\n",
       "      <td>0.02</td>\n",
       "    </tr>\n",
       "    <tr>\n",
       "      <th>160</th>\n",
       "      <td>2024-06-24 16:00:00</td>\n",
       "      <td>40.0</td>\n",
       "      <td>32</td>\n",
       "      <td>5.4</td>\n",
       "      <td>0.08</td>\n",
       "    </tr>\n",
       "    <tr>\n",
       "      <th>161</th>\n",
       "      <td>2024-06-24 17:00:00</td>\n",
       "      <td>39.4</td>\n",
       "      <td>34</td>\n",
       "      <td>2.9</td>\n",
       "      <td>0.00</td>\n",
       "    </tr>\n",
       "    <tr>\n",
       "      <th>162</th>\n",
       "      <td>2024-06-24 18:00:00</td>\n",
       "      <td>39.2</td>\n",
       "      <td>35</td>\n",
       "      <td>3.2</td>\n",
       "      <td>0.00</td>\n",
       "    </tr>\n",
       "    <tr>\n",
       "      <th>163</th>\n",
       "      <td>2024-06-24 19:00:00</td>\n",
       "      <td>38.8</td>\n",
       "      <td>36</td>\n",
       "      <td>4.0</td>\n",
       "      <td>0.45</td>\n",
       "    </tr>\n",
       "    <tr>\n",
       "      <th>164</th>\n",
       "      <td>2024-06-24 20:00:00</td>\n",
       "      <td>38.6</td>\n",
       "      <td>36</td>\n",
       "      <td>9.7</td>\n",
       "      <td>0.54</td>\n",
       "    </tr>\n",
       "    <tr>\n",
       "      <th>165</th>\n",
       "      <td>2024-06-24 21:00:00</td>\n",
       "      <td>37.3</td>\n",
       "      <td>40</td>\n",
       "      <td>13.0</td>\n",
       "      <td>0.16</td>\n",
       "    </tr>\n",
       "    <tr>\n",
       "      <th>166</th>\n",
       "      <td>2024-06-24 22:00:00</td>\n",
       "      <td>36.1</td>\n",
       "      <td>44</td>\n",
       "      <td>14.4</td>\n",
       "      <td>0.14</td>\n",
       "    </tr>\n",
       "    <tr>\n",
       "      <th>167</th>\n",
       "      <td>2024-06-24 23:00:00</td>\n",
       "      <td>34.9</td>\n",
       "      <td>48</td>\n",
       "      <td>13.7</td>\n",
       "      <td>0.02</td>\n",
       "    </tr>\n",
       "  </tbody>\n",
       "</table>\n",
       "</div>"
      ],
      "text/plain": [
       "                     ds     y  Humidity  Wind Speed (km/h)  Precipitation (mm)\n",
       "118 2024-06-22 22:00:00  35.2        50               18.7                0.00\n",
       "119 2024-06-22 23:00:00  34.6        52               18.4                0.00\n",
       "120 2024-06-23 00:00:00  35.0        45               14.4                0.00\n",
       "121 2024-06-23 01:00:00  34.5        46               16.2                0.00\n",
       "122 2024-06-23 02:00:00  33.8        49               14.4                0.00\n",
       "123 2024-06-23 03:00:00  33.4        51               13.3                0.00\n",
       "124 2024-06-23 04:00:00  33.1        53               11.9                0.00\n",
       "125 2024-06-23 05:00:00  33.1        53               11.2                0.00\n",
       "126 2024-06-23 06:00:00  34.4        48               12.2                0.00\n",
       "127 2024-06-23 07:00:00  36.0        42               10.8                0.00\n",
       "128 2024-06-23 08:00:00  37.4        38                9.7                0.00\n",
       "129 2024-06-23 09:00:00  38.7        35                8.6                0.00\n",
       "130 2024-06-23 10:00:00  39.8        32                9.0                0.00\n",
       "131 2024-06-23 11:00:00  40.4        31                7.9                0.01\n",
       "132 2024-06-23 12:00:00  40.5        30                7.6                0.00\n",
       "133 2024-06-23 13:00:00  40.6        30                7.6                0.00\n",
       "134 2024-06-23 14:00:00  40.9        29                8.3                0.00\n",
       "135 2024-06-23 15:00:00  41.2        29                7.9                0.00\n",
       "136 2024-06-23 16:00:00  40.6        30               10.4                0.00\n",
       "137 2024-06-23 17:00:00  39.8        31               14.4                0.00\n",
       "138 2024-06-23 18:00:00  39.3        33               13.0                0.00\n",
       "139 2024-06-23 19:00:00  38.8        34               10.8                0.29\n",
       "140 2024-06-23 20:00:00  38.6        34               12.2                0.00\n",
       "141 2024-06-23 21:00:00  38.4        35               13.7                0.00\n",
       "142 2024-06-23 22:00:00  38.0        36               10.4                0.00\n",
       "143 2024-06-23 23:00:00  37.5        37                9.7                0.00\n",
       "144 2024-06-24 00:00:00  34.8        47                4.7                0.11\n",
       "145 2024-06-24 01:00:00  35.0        46                1.8                0.03\n",
       "146 2024-06-24 02:00:00  35.1        46                3.2                0.00\n",
       "147 2024-06-24 03:00:00  34.9        47                3.6                0.00\n",
       "148 2024-06-24 04:00:00  34.6        48                4.3                0.00\n",
       "149 2024-06-24 05:00:00  34.5        48                5.0                0.00\n",
       "150 2024-06-24 06:00:00  35.2        46                5.8                0.00\n",
       "151 2024-06-24 07:00:00  36.6        42                4.7                0.00\n",
       "152 2024-06-24 08:00:00  37.9        38                4.3                0.00\n",
       "153 2024-06-24 09:00:00  39.2        35                2.9                0.00\n",
       "154 2024-06-24 10:00:00  40.5        32                2.9                0.00\n",
       "155 2024-06-24 11:00:00  41.1        30                3.2                0.00\n",
       "156 2024-06-24 12:00:00  41.0        30                5.0                0.00\n",
       "157 2024-06-24 13:00:00  41.0        30                5.8                0.00\n",
       "158 2024-06-24 14:00:00  40.8        31                6.8                0.00\n",
       "159 2024-06-24 15:00:00  40.5        31                7.9                0.02\n",
       "160 2024-06-24 16:00:00  40.0        32                5.4                0.08\n",
       "161 2024-06-24 17:00:00  39.4        34                2.9                0.00\n",
       "162 2024-06-24 18:00:00  39.2        35                3.2                0.00\n",
       "163 2024-06-24 19:00:00  38.8        36                4.0                0.45\n",
       "164 2024-06-24 20:00:00  38.6        36                9.7                0.54\n",
       "165 2024-06-24 21:00:00  37.3        40               13.0                0.16\n",
       "166 2024-06-24 22:00:00  36.1        44               14.4                0.14\n",
       "167 2024-06-24 23:00:00  34.9        48               13.7                0.02"
      ]
     },
     "execution_count": 59,
     "metadata": {},
     "output_type": "execute_result"
    }
   ],
   "source": [
    "weather01.tail(50)"
   ]
  },
  {
   "cell_type": "code",
   "execution_count": 61,
   "metadata": {},
   "outputs": [],
   "source": [
    "from prophet import  Prophet\n",
    "m = Prophet()"
   ]
  },
  {
   "cell_type": "code",
   "execution_count": 62,
   "metadata": {},
   "outputs": [
    {
     "name": "stderr",
     "output_type": "stream",
     "text": [
      "14:09:23 - cmdstanpy - INFO - Chain [1] start processing\n"
     ]
    },
    {
     "name": "stderr",
     "output_type": "stream",
     "text": [
      "14:09:23 - cmdstanpy - INFO - Chain [1] done processing\n"
     ]
    },
    {
     "data": {
      "text/plain": [
       "<prophet.forecaster.Prophet at 0x1dab89cd510>"
      ]
     },
     "execution_count": 62,
     "metadata": {},
     "output_type": "execute_result"
    }
   ],
   "source": [
    "m.fit(weather01)"
   ]
  },
  {
   "cell_type": "code",
   "execution_count": 63,
   "metadata": {},
   "outputs": [
    {
     "data": {
      "text/html": [
       "<div>\n",
       "<style scoped>\n",
       "    .dataframe tbody tr th:only-of-type {\n",
       "        vertical-align: middle;\n",
       "    }\n",
       "\n",
       "    .dataframe tbody tr th {\n",
       "        vertical-align: top;\n",
       "    }\n",
       "\n",
       "    .dataframe thead th {\n",
       "        text-align: right;\n",
       "    }\n",
       "</style>\n",
       "<table border=\"1\" class=\"dataframe\">\n",
       "  <thead>\n",
       "    <tr style=\"text-align: right;\">\n",
       "      <th></th>\n",
       "      <th>ds</th>\n",
       "    </tr>\n",
       "  </thead>\n",
       "  <tbody>\n",
       "    <tr>\n",
       "      <th>283</th>\n",
       "      <td>2024-06-29 19:00:00</td>\n",
       "    </tr>\n",
       "    <tr>\n",
       "      <th>284</th>\n",
       "      <td>2024-06-29 20:00:00</td>\n",
       "    </tr>\n",
       "    <tr>\n",
       "      <th>285</th>\n",
       "      <td>2024-06-29 21:00:00</td>\n",
       "    </tr>\n",
       "    <tr>\n",
       "      <th>286</th>\n",
       "      <td>2024-06-29 22:00:00</td>\n",
       "    </tr>\n",
       "    <tr>\n",
       "      <th>287</th>\n",
       "      <td>2024-06-29 23:00:00</td>\n",
       "    </tr>\n",
       "  </tbody>\n",
       "</table>\n",
       "</div>"
      ],
      "text/plain": [
       "                     ds\n",
       "283 2024-06-29 19:00:00\n",
       "284 2024-06-29 20:00:00\n",
       "285 2024-06-29 21:00:00\n",
       "286 2024-06-29 22:00:00\n",
       "287 2024-06-29 23:00:00"
      ]
     },
     "execution_count": 63,
     "metadata": {},
     "output_type": "execute_result"
    }
   ],
   "source": [
    "future = m.make_future_dataframe(periods=120, freq='H', include_history=True)\n",
    "future.tail()"
   ]
  },
  {
   "cell_type": "code",
   "execution_count": 64,
   "metadata": {},
   "outputs": [
    {
     "data": {
      "text/html": [
       "<div>\n",
       "<style scoped>\n",
       "    .dataframe tbody tr th:only-of-type {\n",
       "        vertical-align: middle;\n",
       "    }\n",
       "\n",
       "    .dataframe tbody tr th {\n",
       "        vertical-align: top;\n",
       "    }\n",
       "\n",
       "    .dataframe thead th {\n",
       "        text-align: right;\n",
       "    }\n",
       "</style>\n",
       "<table border=\"1\" class=\"dataframe\">\n",
       "  <thead>\n",
       "    <tr style=\"text-align: right;\">\n",
       "      <th></th>\n",
       "      <th>ds</th>\n",
       "      <th>yhat</th>\n",
       "      <th>yhat_lower</th>\n",
       "      <th>yhat_upper</th>\n",
       "    </tr>\n",
       "  </thead>\n",
       "  <tbody>\n",
       "    <tr>\n",
       "      <th>283</th>\n",
       "      <td>2024-06-29 19:00:00</td>\n",
       "      <td>43.800746</td>\n",
       "      <td>40.674318</td>\n",
       "      <td>47.031151</td>\n",
       "    </tr>\n",
       "    <tr>\n",
       "      <th>284</th>\n",
       "      <td>2024-06-29 20:00:00</td>\n",
       "      <td>42.269490</td>\n",
       "      <td>39.221681</td>\n",
       "      <td>45.353498</td>\n",
       "    </tr>\n",
       "    <tr>\n",
       "      <th>285</th>\n",
       "      <td>2024-06-29 21:00:00</td>\n",
       "      <td>40.906428</td>\n",
       "      <td>37.743039</td>\n",
       "      <td>43.879039</td>\n",
       "    </tr>\n",
       "    <tr>\n",
       "      <th>286</th>\n",
       "      <td>2024-06-29 22:00:00</td>\n",
       "      <td>39.943163</td>\n",
       "      <td>36.711589</td>\n",
       "      <td>43.054511</td>\n",
       "    </tr>\n",
       "    <tr>\n",
       "      <th>287</th>\n",
       "      <td>2024-06-29 23:00:00</td>\n",
       "      <td>39.474925</td>\n",
       "      <td>36.158687</td>\n",
       "      <td>42.418665</td>\n",
       "    </tr>\n",
       "  </tbody>\n",
       "</table>\n",
       "</div>"
      ],
      "text/plain": [
       "                     ds       yhat  yhat_lower  yhat_upper\n",
       "283 2024-06-29 19:00:00  43.800746   40.674318   47.031151\n",
       "284 2024-06-29 20:00:00  42.269490   39.221681   45.353498\n",
       "285 2024-06-29 21:00:00  40.906428   37.743039   43.879039\n",
       "286 2024-06-29 22:00:00  39.943163   36.711589   43.054511\n",
       "287 2024-06-29 23:00:00  39.474925   36.158687   42.418665"
      ]
     },
     "execution_count": 64,
     "metadata": {},
     "output_type": "execute_result"
    }
   ],
   "source": [
    "forecast= m.predict(future)\n",
    "forecast[['ds','yhat','yhat_lower','yhat_upper']].tail()"
   ]
  },
  {
   "cell_type": "code",
   "execution_count": 65,
   "metadata": {},
   "outputs": [
    {
     "name": "stderr",
     "output_type": "stream",
     "text": [
      "c:\\Users\\shree\\anaconda3\\Lib\\site-packages\\_plotly_utils\\basevalidators.py:106: FutureWarning:\n",
      "\n",
      "The behavior of DatetimeProperties.to_pydatetime is deprecated, in a future version this will return a Series containing python datetime objects instead of an ndarray. To retain the old behavior, call `np.array` on the result\n",
      "\n"
     ]
    },
    {
     "data": {
      "application/vnd.plotly.v1+json": {
       "config": {
        "plotlyServerURL": "https://plot.ly"
       },
       "data": [
        {
         "marker": {
          "color": "black",
          "size": 4
         },
         "mode": "markers",
         "name": "Actual",
         "type": "scatter",
         "x": [
          "2024-06-18T00:00:00",
          "2024-06-18T01:00:00",
          "2024-06-18T02:00:00",
          "2024-06-18T03:00:00",
          "2024-06-18T04:00:00",
          "2024-06-18T05:00:00",
          "2024-06-18T06:00:00",
          "2024-06-18T07:00:00",
          "2024-06-18T08:00:00",
          "2024-06-18T09:00:00",
          "2024-06-18T10:00:00",
          "2024-06-18T11:00:00",
          "2024-06-18T12:00:00",
          "2024-06-18T13:00:00",
          "2024-06-18T14:00:00",
          "2024-06-18T15:00:00",
          "2024-06-18T16:00:00",
          "2024-06-18T17:00:00",
          "2024-06-18T18:00:00",
          "2024-06-18T19:00:00",
          "2024-06-18T20:00:00",
          "2024-06-18T21:00:00",
          "2024-06-18T22:00:00",
          "2024-06-18T23:00:00",
          "2024-06-19T00:00:00",
          "2024-06-19T01:00:00",
          "2024-06-19T02:00:00",
          "2024-06-19T03:00:00",
          "2024-06-19T04:00:00",
          "2024-06-19T05:00:00",
          "2024-06-19T06:00:00",
          "2024-06-19T07:00:00",
          "2024-06-19T08:00:00",
          "2024-06-19T09:00:00",
          "2024-06-19T10:00:00",
          "2024-06-19T11:00:00",
          "2024-06-19T12:00:00",
          "2024-06-19T13:00:00",
          "2024-06-19T14:00:00",
          "2024-06-19T15:00:00",
          "2024-06-19T16:00:00",
          "2024-06-19T17:00:00",
          "2024-06-19T18:00:00",
          "2024-06-19T19:00:00",
          "2024-06-19T20:00:00",
          "2024-06-19T21:00:00",
          "2024-06-19T22:00:00",
          "2024-06-19T23:00:00",
          "2024-06-20T00:00:00",
          "2024-06-20T01:00:00",
          "2024-06-20T02:00:00",
          "2024-06-20T03:00:00",
          "2024-06-20T04:00:00",
          "2024-06-20T05:00:00",
          "2024-06-20T06:00:00",
          "2024-06-20T07:00:00",
          "2024-06-20T08:00:00",
          "2024-06-20T09:00:00",
          "2024-06-20T10:00:00",
          "2024-06-20T11:00:00",
          "2024-06-20T12:00:00",
          "2024-06-20T13:00:00",
          "2024-06-20T14:00:00",
          "2024-06-20T15:00:00",
          "2024-06-20T16:00:00",
          "2024-06-20T17:00:00",
          "2024-06-20T18:00:00",
          "2024-06-20T19:00:00",
          "2024-06-20T20:00:00",
          "2024-06-20T21:00:00",
          "2024-06-20T22:00:00",
          "2024-06-20T23:00:00",
          "2024-06-21T00:00:00",
          "2024-06-21T01:00:00",
          "2024-06-21T02:00:00",
          "2024-06-21T03:00:00",
          "2024-06-21T04:00:00",
          "2024-06-21T05:00:00",
          "2024-06-21T06:00:00",
          "2024-06-21T07:00:00",
          "2024-06-21T08:00:00",
          "2024-06-21T09:00:00",
          "2024-06-21T10:00:00",
          "2024-06-21T11:00:00",
          "2024-06-21T12:00:00",
          "2024-06-21T13:00:00",
          "2024-06-21T14:00:00",
          "2024-06-21T15:00:00",
          "2024-06-21T16:00:00",
          "2024-06-21T17:00:00",
          "2024-06-21T18:00:00",
          "2024-06-21T19:00:00",
          "2024-06-21T20:00:00",
          "2024-06-21T21:00:00",
          "2024-06-21T22:00:00",
          "2024-06-21T23:00:00",
          "2024-06-22T00:00:00",
          "2024-06-22T01:00:00",
          "2024-06-22T02:00:00",
          "2024-06-22T03:00:00",
          "2024-06-22T04:00:00",
          "2024-06-22T05:00:00",
          "2024-06-22T06:00:00",
          "2024-06-22T07:00:00",
          "2024-06-22T08:00:00",
          "2024-06-22T09:00:00",
          "2024-06-22T10:00:00",
          "2024-06-22T11:00:00",
          "2024-06-22T12:00:00",
          "2024-06-22T13:00:00",
          "2024-06-22T14:00:00",
          "2024-06-22T15:00:00",
          "2024-06-22T16:00:00",
          "2024-06-22T17:00:00",
          "2024-06-22T18:00:00",
          "2024-06-22T19:00:00",
          "2024-06-22T20:00:00",
          "2024-06-22T21:00:00",
          "2024-06-22T22:00:00",
          "2024-06-22T23:00:00",
          "2024-06-23T00:00:00",
          "2024-06-23T01:00:00",
          "2024-06-23T02:00:00",
          "2024-06-23T03:00:00",
          "2024-06-23T04:00:00",
          "2024-06-23T05:00:00",
          "2024-06-23T06:00:00",
          "2024-06-23T07:00:00",
          "2024-06-23T08:00:00",
          "2024-06-23T09:00:00",
          "2024-06-23T10:00:00",
          "2024-06-23T11:00:00",
          "2024-06-23T12:00:00",
          "2024-06-23T13:00:00",
          "2024-06-23T14:00:00",
          "2024-06-23T15:00:00",
          "2024-06-23T16:00:00",
          "2024-06-23T17:00:00",
          "2024-06-23T18:00:00",
          "2024-06-23T19:00:00",
          "2024-06-23T20:00:00",
          "2024-06-23T21:00:00",
          "2024-06-23T22:00:00",
          "2024-06-23T23:00:00",
          "2024-06-24T00:00:00",
          "2024-06-24T01:00:00",
          "2024-06-24T02:00:00",
          "2024-06-24T03:00:00",
          "2024-06-24T04:00:00",
          "2024-06-24T05:00:00",
          "2024-06-24T06:00:00",
          "2024-06-24T07:00:00",
          "2024-06-24T08:00:00",
          "2024-06-24T09:00:00",
          "2024-06-24T10:00:00",
          "2024-06-24T11:00:00",
          "2024-06-24T12:00:00",
          "2024-06-24T13:00:00",
          "2024-06-24T14:00:00",
          "2024-06-24T15:00:00",
          "2024-06-24T16:00:00",
          "2024-06-24T17:00:00",
          "2024-06-24T18:00:00",
          "2024-06-24T19:00:00",
          "2024-06-24T20:00:00",
          "2024-06-24T21:00:00",
          "2024-06-24T22:00:00",
          "2024-06-24T23:00:00"
         ],
         "y": [
          36.8,
          36.8,
          36.4,
          36.2,
          35.6,
          34.9,
          35.6,
          38,
          40.5,
          42.1,
          43.7,
          45.7,
          46.7,
          47,
          47.2,
          46.9,
          46.5,
          45.7,
          42.2,
          38.2,
          34.8,
          33.6,
          33.1,
          32.7,
          32.5,
          32.5,
          32.3,
          32.6,
          32.9,
          32.9,
          34.9,
          37.5,
          39.3,
          40.3,
          41.9,
          43.1,
          43.5,
          43.3,
          43.3,
          43.9,
          44,
          42.9,
          41.3,
          38.6,
          35.6,
          33.2,
          32.6,
          32.4,
          30.9,
          31.3,
          31.4,
          30.5,
          29.9,
          29.8,
          30.8,
          32.5,
          34.5,
          36.6,
          38.4,
          39.9,
          41.2,
          42.2,
          42.9,
          43,
          42.8,
          42,
          40.5,
          38.9,
          36,
          33.2,
          31,
          30.2,
          33.9,
          33.5,
          33.6,
          33.1,
          31.8,
          31,
          31.9,
          32.8,
          33.5,
          34.2,
          35.1,
          36.3,
          38,
          39.5,
          40.2,
          40.6,
          40.6,
          40.4,
          39.5,
          37.1,
          35.2,
          34.8,
          34.3,
          33.3,
          31.6,
          32.2,
          32.3,
          32.1,
          31.7,
          31.6,
          32.3,
          33.5,
          34.8,
          36.2,
          37.4,
          38.6,
          39.3,
          38.8,
          39,
          39.1,
          37.4,
          36.1,
          36,
          36.4,
          36.1,
          35.5,
          35.2,
          34.6,
          35,
          34.5,
          33.8,
          33.4,
          33.1,
          33.1,
          34.4,
          36,
          37.4,
          38.7,
          39.8,
          40.4,
          40.5,
          40.6,
          40.9,
          41.2,
          40.6,
          39.8,
          39.3,
          38.8,
          38.6,
          38.4,
          38,
          37.5,
          34.8,
          35,
          35.1,
          34.9,
          34.6,
          34.5,
          35.2,
          36.6,
          37.9,
          39.2,
          40.5,
          41.1,
          41,
          41,
          40.8,
          40.5,
          40,
          39.4,
          39.2,
          38.8,
          38.6,
          37.3,
          36.1,
          34.9
         ]
        },
        {
         "hoverinfo": "skip",
         "line": {
          "width": 0
         },
         "mode": "lines",
         "type": "scatter",
         "x": [
          "2024-06-18T00:00:00",
          "2024-06-18T01:00:00",
          "2024-06-18T02:00:00",
          "2024-06-18T03:00:00",
          "2024-06-18T04:00:00",
          "2024-06-18T05:00:00",
          "2024-06-18T06:00:00",
          "2024-06-18T07:00:00",
          "2024-06-18T08:00:00",
          "2024-06-18T09:00:00",
          "2024-06-18T10:00:00",
          "2024-06-18T11:00:00",
          "2024-06-18T12:00:00",
          "2024-06-18T13:00:00",
          "2024-06-18T14:00:00",
          "2024-06-18T15:00:00",
          "2024-06-18T16:00:00",
          "2024-06-18T17:00:00",
          "2024-06-18T18:00:00",
          "2024-06-18T19:00:00",
          "2024-06-18T20:00:00",
          "2024-06-18T21:00:00",
          "2024-06-18T22:00:00",
          "2024-06-18T23:00:00",
          "2024-06-19T00:00:00",
          "2024-06-19T01:00:00",
          "2024-06-19T02:00:00",
          "2024-06-19T03:00:00",
          "2024-06-19T04:00:00",
          "2024-06-19T05:00:00",
          "2024-06-19T06:00:00",
          "2024-06-19T07:00:00",
          "2024-06-19T08:00:00",
          "2024-06-19T09:00:00",
          "2024-06-19T10:00:00",
          "2024-06-19T11:00:00",
          "2024-06-19T12:00:00",
          "2024-06-19T13:00:00",
          "2024-06-19T14:00:00",
          "2024-06-19T15:00:00",
          "2024-06-19T16:00:00",
          "2024-06-19T17:00:00",
          "2024-06-19T18:00:00",
          "2024-06-19T19:00:00",
          "2024-06-19T20:00:00",
          "2024-06-19T21:00:00",
          "2024-06-19T22:00:00",
          "2024-06-19T23:00:00",
          "2024-06-20T00:00:00",
          "2024-06-20T01:00:00",
          "2024-06-20T02:00:00",
          "2024-06-20T03:00:00",
          "2024-06-20T04:00:00",
          "2024-06-20T05:00:00",
          "2024-06-20T06:00:00",
          "2024-06-20T07:00:00",
          "2024-06-20T08:00:00",
          "2024-06-20T09:00:00",
          "2024-06-20T10:00:00",
          "2024-06-20T11:00:00",
          "2024-06-20T12:00:00",
          "2024-06-20T13:00:00",
          "2024-06-20T14:00:00",
          "2024-06-20T15:00:00",
          "2024-06-20T16:00:00",
          "2024-06-20T17:00:00",
          "2024-06-20T18:00:00",
          "2024-06-20T19:00:00",
          "2024-06-20T20:00:00",
          "2024-06-20T21:00:00",
          "2024-06-20T22:00:00",
          "2024-06-20T23:00:00",
          "2024-06-21T00:00:00",
          "2024-06-21T01:00:00",
          "2024-06-21T02:00:00",
          "2024-06-21T03:00:00",
          "2024-06-21T04:00:00",
          "2024-06-21T05:00:00",
          "2024-06-21T06:00:00",
          "2024-06-21T07:00:00",
          "2024-06-21T08:00:00",
          "2024-06-21T09:00:00",
          "2024-06-21T10:00:00",
          "2024-06-21T11:00:00",
          "2024-06-21T12:00:00",
          "2024-06-21T13:00:00",
          "2024-06-21T14:00:00",
          "2024-06-21T15:00:00",
          "2024-06-21T16:00:00",
          "2024-06-21T17:00:00",
          "2024-06-21T18:00:00",
          "2024-06-21T19:00:00",
          "2024-06-21T20:00:00",
          "2024-06-21T21:00:00",
          "2024-06-21T22:00:00",
          "2024-06-21T23:00:00",
          "2024-06-22T00:00:00",
          "2024-06-22T01:00:00",
          "2024-06-22T02:00:00",
          "2024-06-22T03:00:00",
          "2024-06-22T04:00:00",
          "2024-06-22T05:00:00",
          "2024-06-22T06:00:00",
          "2024-06-22T07:00:00",
          "2024-06-22T08:00:00",
          "2024-06-22T09:00:00",
          "2024-06-22T10:00:00",
          "2024-06-22T11:00:00",
          "2024-06-22T12:00:00",
          "2024-06-22T13:00:00",
          "2024-06-22T14:00:00",
          "2024-06-22T15:00:00",
          "2024-06-22T16:00:00",
          "2024-06-22T17:00:00",
          "2024-06-22T18:00:00",
          "2024-06-22T19:00:00",
          "2024-06-22T20:00:00",
          "2024-06-22T21:00:00",
          "2024-06-22T22:00:00",
          "2024-06-22T23:00:00",
          "2024-06-23T00:00:00",
          "2024-06-23T01:00:00",
          "2024-06-23T02:00:00",
          "2024-06-23T03:00:00",
          "2024-06-23T04:00:00",
          "2024-06-23T05:00:00",
          "2024-06-23T06:00:00",
          "2024-06-23T07:00:00",
          "2024-06-23T08:00:00",
          "2024-06-23T09:00:00",
          "2024-06-23T10:00:00",
          "2024-06-23T11:00:00",
          "2024-06-23T12:00:00",
          "2024-06-23T13:00:00",
          "2024-06-23T14:00:00",
          "2024-06-23T15:00:00",
          "2024-06-23T16:00:00",
          "2024-06-23T17:00:00",
          "2024-06-23T18:00:00",
          "2024-06-23T19:00:00",
          "2024-06-23T20:00:00",
          "2024-06-23T21:00:00",
          "2024-06-23T22:00:00",
          "2024-06-23T23:00:00",
          "2024-06-24T00:00:00",
          "2024-06-24T01:00:00",
          "2024-06-24T02:00:00",
          "2024-06-24T03:00:00",
          "2024-06-24T04:00:00",
          "2024-06-24T05:00:00",
          "2024-06-24T06:00:00",
          "2024-06-24T07:00:00",
          "2024-06-24T08:00:00",
          "2024-06-24T09:00:00",
          "2024-06-24T10:00:00",
          "2024-06-24T11:00:00",
          "2024-06-24T12:00:00",
          "2024-06-24T13:00:00",
          "2024-06-24T14:00:00",
          "2024-06-24T15:00:00",
          "2024-06-24T16:00:00",
          "2024-06-24T17:00:00",
          "2024-06-24T18:00:00",
          "2024-06-24T19:00:00",
          "2024-06-24T20:00:00",
          "2024-06-24T21:00:00",
          "2024-06-24T22:00:00",
          "2024-06-24T23:00:00",
          "2024-06-25T00:00:00",
          "2024-06-25T01:00:00",
          "2024-06-25T02:00:00",
          "2024-06-25T03:00:00",
          "2024-06-25T04:00:00",
          "2024-06-25T05:00:00",
          "2024-06-25T06:00:00",
          "2024-06-25T07:00:00",
          "2024-06-25T08:00:00",
          "2024-06-25T09:00:00",
          "2024-06-25T10:00:00",
          "2024-06-25T11:00:00",
          "2024-06-25T12:00:00",
          "2024-06-25T13:00:00",
          "2024-06-25T14:00:00",
          "2024-06-25T15:00:00",
          "2024-06-25T16:00:00",
          "2024-06-25T17:00:00",
          "2024-06-25T18:00:00",
          "2024-06-25T19:00:00",
          "2024-06-25T20:00:00",
          "2024-06-25T21:00:00",
          "2024-06-25T22:00:00",
          "2024-06-25T23:00:00",
          "2024-06-26T00:00:00",
          "2024-06-26T01:00:00",
          "2024-06-26T02:00:00",
          "2024-06-26T03:00:00",
          "2024-06-26T04:00:00",
          "2024-06-26T05:00:00",
          "2024-06-26T06:00:00",
          "2024-06-26T07:00:00",
          "2024-06-26T08:00:00",
          "2024-06-26T09:00:00",
          "2024-06-26T10:00:00",
          "2024-06-26T11:00:00",
          "2024-06-26T12:00:00",
          "2024-06-26T13:00:00",
          "2024-06-26T14:00:00",
          "2024-06-26T15:00:00",
          "2024-06-26T16:00:00",
          "2024-06-26T17:00:00",
          "2024-06-26T18:00:00",
          "2024-06-26T19:00:00",
          "2024-06-26T20:00:00",
          "2024-06-26T21:00:00",
          "2024-06-26T22:00:00",
          "2024-06-26T23:00:00",
          "2024-06-27T00:00:00",
          "2024-06-27T01:00:00",
          "2024-06-27T02:00:00",
          "2024-06-27T03:00:00",
          "2024-06-27T04:00:00",
          "2024-06-27T05:00:00",
          "2024-06-27T06:00:00",
          "2024-06-27T07:00:00",
          "2024-06-27T08:00:00",
          "2024-06-27T09:00:00",
          "2024-06-27T10:00:00",
          "2024-06-27T11:00:00",
          "2024-06-27T12:00:00",
          "2024-06-27T13:00:00",
          "2024-06-27T14:00:00",
          "2024-06-27T15:00:00",
          "2024-06-27T16:00:00",
          "2024-06-27T17:00:00",
          "2024-06-27T18:00:00",
          "2024-06-27T19:00:00",
          "2024-06-27T20:00:00",
          "2024-06-27T21:00:00",
          "2024-06-27T22:00:00",
          "2024-06-27T23:00:00",
          "2024-06-28T00:00:00",
          "2024-06-28T01:00:00",
          "2024-06-28T02:00:00",
          "2024-06-28T03:00:00",
          "2024-06-28T04:00:00",
          "2024-06-28T05:00:00",
          "2024-06-28T06:00:00",
          "2024-06-28T07:00:00",
          "2024-06-28T08:00:00",
          "2024-06-28T09:00:00",
          "2024-06-28T10:00:00",
          "2024-06-28T11:00:00",
          "2024-06-28T12:00:00",
          "2024-06-28T13:00:00",
          "2024-06-28T14:00:00",
          "2024-06-28T15:00:00",
          "2024-06-28T16:00:00",
          "2024-06-28T17:00:00",
          "2024-06-28T18:00:00",
          "2024-06-28T19:00:00",
          "2024-06-28T20:00:00",
          "2024-06-28T21:00:00",
          "2024-06-28T22:00:00",
          "2024-06-28T23:00:00",
          "2024-06-29T00:00:00",
          "2024-06-29T01:00:00",
          "2024-06-29T02:00:00",
          "2024-06-29T03:00:00",
          "2024-06-29T04:00:00",
          "2024-06-29T05:00:00",
          "2024-06-29T06:00:00",
          "2024-06-29T07:00:00",
          "2024-06-29T08:00:00",
          "2024-06-29T09:00:00",
          "2024-06-29T10:00:00",
          "2024-06-29T11:00:00",
          "2024-06-29T12:00:00",
          "2024-06-29T13:00:00",
          "2024-06-29T14:00:00",
          "2024-06-29T15:00:00",
          "2024-06-29T16:00:00",
          "2024-06-29T17:00:00",
          "2024-06-29T18:00:00",
          "2024-06-29T19:00:00",
          "2024-06-29T20:00:00",
          "2024-06-29T21:00:00",
          "2024-06-29T22:00:00",
          "2024-06-29T23:00:00"
         ],
         "y": [
          34.8535782364741,
          34.933059363792616,
          34.690604574544395,
          34.185016111498776,
          33.694483187831956,
          33.832731902512926,
          34.58596229563133,
          35.72202142201207,
          37.37039983193554,
          38.97372285043194,
          40.4030190203318,
          41.20743749057325,
          41.94807864411576,
          42.255053807928235,
          42.400319360879394,
          42.36152545327282,
          41.71721824568716,
          40.97900959344886,
          39.72680721815003,
          38.2183542657236,
          36.591349860732315,
          35.076472229299384,
          33.83757798409038,
          33.224833725154596,
          33.1468006372914,
          32.8890720679076,
          32.74536166753511,
          32.06170488473655,
          31.795098196337737,
          31.828768692059594,
          32.51749080663051,
          33.74954379397921,
          35.57273058777078,
          37.02832762550562,
          38.41177002423117,
          39.142435778235516,
          39.89646040030686,
          40.14910260902232,
          40.68136291434998,
          40.42674920663291,
          39.96678712704258,
          39.002279663538424,
          37.69553895420135,
          36.07843457156084,
          34.44041161414738,
          33.12698250735511,
          32.00972340142397,
          31.410917713804576,
          31.134731741577014,
          31.122702462626833,
          30.8115795444927,
          30.28344688822892,
          29.826303708028377,
          29.89765910801378,
          30.650858626858092,
          32.119132959623315,
          33.75506991345791,
          35.32631526574034,
          36.64894084624542,
          37.49667683419134,
          38.17179206425681,
          38.93850602991853,
          39.12689183674945,
          38.92764997820947,
          38.411412353675416,
          37.84669734464018,
          36.39200989388637,
          34.835056785599264,
          33.30216237917388,
          31.736179034698146,
          30.745681981806786,
          30.230739320472438,
          29.915221442392838,
          30.06776536927966,
          29.64834464684207,
          29.35426977631818,
          29.064019266845477,
          29.119108057605782,
          29.867029837951865,
          31.327092631950467,
          32.9466775393418,
          34.53849916333341,
          36.04079449031701,
          36.96077328556576,
          37.502999285097694,
          38.02839014435259,
          38.4990162697871,
          38.4499599348291,
          38.041163505803404,
          37.213612722825346,
          36.07589138555762,
          34.671403576922884,
          32.952680350837966,
          31.82442252212031,
          30.73373476456683,
          30.236160247224582,
          30.200972713146776,
          30.276560904400664,
          29.94417982599024,
          29.63042108964418,
          29.159753913657326,
          29.511566048901887,
          30.45612904164478,
          31.618949493169335,
          33.5307792000873,
          35.1800730553042,
          36.453724139163555,
          37.6965198178726,
          38.22754144038385,
          38.727417019410396,
          39.12345365553743,
          39.23146823143065,
          38.87789674708701,
          38.017740068372355,
          36.91579354348911,
          35.19007607499576,
          33.81934413149587,
          32.59833771607884,
          31.435410693494646,
          30.97944058996051,
          30.995983611815454,
          30.854272543013675,
          30.755417770696724,
          30.192158567556138,
          30.126705205666234,
          30.30975695047177,
          31.20003201195056,
          32.4324075904908,
          34.23298352345535,
          36.0976500509107,
          37.4343119398226,
          38.310878761916115,
          39.059663343294154,
          39.70126942815444,
          40.04742062307512,
          40.134925682791724,
          39.732800524533715,
          38.83138711376008,
          37.74327278662438,
          36.13407291196957,
          34.752391937460175,
          33.3903860459873,
          32.36522139380328,
          31.77577147833488,
          31.87791236428315,
          31.892915964244043,
          31.788093466341653,
          31.389099112090722,
          31.14984930608264,
          31.0707731398986,
          32.04806475069775,
          33.39753322118923,
          35.222916772617246,
          36.908099549788076,
          38.27432797623092,
          39.17497320125691,
          39.92172612335421,
          40.603335130149844,
          41.05596620321319,
          40.99444874902589,
          40.69696839178514,
          39.94456318508415,
          38.56581679301715,
          37.07539644834055,
          35.706366840104636,
          34.305481770782734,
          33.30926916342602,
          32.91735125167946,
          32.77758692461729,
          32.71016169693098,
          32.4871799970868,
          32.12239050378146,
          31.917391895113337,
          31.95706812835228,
          32.82484526995852,
          34.405122050236926,
          36.1222937294626,
          37.89936328162268,
          39.15748171574172,
          40.16428063183547,
          40.88464916548463,
          41.463822195231,
          41.69590348287999,
          41.939244679099986,
          41.597196635965915,
          40.83701083074534,
          39.5025534935416,
          38.055887587004484,
          36.46260165908184,
          35.29564097583255,
          34.296908438363516,
          33.69451737725658,
          33.76405428277816,
          33.638355777107606,
          33.44380097462183,
          33.24620279056029,
          32.751491573525925,
          33.05542411417321,
          33.89691824970505,
          35.23969606216538,
          36.87337413124205,
          38.718826089334726,
          40.0972022963721,
          41.15479850908125,
          41.84541139540755,
          42.32534104204329,
          42.71333360067854,
          42.83109817941544,
          42.54030161292498,
          41.483861500913534,
          40.40765838107612,
          38.85833815445623,
          37.31399351944239,
          36.066328147773,
          35.037448530157945,
          34.61050889259593,
          34.48549198883891,
          34.44478585897985,
          34.284294333614596,
          33.83088836138275,
          33.763197258864245,
          33.81188923733252,
          34.380513065340885,
          36.06892770573274,
          37.8076478201765,
          39.39899292511025,
          40.87267528276837,
          41.84470906870895,
          42.52769145229921,
          43.19459333419217,
          43.540116877532334,
          43.71250021076998,
          43.326058205949174,
          42.44563708999264,
          41.10881502702912,
          39.62689218893721,
          38.10049457009874,
          36.76970934036622,
          35.79738505259269,
          35.263841128923396,
          35.14054553434598,
          35.35117172709038,
          35.03544926642192,
          34.63617689996674,
          34.2692431447605,
          34.54325265078937,
          35.28936041640008,
          36.53440840060338,
          38.51315485746284,
          40.288758267981414,
          41.5876235957479,
          42.4303812443315,
          43.07829120634126,
          43.787974970806935,
          44.001142273602746,
          44.001231585491325,
          43.80783700870541,
          42.89705319233276,
          41.726748815194505,
          40.13879766413781,
          38.9114928478839,
          37.2884984464253,
          36.417284198531604,
          35.9443985447939,
          35.65761416237441,
          35.5230079193431,
          35.3145075457178,
          34.96600970318308,
          34.90630391585179,
          34.909253883219584,
          35.57274537500924,
          37.22598737054803,
          39.22453829981657,
          40.68619904572761,
          42.098753140265025,
          42.91975076834222,
          43.66296973877063,
          44.31918095599386,
          44.54995885721284,
          44.71709625311256,
          44.319986517452044,
          43.369671535778345,
          42.228309289197206,
          40.67431778916493,
          39.22168129813203,
          37.743038714398196,
          36.71158868365734,
          36.158686543309415
         ]
        },
        {
         "fill": "tonexty",
         "fillcolor": "rgba(0, 114, 178, 0.2)",
         "line": {
          "color": "#0072B2",
          "width": 2
         },
         "mode": "lines",
         "name": "Predicted",
         "type": "scatter",
         "x": [
          "2024-06-18T00:00:00",
          "2024-06-18T01:00:00",
          "2024-06-18T02:00:00",
          "2024-06-18T03:00:00",
          "2024-06-18T04:00:00",
          "2024-06-18T05:00:00",
          "2024-06-18T06:00:00",
          "2024-06-18T07:00:00",
          "2024-06-18T08:00:00",
          "2024-06-18T09:00:00",
          "2024-06-18T10:00:00",
          "2024-06-18T11:00:00",
          "2024-06-18T12:00:00",
          "2024-06-18T13:00:00",
          "2024-06-18T14:00:00",
          "2024-06-18T15:00:00",
          "2024-06-18T16:00:00",
          "2024-06-18T17:00:00",
          "2024-06-18T18:00:00",
          "2024-06-18T19:00:00",
          "2024-06-18T20:00:00",
          "2024-06-18T21:00:00",
          "2024-06-18T22:00:00",
          "2024-06-18T23:00:00",
          "2024-06-19T00:00:00",
          "2024-06-19T01:00:00",
          "2024-06-19T02:00:00",
          "2024-06-19T03:00:00",
          "2024-06-19T04:00:00",
          "2024-06-19T05:00:00",
          "2024-06-19T06:00:00",
          "2024-06-19T07:00:00",
          "2024-06-19T08:00:00",
          "2024-06-19T09:00:00",
          "2024-06-19T10:00:00",
          "2024-06-19T11:00:00",
          "2024-06-19T12:00:00",
          "2024-06-19T13:00:00",
          "2024-06-19T14:00:00",
          "2024-06-19T15:00:00",
          "2024-06-19T16:00:00",
          "2024-06-19T17:00:00",
          "2024-06-19T18:00:00",
          "2024-06-19T19:00:00",
          "2024-06-19T20:00:00",
          "2024-06-19T21:00:00",
          "2024-06-19T22:00:00",
          "2024-06-19T23:00:00",
          "2024-06-20T00:00:00",
          "2024-06-20T01:00:00",
          "2024-06-20T02:00:00",
          "2024-06-20T03:00:00",
          "2024-06-20T04:00:00",
          "2024-06-20T05:00:00",
          "2024-06-20T06:00:00",
          "2024-06-20T07:00:00",
          "2024-06-20T08:00:00",
          "2024-06-20T09:00:00",
          "2024-06-20T10:00:00",
          "2024-06-20T11:00:00",
          "2024-06-20T12:00:00",
          "2024-06-20T13:00:00",
          "2024-06-20T14:00:00",
          "2024-06-20T15:00:00",
          "2024-06-20T16:00:00",
          "2024-06-20T17:00:00",
          "2024-06-20T18:00:00",
          "2024-06-20T19:00:00",
          "2024-06-20T20:00:00",
          "2024-06-20T21:00:00",
          "2024-06-20T22:00:00",
          "2024-06-20T23:00:00",
          "2024-06-21T00:00:00",
          "2024-06-21T01:00:00",
          "2024-06-21T02:00:00",
          "2024-06-21T03:00:00",
          "2024-06-21T04:00:00",
          "2024-06-21T05:00:00",
          "2024-06-21T06:00:00",
          "2024-06-21T07:00:00",
          "2024-06-21T08:00:00",
          "2024-06-21T09:00:00",
          "2024-06-21T10:00:00",
          "2024-06-21T11:00:00",
          "2024-06-21T12:00:00",
          "2024-06-21T13:00:00",
          "2024-06-21T14:00:00",
          "2024-06-21T15:00:00",
          "2024-06-21T16:00:00",
          "2024-06-21T17:00:00",
          "2024-06-21T18:00:00",
          "2024-06-21T19:00:00",
          "2024-06-21T20:00:00",
          "2024-06-21T21:00:00",
          "2024-06-21T22:00:00",
          "2024-06-21T23:00:00",
          "2024-06-22T00:00:00",
          "2024-06-22T01:00:00",
          "2024-06-22T02:00:00",
          "2024-06-22T03:00:00",
          "2024-06-22T04:00:00",
          "2024-06-22T05:00:00",
          "2024-06-22T06:00:00",
          "2024-06-22T07:00:00",
          "2024-06-22T08:00:00",
          "2024-06-22T09:00:00",
          "2024-06-22T10:00:00",
          "2024-06-22T11:00:00",
          "2024-06-22T12:00:00",
          "2024-06-22T13:00:00",
          "2024-06-22T14:00:00",
          "2024-06-22T15:00:00",
          "2024-06-22T16:00:00",
          "2024-06-22T17:00:00",
          "2024-06-22T18:00:00",
          "2024-06-22T19:00:00",
          "2024-06-22T20:00:00",
          "2024-06-22T21:00:00",
          "2024-06-22T22:00:00",
          "2024-06-22T23:00:00",
          "2024-06-23T00:00:00",
          "2024-06-23T01:00:00",
          "2024-06-23T02:00:00",
          "2024-06-23T03:00:00",
          "2024-06-23T04:00:00",
          "2024-06-23T05:00:00",
          "2024-06-23T06:00:00",
          "2024-06-23T07:00:00",
          "2024-06-23T08:00:00",
          "2024-06-23T09:00:00",
          "2024-06-23T10:00:00",
          "2024-06-23T11:00:00",
          "2024-06-23T12:00:00",
          "2024-06-23T13:00:00",
          "2024-06-23T14:00:00",
          "2024-06-23T15:00:00",
          "2024-06-23T16:00:00",
          "2024-06-23T17:00:00",
          "2024-06-23T18:00:00",
          "2024-06-23T19:00:00",
          "2024-06-23T20:00:00",
          "2024-06-23T21:00:00",
          "2024-06-23T22:00:00",
          "2024-06-23T23:00:00",
          "2024-06-24T00:00:00",
          "2024-06-24T01:00:00",
          "2024-06-24T02:00:00",
          "2024-06-24T03:00:00",
          "2024-06-24T04:00:00",
          "2024-06-24T05:00:00",
          "2024-06-24T06:00:00",
          "2024-06-24T07:00:00",
          "2024-06-24T08:00:00",
          "2024-06-24T09:00:00",
          "2024-06-24T10:00:00",
          "2024-06-24T11:00:00",
          "2024-06-24T12:00:00",
          "2024-06-24T13:00:00",
          "2024-06-24T14:00:00",
          "2024-06-24T15:00:00",
          "2024-06-24T16:00:00",
          "2024-06-24T17:00:00",
          "2024-06-24T18:00:00",
          "2024-06-24T19:00:00",
          "2024-06-24T20:00:00",
          "2024-06-24T21:00:00",
          "2024-06-24T22:00:00",
          "2024-06-24T23:00:00",
          "2024-06-25T00:00:00",
          "2024-06-25T01:00:00",
          "2024-06-25T02:00:00",
          "2024-06-25T03:00:00",
          "2024-06-25T04:00:00",
          "2024-06-25T05:00:00",
          "2024-06-25T06:00:00",
          "2024-06-25T07:00:00",
          "2024-06-25T08:00:00",
          "2024-06-25T09:00:00",
          "2024-06-25T10:00:00",
          "2024-06-25T11:00:00",
          "2024-06-25T12:00:00",
          "2024-06-25T13:00:00",
          "2024-06-25T14:00:00",
          "2024-06-25T15:00:00",
          "2024-06-25T16:00:00",
          "2024-06-25T17:00:00",
          "2024-06-25T18:00:00",
          "2024-06-25T19:00:00",
          "2024-06-25T20:00:00",
          "2024-06-25T21:00:00",
          "2024-06-25T22:00:00",
          "2024-06-25T23:00:00",
          "2024-06-26T00:00:00",
          "2024-06-26T01:00:00",
          "2024-06-26T02:00:00",
          "2024-06-26T03:00:00",
          "2024-06-26T04:00:00",
          "2024-06-26T05:00:00",
          "2024-06-26T06:00:00",
          "2024-06-26T07:00:00",
          "2024-06-26T08:00:00",
          "2024-06-26T09:00:00",
          "2024-06-26T10:00:00",
          "2024-06-26T11:00:00",
          "2024-06-26T12:00:00",
          "2024-06-26T13:00:00",
          "2024-06-26T14:00:00",
          "2024-06-26T15:00:00",
          "2024-06-26T16:00:00",
          "2024-06-26T17:00:00",
          "2024-06-26T18:00:00",
          "2024-06-26T19:00:00",
          "2024-06-26T20:00:00",
          "2024-06-26T21:00:00",
          "2024-06-26T22:00:00",
          "2024-06-26T23:00:00",
          "2024-06-27T00:00:00",
          "2024-06-27T01:00:00",
          "2024-06-27T02:00:00",
          "2024-06-27T03:00:00",
          "2024-06-27T04:00:00",
          "2024-06-27T05:00:00",
          "2024-06-27T06:00:00",
          "2024-06-27T07:00:00",
          "2024-06-27T08:00:00",
          "2024-06-27T09:00:00",
          "2024-06-27T10:00:00",
          "2024-06-27T11:00:00",
          "2024-06-27T12:00:00",
          "2024-06-27T13:00:00",
          "2024-06-27T14:00:00",
          "2024-06-27T15:00:00",
          "2024-06-27T16:00:00",
          "2024-06-27T17:00:00",
          "2024-06-27T18:00:00",
          "2024-06-27T19:00:00",
          "2024-06-27T20:00:00",
          "2024-06-27T21:00:00",
          "2024-06-27T22:00:00",
          "2024-06-27T23:00:00",
          "2024-06-28T00:00:00",
          "2024-06-28T01:00:00",
          "2024-06-28T02:00:00",
          "2024-06-28T03:00:00",
          "2024-06-28T04:00:00",
          "2024-06-28T05:00:00",
          "2024-06-28T06:00:00",
          "2024-06-28T07:00:00",
          "2024-06-28T08:00:00",
          "2024-06-28T09:00:00",
          "2024-06-28T10:00:00",
          "2024-06-28T11:00:00",
          "2024-06-28T12:00:00",
          "2024-06-28T13:00:00",
          "2024-06-28T14:00:00",
          "2024-06-28T15:00:00",
          "2024-06-28T16:00:00",
          "2024-06-28T17:00:00",
          "2024-06-28T18:00:00",
          "2024-06-28T19:00:00",
          "2024-06-28T20:00:00",
          "2024-06-28T21:00:00",
          "2024-06-28T22:00:00",
          "2024-06-28T23:00:00",
          "2024-06-29T00:00:00",
          "2024-06-29T01:00:00",
          "2024-06-29T02:00:00",
          "2024-06-29T03:00:00",
          "2024-06-29T04:00:00",
          "2024-06-29T05:00:00",
          "2024-06-29T06:00:00",
          "2024-06-29T07:00:00",
          "2024-06-29T08:00:00",
          "2024-06-29T09:00:00",
          "2024-06-29T10:00:00",
          "2024-06-29T11:00:00",
          "2024-06-29T12:00:00",
          "2024-06-29T13:00:00",
          "2024-06-29T14:00:00",
          "2024-06-29T15:00:00",
          "2024-06-29T16:00:00",
          "2024-06-29T17:00:00",
          "2024-06-29T18:00:00",
          "2024-06-29T19:00:00",
          "2024-06-29T20:00:00",
          "2024-06-29T21:00:00",
          "2024-06-29T22:00:00",
          "2024-06-29T23:00:00"
         ],
         "y": [
          37.09807050400008,
          36.97404594522458,
          36.68534570699925,
          36.2063445473503,
          35.79265230638772,
          35.824528368591636,
          36.546711980093335,
          37.896546900111765,
          39.544035416790535,
          41.10054120768489,
          42.32913369445653,
          43.208721249410935,
          43.837536204876926,
          44.285759942475075,
          44.5207885735915,
          44.44010008111969,
          43.95247808088698,
          43.03232721545409,
          41.72785733124512,
          40.155730788326956,
          38.50475859229636,
          37.021981988731426,
          35.939001016268904,
          35.35104837079847,
          35.13668496237713,
          35.012660458035114,
          34.7239602742282,
          34.24495916903589,
          33.83126705321663,
          33.863143240572285,
          34.58532697950915,
          35.93516202685808,
          37.58265067102761,
          39.13915683973372,
          40.36774970430143,
          41.247337637026355,
          41.87615297828541,
          42.32437710168089,
          42.55946642578025,
          42.478838626258415,
          41.991277319028484,
          41.07118715579596,
          39.766777973787434,
          38.194712133074304,
          36.54380896688963,
          35.061101393125305,
          33.978189376552166,
          33.39030568700593,
          33.17601123446975,
          33.067866385892536,
          32.79504585786797,
          32.33192440844809,
          31.9341118776526,
          31.981867650048486,
          32.744896891131134,
          34.13557744073343,
          35.823911586974226,
          37.42126300748783,
          38.69070112386789,
          39.61113430846989,
          40.289297571647076,
          40.78686961702708,
          41.07124655594191,
          41.03990637120954,
          40.601632678791816,
          39.7309849810758,
          38.47601826462624,
          36.953394889447964,
          35.351925861214205,
          33.91865242540894,
          32.885206784964424,
          32.34678947151552,
          32.18196139512682,
          32.10747222277009,
          31.868307370979505,
          31.44464047108242,
          31.086282489819848,
          31.173492811758404,
          31.951010685246608,
          33.35617986727742,
          35.05900264592154,
          36.69333711655356,
          37.999758283048706,
          38.95717451773076,
          39.66381816089072,
          40.189870586228324,
          40.52369408854281,
          40.54180046724528,
          40.152973338236826,
          39.33161735322157,
          38.1259423494415,
          36.66055416429206,
          35.11632032598669,
          33.74028208028304,
          32.76403939167601,
          32.28282503005657,
          32.17519990550089,
          32.160662392569726,
          31.98144920016768,
          31.61193508637302,
          31.30772989123915,
          31.449092999292635,
          32.28448499734049,
          33.74752830390493,
          35.50822520712993,
          37.17793938457976,
          38.5197402578894,
          39.518125216395084,
          40.26573758341138,
          40.83275873255613,
          41.18658477523143,
          41.22469369429077,
          40.85586910563393,
          40.05543357094583,
          38.87067901751051,
          37.418267805365424,
          35.88701094010592,
          34.523949667302006,
          33.560683980707076,
          33.092446621105864,
          32.997798498538984,
          32.993489280060615,
          32.824504382124154,
          32.46521856627877,
          32.17124166906402,
          32.3228330750773,
          33.164732032576985,
          34.63428229862426,
          36.40148616142452,
          38.07770729683435,
          39.42601512818558,
          40.42531802776256,
          41.17384833579723,
          41.74178742594251,
          42.09653140933227,
          42.135558269051025,
          41.76765162110638,
          40.967216117109714,
          39.7824615943659,
          38.3300504129169,
          36.79879357838816,
          35.43573233626968,
          34.47246665136048,
          34.004229293471425,
          33.90958117259443,
          33.90527195579696,
          33.736287059537396,
          33.377001241910385,
          33.08302434286604,
          33.2346157470662,
          34.0765147028004,
          35.54606496705412,
          37.31326882794655,
          38.989489963121045,
          40.33779779414451,
          41.33710069332999,
          42.085631001042266,
          42.65357009088645,
          43.008314074264256,
          43.047340933997475,
          42.67943428606977,
          41.8789987820337,
          40.69424425935895,
          39.24183307791723,
          37.710576243295314,
          36.34751500119495,
          35.384249316328884,
          34.916011958413016,
          34.82136383753948,
          34.81705462073651,
          34.648069724481786,
          34.28878390683507,
          33.99480700782224,
          34.14639841201019,
          34.9882973677619,
          36.4578476320274,
          38.225051492920755,
          39.90127262807796,
          41.24958045909832,
          42.24888335827509,
          42.99741366598466,
          43.565352755830375,
          43.92009673919536,
          43.95912359894053,
          43.59121695097841,
          42.790781447013536,
          41.60602692427162,
          40.15361574282318,
          38.622358908294125,
          37.25929766618217,
          36.29603198125906,
          35.82779462336296,
          35.733146502479784,
          35.72883728567921,
          35.559852389411844,
          35.20056657179069,
          34.906589672767836,
          35.05818107696294,
          35.9000800327234,
          37.36963029690177,
          39.13683415789497,
          40.81305529304364,
          42.161363123993226,
          43.1606660232202,
          43.90919633095377,
          44.4771354207743,
          44.83187940414081,
          44.87090626388358,
          44.502999615913794,
          43.702564111928766,
          42.51780958918429,
          41.06539840775817,
          39.53414157320128,
          38.171080331098686,
          37.20781464618923,
          36.73957728830456,
          36.644929167398104,
          36.64061995061876,
          36.47163505436344,
          36.112349236715374,
          35.818372337697305,
          35.969963741884605,
          36.81186269761709,
          38.281412961845994,
          40.048616822765716,
          41.72483795792404,
          43.07314578894704,
          44.07244868819435,
          44.82097899586856,
          45.388918085696126,
          45.74366206908625,
          45.782688928830034,
          45.41478228087718,
          44.61434677685275,
          43.4295922541113,
          41.97718107275849,
          40.44592423810845,
          39.0828629960152,
          38.119597311119406,
          37.651359953217096,
          37.556711832343154,
          37.55240261554956,
          37.38341771929348,
          37.02413190164007,
          36.73015500262677,
          36.8817464068286,
          37.72364536256424,
          39.19319562681927,
          40.96039948773993,
          42.63662062288971,
          43.98492845390086,
          44.984231353101265,
          45.732761660810944,
          46.30070075064881,
          46.65544473401823,
          46.69447159377309,
          46.32656494581255,
          45.52612944183259,
          44.341374919104354,
          42.88896373766443,
          41.35770690310726,
          39.994645661002416,
          39.03137997608781,
          38.56314261815868,
          38.46849449728346,
          38.46418528049226,
          38.29520038423788,
          37.935914566564755,
          37.641937667572364,
          37.79352907177259,
          38.63542802752574,
          40.104978291792534,
          41.87218215271414,
          43.548403287846625,
          44.89671111885467,
          45.896014018046365,
          46.64454432575332,
          47.21248341559274,
          47.56722739894933,
          47.60625425871614,
          47.23834761072119,
          46.43791210675657,
          45.25315758401702,
          43.80074640257038,
          42.269489568014414,
          40.90642832592768,
          39.943162641017985,
          39.47492528310863
         ]
        },
        {
         "fill": "tonexty",
         "fillcolor": "rgba(0, 114, 178, 0.2)",
         "hoverinfo": "skip",
         "line": {
          "width": 0
         },
         "mode": "lines",
         "type": "scatter",
         "x": [
          "2024-06-18T00:00:00",
          "2024-06-18T01:00:00",
          "2024-06-18T02:00:00",
          "2024-06-18T03:00:00",
          "2024-06-18T04:00:00",
          "2024-06-18T05:00:00",
          "2024-06-18T06:00:00",
          "2024-06-18T07:00:00",
          "2024-06-18T08:00:00",
          "2024-06-18T09:00:00",
          "2024-06-18T10:00:00",
          "2024-06-18T11:00:00",
          "2024-06-18T12:00:00",
          "2024-06-18T13:00:00",
          "2024-06-18T14:00:00",
          "2024-06-18T15:00:00",
          "2024-06-18T16:00:00",
          "2024-06-18T17:00:00",
          "2024-06-18T18:00:00",
          "2024-06-18T19:00:00",
          "2024-06-18T20:00:00",
          "2024-06-18T21:00:00",
          "2024-06-18T22:00:00",
          "2024-06-18T23:00:00",
          "2024-06-19T00:00:00",
          "2024-06-19T01:00:00",
          "2024-06-19T02:00:00",
          "2024-06-19T03:00:00",
          "2024-06-19T04:00:00",
          "2024-06-19T05:00:00",
          "2024-06-19T06:00:00",
          "2024-06-19T07:00:00",
          "2024-06-19T08:00:00",
          "2024-06-19T09:00:00",
          "2024-06-19T10:00:00",
          "2024-06-19T11:00:00",
          "2024-06-19T12:00:00",
          "2024-06-19T13:00:00",
          "2024-06-19T14:00:00",
          "2024-06-19T15:00:00",
          "2024-06-19T16:00:00",
          "2024-06-19T17:00:00",
          "2024-06-19T18:00:00",
          "2024-06-19T19:00:00",
          "2024-06-19T20:00:00",
          "2024-06-19T21:00:00",
          "2024-06-19T22:00:00",
          "2024-06-19T23:00:00",
          "2024-06-20T00:00:00",
          "2024-06-20T01:00:00",
          "2024-06-20T02:00:00",
          "2024-06-20T03:00:00",
          "2024-06-20T04:00:00",
          "2024-06-20T05:00:00",
          "2024-06-20T06:00:00",
          "2024-06-20T07:00:00",
          "2024-06-20T08:00:00",
          "2024-06-20T09:00:00",
          "2024-06-20T10:00:00",
          "2024-06-20T11:00:00",
          "2024-06-20T12:00:00",
          "2024-06-20T13:00:00",
          "2024-06-20T14:00:00",
          "2024-06-20T15:00:00",
          "2024-06-20T16:00:00",
          "2024-06-20T17:00:00",
          "2024-06-20T18:00:00",
          "2024-06-20T19:00:00",
          "2024-06-20T20:00:00",
          "2024-06-20T21:00:00",
          "2024-06-20T22:00:00",
          "2024-06-20T23:00:00",
          "2024-06-21T00:00:00",
          "2024-06-21T01:00:00",
          "2024-06-21T02:00:00",
          "2024-06-21T03:00:00",
          "2024-06-21T04:00:00",
          "2024-06-21T05:00:00",
          "2024-06-21T06:00:00",
          "2024-06-21T07:00:00",
          "2024-06-21T08:00:00",
          "2024-06-21T09:00:00",
          "2024-06-21T10:00:00",
          "2024-06-21T11:00:00",
          "2024-06-21T12:00:00",
          "2024-06-21T13:00:00",
          "2024-06-21T14:00:00",
          "2024-06-21T15:00:00",
          "2024-06-21T16:00:00",
          "2024-06-21T17:00:00",
          "2024-06-21T18:00:00",
          "2024-06-21T19:00:00",
          "2024-06-21T20:00:00",
          "2024-06-21T21:00:00",
          "2024-06-21T22:00:00",
          "2024-06-21T23:00:00",
          "2024-06-22T00:00:00",
          "2024-06-22T01:00:00",
          "2024-06-22T02:00:00",
          "2024-06-22T03:00:00",
          "2024-06-22T04:00:00",
          "2024-06-22T05:00:00",
          "2024-06-22T06:00:00",
          "2024-06-22T07:00:00",
          "2024-06-22T08:00:00",
          "2024-06-22T09:00:00",
          "2024-06-22T10:00:00",
          "2024-06-22T11:00:00",
          "2024-06-22T12:00:00",
          "2024-06-22T13:00:00",
          "2024-06-22T14:00:00",
          "2024-06-22T15:00:00",
          "2024-06-22T16:00:00",
          "2024-06-22T17:00:00",
          "2024-06-22T18:00:00",
          "2024-06-22T19:00:00",
          "2024-06-22T20:00:00",
          "2024-06-22T21:00:00",
          "2024-06-22T22:00:00",
          "2024-06-22T23:00:00",
          "2024-06-23T00:00:00",
          "2024-06-23T01:00:00",
          "2024-06-23T02:00:00",
          "2024-06-23T03:00:00",
          "2024-06-23T04:00:00",
          "2024-06-23T05:00:00",
          "2024-06-23T06:00:00",
          "2024-06-23T07:00:00",
          "2024-06-23T08:00:00",
          "2024-06-23T09:00:00",
          "2024-06-23T10:00:00",
          "2024-06-23T11:00:00",
          "2024-06-23T12:00:00",
          "2024-06-23T13:00:00",
          "2024-06-23T14:00:00",
          "2024-06-23T15:00:00",
          "2024-06-23T16:00:00",
          "2024-06-23T17:00:00",
          "2024-06-23T18:00:00",
          "2024-06-23T19:00:00",
          "2024-06-23T20:00:00",
          "2024-06-23T21:00:00",
          "2024-06-23T22:00:00",
          "2024-06-23T23:00:00",
          "2024-06-24T00:00:00",
          "2024-06-24T01:00:00",
          "2024-06-24T02:00:00",
          "2024-06-24T03:00:00",
          "2024-06-24T04:00:00",
          "2024-06-24T05:00:00",
          "2024-06-24T06:00:00",
          "2024-06-24T07:00:00",
          "2024-06-24T08:00:00",
          "2024-06-24T09:00:00",
          "2024-06-24T10:00:00",
          "2024-06-24T11:00:00",
          "2024-06-24T12:00:00",
          "2024-06-24T13:00:00",
          "2024-06-24T14:00:00",
          "2024-06-24T15:00:00",
          "2024-06-24T16:00:00",
          "2024-06-24T17:00:00",
          "2024-06-24T18:00:00",
          "2024-06-24T19:00:00",
          "2024-06-24T20:00:00",
          "2024-06-24T21:00:00",
          "2024-06-24T22:00:00",
          "2024-06-24T23:00:00",
          "2024-06-25T00:00:00",
          "2024-06-25T01:00:00",
          "2024-06-25T02:00:00",
          "2024-06-25T03:00:00",
          "2024-06-25T04:00:00",
          "2024-06-25T05:00:00",
          "2024-06-25T06:00:00",
          "2024-06-25T07:00:00",
          "2024-06-25T08:00:00",
          "2024-06-25T09:00:00",
          "2024-06-25T10:00:00",
          "2024-06-25T11:00:00",
          "2024-06-25T12:00:00",
          "2024-06-25T13:00:00",
          "2024-06-25T14:00:00",
          "2024-06-25T15:00:00",
          "2024-06-25T16:00:00",
          "2024-06-25T17:00:00",
          "2024-06-25T18:00:00",
          "2024-06-25T19:00:00",
          "2024-06-25T20:00:00",
          "2024-06-25T21:00:00",
          "2024-06-25T22:00:00",
          "2024-06-25T23:00:00",
          "2024-06-26T00:00:00",
          "2024-06-26T01:00:00",
          "2024-06-26T02:00:00",
          "2024-06-26T03:00:00",
          "2024-06-26T04:00:00",
          "2024-06-26T05:00:00",
          "2024-06-26T06:00:00",
          "2024-06-26T07:00:00",
          "2024-06-26T08:00:00",
          "2024-06-26T09:00:00",
          "2024-06-26T10:00:00",
          "2024-06-26T11:00:00",
          "2024-06-26T12:00:00",
          "2024-06-26T13:00:00",
          "2024-06-26T14:00:00",
          "2024-06-26T15:00:00",
          "2024-06-26T16:00:00",
          "2024-06-26T17:00:00",
          "2024-06-26T18:00:00",
          "2024-06-26T19:00:00",
          "2024-06-26T20:00:00",
          "2024-06-26T21:00:00",
          "2024-06-26T22:00:00",
          "2024-06-26T23:00:00",
          "2024-06-27T00:00:00",
          "2024-06-27T01:00:00",
          "2024-06-27T02:00:00",
          "2024-06-27T03:00:00",
          "2024-06-27T04:00:00",
          "2024-06-27T05:00:00",
          "2024-06-27T06:00:00",
          "2024-06-27T07:00:00",
          "2024-06-27T08:00:00",
          "2024-06-27T09:00:00",
          "2024-06-27T10:00:00",
          "2024-06-27T11:00:00",
          "2024-06-27T12:00:00",
          "2024-06-27T13:00:00",
          "2024-06-27T14:00:00",
          "2024-06-27T15:00:00",
          "2024-06-27T16:00:00",
          "2024-06-27T17:00:00",
          "2024-06-27T18:00:00",
          "2024-06-27T19:00:00",
          "2024-06-27T20:00:00",
          "2024-06-27T21:00:00",
          "2024-06-27T22:00:00",
          "2024-06-27T23:00:00",
          "2024-06-28T00:00:00",
          "2024-06-28T01:00:00",
          "2024-06-28T02:00:00",
          "2024-06-28T03:00:00",
          "2024-06-28T04:00:00",
          "2024-06-28T05:00:00",
          "2024-06-28T06:00:00",
          "2024-06-28T07:00:00",
          "2024-06-28T08:00:00",
          "2024-06-28T09:00:00",
          "2024-06-28T10:00:00",
          "2024-06-28T11:00:00",
          "2024-06-28T12:00:00",
          "2024-06-28T13:00:00",
          "2024-06-28T14:00:00",
          "2024-06-28T15:00:00",
          "2024-06-28T16:00:00",
          "2024-06-28T17:00:00",
          "2024-06-28T18:00:00",
          "2024-06-28T19:00:00",
          "2024-06-28T20:00:00",
          "2024-06-28T21:00:00",
          "2024-06-28T22:00:00",
          "2024-06-28T23:00:00",
          "2024-06-29T00:00:00",
          "2024-06-29T01:00:00",
          "2024-06-29T02:00:00",
          "2024-06-29T03:00:00",
          "2024-06-29T04:00:00",
          "2024-06-29T05:00:00",
          "2024-06-29T06:00:00",
          "2024-06-29T07:00:00",
          "2024-06-29T08:00:00",
          "2024-06-29T09:00:00",
          "2024-06-29T10:00:00",
          "2024-06-29T11:00:00",
          "2024-06-29T12:00:00",
          "2024-06-29T13:00:00",
          "2024-06-29T14:00:00",
          "2024-06-29T15:00:00",
          "2024-06-29T16:00:00",
          "2024-06-29T17:00:00",
          "2024-06-29T18:00:00",
          "2024-06-29T19:00:00",
          "2024-06-29T20:00:00",
          "2024-06-29T21:00:00",
          "2024-06-29T22:00:00",
          "2024-06-29T23:00:00"
         ],
         "y": [
          39.34925550453803,
          38.869620992889,
          38.61715961404076,
          38.25931434205492,
          37.823064230232845,
          37.94051756989824,
          38.71228833433924,
          39.994140990887075,
          41.63149338844818,
          43.083038481892125,
          44.363553967559334,
          45.265307552560145,
          45.96383405552688,
          46.291064146798576,
          46.582286462106,
          46.41096492028642,
          45.9454960890231,
          45.144844432765524,
          43.80656192330401,
          42.26320442642742,
          40.56121210340541,
          39.086991841236504,
          38.187647862236986,
          37.49828326054588,
          37.18895451924745,
          36.83476572846733,
          36.695782945408155,
          36.43220956101698,
          35.812183732254404,
          35.95928441868149,
          36.605531691853784,
          37.890526448282294,
          39.61039316224236,
          41.166934561945624,
          42.405088146333775,
          43.37110059413241,
          43.95762413716619,
          44.33414961475713,
          44.628569595178874,
          44.63089914243649,
          44.0251798248535,
          43.07830514093663,
          41.78699705892153,
          40.080068409367115,
          38.73887921076839,
          37.20920095663435,
          36.01583298553951,
          35.39968672732482,
          35.12711491356753,
          35.165942610183436,
          34.8250376223285,
          34.57250528624379,
          34.001446707589416,
          34.061960245135694,
          34.7857313258078,
          36.25323721565591,
          37.784589902438604,
          39.56388926352866,
          40.78167784676028,
          41.622716254789275,
          42.315118346682794,
          42.85525267254154,
          43.042120385142894,
          43.130391549383525,
          42.629336556984995,
          41.888338579907284,
          40.649542169245024,
          39.04251905944727,
          37.49230546386822,
          36.02710995058803,
          34.86562009400362,
          34.49759884142257,
          34.16910001688291,
          34.22009123340431,
          33.93264434709133,
          33.554933729682645,
          33.24279884244745,
          33.1196030281884,
          33.9530560803781,
          35.38668410166748,
          36.966580956840446,
          38.69942632448555,
          40.11433774065524,
          40.92373533815919,
          41.73551302649783,
          42.117888066060345,
          42.63511497284574,
          42.54855921168669,
          42.23446625040512,
          41.26608765482443,
          40.15294628555317,
          38.740867832394095,
          37.2617152451143,
          35.676911774232444,
          34.794546482617356,
          34.276008184618476,
          34.3095888772102,
          34.306971293785665,
          34.061531339144054,
          33.703130797048736,
          33.30132118641029,
          33.52648188740248,
          34.42876903112461,
          35.88283461201791,
          37.601548738502025,
          39.38194303017355,
          40.54504638199944,
          41.611580929601516,
          42.393167640749965,
          43.02054678420422,
          43.32011183926215,
          43.32105324600482,
          42.958722447486345,
          41.975639582865576,
          40.90077572131999,
          39.42629770914762,
          37.83464663191004,
          36.534398925931974,
          35.62084577381778,
          35.16992454209986,
          35.105244173653055,
          35.01538037135537,
          34.94911367962441,
          34.51369625047188,
          34.22417014286125,
          34.298570674969135,
          35.08963734135155,
          36.78452381266727,
          38.374011989148535,
          40.22744623618207,
          41.592893354470036,
          42.514892544558116,
          43.260542091996335,
          43.82678145568945,
          44.196941387298615,
          44.185531617783916,
          43.90571628369292,
          43.114249381579825,
          41.84522987638673,
          40.434217216168975,
          38.890882528188314,
          37.385264726150425,
          36.451161765449946,
          35.97816002208544,
          35.92943817877102,
          35.99621206006847,
          35.75779794139172,
          35.46666723585412,
          35.01492548875709,
          35.3560955446662,
          36.223104220591445,
          37.545088494294156,
          39.368867566189635,
          40.971366032306484,
          42.432690342167014,
          43.34627069511104,
          44.149966868431214,
          44.713451141771706,
          45.13562263181748,
          45.260191980757064,
          44.86537986464224,
          44.02527476962125,
          42.846149416870794,
          41.130891430909,
          39.76708762072409,
          38.322625304649286,
          37.42820953478437,
          37.048684980572226,
          36.84617528847356,
          36.883275801344794,
          36.57027288906929,
          36.411263676444506,
          36.115442388963764,
          36.14690637565964,
          36.99749988297272,
          38.52385408214126,
          40.14992508203983,
          41.99496439171184,
          43.27334646735086,
          44.36007167101681,
          45.0935945941306,
          45.46935584632433,
          45.89644144326857,
          45.96919287374195,
          45.46225505099037,
          44.77741822060236,
          43.6531035228498,
          42.23135796852458,
          40.61383232851257,
          39.21701681057188,
          38.569197351106716,
          37.89207048487605,
          37.909383693327015,
          37.93016887421528,
          37.62501496504065,
          37.31174912416088,
          37.02564524872084,
          37.164475038330586,
          37.90678831497755,
          39.4724977323034,
          41.36577367067086,
          42.95463580063304,
          44.26838137338298,
          45.24059738950035,
          45.986653294512344,
          46.56844627878004,
          46.98004854681938,
          47.03026830577482,
          46.76225145750519,
          45.9577047878288,
          44.510599009554085,
          43.17263691385496,
          41.51917607652925,
          40.29964082516552,
          39.215977471182484,
          38.96080080820201,
          38.781581530603205,
          38.813102096768546,
          38.757099373766046,
          38.37285939721926,
          38.08911987942928,
          38.039785114687305,
          38.71864037418407,
          40.48476725055592,
          42.36045097239161,
          43.99035591067372,
          45.26124506015379,
          46.30274303059363,
          47.03159206421268,
          47.712075230814506,
          47.9412732029902,
          48.097731217203474,
          47.76479221525386,
          47.127834470070866,
          45.62678226571515,
          44.30781206689649,
          42.88929130622245,
          41.40427397605524,
          40.31822066103206,
          40.0456064386151,
          39.84514019003177,
          40.00192727016319,
          39.773724371565706,
          39.333901973581696,
          38.96536156826757,
          39.37416976502916,
          40.08643689913703,
          41.60357095268778,
          43.32232760038121,
          45.34155217427049,
          46.38522088564878,
          47.619113555815076,
          48.38436527174286,
          48.744527141599825,
          49.049446544886386,
          49.261588493061744,
          48.812462739336986,
          47.983200641313616,
          46.85503826309698,
          45.43259398963865,
          44.04567968272782,
          42.86859848266866,
          41.811273079393764,
          41.240069760475556,
          41.214193550728886,
          41.08858719552275,
          41.098039502260136,
          40.720099662873324,
          40.469826484867404,
          40.76815167880243,
          41.481518329183814,
          42.91802811342589,
          44.880462401160074,
          46.401342258197,
          47.99526595389634,
          48.798592287731296,
          49.57065562271046,
          50.16127395928499,
          50.531901822369825,
          50.65915096793197,
          50.37380958506365,
          49.594374336488,
          48.522771338382796,
          47.03115142940209,
          45.35349774154803,
          43.879039475979326,
          43.05451070241259,
          42.41866527180438
         ]
        }
       ],
       "layout": {
        "height": 600,
        "showlegend": false,
        "template": {
         "data": {
          "bar": [
           {
            "error_x": {
             "color": "#2a3f5f"
            },
            "error_y": {
             "color": "#2a3f5f"
            },
            "marker": {
             "line": {
              "color": "#E5ECF6",
              "width": 0.5
             },
             "pattern": {
              "fillmode": "overlay",
              "size": 10,
              "solidity": 0.2
             }
            },
            "type": "bar"
           }
          ],
          "barpolar": [
           {
            "marker": {
             "line": {
              "color": "#E5ECF6",
              "width": 0.5
             },
             "pattern": {
              "fillmode": "overlay",
              "size": 10,
              "solidity": 0.2
             }
            },
            "type": "barpolar"
           }
          ],
          "carpet": [
           {
            "aaxis": {
             "endlinecolor": "#2a3f5f",
             "gridcolor": "white",
             "linecolor": "white",
             "minorgridcolor": "white",
             "startlinecolor": "#2a3f5f"
            },
            "baxis": {
             "endlinecolor": "#2a3f5f",
             "gridcolor": "white",
             "linecolor": "white",
             "minorgridcolor": "white",
             "startlinecolor": "#2a3f5f"
            },
            "type": "carpet"
           }
          ],
          "choropleth": [
           {
            "colorbar": {
             "outlinewidth": 0,
             "ticks": ""
            },
            "type": "choropleth"
           }
          ],
          "contour": [
           {
            "colorbar": {
             "outlinewidth": 0,
             "ticks": ""
            },
            "colorscale": [
             [
              0,
              "#0d0887"
             ],
             [
              0.1111111111111111,
              "#46039f"
             ],
             [
              0.2222222222222222,
              "#7201a8"
             ],
             [
              0.3333333333333333,
              "#9c179e"
             ],
             [
              0.4444444444444444,
              "#bd3786"
             ],
             [
              0.5555555555555556,
              "#d8576b"
             ],
             [
              0.6666666666666666,
              "#ed7953"
             ],
             [
              0.7777777777777778,
              "#fb9f3a"
             ],
             [
              0.8888888888888888,
              "#fdca26"
             ],
             [
              1,
              "#f0f921"
             ]
            ],
            "type": "contour"
           }
          ],
          "contourcarpet": [
           {
            "colorbar": {
             "outlinewidth": 0,
             "ticks": ""
            },
            "type": "contourcarpet"
           }
          ],
          "heatmap": [
           {
            "colorbar": {
             "outlinewidth": 0,
             "ticks": ""
            },
            "colorscale": [
             [
              0,
              "#0d0887"
             ],
             [
              0.1111111111111111,
              "#46039f"
             ],
             [
              0.2222222222222222,
              "#7201a8"
             ],
             [
              0.3333333333333333,
              "#9c179e"
             ],
             [
              0.4444444444444444,
              "#bd3786"
             ],
             [
              0.5555555555555556,
              "#d8576b"
             ],
             [
              0.6666666666666666,
              "#ed7953"
             ],
             [
              0.7777777777777778,
              "#fb9f3a"
             ],
             [
              0.8888888888888888,
              "#fdca26"
             ],
             [
              1,
              "#f0f921"
             ]
            ],
            "type": "heatmap"
           }
          ],
          "heatmapgl": [
           {
            "colorbar": {
             "outlinewidth": 0,
             "ticks": ""
            },
            "colorscale": [
             [
              0,
              "#0d0887"
             ],
             [
              0.1111111111111111,
              "#46039f"
             ],
             [
              0.2222222222222222,
              "#7201a8"
             ],
             [
              0.3333333333333333,
              "#9c179e"
             ],
             [
              0.4444444444444444,
              "#bd3786"
             ],
             [
              0.5555555555555556,
              "#d8576b"
             ],
             [
              0.6666666666666666,
              "#ed7953"
             ],
             [
              0.7777777777777778,
              "#fb9f3a"
             ],
             [
              0.8888888888888888,
              "#fdca26"
             ],
             [
              1,
              "#f0f921"
             ]
            ],
            "type": "heatmapgl"
           }
          ],
          "histogram": [
           {
            "marker": {
             "pattern": {
              "fillmode": "overlay",
              "size": 10,
              "solidity": 0.2
             }
            },
            "type": "histogram"
           }
          ],
          "histogram2d": [
           {
            "colorbar": {
             "outlinewidth": 0,
             "ticks": ""
            },
            "colorscale": [
             [
              0,
              "#0d0887"
             ],
             [
              0.1111111111111111,
              "#46039f"
             ],
             [
              0.2222222222222222,
              "#7201a8"
             ],
             [
              0.3333333333333333,
              "#9c179e"
             ],
             [
              0.4444444444444444,
              "#bd3786"
             ],
             [
              0.5555555555555556,
              "#d8576b"
             ],
             [
              0.6666666666666666,
              "#ed7953"
             ],
             [
              0.7777777777777778,
              "#fb9f3a"
             ],
             [
              0.8888888888888888,
              "#fdca26"
             ],
             [
              1,
              "#f0f921"
             ]
            ],
            "type": "histogram2d"
           }
          ],
          "histogram2dcontour": [
           {
            "colorbar": {
             "outlinewidth": 0,
             "ticks": ""
            },
            "colorscale": [
             [
              0,
              "#0d0887"
             ],
             [
              0.1111111111111111,
              "#46039f"
             ],
             [
              0.2222222222222222,
              "#7201a8"
             ],
             [
              0.3333333333333333,
              "#9c179e"
             ],
             [
              0.4444444444444444,
              "#bd3786"
             ],
             [
              0.5555555555555556,
              "#d8576b"
             ],
             [
              0.6666666666666666,
              "#ed7953"
             ],
             [
              0.7777777777777778,
              "#fb9f3a"
             ],
             [
              0.8888888888888888,
              "#fdca26"
             ],
             [
              1,
              "#f0f921"
             ]
            ],
            "type": "histogram2dcontour"
           }
          ],
          "mesh3d": [
           {
            "colorbar": {
             "outlinewidth": 0,
             "ticks": ""
            },
            "type": "mesh3d"
           }
          ],
          "parcoords": [
           {
            "line": {
             "colorbar": {
              "outlinewidth": 0,
              "ticks": ""
             }
            },
            "type": "parcoords"
           }
          ],
          "pie": [
           {
            "automargin": true,
            "type": "pie"
           }
          ],
          "scatter": [
           {
            "fillpattern": {
             "fillmode": "overlay",
             "size": 10,
             "solidity": 0.2
            },
            "type": "scatter"
           }
          ],
          "scatter3d": [
           {
            "line": {
             "colorbar": {
              "outlinewidth": 0,
              "ticks": ""
             }
            },
            "marker": {
             "colorbar": {
              "outlinewidth": 0,
              "ticks": ""
             }
            },
            "type": "scatter3d"
           }
          ],
          "scattercarpet": [
           {
            "marker": {
             "colorbar": {
              "outlinewidth": 0,
              "ticks": ""
             }
            },
            "type": "scattercarpet"
           }
          ],
          "scattergeo": [
           {
            "marker": {
             "colorbar": {
              "outlinewidth": 0,
              "ticks": ""
             }
            },
            "type": "scattergeo"
           }
          ],
          "scattergl": [
           {
            "marker": {
             "colorbar": {
              "outlinewidth": 0,
              "ticks": ""
             }
            },
            "type": "scattergl"
           }
          ],
          "scattermapbox": [
           {
            "marker": {
             "colorbar": {
              "outlinewidth": 0,
              "ticks": ""
             }
            },
            "type": "scattermapbox"
           }
          ],
          "scatterpolar": [
           {
            "marker": {
             "colorbar": {
              "outlinewidth": 0,
              "ticks": ""
             }
            },
            "type": "scatterpolar"
           }
          ],
          "scatterpolargl": [
           {
            "marker": {
             "colorbar": {
              "outlinewidth": 0,
              "ticks": ""
             }
            },
            "type": "scatterpolargl"
           }
          ],
          "scatterternary": [
           {
            "marker": {
             "colorbar": {
              "outlinewidth": 0,
              "ticks": ""
             }
            },
            "type": "scatterternary"
           }
          ],
          "surface": [
           {
            "colorbar": {
             "outlinewidth": 0,
             "ticks": ""
            },
            "colorscale": [
             [
              0,
              "#0d0887"
             ],
             [
              0.1111111111111111,
              "#46039f"
             ],
             [
              0.2222222222222222,
              "#7201a8"
             ],
             [
              0.3333333333333333,
              "#9c179e"
             ],
             [
              0.4444444444444444,
              "#bd3786"
             ],
             [
              0.5555555555555556,
              "#d8576b"
             ],
             [
              0.6666666666666666,
              "#ed7953"
             ],
             [
              0.7777777777777778,
              "#fb9f3a"
             ],
             [
              0.8888888888888888,
              "#fdca26"
             ],
             [
              1,
              "#f0f921"
             ]
            ],
            "type": "surface"
           }
          ],
          "table": [
           {
            "cells": {
             "fill": {
              "color": "#EBF0F8"
             },
             "line": {
              "color": "white"
             }
            },
            "header": {
             "fill": {
              "color": "#C8D4E3"
             },
             "line": {
              "color": "white"
             }
            },
            "type": "table"
           }
          ]
         },
         "layout": {
          "annotationdefaults": {
           "arrowcolor": "#2a3f5f",
           "arrowhead": 0,
           "arrowwidth": 1
          },
          "autotypenumbers": "strict",
          "coloraxis": {
           "colorbar": {
            "outlinewidth": 0,
            "ticks": ""
           }
          },
          "colorscale": {
           "diverging": [
            [
             0,
             "#8e0152"
            ],
            [
             0.1,
             "#c51b7d"
            ],
            [
             0.2,
             "#de77ae"
            ],
            [
             0.3,
             "#f1b6da"
            ],
            [
             0.4,
             "#fde0ef"
            ],
            [
             0.5,
             "#f7f7f7"
            ],
            [
             0.6,
             "#e6f5d0"
            ],
            [
             0.7,
             "#b8e186"
            ],
            [
             0.8,
             "#7fbc41"
            ],
            [
             0.9,
             "#4d9221"
            ],
            [
             1,
             "#276419"
            ]
           ],
           "sequential": [
            [
             0,
             "#0d0887"
            ],
            [
             0.1111111111111111,
             "#46039f"
            ],
            [
             0.2222222222222222,
             "#7201a8"
            ],
            [
             0.3333333333333333,
             "#9c179e"
            ],
            [
             0.4444444444444444,
             "#bd3786"
            ],
            [
             0.5555555555555556,
             "#d8576b"
            ],
            [
             0.6666666666666666,
             "#ed7953"
            ],
            [
             0.7777777777777778,
             "#fb9f3a"
            ],
            [
             0.8888888888888888,
             "#fdca26"
            ],
            [
             1,
             "#f0f921"
            ]
           ],
           "sequentialminus": [
            [
             0,
             "#0d0887"
            ],
            [
             0.1111111111111111,
             "#46039f"
            ],
            [
             0.2222222222222222,
             "#7201a8"
            ],
            [
             0.3333333333333333,
             "#9c179e"
            ],
            [
             0.4444444444444444,
             "#bd3786"
            ],
            [
             0.5555555555555556,
             "#d8576b"
            ],
            [
             0.6666666666666666,
             "#ed7953"
            ],
            [
             0.7777777777777778,
             "#fb9f3a"
            ],
            [
             0.8888888888888888,
             "#fdca26"
            ],
            [
             1,
             "#f0f921"
            ]
           ]
          },
          "colorway": [
           "#636efa",
           "#EF553B",
           "#00cc96",
           "#ab63fa",
           "#FFA15A",
           "#19d3f3",
           "#FF6692",
           "#B6E880",
           "#FF97FF",
           "#FECB52"
          ],
          "font": {
           "color": "#2a3f5f"
          },
          "geo": {
           "bgcolor": "white",
           "lakecolor": "white",
           "landcolor": "#E5ECF6",
           "showlakes": true,
           "showland": true,
           "subunitcolor": "white"
          },
          "hoverlabel": {
           "align": "left"
          },
          "hovermode": "closest",
          "mapbox": {
           "style": "light"
          },
          "paper_bgcolor": "white",
          "plot_bgcolor": "#E5ECF6",
          "polar": {
           "angularaxis": {
            "gridcolor": "white",
            "linecolor": "white",
            "ticks": ""
           },
           "bgcolor": "#E5ECF6",
           "radialaxis": {
            "gridcolor": "white",
            "linecolor": "white",
            "ticks": ""
           }
          },
          "scene": {
           "xaxis": {
            "backgroundcolor": "#E5ECF6",
            "gridcolor": "white",
            "gridwidth": 2,
            "linecolor": "white",
            "showbackground": true,
            "ticks": "",
            "zerolinecolor": "white"
           },
           "yaxis": {
            "backgroundcolor": "#E5ECF6",
            "gridcolor": "white",
            "gridwidth": 2,
            "linecolor": "white",
            "showbackground": true,
            "ticks": "",
            "zerolinecolor": "white"
           },
           "zaxis": {
            "backgroundcolor": "#E5ECF6",
            "gridcolor": "white",
            "gridwidth": 2,
            "linecolor": "white",
            "showbackground": true,
            "ticks": "",
            "zerolinecolor": "white"
           }
          },
          "shapedefaults": {
           "line": {
            "color": "#2a3f5f"
           }
          },
          "ternary": {
           "aaxis": {
            "gridcolor": "white",
            "linecolor": "white",
            "ticks": ""
           },
           "baxis": {
            "gridcolor": "white",
            "linecolor": "white",
            "ticks": ""
           },
           "bgcolor": "#E5ECF6",
           "caxis": {
            "gridcolor": "white",
            "linecolor": "white",
            "ticks": ""
           }
          },
          "title": {
           "x": 0.05
          },
          "xaxis": {
           "automargin": true,
           "gridcolor": "white",
           "linecolor": "white",
           "ticks": "",
           "title": {
            "standoff": 15
           },
           "zerolinecolor": "white",
           "zerolinewidth": 2
          },
          "yaxis": {
           "automargin": true,
           "gridcolor": "white",
           "linecolor": "white",
           "ticks": "",
           "title": {
            "standoff": 15
           },
           "zerolinecolor": "white",
           "zerolinewidth": 2
          }
         }
        },
        "width": 900,
        "xaxis": {
         "rangeselector": {
          "buttons": [
           {
            "count": 7,
            "label": "1w",
            "step": "day",
            "stepmode": "backward"
           },
           {
            "count": 1,
            "label": "1m",
            "step": "month",
            "stepmode": "backward"
           },
           {
            "count": 6,
            "label": "6m",
            "step": "month",
            "stepmode": "backward"
           },
           {
            "count": 1,
            "label": "1y",
            "step": "year",
            "stepmode": "backward"
           },
           {
            "step": "all"
           }
          ]
         },
         "rangeslider": {
          "visible": true
         },
         "title": {
          "text": "ds"
         },
         "type": "date"
        },
        "yaxis": {
         "title": {
          "text": "y"
         }
        }
       }
      }
     },
     "metadata": {},
     "output_type": "display_data"
    }
   ],
   "source": [
    "from prophet.plot import plot_plotly\n",
    "plot_plotly(m,forecast)"
   ]
  },
  {
   "cell_type": "code",
   "execution_count": 66,
   "metadata": {},
   "outputs": [
    {
     "data": {
      "text/html": [
       "<div>\n",
       "<style scoped>\n",
       "    .dataframe tbody tr th:only-of-type {\n",
       "        vertical-align: middle;\n",
       "    }\n",
       "\n",
       "    .dataframe tbody tr th {\n",
       "        vertical-align: top;\n",
       "    }\n",
       "\n",
       "    .dataframe thead th {\n",
       "        text-align: right;\n",
       "    }\n",
       "</style>\n",
       "<table border=\"1\" class=\"dataframe\">\n",
       "  <thead>\n",
       "    <tr style=\"text-align: right;\">\n",
       "      <th></th>\n",
       "      <th>ds</th>\n",
       "      <th>yhat</th>\n",
       "      <th>yhat_lower</th>\n",
       "      <th>yhat_upper</th>\n",
       "    </tr>\n",
       "  </thead>\n",
       "  <tbody>\n",
       "    <tr>\n",
       "      <th>283</th>\n",
       "      <td>2024-06-29 19:00:00</td>\n",
       "      <td>43.800746</td>\n",
       "      <td>40.674318</td>\n",
       "      <td>47.031151</td>\n",
       "    </tr>\n",
       "    <tr>\n",
       "      <th>284</th>\n",
       "      <td>2024-06-29 20:00:00</td>\n",
       "      <td>42.269490</td>\n",
       "      <td>39.221681</td>\n",
       "      <td>45.353498</td>\n",
       "    </tr>\n",
       "    <tr>\n",
       "      <th>285</th>\n",
       "      <td>2024-06-29 21:00:00</td>\n",
       "      <td>40.906428</td>\n",
       "      <td>37.743039</td>\n",
       "      <td>43.879039</td>\n",
       "    </tr>\n",
       "    <tr>\n",
       "      <th>286</th>\n",
       "      <td>2024-06-29 22:00:00</td>\n",
       "      <td>39.943163</td>\n",
       "      <td>36.711589</td>\n",
       "      <td>43.054511</td>\n",
       "    </tr>\n",
       "    <tr>\n",
       "      <th>287</th>\n",
       "      <td>2024-06-29 23:00:00</td>\n",
       "      <td>39.474925</td>\n",
       "      <td>36.158687</td>\n",
       "      <td>42.418665</td>\n",
       "    </tr>\n",
       "  </tbody>\n",
       "</table>\n",
       "</div>"
      ],
      "text/plain": [
       "                     ds       yhat  yhat_lower  yhat_upper\n",
       "283 2024-06-29 19:00:00  43.800746   40.674318   47.031151\n",
       "284 2024-06-29 20:00:00  42.269490   39.221681   45.353498\n",
       "285 2024-06-29 21:00:00  40.906428   37.743039   43.879039\n",
       "286 2024-06-29 22:00:00  39.943163   36.711589   43.054511\n",
       "287 2024-06-29 23:00:00  39.474925   36.158687   42.418665"
      ]
     },
     "execution_count": 66,
     "metadata": {},
     "output_type": "execute_result"
    }
   ],
   "source": [
    "forecast[['ds','yhat','yhat_lower','yhat_upper']].tail()\n"
   ]
  },
  {
   "cell_type": "code",
   "execution_count": 67,
   "metadata": {},
   "outputs": [
    {
     "name": "stderr",
     "output_type": "stream",
     "text": [
      "c:\\Users\\shree\\anaconda3\\Lib\\site-packages\\prophet\\plot.py:228: FutureWarning:\n",
      "\n",
      "The behavior of DatetimeProperties.to_pydatetime is deprecated, in a future version this will return a Series containing python datetime objects instead of an ndarray. To retain the old behavior, call `np.array` on the result\n",
      "\n",
      "c:\\Users\\shree\\anaconda3\\Lib\\site-packages\\prophet\\plot.py:397: FutureWarning:\n",
      "\n",
      "The behavior of DatetimeProperties.to_pydatetime is deprecated, in a future version this will return a Series containing python datetime objects instead of an ndarray. To retain the old behavior, call `np.array` on the result\n",
      "\n",
      "c:\\Users\\shree\\anaconda3\\Lib\\site-packages\\prophet\\plot.py:401: FutureWarning:\n",
      "\n",
      "The behavior of DatetimeProperties.to_pydatetime is deprecated, in a future version this will return a Series containing python datetime objects instead of an ndarray. To retain the old behavior, call `np.array` on the result\n",
      "\n"
     ]
    },
    {
     "data": {
      "image/png": "[encoded data removed]",
      "text/plain": [
       "<Figure size 900x600 with 2 Axes>"
      ]
     },
     "metadata": {},
     "output_type": "display_data"
    }
   ],
   "source": [
    "fig_2 = m.plot_components(forecast)"
   ]
  },
  {
   "cell_type": "code",
   "execution_count": 68,
   "metadata": {},
   "outputs": [],
   "source": [
    "import pickle\n",
    "with open('prophet.pkl','wb') as files:\n",
    "    pickle.dump(m, files)\n"
   ]
  },
  {
   "cell_type": "code",
   "execution_count": 73,
   "metadata": {},
   "outputs": [
    {
     "name": "stdout",
     "output_type": "stream",
     "text": [
      "Predicted temperature for 2024-06-27 04:00 is: 36.64\n"
     ]
    }
   ],
   "source": [
    "from prophet import Prophet\n",
    "from datetime import datetime\n",
    "\n",
    "\n",
    "user_date_str = input(\"Enter the date and time you want to predict in YYYY-MM-DD HH:MM format (e.g., 2025-12-31 15:00:00): \")\n",
    "\n",
    "try:\n",
    "  user_date_time = datetime.strptime(user_date_str, \"%Y-%m-%d %H:%M\")\n",
    "except ValueError:\n",
    "  print(\"Invalid date and time format. Please enter YYYY-MM-DD HH:MM.\")\n",
    "  exit()\n",
    "\n",
    "user_date = user_date_time.date()\n",
    "\n",
    "future_date = pd.DataFrame({'ds': [user_date]})\n",
    "\n",
    "\n",
    "one_day_forecast = m.predict(future_date)\n",
    "predicted_temp = one_day_forecast[\"yhat\"].values[0]\n",
    "\n",
    "print(f\"Predicted temperature for {user_date_str} is: {predicted_temp:.2f}\")\n"
   ]
  },
  {
   "cell_type": "code",
   "execution_count": null,
   "metadata": {},
   "outputs": [],
   "source": []
  }
 ],
 "metadata": {
  "kernelspec": {
   "display_name": "base",
   "language": "python",
   "name": "python3"
  },
  "language_info": {
   "codemirror_mode": {
    "name": "ipython",
    "version": 3
   },
   "file_extension": ".py",
   "mimetype": "text/x-python",
   "name": "python",
   "nbconvert_exporter": "python",
   "pygments_lexer": "ipython3",
   "version": "3.11.7"
  }
 },
 "nbformat": 4,
 "nbformat_minor": 2
}
