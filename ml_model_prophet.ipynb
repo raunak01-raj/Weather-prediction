{
 "cells": [
  {
   "cell_type": "code",
   "execution_count": 1,
   "metadata": {},
   "outputs": [],
   "source": [
    "import numpy as np\n",
    "import matplotlib.pyplot as plt\n",
    "import matplotlib as mpl\n",
    "import pandas as pd\n",
    "from datetime import datetime\n",
    "import plotly.express as px"
   ]
  },
  {
   "cell_type": "code",
   "execution_count": 2,
   "metadata": {},
   "outputs": [
    {
     "name": "stdout",
     "output_type": "stream",
     "text": [
      "Error fetching data for 2024-06-13 00:00:00: 400 - {\"error\":{\"code\":1008,\"message\":\"API key is limited to get history data. Please check our pricing page and upgrade to higher plan.\"}}\n",
      "Historic weather data of Patna saved to historic_weather_data.csv\n"
     ]
    }
   ],
   "source": [
    "'''import requests\n",
    "import csv\n",
    "from datetime import datetime, timedelta\n",
    "\n",
    "# Replace with your API key\n",
    "API_KEY = \" 56cdd10fcb5c468cbb4193934241803\"\n",
    "\n",
    "# Set the location and date range for historic weather data\n",
    "location = input('enter location')\n",
    "start_date = datetime(2024, 6, 13)  # Start date (YYYY, MM, DD)\n",
    "end_date = datetime(2024, 6, 19)   # End date (YYYY, MM, DD)\n",
    "\n",
    "# Set the base URL and parameters for the API request\n",
    "base_url = \"http://api.weatherapi.com/v1/history.json\"\n",
    "params = {\n",
    "    \"key\": API_KEY,\n",
    "    \"q\": location,\n",
    "    \"dt\": start_date.strftime(\"%Y-%m-%d\")\n",
    "}\n",
    "\n",
    "# Initialize an empty list to store weather data\n",
    "weather_data = []\n",
    "\n",
    "# Loop through the date range and fetch weather data for each day\n",
    "current_date = start_date\n",
    "while current_date <= end_date:\n",
    "    params[\"dt\"] = current_date.strftime(\"%Y-%m-%d\")\n",
    "    response = requests.get(base_url, params=params)\n",
    "    \n",
    "    if response.status_code == 200:\n",
    "        data = response.json()\n",
    "        for forecast in data[\"forecast\"][\"forecastday\"]:\n",
    "            for hour in forecast[\"hour\"]:\n",
    "                weather_data.append({\n",
    "                    \"Date\": hour[\"time\"].split(\" \")[0],\n",
    "                    \"Time\": hour[\"time\"].split(\" \")[1],\n",
    "                    \"Temperature (C)\": hour[\"temp_c\"],\n",
    "                    \"Humidity\": hour[\"humidity\"],\n",
    "                    \"Wind Speed (km/h)\": hour[\"wind_kph\"],\n",
    "                    \"Precipitation (mm)\": hour[\"precip_mm\"]\n",
    "                })\n",
    "    else:\n",
    "        print(f\"Error fetching data for {current_date}: {response.status_code} - {response.text}\")\n",
    "    \n",
    "    current_date += timedelta(days=1)\n",
    "\n",
    "# Save weather data to a CSV file\n",
    "with open(\"historic_weather_data.csv\", \"w\", newline=\"\") as csvfile:\n",
    "    fieldnames = [\"Date\", \"Time\", \"Temperature (C)\", \"Humidity\", \"Wind Speed (km/h)\", \"Precipitation (mm)\"]\n",
    "    writer = csv.DictWriter(csvfile, fieldnames=fieldnames)\n",
    "    \n",
    "    writer.writeheader()\n",
    "    for data in weather_data:\n",
    "        writer.writerow(data)\n",
    "\n",
    "print(f\"Historic weather data of {location} saved to historic_weather_data.csv\")'''"
   ]
  },
  {
   "cell_type": "code",
   "execution_count": 3,
   "metadata": {},
   "outputs": [
    {
     "data": {
      "text/html": [
       "<div>\n",
       "<style scoped>\n",
       "    .dataframe tbody tr th:only-of-type {\n",
       "        vertical-align: middle;\n",
       "    }\n",
       "\n",
       "    .dataframe tbody tr th {\n",
       "        vertical-align: top;\n",
       "    }\n",
       "\n",
       "    .dataframe thead th {\n",
       "        text-align: right;\n",
       "    }\n",
       "</style>\n",
       "<table border=\"1\" class=\"dataframe\">\n",
       "  <thead>\n",
       "    <tr style=\"text-align: right;\">\n",
       "      <th></th>\n",
       "      <th>Date</th>\n",
       "      <th>Time</th>\n",
       "      <th>Temperature (C)</th>\n",
       "      <th>Humidity</th>\n",
       "      <th>Wind Speed (km/h)</th>\n",
       "      <th>Precipitation (mm)</th>\n",
       "    </tr>\n",
       "  </thead>\n",
       "  <tbody>\n",
       "    <tr>\n",
       "      <th>0</th>\n",
       "      <td>2024-06-14</td>\n",
       "      <td>00:00</td>\n",
       "      <td>33.3</td>\n",
       "      <td>58</td>\n",
       "      <td>24.5</td>\n",
       "      <td>0.00</td>\n",
       "    </tr>\n",
       "    <tr>\n",
       "      <th>1</th>\n",
       "      <td>2024-06-14</td>\n",
       "      <td>01:00</td>\n",
       "      <td>33.1</td>\n",
       "      <td>59</td>\n",
       "      <td>22.7</td>\n",
       "      <td>0.00</td>\n",
       "    </tr>\n",
       "    <tr>\n",
       "      <th>2</th>\n",
       "      <td>2024-06-14</td>\n",
       "      <td>02:00</td>\n",
       "      <td>33.4</td>\n",
       "      <td>57</td>\n",
       "      <td>20.5</td>\n",
       "      <td>0.00</td>\n",
       "    </tr>\n",
       "    <tr>\n",
       "      <th>3</th>\n",
       "      <td>2024-06-14</td>\n",
       "      <td>03:00</td>\n",
       "      <td>33.3</td>\n",
       "      <td>58</td>\n",
       "      <td>20.2</td>\n",
       "      <td>0.00</td>\n",
       "    </tr>\n",
       "    <tr>\n",
       "      <th>4</th>\n",
       "      <td>2024-06-14</td>\n",
       "      <td>04:00</td>\n",
       "      <td>32.5</td>\n",
       "      <td>61</td>\n",
       "      <td>14.8</td>\n",
       "      <td>0.00</td>\n",
       "    </tr>\n",
       "    <tr>\n",
       "      <th>...</th>\n",
       "      <td>...</td>\n",
       "      <td>...</td>\n",
       "      <td>...</td>\n",
       "      <td>...</td>\n",
       "      <td>...</td>\n",
       "      <td>...</td>\n",
       "    </tr>\n",
       "    <tr>\n",
       "      <th>139</th>\n",
       "      <td>2024-06-19</td>\n",
       "      <td>19:00</td>\n",
       "      <td>38.6</td>\n",
       "      <td>30</td>\n",
       "      <td>3.2</td>\n",
       "      <td>0.12</td>\n",
       "    </tr>\n",
       "    <tr>\n",
       "      <th>140</th>\n",
       "      <td>2024-06-19</td>\n",
       "      <td>20:00</td>\n",
       "      <td>35.6</td>\n",
       "      <td>47</td>\n",
       "      <td>25.9</td>\n",
       "      <td>0.00</td>\n",
       "    </tr>\n",
       "    <tr>\n",
       "      <th>141</th>\n",
       "      <td>2024-06-19</td>\n",
       "      <td>21:00</td>\n",
       "      <td>33.2</td>\n",
       "      <td>60</td>\n",
       "      <td>27.0</td>\n",
       "      <td>0.00</td>\n",
       "    </tr>\n",
       "    <tr>\n",
       "      <th>142</th>\n",
       "      <td>2024-06-19</td>\n",
       "      <td>22:00</td>\n",
       "      <td>32.6</td>\n",
       "      <td>62</td>\n",
       "      <td>25.9</td>\n",
       "      <td>0.00</td>\n",
       "    </tr>\n",
       "    <tr>\n",
       "      <th>143</th>\n",
       "      <td>2024-06-19</td>\n",
       "      <td>23:00</td>\n",
       "      <td>32.4</td>\n",
       "      <td>63</td>\n",
       "      <td>21.6</td>\n",
       "      <td>0.00</td>\n",
       "    </tr>\n",
       "  </tbody>\n",
       "</table>\n",
       "<p>144 rows × 6 columns</p>\n",
       "</div>"
      ],
      "text/plain": [
       "           Date   Time  Temperature (C)  Humidity  Wind Speed (km/h)  \\\n",
       "0    2024-06-14  00:00             33.3        58               24.5   \n",
       "1    2024-06-14  01:00             33.1        59               22.7   \n",
       "2    2024-06-14  02:00             33.4        57               20.5   \n",
       "3    2024-06-14  03:00             33.3        58               20.2   \n",
       "4    2024-06-14  04:00             32.5        61               14.8   \n",
       "..          ...    ...              ...       ...                ...   \n",
       "139  2024-06-19  19:00             38.6        30                3.2   \n",
       "140  2024-06-19  20:00             35.6        47               25.9   \n",
       "141  2024-06-19  21:00             33.2        60               27.0   \n",
       "142  2024-06-19  22:00             32.6        62               25.9   \n",
       "143  2024-06-19  23:00             32.4        63               21.6   \n",
       "\n",
       "     Precipitation (mm)  \n",
       "0                  0.00  \n",
       "1                  0.00  \n",
       "2                  0.00  \n",
       "3                  0.00  \n",
       "4                  0.00  \n",
       "..                  ...  \n",
       "139                0.12  \n",
       "140                0.00  \n",
       "141                0.00  \n",
       "142                0.00  \n",
       "143                0.00  \n",
       "\n",
       "[144 rows x 6 columns]"
      ]
     },
     "execution_count": 3,
     "metadata": {},
     "output_type": "execute_result"
    }
   ],
   "source": [
    "weather01 = pd.read_csv('historic_weather_data.csv')\n",
    "weather01"
   ]
  },
  {
   "cell_type": "code",
   "execution_count": 4,
   "metadata": {},
   "outputs": [
    {
     "data": {
      "text/html": [
       "<div>\n",
       "<style scoped>\n",
       "    .dataframe tbody tr th:only-of-type {\n",
       "        vertical-align: middle;\n",
       "    }\n",
       "\n",
       "    .dataframe tbody tr th {\n",
       "        vertical-align: top;\n",
       "    }\n",
       "\n",
       "    .dataframe thead th {\n",
       "        text-align: right;\n",
       "    }\n",
       "</style>\n",
       "<table border=\"1\" class=\"dataframe\">\n",
       "  <thead>\n",
       "    <tr style=\"text-align: right;\">\n",
       "      <th></th>\n",
       "      <th>Temperature (C)</th>\n",
       "      <th>Humidity</th>\n",
       "      <th>Wind Speed (km/h)</th>\n",
       "      <th>Precipitation (mm)</th>\n",
       "      <th>datetime</th>\n",
       "    </tr>\n",
       "  </thead>\n",
       "  <tbody>\n",
       "    <tr>\n",
       "      <th>0</th>\n",
       "      <td>33.3</td>\n",
       "      <td>58</td>\n",
       "      <td>24.5</td>\n",
       "      <td>0.00</td>\n",
       "      <td>2024-06-14 00:00:00</td>\n",
       "    </tr>\n",
       "    <tr>\n",
       "      <th>1</th>\n",
       "      <td>33.1</td>\n",
       "      <td>59</td>\n",
       "      <td>22.7</td>\n",
       "      <td>0.00</td>\n",
       "      <td>2024-06-14 01:00:00</td>\n",
       "    </tr>\n",
       "    <tr>\n",
       "      <th>2</th>\n",
       "      <td>33.4</td>\n",
       "      <td>57</td>\n",
       "      <td>20.5</td>\n",
       "      <td>0.00</td>\n",
       "      <td>2024-06-14 02:00:00</td>\n",
       "    </tr>\n",
       "    <tr>\n",
       "      <th>3</th>\n",
       "      <td>33.3</td>\n",
       "      <td>58</td>\n",
       "      <td>20.2</td>\n",
       "      <td>0.00</td>\n",
       "      <td>2024-06-14 03:00:00</td>\n",
       "    </tr>\n",
       "    <tr>\n",
       "      <th>4</th>\n",
       "      <td>32.5</td>\n",
       "      <td>61</td>\n",
       "      <td>14.8</td>\n",
       "      <td>0.00</td>\n",
       "      <td>2024-06-14 04:00:00</td>\n",
       "    </tr>\n",
       "    <tr>\n",
       "      <th>...</th>\n",
       "      <td>...</td>\n",
       "      <td>...</td>\n",
       "      <td>...</td>\n",
       "      <td>...</td>\n",
       "      <td>...</td>\n",
       "    </tr>\n",
       "    <tr>\n",
       "      <th>139</th>\n",
       "      <td>38.6</td>\n",
       "      <td>30</td>\n",
       "      <td>3.2</td>\n",
       "      <td>0.12</td>\n",
       "      <td>2024-06-19 19:00:00</td>\n",
       "    </tr>\n",
       "    <tr>\n",
       "      <th>140</th>\n",
       "      <td>35.6</td>\n",
       "      <td>47</td>\n",
       "      <td>25.9</td>\n",
       "      <td>0.00</td>\n",
       "      <td>2024-06-19 20:00:00</td>\n",
       "    </tr>\n",
       "    <tr>\n",
       "      <th>141</th>\n",
       "      <td>33.2</td>\n",
       "      <td>60</td>\n",
       "      <td>27.0</td>\n",
       "      <td>0.00</td>\n",
       "      <td>2024-06-19 21:00:00</td>\n",
       "    </tr>\n",
       "    <tr>\n",
       "      <th>142</th>\n",
       "      <td>32.6</td>\n",
       "      <td>62</td>\n",
       "      <td>25.9</td>\n",
       "      <td>0.00</td>\n",
       "      <td>2024-06-19 22:00:00</td>\n",
       "    </tr>\n",
       "    <tr>\n",
       "      <th>143</th>\n",
       "      <td>32.4</td>\n",
       "      <td>63</td>\n",
       "      <td>21.6</td>\n",
       "      <td>0.00</td>\n",
       "      <td>2024-06-19 23:00:00</td>\n",
       "    </tr>\n",
       "  </tbody>\n",
       "</table>\n",
       "<p>144 rows × 5 columns</p>\n",
       "</div>"
      ],
      "text/plain": [
       "     Temperature (C)  Humidity  Wind Speed (km/h)  Precipitation (mm)  \\\n",
       "0               33.3        58               24.5                0.00   \n",
       "1               33.1        59               22.7                0.00   \n",
       "2               33.4        57               20.5                0.00   \n",
       "3               33.3        58               20.2                0.00   \n",
       "4               32.5        61               14.8                0.00   \n",
       "..               ...       ...                ...                 ...   \n",
       "139             38.6        30                3.2                0.12   \n",
       "140             35.6        47               25.9                0.00   \n",
       "141             33.2        60               27.0                0.00   \n",
       "142             32.6        62               25.9                0.00   \n",
       "143             32.4        63               21.6                0.00   \n",
       "\n",
       "               datetime  \n",
       "0   2024-06-14 00:00:00  \n",
       "1   2024-06-14 01:00:00  \n",
       "2   2024-06-14 02:00:00  \n",
       "3   2024-06-14 03:00:00  \n",
       "4   2024-06-14 04:00:00  \n",
       "..                  ...  \n",
       "139 2024-06-19 19:00:00  \n",
       "140 2024-06-19 20:00:00  \n",
       "141 2024-06-19 21:00:00  \n",
       "142 2024-06-19 22:00:00  \n",
       "143 2024-06-19 23:00:00  \n",
       "\n",
       "[144 rows x 5 columns]"
      ]
     },
     "execution_count": 4,
     "metadata": {},
     "output_type": "execute_result"
    }
   ],
   "source": [
    "weather01['datetime'] = pd.to_datetime(weather01['Date'] + ' ' + weather01['Time'])\n",
    "\n",
    "weather01.drop(columns=['Date', 'Time'], inplace=True)\n",
    "weather01"
   ]
  },
  {
   "cell_type": "code",
   "execution_count": 5,
   "metadata": {},
   "outputs": [],
   "source": [
    "mpl.rcParams['figure.figsize'] = (15,6)\n"
   ]
  },
  {
   "cell_type": "code",
   "execution_count": 6,
   "metadata": {},
   "outputs": [],
   "source": [
    "weather01= weather01.set_index('datetime')"
   ]
  },
  {
   "cell_type": "code",
   "execution_count": 7,
   "metadata": {},
   "outputs": [
    {
     "data": {
      "text/html": [
       "<div>\n",
       "<style scoped>\n",
       "    .dataframe tbody tr th:only-of-type {\n",
       "        vertical-align: middle;\n",
       "    }\n",
       "\n",
       "    .dataframe tbody tr th {\n",
       "        vertical-align: top;\n",
       "    }\n",
       "\n",
       "    .dataframe thead th {\n",
       "        text-align: right;\n",
       "    }\n",
       "</style>\n",
       "<table border=\"1\" class=\"dataframe\">\n",
       "  <thead>\n",
       "    <tr style=\"text-align: right;\">\n",
       "      <th></th>\n",
       "      <th>Temperature (C)</th>\n",
       "      <th>Humidity</th>\n",
       "      <th>Wind Speed (km/h)</th>\n",
       "      <th>Precipitation (mm)</th>\n",
       "    </tr>\n",
       "    <tr>\n",
       "      <th>datetime</th>\n",
       "      <th></th>\n",
       "      <th></th>\n",
       "      <th></th>\n",
       "      <th></th>\n",
       "    </tr>\n",
       "  </thead>\n",
       "  <tbody>\n",
       "    <tr>\n",
       "      <th>2024-06-14 00:00:00</th>\n",
       "      <td>33.3</td>\n",
       "      <td>58</td>\n",
       "      <td>24.5</td>\n",
       "      <td>0.00</td>\n",
       "    </tr>\n",
       "    <tr>\n",
       "      <th>2024-06-14 01:00:00</th>\n",
       "      <td>33.1</td>\n",
       "      <td>59</td>\n",
       "      <td>22.7</td>\n",
       "      <td>0.00</td>\n",
       "    </tr>\n",
       "    <tr>\n",
       "      <th>2024-06-14 02:00:00</th>\n",
       "      <td>33.4</td>\n",
       "      <td>57</td>\n",
       "      <td>20.5</td>\n",
       "      <td>0.00</td>\n",
       "    </tr>\n",
       "    <tr>\n",
       "      <th>2024-06-14 03:00:00</th>\n",
       "      <td>33.3</td>\n",
       "      <td>58</td>\n",
       "      <td>20.2</td>\n",
       "      <td>0.00</td>\n",
       "    </tr>\n",
       "    <tr>\n",
       "      <th>2024-06-14 04:00:00</th>\n",
       "      <td>32.5</td>\n",
       "      <td>61</td>\n",
       "      <td>14.8</td>\n",
       "      <td>0.00</td>\n",
       "    </tr>\n",
       "    <tr>\n",
       "      <th>...</th>\n",
       "      <td>...</td>\n",
       "      <td>...</td>\n",
       "      <td>...</td>\n",
       "      <td>...</td>\n",
       "    </tr>\n",
       "    <tr>\n",
       "      <th>2024-06-19 19:00:00</th>\n",
       "      <td>38.6</td>\n",
       "      <td>30</td>\n",
       "      <td>3.2</td>\n",
       "      <td>0.12</td>\n",
       "    </tr>\n",
       "    <tr>\n",
       "      <th>2024-06-19 20:00:00</th>\n",
       "      <td>35.6</td>\n",
       "      <td>47</td>\n",
       "      <td>25.9</td>\n",
       "      <td>0.00</td>\n",
       "    </tr>\n",
       "    <tr>\n",
       "      <th>2024-06-19 21:00:00</th>\n",
       "      <td>33.2</td>\n",
       "      <td>60</td>\n",
       "      <td>27.0</td>\n",
       "      <td>0.00</td>\n",
       "    </tr>\n",
       "    <tr>\n",
       "      <th>2024-06-19 22:00:00</th>\n",
       "      <td>32.6</td>\n",
       "      <td>62</td>\n",
       "      <td>25.9</td>\n",
       "      <td>0.00</td>\n",
       "    </tr>\n",
       "    <tr>\n",
       "      <th>2024-06-19 23:00:00</th>\n",
       "      <td>32.4</td>\n",
       "      <td>63</td>\n",
       "      <td>21.6</td>\n",
       "      <td>0.00</td>\n",
       "    </tr>\n",
       "  </tbody>\n",
       "</table>\n",
       "<p>144 rows × 4 columns</p>\n",
       "</div>"
      ],
      "text/plain": [
       "                     Temperature (C)  Humidity  Wind Speed (km/h)  \\\n",
       "datetime                                                            \n",
       "2024-06-14 00:00:00             33.3        58               24.5   \n",
       "2024-06-14 01:00:00             33.1        59               22.7   \n",
       "2024-06-14 02:00:00             33.4        57               20.5   \n",
       "2024-06-14 03:00:00             33.3        58               20.2   \n",
       "2024-06-14 04:00:00             32.5        61               14.8   \n",
       "...                              ...       ...                ...   \n",
       "2024-06-19 19:00:00             38.6        30                3.2   \n",
       "2024-06-19 20:00:00             35.6        47               25.9   \n",
       "2024-06-19 21:00:00             33.2        60               27.0   \n",
       "2024-06-19 22:00:00             32.6        62               25.9   \n",
       "2024-06-19 23:00:00             32.4        63               21.6   \n",
       "\n",
       "                     Precipitation (mm)  \n",
       "datetime                                 \n",
       "2024-06-14 00:00:00                0.00  \n",
       "2024-06-14 01:00:00                0.00  \n",
       "2024-06-14 02:00:00                0.00  \n",
       "2024-06-14 03:00:00                0.00  \n",
       "2024-06-14 04:00:00                0.00  \n",
       "...                                 ...  \n",
       "2024-06-19 19:00:00                0.12  \n",
       "2024-06-19 20:00:00                0.00  \n",
       "2024-06-19 21:00:00                0.00  \n",
       "2024-06-19 22:00:00                0.00  \n",
       "2024-06-19 23:00:00                0.00  \n",
       "\n",
       "[144 rows x 4 columns]"
      ]
     },
     "execution_count": 7,
     "metadata": {},
     "output_type": "execute_result"
    }
   ],
   "source": [
    "weather01"
   ]
  },
  {
   "cell_type": "code",
   "execution_count": 8,
   "metadata": {},
   "outputs": [],
   "source": [
    "weather01 = weather01.reset_index()[['datetime','Temperature (C)','Humidity','Wind Speed (km/h)','Precipitation (mm)']].rename({'datetime':'ds','Temperature (C)':'y'}, axis = 'columns')"
   ]
  },
  {
   "cell_type": "code",
   "execution_count": 9,
   "metadata": {},
   "outputs": [
    {
     "name": "stderr",
     "output_type": "stream",
     "text": [
      "c:\\Users\\shree\\anaconda3\\Lib\\site-packages\\_plotly_utils\\basevalidators.py:106: FutureWarning: The behavior of DatetimeProperties.to_pydatetime is deprecated, in a future version this will return a Series containing python datetime objects instead of an ndarray. To retain the old behavior, call `np.array` on the result\n",
      "  v = v.dt.to_pydatetime()\n"
     ]
    },
    {
     "data": {
      "application/vnd.plotly.v1+json": {
       "config": {
        "plotlyServerURL": "https://plot.ly"
       },
       "data": [
        {
         "hovertemplate": "ds=%{x}<br>y=%{y}<extra></extra>",
         "legendgroup": "",
         "line": {
          "color": "#636efa",
          "dash": "solid"
         },
         "marker": {
          "symbol": "circle"
         },
         "mode": "lines",
         "name": "",
         "orientation": "v",
         "showlegend": false,
         "type": "scatter",
         "x": [
          "2024-06-14T00:00:00",
          "2024-06-14T01:00:00",
          "2024-06-14T02:00:00",
          "2024-06-14T03:00:00",
          "2024-06-14T04:00:00",
          "2024-06-14T05:00:00",
          "2024-06-14T06:00:00",
          "2024-06-14T07:00:00",
          "2024-06-14T08:00:00",
          "2024-06-14T09:00:00",
          "2024-06-14T10:00:00",
          "2024-06-14T11:00:00",
          "2024-06-14T12:00:00",
          "2024-06-14T13:00:00",
          "2024-06-14T14:00:00",
          "2024-06-14T15:00:00",
          "2024-06-14T16:00:00",
          "2024-06-14T17:00:00",
          "2024-06-14T18:00:00",
          "2024-06-14T19:00:00",
          "2024-06-14T20:00:00",
          "2024-06-14T21:00:00",
          "2024-06-14T22:00:00",
          "2024-06-14T23:00:00",
          "2024-06-15T00:00:00",
          "2024-06-15T01:00:00",
          "2024-06-15T02:00:00",
          "2024-06-15T03:00:00",
          "2024-06-15T04:00:00",
          "2024-06-15T05:00:00",
          "2024-06-15T06:00:00",
          "2024-06-15T07:00:00",
          "2024-06-15T08:00:00",
          "2024-06-15T09:00:00",
          "2024-06-15T10:00:00",
          "2024-06-15T11:00:00",
          "2024-06-15T12:00:00",
          "2024-06-15T13:00:00",
          "2024-06-15T14:00:00",
          "2024-06-15T15:00:00",
          "2024-06-15T16:00:00",
          "2024-06-15T17:00:00",
          "2024-06-15T18:00:00",
          "2024-06-15T19:00:00",
          "2024-06-15T20:00:00",
          "2024-06-15T21:00:00",
          "2024-06-15T22:00:00",
          "2024-06-15T23:00:00",
          "2024-06-16T00:00:00",
          "2024-06-16T01:00:00",
          "2024-06-16T02:00:00",
          "2024-06-16T03:00:00",
          "2024-06-16T04:00:00",
          "2024-06-16T05:00:00",
          "2024-06-16T06:00:00",
          "2024-06-16T07:00:00",
          "2024-06-16T08:00:00",
          "2024-06-16T09:00:00",
          "2024-06-16T10:00:00",
          "2024-06-16T11:00:00",
          "2024-06-16T12:00:00",
          "2024-06-16T13:00:00",
          "2024-06-16T14:00:00",
          "2024-06-16T15:00:00",
          "2024-06-16T16:00:00",
          "2024-06-16T17:00:00",
          "2024-06-16T18:00:00",
          "2024-06-16T19:00:00",
          "2024-06-16T20:00:00",
          "2024-06-16T21:00:00",
          "2024-06-16T22:00:00",
          "2024-06-16T23:00:00",
          "2024-06-17T00:00:00",
          "2024-06-17T01:00:00",
          "2024-06-17T02:00:00",
          "2024-06-17T03:00:00",
          "2024-06-17T04:00:00",
          "2024-06-17T05:00:00",
          "2024-06-17T06:00:00",
          "2024-06-17T07:00:00",
          "2024-06-17T08:00:00",
          "2024-06-17T09:00:00",
          "2024-06-17T10:00:00",
          "2024-06-17T11:00:00",
          "2024-06-17T12:00:00",
          "2024-06-17T13:00:00",
          "2024-06-17T14:00:00",
          "2024-06-17T15:00:00",
          "2024-06-17T16:00:00",
          "2024-06-17T17:00:00",
          "2024-06-17T18:00:00",
          "2024-06-17T19:00:00",
          "2024-06-17T20:00:00",
          "2024-06-17T21:00:00",
          "2024-06-17T22:00:00",
          "2024-06-17T23:00:00",
          "2024-06-18T00:00:00",
          "2024-06-18T01:00:00",
          "2024-06-18T02:00:00",
          "2024-06-18T03:00:00",
          "2024-06-18T04:00:00",
          "2024-06-18T05:00:00",
          "2024-06-18T06:00:00",
          "2024-06-18T07:00:00",
          "2024-06-18T08:00:00",
          "2024-06-18T09:00:00",
          "2024-06-18T10:00:00",
          "2024-06-18T11:00:00",
          "2024-06-18T12:00:00",
          "2024-06-18T13:00:00",
          "2024-06-18T14:00:00",
          "2024-06-18T15:00:00",
          "2024-06-18T16:00:00",
          "2024-06-18T17:00:00",
          "2024-06-18T18:00:00",
          "2024-06-18T19:00:00",
          "2024-06-18T20:00:00",
          "2024-06-18T21:00:00",
          "2024-06-18T22:00:00",
          "2024-06-18T23:00:00",
          "2024-06-19T00:00:00",
          "2024-06-19T01:00:00",
          "2024-06-19T02:00:00",
          "2024-06-19T03:00:00",
          "2024-06-19T04:00:00",
          "2024-06-19T05:00:00",
          "2024-06-19T06:00:00",
          "2024-06-19T07:00:00",
          "2024-06-19T08:00:00",
          "2024-06-19T09:00:00",
          "2024-06-19T10:00:00",
          "2024-06-19T11:00:00",
          "2024-06-19T12:00:00",
          "2024-06-19T13:00:00",
          "2024-06-19T14:00:00",
          "2024-06-19T15:00:00",
          "2024-06-19T16:00:00",
          "2024-06-19T17:00:00",
          "2024-06-19T18:00:00",
          "2024-06-19T19:00:00",
          "2024-06-19T20:00:00",
          "2024-06-19T21:00:00",
          "2024-06-19T22:00:00",
          "2024-06-19T23:00:00"
         ],
         "xaxis": "x",
         "y": [
          33.3,
          33.1,
          33.4,
          33.3,
          32.5,
          32.4,
          33.2,
          34.6,
          36.5,
          38.3,
          40.1,
          42,
          43.5,
          44.6,
          45.3,
          45.6,
          45.4,
          44.8,
          43.4,
          41.5,
          37.7,
          34.7,
          34.2,
          33.5,
          34.2,
          34.2,
          33.8,
          33.1,
          32.4,
          32.1,
          33.1,
          35.1,
          37.6,
          39.6,
          41.6,
          43.2,
          44.6,
          45.8,
          46.6,
          46.9,
          46.8,
          45.6,
          40.7,
          36.2,
          34.9,
          33.6,
          32.4,
          31.9,
          34.3,
          34.1,
          33.3,
          32.8,
          32.2,
          31.8,
          32.9,
          35,
          37.4,
          39.4,
          41.2,
          42.7,
          44.1,
          45.2,
          46.1,
          46.5,
          46.5,
          46.2,
          44.8,
          39.8,
          35.6,
          34.4,
          33.2,
          32.8,
          32.9,
          32.8,
          32.9,
          32.9,
          32.9,
          32.7,
          33.5,
          35.5,
          37.7,
          39.4,
          41.3,
          43.2,
          44.6,
          45.8,
          46.5,
          47,
          47.1,
          46.6,
          44.7,
          38.5,
          34.5,
          33.1,
          32.5,
          32.4,
          36.8,
          36.8,
          36.4,
          36.2,
          35.6,
          34.9,
          35.6,
          38,
          40.5,
          42.1,
          43.7,
          45.7,
          46.7,
          47,
          47.2,
          46.9,
          46.5,
          45.7,
          42.2,
          38.2,
          34.8,
          33.6,
          33.1,
          32.7,
          32.5,
          32.5,
          32.3,
          32.6,
          32.9,
          32.9,
          34.9,
          37.5,
          39.3,
          40.3,
          41.9,
          43.1,
          43.5,
          43.3,
          43.3,
          43.9,
          44,
          42.9,
          41.3,
          38.6,
          35.6,
          33.2,
          32.6,
          32.4
         ],
         "yaxis": "y"
        }
       ],
       "layout": {
        "legend": {
         "tracegroupgap": 0
        },
        "template": {
         "data": {
          "bar": [
           {
            "error_x": {
             "color": "#2a3f5f"
            },
            "error_y": {
             "color": "#2a3f5f"
            },
            "marker": {
             "line": {
              "color": "#E5ECF6",
              "width": 0.5
             },
             "pattern": {
              "fillmode": "overlay",
              "size": 10,
              "solidity": 0.2
             }
            },
            "type": "bar"
           }
          ],
          "barpolar": [
           {
            "marker": {
             "line": {
              "color": "#E5ECF6",
              "width": 0.5
             },
             "pattern": {
              "fillmode": "overlay",
              "size": 10,
              "solidity": 0.2
             }
            },
            "type": "barpolar"
           }
          ],
          "carpet": [
           {
            "aaxis": {
             "endlinecolor": "#2a3f5f",
             "gridcolor": "white",
             "linecolor": "white",
             "minorgridcolor": "white",
             "startlinecolor": "#2a3f5f"
            },
            "baxis": {
             "endlinecolor": "#2a3f5f",
             "gridcolor": "white",
             "linecolor": "white",
             "minorgridcolor": "white",
             "startlinecolor": "#2a3f5f"
            },
            "type": "carpet"
           }
          ],
          "choropleth": [
           {
            "colorbar": {
             "outlinewidth": 0,
             "ticks": ""
            },
            "type": "choropleth"
           }
          ],
          "contour": [
           {
            "colorbar": {
             "outlinewidth": 0,
             "ticks": ""
            },
            "colorscale": [
             [
              0,
              "#0d0887"
             ],
             [
              0.1111111111111111,
              "#46039f"
             ],
             [
              0.2222222222222222,
              "#7201a8"
             ],
             [
              0.3333333333333333,
              "#9c179e"
             ],
             [
              0.4444444444444444,
              "#bd3786"
             ],
             [
              0.5555555555555556,
              "#d8576b"
             ],
             [
              0.6666666666666666,
              "#ed7953"
             ],
             [
              0.7777777777777778,
              "#fb9f3a"
             ],
             [
              0.8888888888888888,
              "#fdca26"
             ],
             [
              1,
              "#f0f921"
             ]
            ],
            "type": "contour"
           }
          ],
          "contourcarpet": [
           {
            "colorbar": {
             "outlinewidth": 0,
             "ticks": ""
            },
            "type": "contourcarpet"
           }
          ],
          "heatmap": [
           {
            "colorbar": {
             "outlinewidth": 0,
             "ticks": ""
            },
            "colorscale": [
             [
              0,
              "#0d0887"
             ],
             [
              0.1111111111111111,
              "#46039f"
             ],
             [
              0.2222222222222222,
              "#7201a8"
             ],
             [
              0.3333333333333333,
              "#9c179e"
             ],
             [
              0.4444444444444444,
              "#bd3786"
             ],
             [
              0.5555555555555556,
              "#d8576b"
             ],
             [
              0.6666666666666666,
              "#ed7953"
             ],
             [
              0.7777777777777778,
              "#fb9f3a"
             ],
             [
              0.8888888888888888,
              "#fdca26"
             ],
             [
              1,
              "#f0f921"
             ]
            ],
            "type": "heatmap"
           }
          ],
          "heatmapgl": [
           {
            "colorbar": {
             "outlinewidth": 0,
             "ticks": ""
            },
            "colorscale": [
             [
              0,
              "#0d0887"
             ],
             [
              0.1111111111111111,
              "#46039f"
             ],
             [
              0.2222222222222222,
              "#7201a8"
             ],
             [
              0.3333333333333333,
              "#9c179e"
             ],
             [
              0.4444444444444444,
              "#bd3786"
             ],
             [
              0.5555555555555556,
              "#d8576b"
             ],
             [
              0.6666666666666666,
              "#ed7953"
             ],
             [
              0.7777777777777778,
              "#fb9f3a"
             ],
             [
              0.8888888888888888,
              "#fdca26"
             ],
             [
              1,
              "#f0f921"
             ]
            ],
            "type": "heatmapgl"
           }
          ],
          "histogram": [
           {
            "marker": {
             "pattern": {
              "fillmode": "overlay",
              "size": 10,
              "solidity": 0.2
             }
            },
            "type": "histogram"
           }
          ],
          "histogram2d": [
           {
            "colorbar": {
             "outlinewidth": 0,
             "ticks": ""
            },
            "colorscale": [
             [
              0,
              "#0d0887"
             ],
             [
              0.1111111111111111,
              "#46039f"
             ],
             [
              0.2222222222222222,
              "#7201a8"
             ],
             [
              0.3333333333333333,
              "#9c179e"
             ],
             [
              0.4444444444444444,
              "#bd3786"
             ],
             [
              0.5555555555555556,
              "#d8576b"
             ],
             [
              0.6666666666666666,
              "#ed7953"
             ],
             [
              0.7777777777777778,
              "#fb9f3a"
             ],
             [
              0.8888888888888888,
              "#fdca26"
             ],
             [
              1,
              "#f0f921"
             ]
            ],
            "type": "histogram2d"
           }
          ],
          "histogram2dcontour": [
           {
            "colorbar": {
             "outlinewidth": 0,
             "ticks": ""
            },
            "colorscale": [
             [
              0,
              "#0d0887"
             ],
             [
              0.1111111111111111,
              "#46039f"
             ],
             [
              0.2222222222222222,
              "#7201a8"
             ],
             [
              0.3333333333333333,
              "#9c179e"
             ],
             [
              0.4444444444444444,
              "#bd3786"
             ],
             [
              0.5555555555555556,
              "#d8576b"
             ],
             [
              0.6666666666666666,
              "#ed7953"
             ],
             [
              0.7777777777777778,
              "#fb9f3a"
             ],
             [
              0.8888888888888888,
              "#fdca26"
             ],
             [
              1,
              "#f0f921"
             ]
            ],
            "type": "histogram2dcontour"
           }
          ],
          "mesh3d": [
           {
            "colorbar": {
             "outlinewidth": 0,
             "ticks": ""
            },
            "type": "mesh3d"
           }
          ],
          "parcoords": [
           {
            "line": {
             "colorbar": {
              "outlinewidth": 0,
              "ticks": ""
             }
            },
            "type": "parcoords"
           }
          ],
          "pie": [
           {
            "automargin": true,
            "type": "pie"
           }
          ],
          "scatter": [
           {
            "fillpattern": {
             "fillmode": "overlay",
             "size": 10,
             "solidity": 0.2
            },
            "type": "scatter"
           }
          ],
          "scatter3d": [
           {
            "line": {
             "colorbar": {
              "outlinewidth": 0,
              "ticks": ""
             }
            },
            "marker": {
             "colorbar": {
              "outlinewidth": 0,
              "ticks": ""
             }
            },
            "type": "scatter3d"
           }
          ],
          "scattercarpet": [
           {
            "marker": {
             "colorbar": {
              "outlinewidth": 0,
              "ticks": ""
             }
            },
            "type": "scattercarpet"
           }
          ],
          "scattergeo": [
           {
            "marker": {
             "colorbar": {
              "outlinewidth": 0,
              "ticks": ""
             }
            },
            "type": "scattergeo"
           }
          ],
          "scattergl": [
           {
            "marker": {
             "colorbar": {
              "outlinewidth": 0,
              "ticks": ""
             }
            },
            "type": "scattergl"
           }
          ],
          "scattermapbox": [
           {
            "marker": {
             "colorbar": {
              "outlinewidth": 0,
              "ticks": ""
             }
            },
            "type": "scattermapbox"
           }
          ],
          "scatterpolar": [
           {
            "marker": {
             "colorbar": {
              "outlinewidth": 0,
              "ticks": ""
             }
            },
            "type": "scatterpolar"
           }
          ],
          "scatterpolargl": [
           {
            "marker": {
             "colorbar": {
              "outlinewidth": 0,
              "ticks": ""
             }
            },
            "type": "scatterpolargl"
           }
          ],
          "scatterternary": [
           {
            "marker": {
             "colorbar": {
              "outlinewidth": 0,
              "ticks": ""
             }
            },
            "type": "scatterternary"
           }
          ],
          "surface": [
           {
            "colorbar": {
             "outlinewidth": 0,
             "ticks": ""
            },
            "colorscale": [
             [
              0,
              "#0d0887"
             ],
             [
              0.1111111111111111,
              "#46039f"
             ],
             [
              0.2222222222222222,
              "#7201a8"
             ],
             [
              0.3333333333333333,
              "#9c179e"
             ],
             [
              0.4444444444444444,
              "#bd3786"
             ],
             [
              0.5555555555555556,
              "#d8576b"
             ],
             [
              0.6666666666666666,
              "#ed7953"
             ],
             [
              0.7777777777777778,
              "#fb9f3a"
             ],
             [
              0.8888888888888888,
              "#fdca26"
             ],
             [
              1,
              "#f0f921"
             ]
            ],
            "type": "surface"
           }
          ],
          "table": [
           {
            "cells": {
             "fill": {
              "color": "#EBF0F8"
             },
             "line": {
              "color": "white"
             }
            },
            "header": {
             "fill": {
              "color": "#C8D4E3"
             },
             "line": {
              "color": "white"
             }
            },
            "type": "table"
           }
          ]
         },
         "layout": {
          "annotationdefaults": {
           "arrowcolor": "#2a3f5f",
           "arrowhead": 0,
           "arrowwidth": 1
          },
          "autotypenumbers": "strict",
          "coloraxis": {
           "colorbar": {
            "outlinewidth": 0,
            "ticks": ""
           }
          },
          "colorscale": {
           "diverging": [
            [
             0,
             "#8e0152"
            ],
            [
             0.1,
             "#c51b7d"
            ],
            [
             0.2,
             "#de77ae"
            ],
            [
             0.3,
             "#f1b6da"
            ],
            [
             0.4,
             "#fde0ef"
            ],
            [
             0.5,
             "#f7f7f7"
            ],
            [
             0.6,
             "#e6f5d0"
            ],
            [
             0.7,
             "#b8e186"
            ],
            [
             0.8,
             "#7fbc41"
            ],
            [
             0.9,
             "#4d9221"
            ],
            [
             1,
             "#276419"
            ]
           ],
           "sequential": [
            [
             0,
             "#0d0887"
            ],
            [
             0.1111111111111111,
             "#46039f"
            ],
            [
             0.2222222222222222,
             "#7201a8"
            ],
            [
             0.3333333333333333,
             "#9c179e"
            ],
            [
             0.4444444444444444,
             "#bd3786"
            ],
            [
             0.5555555555555556,
             "#d8576b"
            ],
            [
             0.6666666666666666,
             "#ed7953"
            ],
            [
             0.7777777777777778,
             "#fb9f3a"
            ],
            [
             0.8888888888888888,
             "#fdca26"
            ],
            [
             1,
             "#f0f921"
            ]
           ],
           "sequentialminus": [
            [
             0,
             "#0d0887"
            ],
            [
             0.1111111111111111,
             "#46039f"
            ],
            [
             0.2222222222222222,
             "#7201a8"
            ],
            [
             0.3333333333333333,
             "#9c179e"
            ],
            [
             0.4444444444444444,
             "#bd3786"
            ],
            [
             0.5555555555555556,
             "#d8576b"
            ],
            [
             0.6666666666666666,
             "#ed7953"
            ],
            [
             0.7777777777777778,
             "#fb9f3a"
            ],
            [
             0.8888888888888888,
             "#fdca26"
            ],
            [
             1,
             "#f0f921"
            ]
           ]
          },
          "colorway": [
           "#636efa",
           "#EF553B",
           "#00cc96",
           "#ab63fa",
           "#FFA15A",
           "#19d3f3",
           "#FF6692",
           "#B6E880",
           "#FF97FF",
           "#FECB52"
          ],
          "font": {
           "color": "#2a3f5f"
          },
          "geo": {
           "bgcolor": "white",
           "lakecolor": "white",
           "landcolor": "#E5ECF6",
           "showlakes": true,
           "showland": true,
           "subunitcolor": "white"
          },
          "hoverlabel": {
           "align": "left"
          },
          "hovermode": "closest",
          "mapbox": {
           "style": "light"
          },
          "paper_bgcolor": "white",
          "plot_bgcolor": "#E5ECF6",
          "polar": {
           "angularaxis": {
            "gridcolor": "white",
            "linecolor": "white",
            "ticks": ""
           },
           "bgcolor": "#E5ECF6",
           "radialaxis": {
            "gridcolor": "white",
            "linecolor": "white",
            "ticks": ""
           }
          },
          "scene": {
           "xaxis": {
            "backgroundcolor": "#E5ECF6",
            "gridcolor": "white",
            "gridwidth": 2,
            "linecolor": "white",
            "showbackground": true,
            "ticks": "",
            "zerolinecolor": "white"
           },
           "yaxis": {
            "backgroundcolor": "#E5ECF6",
            "gridcolor": "white",
            "gridwidth": 2,
            "linecolor": "white",
            "showbackground": true,
            "ticks": "",
            "zerolinecolor": "white"
           },
           "zaxis": {
            "backgroundcolor": "#E5ECF6",
            "gridcolor": "white",
            "gridwidth": 2,
            "linecolor": "white",
            "showbackground": true,
            "ticks": "",
            "zerolinecolor": "white"
           }
          },
          "shapedefaults": {
           "line": {
            "color": "#2a3f5f"
           }
          },
          "ternary": {
           "aaxis": {
            "gridcolor": "white",
            "linecolor": "white",
            "ticks": ""
           },
           "baxis": {
            "gridcolor": "white",
            "linecolor": "white",
            "ticks": ""
           },
           "bgcolor": "#E5ECF6",
           "caxis": {
            "gridcolor": "white",
            "linecolor": "white",
            "ticks": ""
           }
          },
          "title": {
           "x": 0.05
          },
          "xaxis": {
           "automargin": true,
           "gridcolor": "white",
           "linecolor": "white",
           "ticks": "",
           "title": {
            "standoff": 15
           },
           "zerolinecolor": "white",
           "zerolinewidth": 2
          },
          "yaxis": {
           "automargin": true,
           "gridcolor": "white",
           "linecolor": "white",
           "ticks": "",
           "title": {
            "standoff": 15
           },
           "zerolinecolor": "white",
           "zerolinewidth": 2
          }
         }
        },
        "title": {
         "text": "Weather Data Over Time"
        },
        "xaxis": {
         "anchor": "y",
         "domain": [
          0,
          1
         ],
         "title": {
          "text": "ds"
         }
        },
        "yaxis": {
         "anchor": "x",
         "domain": [
          0,
          1
         ],
         "title": {
          "text": "y"
         }
        }
       }
      }
     },
     "metadata": {},
     "output_type": "display_data"
    }
   ],
   "source": [
    "fig = px.line(weather01, x='ds', y='y', title='Weather Data Over Time')\n",
    "fig.show()"
   ]
  },
  {
   "cell_type": "code",
   "execution_count": 10,
   "metadata": {},
   "outputs": [
    {
     "data": {
      "text/plain": [
       "\"import seaborn as sns\\nsns.lineplot(x = 'ds', y= 'y', data= weather01)\""
      ]
     },
     "execution_count": 10,
     "metadata": {},
     "output_type": "execute_result"
    }
   ],
   "source": [
    "'''import seaborn as sns\n",
    "sns.lineplot(x = 'ds', y= 'y', data= weather01)'''"
   ]
  },
  {
   "cell_type": "code",
   "execution_count": 11,
   "metadata": {},
   "outputs": [
    {
     "data": {
      "image/png": "[encoded data removed]",
      "text/plain": [
       "<Figure size 1500x600 with 4 Axes>"
      ]
     },
     "execution_count": 11,
     "metadata": {},
     "output_type": "execute_result"
    },
    {
     "data": {
      "image/png": "[encoded data removed]",
      "text/plain": [
       "<Figure size 1500x600 with 4 Axes>"
      ]
     },
     "metadata": {},
     "output_type": "display_data"
    }
   ],
   "source": [
    "from statsmodels.tsa.seasonal import seasonal_decompose\n",
    "temperature = seasonal_decompose(weather01['y'] , model = 'multiplicative' , period = 7)\n",
    "temperature.plot()\n",
    "\n"
   ]
  },
  {
   "cell_type": "code",
   "execution_count": 12,
   "metadata": {},
   "outputs": [
    {
     "data": {
      "text/html": [
       "<div>\n",
       "<style scoped>\n",
       "    .dataframe tbody tr th:only-of-type {\n",
       "        vertical-align: middle;\n",
       "    }\n",
       "\n",
       "    .dataframe tbody tr th {\n",
       "        vertical-align: top;\n",
       "    }\n",
       "\n",
       "    .dataframe thead th {\n",
       "        text-align: right;\n",
       "    }\n",
       "</style>\n",
       "<table border=\"1\" class=\"dataframe\">\n",
       "  <thead>\n",
       "    <tr style=\"text-align: right;\">\n",
       "      <th></th>\n",
       "      <th>ds</th>\n",
       "      <th>y</th>\n",
       "      <th>Humidity</th>\n",
       "      <th>Wind Speed (km/h)</th>\n",
       "      <th>Precipitation (mm)</th>\n",
       "    </tr>\n",
       "  </thead>\n",
       "  <tbody>\n",
       "    <tr>\n",
       "      <th>94</th>\n",
       "      <td>2024-06-17 22:00:00</td>\n",
       "      <td>32.5</td>\n",
       "      <td>64</td>\n",
       "      <td>32.8</td>\n",
       "      <td>0.00</td>\n",
       "    </tr>\n",
       "    <tr>\n",
       "      <th>95</th>\n",
       "      <td>2024-06-17 23:00:00</td>\n",
       "      <td>32.4</td>\n",
       "      <td>64</td>\n",
       "      <td>32.0</td>\n",
       "      <td>0.00</td>\n",
       "    </tr>\n",
       "    <tr>\n",
       "      <th>96</th>\n",
       "      <td>2024-06-18 00:00:00</td>\n",
       "      <td>36.8</td>\n",
       "      <td>38</td>\n",
       "      <td>11.9</td>\n",
       "      <td>0.00</td>\n",
       "    </tr>\n",
       "    <tr>\n",
       "      <th>97</th>\n",
       "      <td>2024-06-18 01:00:00</td>\n",
       "      <td>36.8</td>\n",
       "      <td>36</td>\n",
       "      <td>13.0</td>\n",
       "      <td>0.00</td>\n",
       "    </tr>\n",
       "    <tr>\n",
       "      <th>98</th>\n",
       "      <td>2024-06-18 02:00:00</td>\n",
       "      <td>36.4</td>\n",
       "      <td>36</td>\n",
       "      <td>10.4</td>\n",
       "      <td>0.00</td>\n",
       "    </tr>\n",
       "    <tr>\n",
       "      <th>99</th>\n",
       "      <td>2024-06-18 03:00:00</td>\n",
       "      <td>36.2</td>\n",
       "      <td>36</td>\n",
       "      <td>12.2</td>\n",
       "      <td>0.00</td>\n",
       "    </tr>\n",
       "    <tr>\n",
       "      <th>100</th>\n",
       "      <td>2024-06-18 04:00:00</td>\n",
       "      <td>35.6</td>\n",
       "      <td>38</td>\n",
       "      <td>7.9</td>\n",
       "      <td>0.00</td>\n",
       "    </tr>\n",
       "    <tr>\n",
       "      <th>101</th>\n",
       "      <td>2024-06-18 05:00:00</td>\n",
       "      <td>34.9</td>\n",
       "      <td>41</td>\n",
       "      <td>9.0</td>\n",
       "      <td>0.00</td>\n",
       "    </tr>\n",
       "    <tr>\n",
       "      <th>102</th>\n",
       "      <td>2024-06-18 06:00:00</td>\n",
       "      <td>35.6</td>\n",
       "      <td>41</td>\n",
       "      <td>10.1</td>\n",
       "      <td>0.00</td>\n",
       "    </tr>\n",
       "    <tr>\n",
       "      <th>103</th>\n",
       "      <td>2024-06-18 07:00:00</td>\n",
       "      <td>38.0</td>\n",
       "      <td>35</td>\n",
       "      <td>4.3</td>\n",
       "      <td>0.00</td>\n",
       "    </tr>\n",
       "    <tr>\n",
       "      <th>104</th>\n",
       "      <td>2024-06-18 08:00:00</td>\n",
       "      <td>40.5</td>\n",
       "      <td>29</td>\n",
       "      <td>13.7</td>\n",
       "      <td>0.00</td>\n",
       "    </tr>\n",
       "    <tr>\n",
       "      <th>105</th>\n",
       "      <td>2024-06-18 09:00:00</td>\n",
       "      <td>42.1</td>\n",
       "      <td>26</td>\n",
       "      <td>20.2</td>\n",
       "      <td>0.00</td>\n",
       "    </tr>\n",
       "    <tr>\n",
       "      <th>106</th>\n",
       "      <td>2024-06-18 10:00:00</td>\n",
       "      <td>43.7</td>\n",
       "      <td>22</td>\n",
       "      <td>20.5</td>\n",
       "      <td>0.00</td>\n",
       "    </tr>\n",
       "    <tr>\n",
       "      <th>107</th>\n",
       "      <td>2024-06-18 11:00:00</td>\n",
       "      <td>45.7</td>\n",
       "      <td>19</td>\n",
       "      <td>18.7</td>\n",
       "      <td>0.00</td>\n",
       "    </tr>\n",
       "    <tr>\n",
       "      <th>108</th>\n",
       "      <td>2024-06-18 12:00:00</td>\n",
       "      <td>46.7</td>\n",
       "      <td>17</td>\n",
       "      <td>22.0</td>\n",
       "      <td>0.00</td>\n",
       "    </tr>\n",
       "    <tr>\n",
       "      <th>109</th>\n",
       "      <td>2024-06-18 13:00:00</td>\n",
       "      <td>47.0</td>\n",
       "      <td>17</td>\n",
       "      <td>21.2</td>\n",
       "      <td>0.00</td>\n",
       "    </tr>\n",
       "    <tr>\n",
       "      <th>110</th>\n",
       "      <td>2024-06-18 14:00:00</td>\n",
       "      <td>47.2</td>\n",
       "      <td>16</td>\n",
       "      <td>21.2</td>\n",
       "      <td>0.00</td>\n",
       "    </tr>\n",
       "    <tr>\n",
       "      <th>111</th>\n",
       "      <td>2024-06-18 15:00:00</td>\n",
       "      <td>46.9</td>\n",
       "      <td>17</td>\n",
       "      <td>23.0</td>\n",
       "      <td>0.00</td>\n",
       "    </tr>\n",
       "    <tr>\n",
       "      <th>112</th>\n",
       "      <td>2024-06-18 16:00:00</td>\n",
       "      <td>46.5</td>\n",
       "      <td>17</td>\n",
       "      <td>19.1</td>\n",
       "      <td>0.00</td>\n",
       "    </tr>\n",
       "    <tr>\n",
       "      <th>113</th>\n",
       "      <td>2024-06-18 17:00:00</td>\n",
       "      <td>45.7</td>\n",
       "      <td>18</td>\n",
       "      <td>12.6</td>\n",
       "      <td>0.00</td>\n",
       "    </tr>\n",
       "    <tr>\n",
       "      <th>114</th>\n",
       "      <td>2024-06-18 18:00:00</td>\n",
       "      <td>42.2</td>\n",
       "      <td>24</td>\n",
       "      <td>5.0</td>\n",
       "      <td>0.00</td>\n",
       "    </tr>\n",
       "    <tr>\n",
       "      <th>115</th>\n",
       "      <td>2024-06-18 19:00:00</td>\n",
       "      <td>38.2</td>\n",
       "      <td>38</td>\n",
       "      <td>23.4</td>\n",
       "      <td>0.41</td>\n",
       "    </tr>\n",
       "    <tr>\n",
       "      <th>116</th>\n",
       "      <td>2024-06-18 20:00:00</td>\n",
       "      <td>34.8</td>\n",
       "      <td>53</td>\n",
       "      <td>34.2</td>\n",
       "      <td>0.00</td>\n",
       "    </tr>\n",
       "    <tr>\n",
       "      <th>117</th>\n",
       "      <td>2024-06-18 21:00:00</td>\n",
       "      <td>33.6</td>\n",
       "      <td>58</td>\n",
       "      <td>29.9</td>\n",
       "      <td>0.00</td>\n",
       "    </tr>\n",
       "    <tr>\n",
       "      <th>118</th>\n",
       "      <td>2024-06-18 22:00:00</td>\n",
       "      <td>33.1</td>\n",
       "      <td>61</td>\n",
       "      <td>25.6</td>\n",
       "      <td>0.00</td>\n",
       "    </tr>\n",
       "    <tr>\n",
       "      <th>119</th>\n",
       "      <td>2024-06-18 23:00:00</td>\n",
       "      <td>32.7</td>\n",
       "      <td>63</td>\n",
       "      <td>22.7</td>\n",
       "      <td>0.00</td>\n",
       "    </tr>\n",
       "    <tr>\n",
       "      <th>120</th>\n",
       "      <td>2024-06-19 00:00:00</td>\n",
       "      <td>32.5</td>\n",
       "      <td>66</td>\n",
       "      <td>18.4</td>\n",
       "      <td>0.00</td>\n",
       "    </tr>\n",
       "    <tr>\n",
       "      <th>121</th>\n",
       "      <td>2024-06-19 01:00:00</td>\n",
       "      <td>32.5</td>\n",
       "      <td>66</td>\n",
       "      <td>15.8</td>\n",
       "      <td>0.00</td>\n",
       "    </tr>\n",
       "    <tr>\n",
       "      <th>122</th>\n",
       "      <td>2024-06-19 02:00:00</td>\n",
       "      <td>32.3</td>\n",
       "      <td>67</td>\n",
       "      <td>9.4</td>\n",
       "      <td>0.00</td>\n",
       "    </tr>\n",
       "    <tr>\n",
       "      <th>123</th>\n",
       "      <td>2024-06-19 03:00:00</td>\n",
       "      <td>32.6</td>\n",
       "      <td>64</td>\n",
       "      <td>7.2</td>\n",
       "      <td>0.00</td>\n",
       "    </tr>\n",
       "    <tr>\n",
       "      <th>124</th>\n",
       "      <td>2024-06-19 04:00:00</td>\n",
       "      <td>32.9</td>\n",
       "      <td>60</td>\n",
       "      <td>6.8</td>\n",
       "      <td>0.00</td>\n",
       "    </tr>\n",
       "    <tr>\n",
       "      <th>125</th>\n",
       "      <td>2024-06-19 05:00:00</td>\n",
       "      <td>32.9</td>\n",
       "      <td>58</td>\n",
       "      <td>4.0</td>\n",
       "      <td>0.00</td>\n",
       "    </tr>\n",
       "    <tr>\n",
       "      <th>126</th>\n",
       "      <td>2024-06-19 06:00:00</td>\n",
       "      <td>34.9</td>\n",
       "      <td>48</td>\n",
       "      <td>5.8</td>\n",
       "      <td>0.00</td>\n",
       "    </tr>\n",
       "    <tr>\n",
       "      <th>127</th>\n",
       "      <td>2024-06-19 07:00:00</td>\n",
       "      <td>37.5</td>\n",
       "      <td>38</td>\n",
       "      <td>14.0</td>\n",
       "      <td>0.00</td>\n",
       "    </tr>\n",
       "    <tr>\n",
       "      <th>128</th>\n",
       "      <td>2024-06-19 08:00:00</td>\n",
       "      <td>39.3</td>\n",
       "      <td>33</td>\n",
       "      <td>21.6</td>\n",
       "      <td>0.00</td>\n",
       "    </tr>\n",
       "    <tr>\n",
       "      <th>129</th>\n",
       "      <td>2024-06-19 09:00:00</td>\n",
       "      <td>40.3</td>\n",
       "      <td>31</td>\n",
       "      <td>22.7</td>\n",
       "      <td>0.00</td>\n",
       "    </tr>\n",
       "    <tr>\n",
       "      <th>130</th>\n",
       "      <td>2024-06-19 10:00:00</td>\n",
       "      <td>41.9</td>\n",
       "      <td>28</td>\n",
       "      <td>22.0</td>\n",
       "      <td>0.00</td>\n",
       "    </tr>\n",
       "    <tr>\n",
       "      <th>131</th>\n",
       "      <td>2024-06-19 11:00:00</td>\n",
       "      <td>43.1</td>\n",
       "      <td>26</td>\n",
       "      <td>25.9</td>\n",
       "      <td>0.00</td>\n",
       "    </tr>\n",
       "    <tr>\n",
       "      <th>132</th>\n",
       "      <td>2024-06-19 12:00:00</td>\n",
       "      <td>43.5</td>\n",
       "      <td>25</td>\n",
       "      <td>28.1</td>\n",
       "      <td>0.00</td>\n",
       "    </tr>\n",
       "    <tr>\n",
       "      <th>133</th>\n",
       "      <td>2024-06-19 13:00:00</td>\n",
       "      <td>43.3</td>\n",
       "      <td>26</td>\n",
       "      <td>27.4</td>\n",
       "      <td>0.00</td>\n",
       "    </tr>\n",
       "    <tr>\n",
       "      <th>134</th>\n",
       "      <td>2024-06-19 14:00:00</td>\n",
       "      <td>43.3</td>\n",
       "      <td>25</td>\n",
       "      <td>22.3</td>\n",
       "      <td>0.00</td>\n",
       "    </tr>\n",
       "    <tr>\n",
       "      <th>135</th>\n",
       "      <td>2024-06-19 15:00:00</td>\n",
       "      <td>43.9</td>\n",
       "      <td>23</td>\n",
       "      <td>19.1</td>\n",
       "      <td>0.00</td>\n",
       "    </tr>\n",
       "    <tr>\n",
       "      <th>136</th>\n",
       "      <td>2024-06-19 16:00:00</td>\n",
       "      <td>44.0</td>\n",
       "      <td>22</td>\n",
       "      <td>20.2</td>\n",
       "      <td>0.00</td>\n",
       "    </tr>\n",
       "    <tr>\n",
       "      <th>137</th>\n",
       "      <td>2024-06-19 17:00:00</td>\n",
       "      <td>42.9</td>\n",
       "      <td>23</td>\n",
       "      <td>22.0</td>\n",
       "      <td>0.00</td>\n",
       "    </tr>\n",
       "    <tr>\n",
       "      <th>138</th>\n",
       "      <td>2024-06-19 18:00:00</td>\n",
       "      <td>41.3</td>\n",
       "      <td>25</td>\n",
       "      <td>15.8</td>\n",
       "      <td>0.09</td>\n",
       "    </tr>\n",
       "    <tr>\n",
       "      <th>139</th>\n",
       "      <td>2024-06-19 19:00:00</td>\n",
       "      <td>38.6</td>\n",
       "      <td>30</td>\n",
       "      <td>3.2</td>\n",
       "      <td>0.12</td>\n",
       "    </tr>\n",
       "    <tr>\n",
       "      <th>140</th>\n",
       "      <td>2024-06-19 20:00:00</td>\n",
       "      <td>35.6</td>\n",
       "      <td>47</td>\n",
       "      <td>25.9</td>\n",
       "      <td>0.00</td>\n",
       "    </tr>\n",
       "    <tr>\n",
       "      <th>141</th>\n",
       "      <td>2024-06-19 21:00:00</td>\n",
       "      <td>33.2</td>\n",
       "      <td>60</td>\n",
       "      <td>27.0</td>\n",
       "      <td>0.00</td>\n",
       "    </tr>\n",
       "    <tr>\n",
       "      <th>142</th>\n",
       "      <td>2024-06-19 22:00:00</td>\n",
       "      <td>32.6</td>\n",
       "      <td>62</td>\n",
       "      <td>25.9</td>\n",
       "      <td>0.00</td>\n",
       "    </tr>\n",
       "    <tr>\n",
       "      <th>143</th>\n",
       "      <td>2024-06-19 23:00:00</td>\n",
       "      <td>32.4</td>\n",
       "      <td>63</td>\n",
       "      <td>21.6</td>\n",
       "      <td>0.00</td>\n",
       "    </tr>\n",
       "  </tbody>\n",
       "</table>\n",
       "</div>"
      ],
      "text/plain": [
       "                     ds     y  Humidity  Wind Speed (km/h)  Precipitation (mm)\n",
       "94  2024-06-17 22:00:00  32.5        64               32.8                0.00\n",
       "95  2024-06-17 23:00:00  32.4        64               32.0                0.00\n",
       "96  2024-06-18 00:00:00  36.8        38               11.9                0.00\n",
       "97  2024-06-18 01:00:00  36.8        36               13.0                0.00\n",
       "98  2024-06-18 02:00:00  36.4        36               10.4                0.00\n",
       "99  2024-06-18 03:00:00  36.2        36               12.2                0.00\n",
       "100 2024-06-18 04:00:00  35.6        38                7.9                0.00\n",
       "101 2024-06-18 05:00:00  34.9        41                9.0                0.00\n",
       "102 2024-06-18 06:00:00  35.6        41               10.1                0.00\n",
       "103 2024-06-18 07:00:00  38.0        35                4.3                0.00\n",
       "104 2024-06-18 08:00:00  40.5        29               13.7                0.00\n",
       "105 2024-06-18 09:00:00  42.1        26               20.2                0.00\n",
       "106 2024-06-18 10:00:00  43.7        22               20.5                0.00\n",
       "107 2024-06-18 11:00:00  45.7        19               18.7                0.00\n",
       "108 2024-06-18 12:00:00  46.7        17               22.0                0.00\n",
       "109 2024-06-18 13:00:00  47.0        17               21.2                0.00\n",
       "110 2024-06-18 14:00:00  47.2        16               21.2                0.00\n",
       "111 2024-06-18 15:00:00  46.9        17               23.0                0.00\n",
       "112 2024-06-18 16:00:00  46.5        17               19.1                0.00\n",
       "113 2024-06-18 17:00:00  45.7        18               12.6                0.00\n",
       "114 2024-06-18 18:00:00  42.2        24                5.0                0.00\n",
       "115 2024-06-18 19:00:00  38.2        38               23.4                0.41\n",
       "116 2024-06-18 20:00:00  34.8        53               34.2                0.00\n",
       "117 2024-06-18 21:00:00  33.6        58               29.9                0.00\n",
       "118 2024-06-18 22:00:00  33.1        61               25.6                0.00\n",
       "119 2024-06-18 23:00:00  32.7        63               22.7                0.00\n",
       "120 2024-06-19 00:00:00  32.5        66               18.4                0.00\n",
       "121 2024-06-19 01:00:00  32.5        66               15.8                0.00\n",
       "122 2024-06-19 02:00:00  32.3        67                9.4                0.00\n",
       "123 2024-06-19 03:00:00  32.6        64                7.2                0.00\n",
       "124 2024-06-19 04:00:00  32.9        60                6.8                0.00\n",
       "125 2024-06-19 05:00:00  32.9        58                4.0                0.00\n",
       "126 2024-06-19 06:00:00  34.9        48                5.8                0.00\n",
       "127 2024-06-19 07:00:00  37.5        38               14.0                0.00\n",
       "128 2024-06-19 08:00:00  39.3        33               21.6                0.00\n",
       "129 2024-06-19 09:00:00  40.3        31               22.7                0.00\n",
       "130 2024-06-19 10:00:00  41.9        28               22.0                0.00\n",
       "131 2024-06-19 11:00:00  43.1        26               25.9                0.00\n",
       "132 2024-06-19 12:00:00  43.5        25               28.1                0.00\n",
       "133 2024-06-19 13:00:00  43.3        26               27.4                0.00\n",
       "134 2024-06-19 14:00:00  43.3        25               22.3                0.00\n",
       "135 2024-06-19 15:00:00  43.9        23               19.1                0.00\n",
       "136 2024-06-19 16:00:00  44.0        22               20.2                0.00\n",
       "137 2024-06-19 17:00:00  42.9        23               22.0                0.00\n",
       "138 2024-06-19 18:00:00  41.3        25               15.8                0.09\n",
       "139 2024-06-19 19:00:00  38.6        30                3.2                0.12\n",
       "140 2024-06-19 20:00:00  35.6        47               25.9                0.00\n",
       "141 2024-06-19 21:00:00  33.2        60               27.0                0.00\n",
       "142 2024-06-19 22:00:00  32.6        62               25.9                0.00\n",
       "143 2024-06-19 23:00:00  32.4        63               21.6                0.00"
      ]
     },
     "execution_count": 12,
     "metadata": {},
     "output_type": "execute_result"
    }
   ],
   "source": [
    "weather01.tail(50)"
   ]
  },
  {
   "cell_type": "code",
   "execution_count": 13,
   "metadata": {},
   "outputs": [
    {
     "data": {
      "text/plain": [
       "((95, 5), (49, 5))"
      ]
     },
     "execution_count": 13,
     "metadata": {},
     "output_type": "execute_result"
    }
   ],
   "source": [
    "training_data = weather01[(weather01['ds'] >= '2024-06-13 00:00:00' )& (weather01['ds'] <= '2024-06-17 22:00:00')]\n",
    "test_data = weather01[(weather01['ds'] > '2024-06-17 22:00:00')]\n",
    "training_data.shape, test_data.shape # 70/30 split\n"
   ]
  },
  {
   "cell_type": "code",
   "execution_count": 14,
   "metadata": {},
   "outputs": [],
   "source": [
    "from prophet import  Prophet\n",
    "m = Prophet()"
   ]
  },
  {
   "cell_type": "code",
   "execution_count": 15,
   "metadata": {},
   "outputs": [
    {
     "name": "stderr",
     "output_type": "stream",
     "text": [
      "15:19:22 - cmdstanpy - INFO - Chain [1] start processing\n",
      "15:19:23 - cmdstanpy - INFO - Chain [1] done processing\n"
     ]
    },
    {
     "data": {
      "text/plain": [
       "<prophet.forecaster.Prophet at 0x206bdb88410>"
      ]
     },
     "execution_count": 15,
     "metadata": {},
     "output_type": "execute_result"
    }
   ],
   "source": [
    "m.fit(weather01)"
   ]
  },
  {
   "cell_type": "code",
   "execution_count": 27,
   "metadata": {},
   "outputs": [
    {
     "data": {
      "text/html": [
       "<div>\n",
       "<style scoped>\n",
       "    .dataframe tbody tr th:only-of-type {\n",
       "        vertical-align: middle;\n",
       "    }\n",
       "\n",
       "    .dataframe tbody tr th {\n",
       "        vertical-align: top;\n",
       "    }\n",
       "\n",
       "    .dataframe thead th {\n",
       "        text-align: right;\n",
       "    }\n",
       "</style>\n",
       "<table border=\"1\" class=\"dataframe\">\n",
       "  <thead>\n",
       "    <tr style=\"text-align: right;\">\n",
       "      <th></th>\n",
       "      <th>ds</th>\n",
       "    </tr>\n",
       "  </thead>\n",
       "  <tbody>\n",
       "    <tr>\n",
       "      <th>146</th>\n",
       "      <td>2024-06-22 23:00:00</td>\n",
       "    </tr>\n",
       "    <tr>\n",
       "      <th>147</th>\n",
       "      <td>2024-06-23 23:00:00</td>\n",
       "    </tr>\n",
       "    <tr>\n",
       "      <th>148</th>\n",
       "      <td>2024-06-24 23:00:00</td>\n",
       "    </tr>\n",
       "    <tr>\n",
       "      <th>149</th>\n",
       "      <td>2024-06-25 23:00:00</td>\n",
       "    </tr>\n",
       "    <tr>\n",
       "      <th>150</th>\n",
       "      <td>2024-06-26 23:00:00</td>\n",
       "    </tr>\n",
       "  </tbody>\n",
       "</table>\n",
       "</div>"
      ],
      "text/plain": [
       "                     ds\n",
       "146 2024-06-22 23:00:00\n",
       "147 2024-06-23 23:00:00\n",
       "148 2024-06-24 23:00:00\n",
       "149 2024-06-25 23:00:00\n",
       "150 2024-06-26 23:00:00"
      ]
     },
     "execution_count": 27,
     "metadata": {},
     "output_type": "execute_result"
    }
   ],
   "source": [
    "future = m.make_future_dataframe(periods=7)\n",
    "future.tail()"
   ]
  },
  {
   "cell_type": "code",
   "execution_count": 17,
   "metadata": {},
   "outputs": [
    {
     "data": {
      "text/html": [
       "<div>\n",
       "<style scoped>\n",
       "    .dataframe tbody tr th:only-of-type {\n",
       "        vertical-align: middle;\n",
       "    }\n",
       "\n",
       "    .dataframe tbody tr th {\n",
       "        vertical-align: top;\n",
       "    }\n",
       "\n",
       "    .dataframe thead th {\n",
       "        text-align: right;\n",
       "    }\n",
       "</style>\n",
       "<table border=\"1\" class=\"dataframe\">\n",
       "  <thead>\n",
       "    <tr style=\"text-align: right;\">\n",
       "      <th></th>\n",
       "      <th>ds</th>\n",
       "      <th>yhat</th>\n",
       "      <th>yhat_lower</th>\n",
       "      <th>yhat_upper</th>\n",
       "    </tr>\n",
       "  </thead>\n",
       "  <tbody>\n",
       "    <tr>\n",
       "      <th>149</th>\n",
       "      <td>2024-06-25 23:00:00</td>\n",
       "      <td>22.086185</td>\n",
       "      <td>19.743198</td>\n",
       "      <td>24.382368</td>\n",
       "    </tr>\n",
       "    <tr>\n",
       "      <th>150</th>\n",
       "      <td>2024-06-26 23:00:00</td>\n",
       "      <td>20.479241</td>\n",
       "      <td>17.557874</td>\n",
       "      <td>23.330690</td>\n",
       "    </tr>\n",
       "    <tr>\n",
       "      <th>151</th>\n",
       "      <td>2024-06-27 23:00:00</td>\n",
       "      <td>18.872296</td>\n",
       "      <td>15.432322</td>\n",
       "      <td>22.194761</td>\n",
       "    </tr>\n",
       "    <tr>\n",
       "      <th>152</th>\n",
       "      <td>2024-06-28 23:00:00</td>\n",
       "      <td>17.265352</td>\n",
       "      <td>13.202661</td>\n",
       "      <td>21.021581</td>\n",
       "    </tr>\n",
       "    <tr>\n",
       "      <th>153</th>\n",
       "      <td>2024-06-29 23:00:00</td>\n",
       "      <td>15.658408</td>\n",
       "      <td>10.724748</td>\n",
       "      <td>20.206562</td>\n",
       "    </tr>\n",
       "  </tbody>\n",
       "</table>\n",
       "</div>"
      ],
      "text/plain": [
       "                     ds       yhat  yhat_lower  yhat_upper\n",
       "149 2024-06-25 23:00:00  22.086185   19.743198   24.382368\n",
       "150 2024-06-26 23:00:00  20.479241   17.557874   23.330690\n",
       "151 2024-06-27 23:00:00  18.872296   15.432322   22.194761\n",
       "152 2024-06-28 23:00:00  17.265352   13.202661   21.021581\n",
       "153 2024-06-29 23:00:00  15.658408   10.724748   20.206562"
      ]
     },
     "execution_count": 17,
     "metadata": {},
     "output_type": "execute_result"
    }
   ],
   "source": [
    "forecast= m.predict(future)\n",
    "forecast[['ds','yhat','yhat_lower','yhat_upper']].tail()"
   ]
  },
  {
   "cell_type": "code",
   "execution_count": 18,
   "metadata": {},
   "outputs": [
    {
     "name": "stderr",
     "output_type": "stream",
     "text": [
      "c:\\Users\\shree\\anaconda3\\Lib\\site-packages\\_plotly_utils\\basevalidators.py:106: FutureWarning:\n",
      "\n",
      "The behavior of DatetimeProperties.to_pydatetime is deprecated, in a future version this will return a Series containing python datetime objects instead of an ndarray. To retain the old behavior, call `np.array` on the result\n",
      "\n"
     ]
    },
    {
     "data": {
      "application/vnd.plotly.v1+json": {
       "config": {
        "plotlyServerURL": "https://plot.ly"
       },
       "data": [
        {
         "marker": {
          "color": "black",
          "size": 4
         },
         "mode": "markers",
         "name": "Actual",
         "type": "scatter",
         "x": [
          "2024-06-14T00:00:00",
          "2024-06-14T01:00:00",
          "2024-06-14T02:00:00",
          "2024-06-14T03:00:00",
          "2024-06-14T04:00:00",
          "2024-06-14T05:00:00",
          "2024-06-14T06:00:00",
          "2024-06-14T07:00:00",
          "2024-06-14T08:00:00",
          "2024-06-14T09:00:00",
          "2024-06-14T10:00:00",
          "2024-06-14T11:00:00",
          "2024-06-14T12:00:00",
          "2024-06-14T13:00:00",
          "2024-06-14T14:00:00",
          "2024-06-14T15:00:00",
          "2024-06-14T16:00:00",
          "2024-06-14T17:00:00",
          "2024-06-14T18:00:00",
          "2024-06-14T19:00:00",
          "2024-06-14T20:00:00",
          "2024-06-14T21:00:00",
          "2024-06-14T22:00:00",
          "2024-06-14T23:00:00",
          "2024-06-15T00:00:00",
          "2024-06-15T01:00:00",
          "2024-06-15T02:00:00",
          "2024-06-15T03:00:00",
          "2024-06-15T04:00:00",
          "2024-06-15T05:00:00",
          "2024-06-15T06:00:00",
          "2024-06-15T07:00:00",
          "2024-06-15T08:00:00",
          "2024-06-15T09:00:00",
          "2024-06-15T10:00:00",
          "2024-06-15T11:00:00",
          "2024-06-15T12:00:00",
          "2024-06-15T13:00:00",
          "2024-06-15T14:00:00",
          "2024-06-15T15:00:00",
          "2024-06-15T16:00:00",
          "2024-06-15T17:00:00",
          "2024-06-15T18:00:00",
          "2024-06-15T19:00:00",
          "2024-06-15T20:00:00",
          "2024-06-15T21:00:00",
          "2024-06-15T22:00:00",
          "2024-06-15T23:00:00",
          "2024-06-16T00:00:00",
          "2024-06-16T01:00:00",
          "2024-06-16T02:00:00",
          "2024-06-16T03:00:00",
          "2024-06-16T04:00:00",
          "2024-06-16T05:00:00",
          "2024-06-16T06:00:00",
          "2024-06-16T07:00:00",
          "2024-06-16T08:00:00",
          "2024-06-16T09:00:00",
          "2024-06-16T10:00:00",
          "2024-06-16T11:00:00",
          "2024-06-16T12:00:00",
          "2024-06-16T13:00:00",
          "2024-06-16T14:00:00",
          "2024-06-16T15:00:00",
          "2024-06-16T16:00:00",
          "2024-06-16T17:00:00",
          "2024-06-16T18:00:00",
          "2024-06-16T19:00:00",
          "2024-06-16T20:00:00",
          "2024-06-16T21:00:00",
          "2024-06-16T22:00:00",
          "2024-06-16T23:00:00",
          "2024-06-17T00:00:00",
          "2024-06-17T01:00:00",
          "2024-06-17T02:00:00",
          "2024-06-17T03:00:00",
          "2024-06-17T04:00:00",
          "2024-06-17T05:00:00",
          "2024-06-17T06:00:00",
          "2024-06-17T07:00:00",
          "2024-06-17T08:00:00",
          "2024-06-17T09:00:00",
          "2024-06-17T10:00:00",
          "2024-06-17T11:00:00",
          "2024-06-17T12:00:00",
          "2024-06-17T13:00:00",
          "2024-06-17T14:00:00",
          "2024-06-17T15:00:00",
          "2024-06-17T16:00:00",
          "2024-06-17T17:00:00",
          "2024-06-17T18:00:00",
          "2024-06-17T19:00:00",
          "2024-06-17T20:00:00",
          "2024-06-17T21:00:00",
          "2024-06-17T22:00:00",
          "2024-06-17T23:00:00",
          "2024-06-18T00:00:00",
          "2024-06-18T01:00:00",
          "2024-06-18T02:00:00",
          "2024-06-18T03:00:00",
          "2024-06-18T04:00:00",
          "2024-06-18T05:00:00",
          "2024-06-18T06:00:00",
          "2024-06-18T07:00:00",
          "2024-06-18T08:00:00",
          "2024-06-18T09:00:00",
          "2024-06-18T10:00:00",
          "2024-06-18T11:00:00",
          "2024-06-18T12:00:00",
          "2024-06-18T13:00:00",
          "2024-06-18T14:00:00",
          "2024-06-18T15:00:00",
          "2024-06-18T16:00:00",
          "2024-06-18T17:00:00",
          "2024-06-18T18:00:00",
          "2024-06-18T19:00:00",
          "2024-06-18T20:00:00",
          "2024-06-18T21:00:00",
          "2024-06-18T22:00:00",
          "2024-06-18T23:00:00",
          "2024-06-19T00:00:00",
          "2024-06-19T01:00:00",
          "2024-06-19T02:00:00",
          "2024-06-19T03:00:00",
          "2024-06-19T04:00:00",
          "2024-06-19T05:00:00",
          "2024-06-19T06:00:00",
          "2024-06-19T07:00:00",
          "2024-06-19T08:00:00",
          "2024-06-19T09:00:00",
          "2024-06-19T10:00:00",
          "2024-06-19T11:00:00",
          "2024-06-19T12:00:00",
          "2024-06-19T13:00:00",
          "2024-06-19T14:00:00",
          "2024-06-19T15:00:00",
          "2024-06-19T16:00:00",
          "2024-06-19T17:00:00",
          "2024-06-19T18:00:00",
          "2024-06-19T19:00:00",
          "2024-06-19T20:00:00",
          "2024-06-19T21:00:00",
          "2024-06-19T22:00:00",
          "2024-06-19T23:00:00"
         ],
         "y": [
          33.3,
          33.1,
          33.4,
          33.3,
          32.5,
          32.4,
          33.2,
          34.6,
          36.5,
          38.3,
          40.1,
          42,
          43.5,
          44.6,
          45.3,
          45.6,
          45.4,
          44.8,
          43.4,
          41.5,
          37.7,
          34.7,
          34.2,
          33.5,
          34.2,
          34.2,
          33.8,
          33.1,
          32.4,
          32.1,
          33.1,
          35.1,
          37.6,
          39.6,
          41.6,
          43.2,
          44.6,
          45.8,
          46.6,
          46.9,
          46.8,
          45.6,
          40.7,
          36.2,
          34.9,
          33.6,
          32.4,
          31.9,
          34.3,
          34.1,
          33.3,
          32.8,
          32.2,
          31.8,
          32.9,
          35,
          37.4,
          39.4,
          41.2,
          42.7,
          44.1,
          45.2,
          46.1,
          46.5,
          46.5,
          46.2,
          44.8,
          39.8,
          35.6,
          34.4,
          33.2,
          32.8,
          32.9,
          32.8,
          32.9,
          32.9,
          32.9,
          32.7,
          33.5,
          35.5,
          37.7,
          39.4,
          41.3,
          43.2,
          44.6,
          45.8,
          46.5,
          47,
          47.1,
          46.6,
          44.7,
          38.5,
          34.5,
          33.1,
          32.5,
          32.4,
          36.8,
          36.8,
          36.4,
          36.2,
          35.6,
          34.9,
          35.6,
          38,
          40.5,
          42.1,
          43.7,
          45.7,
          46.7,
          47,
          47.2,
          46.9,
          46.5,
          45.7,
          42.2,
          38.2,
          34.8,
          33.6,
          33.1,
          32.7,
          32.5,
          32.5,
          32.3,
          32.6,
          32.9,
          32.9,
          34.9,
          37.5,
          39.3,
          40.3,
          41.9,
          43.1,
          43.5,
          43.3,
          43.3,
          43.9,
          44,
          42.9,
          41.3,
          38.6,
          35.6,
          33.2,
          32.6,
          32.4
         ]
        },
        {
         "hoverinfo": "skip",
         "line": {
          "width": 0
         },
         "mode": "lines",
         "type": "scatter",
         "x": [
          "2024-06-14T00:00:00",
          "2024-06-14T01:00:00",
          "2024-06-14T02:00:00",
          "2024-06-14T03:00:00",
          "2024-06-14T04:00:00",
          "2024-06-14T05:00:00",
          "2024-06-14T06:00:00",
          "2024-06-14T07:00:00",
          "2024-06-14T08:00:00",
          "2024-06-14T09:00:00",
          "2024-06-14T10:00:00",
          "2024-06-14T11:00:00",
          "2024-06-14T12:00:00",
          "2024-06-14T13:00:00",
          "2024-06-14T14:00:00",
          "2024-06-14T15:00:00",
          "2024-06-14T16:00:00",
          "2024-06-14T17:00:00",
          "2024-06-14T18:00:00",
          "2024-06-14T19:00:00",
          "2024-06-14T20:00:00",
          "2024-06-14T21:00:00",
          "2024-06-14T22:00:00",
          "2024-06-14T23:00:00",
          "2024-06-15T00:00:00",
          "2024-06-15T01:00:00",
          "2024-06-15T02:00:00",
          "2024-06-15T03:00:00",
          "2024-06-15T04:00:00",
          "2024-06-15T05:00:00",
          "2024-06-15T06:00:00",
          "2024-06-15T07:00:00",
          "2024-06-15T08:00:00",
          "2024-06-15T09:00:00",
          "2024-06-15T10:00:00",
          "2024-06-15T11:00:00",
          "2024-06-15T12:00:00",
          "2024-06-15T13:00:00",
          "2024-06-15T14:00:00",
          "2024-06-15T15:00:00",
          "2024-06-15T16:00:00",
          "2024-06-15T17:00:00",
          "2024-06-15T18:00:00",
          "2024-06-15T19:00:00",
          "2024-06-15T20:00:00",
          "2024-06-15T21:00:00",
          "2024-06-15T22:00:00",
          "2024-06-15T23:00:00",
          "2024-06-16T00:00:00",
          "2024-06-16T01:00:00",
          "2024-06-16T02:00:00",
          "2024-06-16T03:00:00",
          "2024-06-16T04:00:00",
          "2024-06-16T05:00:00",
          "2024-06-16T06:00:00",
          "2024-06-16T07:00:00",
          "2024-06-16T08:00:00",
          "2024-06-16T09:00:00",
          "2024-06-16T10:00:00",
          "2024-06-16T11:00:00",
          "2024-06-16T12:00:00",
          "2024-06-16T13:00:00",
          "2024-06-16T14:00:00",
          "2024-06-16T15:00:00",
          "2024-06-16T16:00:00",
          "2024-06-16T17:00:00",
          "2024-06-16T18:00:00",
          "2024-06-16T19:00:00",
          "2024-06-16T20:00:00",
          "2024-06-16T21:00:00",
          "2024-06-16T22:00:00",
          "2024-06-16T23:00:00",
          "2024-06-17T00:00:00",
          "2024-06-17T01:00:00",
          "2024-06-17T02:00:00",
          "2024-06-17T03:00:00",
          "2024-06-17T04:00:00",
          "2024-06-17T05:00:00",
          "2024-06-17T06:00:00",
          "2024-06-17T07:00:00",
          "2024-06-17T08:00:00",
          "2024-06-17T09:00:00",
          "2024-06-17T10:00:00",
          "2024-06-17T11:00:00",
          "2024-06-17T12:00:00",
          "2024-06-17T13:00:00",
          "2024-06-17T14:00:00",
          "2024-06-17T15:00:00",
          "2024-06-17T16:00:00",
          "2024-06-17T17:00:00",
          "2024-06-17T18:00:00",
          "2024-06-17T19:00:00",
          "2024-06-17T20:00:00",
          "2024-06-17T21:00:00",
          "2024-06-17T22:00:00",
          "2024-06-17T23:00:00",
          "2024-06-18T00:00:00",
          "2024-06-18T01:00:00",
          "2024-06-18T02:00:00",
          "2024-06-18T03:00:00",
          "2024-06-18T04:00:00",
          "2024-06-18T05:00:00",
          "2024-06-18T06:00:00",
          "2024-06-18T07:00:00",
          "2024-06-18T08:00:00",
          "2024-06-18T09:00:00",
          "2024-06-18T10:00:00",
          "2024-06-18T11:00:00",
          "2024-06-18T12:00:00",
          "2024-06-18T13:00:00",
          "2024-06-18T14:00:00",
          "2024-06-18T15:00:00",
          "2024-06-18T16:00:00",
          "2024-06-18T17:00:00",
          "2024-06-18T18:00:00",
          "2024-06-18T19:00:00",
          "2024-06-18T20:00:00",
          "2024-06-18T21:00:00",
          "2024-06-18T22:00:00",
          "2024-06-18T23:00:00",
          "2024-06-19T00:00:00",
          "2024-06-19T01:00:00",
          "2024-06-19T02:00:00",
          "2024-06-19T03:00:00",
          "2024-06-19T04:00:00",
          "2024-06-19T05:00:00",
          "2024-06-19T06:00:00",
          "2024-06-19T07:00:00",
          "2024-06-19T08:00:00",
          "2024-06-19T09:00:00",
          "2024-06-19T10:00:00",
          "2024-06-19T11:00:00",
          "2024-06-19T12:00:00",
          "2024-06-19T13:00:00",
          "2024-06-19T14:00:00",
          "2024-06-19T15:00:00",
          "2024-06-19T16:00:00",
          "2024-06-19T17:00:00",
          "2024-06-19T18:00:00",
          "2024-06-19T19:00:00",
          "2024-06-19T20:00:00",
          "2024-06-19T21:00:00",
          "2024-06-19T22:00:00",
          "2024-06-19T23:00:00",
          "2024-06-20T23:00:00",
          "2024-06-21T23:00:00",
          "2024-06-22T23:00:00",
          "2024-06-23T23:00:00",
          "2024-06-24T23:00:00",
          "2024-06-25T23:00:00",
          "2024-06-26T23:00:00",
          "2024-06-27T23:00:00",
          "2024-06-28T23:00:00",
          "2024-06-29T23:00:00"
         ],
         "y": [
          32.09307278121245,
          32.28462280492418,
          31.97353452307954,
          31.516506821056048,
          31.09268547691504,
          31.24536038215258,
          32.32473842897493,
          34.05502690806135,
          36.0312971264696,
          38.165002924353146,
          40.195499959263344,
          41.6066302255376,
          42.61106377734523,
          43.49284813557047,
          44.15926827812545,
          44.6793515495753,
          44.67780265151985,
          43.46047329750233,
          40.936510865221,
          37.46589217374485,
          34.274625946945164,
          32.037167860269605,
          31.18195013480757,
          31.496304678885082,
          32.06006011979522,
          32.41536822515038,
          32.07250949647944,
          31.50907001255868,
          31.16716921659108,
          31.41581126416982,
          32.480388116919094,
          34.043984318356124,
          36.20846200349775,
          38.40630294097813,
          40.197234510886865,
          41.76051258893681,
          42.78667482121408,
          43.56765266066589,
          44.30567771816341,
          44.763298226464634,
          44.802853185864095,
          43.506389528452814,
          41.07053846355401,
          37.63370129543232,
          34.47043888188459,
          32.13029036448513,
          31.341518364222658,
          31.646151076937937,
          32.204483551503536,
          32.42339372096451,
          32.34729197978944,
          31.6938142529566,
          31.301174876719198,
          31.722195626614962,
          32.624964581430035,
          34.305527245919784,
          36.33556677272455,
          38.536140792440065,
          40.450693256774656,
          41.96386718220959,
          42.95038388126505,
          43.84220800180037,
          44.573761786991525,
          45.10931903343805,
          44.97364580983008,
          43.781268649157546,
          41.326815216458606,
          37.961503665870985,
          34.69995416342932,
          32.350046129775876,
          31.589587618082344,
          31.962334074824078,
          32.60184402745323,
          32.89228780241188,
          32.6700198043322,
          32.06761826277967,
          31.791562215543763,
          31.953910424924054,
          33.12189025403253,
          34.68363413001777,
          36.853978951659634,
          39.125136991447256,
          40.97304294041912,
          42.46625407763703,
          43.60516148813405,
          44.41131717413368,
          45.15644997749657,
          45.665328655182265,
          45.663354154623704,
          44.47838190148419,
          41.96658332246031,
          38.74064296406756,
          35.40065985926038,
          33.101566828623724,
          32.39670617630938,
          32.709325702770386,
          33.44657884539193,
          33.78878981967808,
          33.427097683952184,
          32.9665630849183,
          32.60803779037074,
          32.86545558439155,
          33.85663987691217,
          35.600439459879716,
          37.591990703966395,
          39.71910587071811,
          41.70795139297168,
          43.00770910147084,
          43.93842314962521,
          44.834306508278814,
          45.51455372592045,
          45.85336077267381,
          45.72765553289432,
          44.38151798552152,
          41.84429186189176,
          38.46494166466693,
          34.96302840882868,
          32.63105293595202,
          31.82666405359825,
          32.05722819774425,
          32.652644279959546,
          32.88620311286998,
          32.5672615393714,
          31.952300281112773,
          31.503529945754835,
          31.62120300516047,
          32.59163030961381,
          34.127294399446434,
          36.16241161830931,
          38.21776905456155,
          39.94321142051408,
          41.47705853931537,
          42.57186375781912,
          43.195499169350235,
          43.745032958194265,
          44.27007482066121,
          44.06486620520606,
          42.87994310252555,
          40.33620131424048,
          36.81064550472928,
          33.436259121594944,
          31.004804119772988,
          30.23468250223549,
          30.357397862530714,
          28.853941177858278,
          27.11458795406585,
          25.323362683993174,
          23.670516957613565,
          21.666417162609495,
          19.743198031952527,
          17.557873771907026,
          15.43232156900692,
          13.202661028001062,
          10.724748347648138
         ]
        },
        {
         "fill": "tonexty",
         "fillcolor": "rgba(0, 114, 178, 0.2)",
         "line": {
          "color": "#0072B2",
          "width": 2
         },
         "mode": "lines",
         "name": "Predicted",
         "type": "scatter",
         "x": [
          "2024-06-14T00:00:00",
          "2024-06-14T01:00:00",
          "2024-06-14T02:00:00",
          "2024-06-14T03:00:00",
          "2024-06-14T04:00:00",
          "2024-06-14T05:00:00",
          "2024-06-14T06:00:00",
          "2024-06-14T07:00:00",
          "2024-06-14T08:00:00",
          "2024-06-14T09:00:00",
          "2024-06-14T10:00:00",
          "2024-06-14T11:00:00",
          "2024-06-14T12:00:00",
          "2024-06-14T13:00:00",
          "2024-06-14T14:00:00",
          "2024-06-14T15:00:00",
          "2024-06-14T16:00:00",
          "2024-06-14T17:00:00",
          "2024-06-14T18:00:00",
          "2024-06-14T19:00:00",
          "2024-06-14T20:00:00",
          "2024-06-14T21:00:00",
          "2024-06-14T22:00:00",
          "2024-06-14T23:00:00",
          "2024-06-15T00:00:00",
          "2024-06-15T01:00:00",
          "2024-06-15T02:00:00",
          "2024-06-15T03:00:00",
          "2024-06-15T04:00:00",
          "2024-06-15T05:00:00",
          "2024-06-15T06:00:00",
          "2024-06-15T07:00:00",
          "2024-06-15T08:00:00",
          "2024-06-15T09:00:00",
          "2024-06-15T10:00:00",
          "2024-06-15T11:00:00",
          "2024-06-15T12:00:00",
          "2024-06-15T13:00:00",
          "2024-06-15T14:00:00",
          "2024-06-15T15:00:00",
          "2024-06-15T16:00:00",
          "2024-06-15T17:00:00",
          "2024-06-15T18:00:00",
          "2024-06-15T19:00:00",
          "2024-06-15T20:00:00",
          "2024-06-15T21:00:00",
          "2024-06-15T22:00:00",
          "2024-06-15T23:00:00",
          "2024-06-16T00:00:00",
          "2024-06-16T01:00:00",
          "2024-06-16T02:00:00",
          "2024-06-16T03:00:00",
          "2024-06-16T04:00:00",
          "2024-06-16T05:00:00",
          "2024-06-16T06:00:00",
          "2024-06-16T07:00:00",
          "2024-06-16T08:00:00",
          "2024-06-16T09:00:00",
          "2024-06-16T10:00:00",
          "2024-06-16T11:00:00",
          "2024-06-16T12:00:00",
          "2024-06-16T13:00:00",
          "2024-06-16T14:00:00",
          "2024-06-16T15:00:00",
          "2024-06-16T16:00:00",
          "2024-06-16T17:00:00",
          "2024-06-16T18:00:00",
          "2024-06-16T19:00:00",
          "2024-06-16T20:00:00",
          "2024-06-16T21:00:00",
          "2024-06-16T22:00:00",
          "2024-06-16T23:00:00",
          "2024-06-17T00:00:00",
          "2024-06-17T01:00:00",
          "2024-06-17T02:00:00",
          "2024-06-17T03:00:00",
          "2024-06-17T04:00:00",
          "2024-06-17T05:00:00",
          "2024-06-17T06:00:00",
          "2024-06-17T07:00:00",
          "2024-06-17T08:00:00",
          "2024-06-17T09:00:00",
          "2024-06-17T10:00:00",
          "2024-06-17T11:00:00",
          "2024-06-17T12:00:00",
          "2024-06-17T13:00:00",
          "2024-06-17T14:00:00",
          "2024-06-17T15:00:00",
          "2024-06-17T16:00:00",
          "2024-06-17T17:00:00",
          "2024-06-17T18:00:00",
          "2024-06-17T19:00:00",
          "2024-06-17T20:00:00",
          "2024-06-17T21:00:00",
          "2024-06-17T22:00:00",
          "2024-06-17T23:00:00",
          "2024-06-18T00:00:00",
          "2024-06-18T01:00:00",
          "2024-06-18T02:00:00",
          "2024-06-18T03:00:00",
          "2024-06-18T04:00:00",
          "2024-06-18T05:00:00",
          "2024-06-18T06:00:00",
          "2024-06-18T07:00:00",
          "2024-06-18T08:00:00",
          "2024-06-18T09:00:00",
          "2024-06-18T10:00:00",
          "2024-06-18T11:00:00",
          "2024-06-18T12:00:00",
          "2024-06-18T13:00:00",
          "2024-06-18T14:00:00",
          "2024-06-18T15:00:00",
          "2024-06-18T16:00:00",
          "2024-06-18T17:00:00",
          "2024-06-18T18:00:00",
          "2024-06-18T19:00:00",
          "2024-06-18T20:00:00",
          "2024-06-18T21:00:00",
          "2024-06-18T22:00:00",
          "2024-06-18T23:00:00",
          "2024-06-19T00:00:00",
          "2024-06-19T01:00:00",
          "2024-06-19T02:00:00",
          "2024-06-19T03:00:00",
          "2024-06-19T04:00:00",
          "2024-06-19T05:00:00",
          "2024-06-19T06:00:00",
          "2024-06-19T07:00:00",
          "2024-06-19T08:00:00",
          "2024-06-19T09:00:00",
          "2024-06-19T10:00:00",
          "2024-06-19T11:00:00",
          "2024-06-19T12:00:00",
          "2024-06-19T13:00:00",
          "2024-06-19T14:00:00",
          "2024-06-19T15:00:00",
          "2024-06-19T16:00:00",
          "2024-06-19T17:00:00",
          "2024-06-19T18:00:00",
          "2024-06-19T19:00:00",
          "2024-06-19T20:00:00",
          "2024-06-19T21:00:00",
          "2024-06-19T22:00:00",
          "2024-06-19T23:00:00",
          "2024-06-20T23:00:00",
          "2024-06-21T23:00:00",
          "2024-06-22T23:00:00",
          "2024-06-23T23:00:00",
          "2024-06-24T23:00:00",
          "2024-06-25T23:00:00",
          "2024-06-26T23:00:00",
          "2024-06-27T23:00:00",
          "2024-06-28T23:00:00",
          "2024-06-29T23:00:00"
         ],
         "y": [
          33.26495378400645,
          33.57939587559347,
          33.30791933491816,
          32.727751213730464,
          32.35323106968615,
          32.60189940246283,
          33.619548399259074,
          35.296902916929504,
          37.37119987981361,
          39.51717297537714,
          41.42507377477557,
          42.89904966359617,
          43.943472106541456,
          44.736567792907124,
          45.44162666792293,
          45.965842389153444,
          45.88841162915683,
          44.69405756270436,
          42.196222390112595,
          38.82832466965385,
          35.53164786472007,
          33.25949495880314,
          32.433870229205525,
          32.74169732246577,
          33.406831757935876,
          33.72082774818118,
          33.44890510611407,
          32.8682908835472,
          32.493164297101885,
          32.741226187495265,
          33.75826874760028,
          35.43501682850396,
          37.5087073547469,
          39.654074017367165,
          41.56136838363904,
          43.03473783933817,
          44.07855384922749,
          44.87104309900012,
          45.57549553747815,
          46.09910481826585,
          46.021067617807404,
          44.826107110980935,
          42.32766549858966,
          38.95952619122277,
          35.66260779944309,
          33.39021330641977,
          32.56434698989289,
          32.871932495982655,
          33.536906591361046,
          33.85074224153633,
          33.57865925939407,
          32.997895209892185,
          32.622779137532326,
          32.87085154203327,
          33.887904616178545,
          35.564663211164046,
          37.6471784060398,
          39.801369733373576,
          41.7174887642707,
          43.19968288483674,
          44.25540631680767,
          45.05980299219035,
          45.776162856270204,
          46.31167956265359,
          46.245549787771765,
          45.06249686916463,
          42.57596284426118,
          39.21973112430861,
          35.93472032001702,
          33.67423352169429,
          32.86027489986953,
          33.17976810074589,
          33.85664989102782,
          34.182393236014896,
          33.9348447738694,
          33.37860473121711,
          33.028012665725605,
          33.30060907707394,
          34.342186158088325,
          36.05142407243929,
          38.15760443207991,
          40.33546092431594,
          42.275245120209014,
          43.781149946677466,
          44.85750132720301,
          45.68252595113195,
          46.419513763757024,
          46.97565841869286,
          46.930156589611194,
          45.76773145406068,
          43.301825212233084,
          39.96622127558844,
          36.70183825737348,
          34.46197913817364,
          33.668648195460364,
          34.008769075441826,
          34.70627854480209,
          35.05264939056134,
          34.8131016040595,
          34.264862236972625,
          33.922270847164924,
          34.16350313410289,
          35.17371609076111,
          36.843634568298235,
          38.910495491109664,
          41.04903254649818,
          42.90419223701719,
          44.32542701704306,
          45.31710835113813,
          46.05746292864794,
          46.689559620681955,
          47.14081315511136,
          46.99042020817768,
          45.72310395496981,
          43.152306595409115,
          39.71181153476237,
          36.342537389763066,
          33.99778714353603,
          33.0995650737965,
          33.33479482682281,
          33.92741316915883,
          34.16889306625606,
          33.82445433105042,
          33.1713240153217,
          32.72384167681216,
          32.89954781507041,
          33.84423462306963,
          35.44862695181323,
          37.44996172601119,
          39.522972632755376,
          41.35791124314918,
          42.758924942962395,
          43.7303851969032,
          44.450518694270045,
          45.08261538028886,
          45.53386890862139,
          45.38347595571273,
          44.116159696444655,
          41.545362330824716,
          38.104867270164505,
          34.73559312523267,
          32.3908428789866,
          31.4926208092367,
          31.7278505622759,
          30.12090629771076,
          28.51396203321609,
          26.90701776866917,
          25.3000735041745,
          23.693129239679827,
          22.086184975132912,
          20.47924071063824,
          18.872296446073108,
          17.265352181578432,
          15.658407917031516
         ]
        },
        {
         "fill": "tonexty",
         "fillcolor": "rgba(0, 114, 178, 0.2)",
         "hoverinfo": "skip",
         "line": {
          "width": 0
         },
         "mode": "lines",
         "type": "scatter",
         "x": [
          "2024-06-14T00:00:00",
          "2024-06-14T01:00:00",
          "2024-06-14T02:00:00",
          "2024-06-14T03:00:00",
          "2024-06-14T04:00:00",
          "2024-06-14T05:00:00",
          "2024-06-14T06:00:00",
          "2024-06-14T07:00:00",
          "2024-06-14T08:00:00",
          "2024-06-14T09:00:00",
          "2024-06-14T10:00:00",
          "2024-06-14T11:00:00",
          "2024-06-14T12:00:00",
          "2024-06-14T13:00:00",
          "2024-06-14T14:00:00",
          "2024-06-14T15:00:00",
          "2024-06-14T16:00:00",
          "2024-06-14T17:00:00",
          "2024-06-14T18:00:00",
          "2024-06-14T19:00:00",
          "2024-06-14T20:00:00",
          "2024-06-14T21:00:00",
          "2024-06-14T22:00:00",
          "2024-06-14T23:00:00",
          "2024-06-15T00:00:00",
          "2024-06-15T01:00:00",
          "2024-06-15T02:00:00",
          "2024-06-15T03:00:00",
          "2024-06-15T04:00:00",
          "2024-06-15T05:00:00",
          "2024-06-15T06:00:00",
          "2024-06-15T07:00:00",
          "2024-06-15T08:00:00",
          "2024-06-15T09:00:00",
          "2024-06-15T10:00:00",
          "2024-06-15T11:00:00",
          "2024-06-15T12:00:00",
          "2024-06-15T13:00:00",
          "2024-06-15T14:00:00",
          "2024-06-15T15:00:00",
          "2024-06-15T16:00:00",
          "2024-06-15T17:00:00",
          "2024-06-15T18:00:00",
          "2024-06-15T19:00:00",
          "2024-06-15T20:00:00",
          "2024-06-15T21:00:00",
          "2024-06-15T22:00:00",
          "2024-06-15T23:00:00",
          "2024-06-16T00:00:00",
          "2024-06-16T01:00:00",
          "2024-06-16T02:00:00",
          "2024-06-16T03:00:00",
          "2024-06-16T04:00:00",
          "2024-06-16T05:00:00",
          "2024-06-16T06:00:00",
          "2024-06-16T07:00:00",
          "2024-06-16T08:00:00",
          "2024-06-16T09:00:00",
          "2024-06-16T10:00:00",
          "2024-06-16T11:00:00",
          "2024-06-16T12:00:00",
          "2024-06-16T13:00:00",
          "2024-06-16T14:00:00",
          "2024-06-16T15:00:00",
          "2024-06-16T16:00:00",
          "2024-06-16T17:00:00",
          "2024-06-16T18:00:00",
          "2024-06-16T19:00:00",
          "2024-06-16T20:00:00",
          "2024-06-16T21:00:00",
          "2024-06-16T22:00:00",
          "2024-06-16T23:00:00",
          "2024-06-17T00:00:00",
          "2024-06-17T01:00:00",
          "2024-06-17T02:00:00",
          "2024-06-17T03:00:00",
          "2024-06-17T04:00:00",
          "2024-06-17T05:00:00",
          "2024-06-17T06:00:00",
          "2024-06-17T07:00:00",
          "2024-06-17T08:00:00",
          "2024-06-17T09:00:00",
          "2024-06-17T10:00:00",
          "2024-06-17T11:00:00",
          "2024-06-17T12:00:00",
          "2024-06-17T13:00:00",
          "2024-06-17T14:00:00",
          "2024-06-17T15:00:00",
          "2024-06-17T16:00:00",
          "2024-06-17T17:00:00",
          "2024-06-17T18:00:00",
          "2024-06-17T19:00:00",
          "2024-06-17T20:00:00",
          "2024-06-17T21:00:00",
          "2024-06-17T22:00:00",
          "2024-06-17T23:00:00",
          "2024-06-18T00:00:00",
          "2024-06-18T01:00:00",
          "2024-06-18T02:00:00",
          "2024-06-18T03:00:00",
          "2024-06-18T04:00:00",
          "2024-06-18T05:00:00",
          "2024-06-18T06:00:00",
          "2024-06-18T07:00:00",
          "2024-06-18T08:00:00",
          "2024-06-18T09:00:00",
          "2024-06-18T10:00:00",
          "2024-06-18T11:00:00",
          "2024-06-18T12:00:00",
          "2024-06-18T13:00:00",
          "2024-06-18T14:00:00",
          "2024-06-18T15:00:00",
          "2024-06-18T16:00:00",
          "2024-06-18T17:00:00",
          "2024-06-18T18:00:00",
          "2024-06-18T19:00:00",
          "2024-06-18T20:00:00",
          "2024-06-18T21:00:00",
          "2024-06-18T22:00:00",
          "2024-06-18T23:00:00",
          "2024-06-19T00:00:00",
          "2024-06-19T01:00:00",
          "2024-06-19T02:00:00",
          "2024-06-19T03:00:00",
          "2024-06-19T04:00:00",
          "2024-06-19T05:00:00",
          "2024-06-19T06:00:00",
          "2024-06-19T07:00:00",
          "2024-06-19T08:00:00",
          "2024-06-19T09:00:00",
          "2024-06-19T10:00:00",
          "2024-06-19T11:00:00",
          "2024-06-19T12:00:00",
          "2024-06-19T13:00:00",
          "2024-06-19T14:00:00",
          "2024-06-19T15:00:00",
          "2024-06-19T16:00:00",
          "2024-06-19T17:00:00",
          "2024-06-19T18:00:00",
          "2024-06-19T19:00:00",
          "2024-06-19T20:00:00",
          "2024-06-19T21:00:00",
          "2024-06-19T22:00:00",
          "2024-06-19T23:00:00",
          "2024-06-20T23:00:00",
          "2024-06-21T23:00:00",
          "2024-06-22T23:00:00",
          "2024-06-23T23:00:00",
          "2024-06-24T23:00:00",
          "2024-06-25T23:00:00",
          "2024-06-26T23:00:00",
          "2024-06-27T23:00:00",
          "2024-06-28T23:00:00",
          "2024-06-29T23:00:00"
         ],
         "y": [
          34.65692024681901,
          34.92525147417392,
          34.646652283696504,
          33.976983104814146,
          33.55574726317848,
          33.87803844151694,
          34.805146817994626,
          36.58309503968603,
          38.54212964214086,
          40.69561136566907,
          42.69928881687583,
          44.152548450856024,
          45.23632583459279,
          46.10961268797593,
          46.642602679367776,
          47.18280894747595,
          47.19028349767146,
          45.94907239286555,
          43.429755153161345,
          40.05570288897532,
          36.74531447918514,
          34.495242143313604,
          33.68860228451881,
          33.95420559480167,
          34.706754758380036,
          35.02008697542617,
          34.62887154322439,
          34.143843566685995,
          33.85323018160631,
          33.977601596273026,
          35.01402508716975,
          36.63993673887216,
          38.84112445446436,
          40.959022583251596,
          42.77041115154851,
          44.348482740157415,
          45.32304446137016,
          46.202073161810326,
          46.83741899981648,
          47.36882377745075,
          47.30018226028106,
          46.17198655106162,
          43.54805011931984,
          40.15970213825965,
          36.92774913026433,
          34.65880420323803,
          33.877043378092765,
          34.032780656993246,
          34.76749762617465,
          35.08124150253233,
          34.830966280034765,
          34.23371956926635,
          33.95219909183427,
          34.21016338141246,
          35.21464303087228,
          36.884749191236,
          38.86955874822808,
          41.06776932471933,
          42.96288815087553,
          44.42824104810984,
          45.418053157063646,
          46.27305403124407,
          47.110450073484586,
          47.60235982985697,
          47.43379538324719,
          46.285202207986785,
          43.88442090679156,
          40.518762448042956,
          37.25092659497861,
          34.87566099001753,
          34.215902125044494,
          34.43763610804043,
          35.12461823973664,
          35.44957540772232,
          35.215777132448004,
          34.62290133851476,
          34.269084938308595,
          34.613345904506836,
          35.68625605517765,
          37.383115577872715,
          39.49193118341084,
          41.545215147224454,
          43.55764327283725,
          45.036056911734065,
          46.164248351075166,
          46.94774060496848,
          47.693727020917706,
          48.212479935317596,
          48.27989660757096,
          47.030445453351945,
          44.60696117207184,
          41.20997466514264,
          37.949475130048995,
          35.78847785389713,
          35.017752832208245,
          35.28296835019115,
          35.98598508959169,
          36.239834027727234,
          36.133761669609655,
          35.499546584249664,
          35.18486423945714,
          35.47169964567698,
          36.52077974617135,
          38.13074481788789,
          40.25507616759272,
          42.36103051590584,
          44.12863926817114,
          45.561497269863395,
          46.52570467444095,
          47.45535140536952,
          48.054373506374134,
          48.45330677869901,
          48.1718909143155,
          47.001219485716334,
          44.43111723817029,
          41.029290364018784,
          37.64134227583866,
          35.16895919865469,
          34.414059551145556,
          34.584048097314856,
          35.279902535854504,
          35.40055068801631,
          35.06002595548296,
          34.56694108258315,
          34.034982082547344,
          34.17046800473788,
          35.07288515331072,
          36.67526794723332,
          38.7589153483466,
          40.841764927621476,
          42.56555886518906,
          44.06927592066445,
          45.032222216988835,
          45.72750770814345,
          46.35203671080602,
          46.86425912994685,
          46.648394852551206,
          45.422838207443306,
          42.845515020325976,
          39.444695056774066,
          36.07075261958771,
          33.67748138518927,
          32.69879978408959,
          32.98012812556208,
          31.409266111633944,
          29.951632636465852,
          28.38597611541267,
          26.935079118462486,
          25.541555531294637,
          24.382367665150664,
          23.33069013628953,
          22.194760637939098,
          21.021580579157977,
          20.206562186983522
         ]
        }
       ],
       "layout": {
        "height": 600,
        "showlegend": false,
        "template": {
         "data": {
          "bar": [
           {
            "error_x": {
             "color": "#2a3f5f"
            },
            "error_y": {
             "color": "#2a3f5f"
            },
            "marker": {
             "line": {
              "color": "#E5ECF6",
              "width": 0.5
             },
             "pattern": {
              "fillmode": "overlay",
              "size": 10,
              "solidity": 0.2
             }
            },
            "type": "bar"
           }
          ],
          "barpolar": [
           {
            "marker": {
             "line": {
              "color": "#E5ECF6",
              "width": 0.5
             },
             "pattern": {
              "fillmode": "overlay",
              "size": 10,
              "solidity": 0.2
             }
            },
            "type": "barpolar"
           }
          ],
          "carpet": [
           {
            "aaxis": {
             "endlinecolor": "#2a3f5f",
             "gridcolor": "white",
             "linecolor": "white",
             "minorgridcolor": "white",
             "startlinecolor": "#2a3f5f"
            },
            "baxis": {
             "endlinecolor": "#2a3f5f",
             "gridcolor": "white",
             "linecolor": "white",
             "minorgridcolor": "white",
             "startlinecolor": "#2a3f5f"
            },
            "type": "carpet"
           }
          ],
          "choropleth": [
           {
            "colorbar": {
             "outlinewidth": 0,
             "ticks": ""
            },
            "type": "choropleth"
           }
          ],
          "contour": [
           {
            "colorbar": {
             "outlinewidth": 0,
             "ticks": ""
            },
            "colorscale": [
             [
              0,
              "#0d0887"
             ],
             [
              0.1111111111111111,
              "#46039f"
             ],
             [
              0.2222222222222222,
              "#7201a8"
             ],
             [
              0.3333333333333333,
              "#9c179e"
             ],
             [
              0.4444444444444444,
              "#bd3786"
             ],
             [
              0.5555555555555556,
              "#d8576b"
             ],
             [
              0.6666666666666666,
              "#ed7953"
             ],
             [
              0.7777777777777778,
              "#fb9f3a"
             ],
             [
              0.8888888888888888,
              "#fdca26"
             ],
             [
              1,
              "#f0f921"
             ]
            ],
            "type": "contour"
           }
          ],
          "contourcarpet": [
           {
            "colorbar": {
             "outlinewidth": 0,
             "ticks": ""
            },
            "type": "contourcarpet"
           }
          ],
          "heatmap": [
           {
            "colorbar": {
             "outlinewidth": 0,
             "ticks": ""
            },
            "colorscale": [
             [
              0,
              "#0d0887"
             ],
             [
              0.1111111111111111,
              "#46039f"
             ],
             [
              0.2222222222222222,
              "#7201a8"
             ],
             [
              0.3333333333333333,
              "#9c179e"
             ],
             [
              0.4444444444444444,
              "#bd3786"
             ],
             [
              0.5555555555555556,
              "#d8576b"
             ],
             [
              0.6666666666666666,
              "#ed7953"
             ],
             [
              0.7777777777777778,
              "#fb9f3a"
             ],
             [
              0.8888888888888888,
              "#fdca26"
             ],
             [
              1,
              "#f0f921"
             ]
            ],
            "type": "heatmap"
           }
          ],
          "heatmapgl": [
           {
            "colorbar": {
             "outlinewidth": 0,
             "ticks": ""
            },
            "colorscale": [
             [
              0,
              "#0d0887"
             ],
             [
              0.1111111111111111,
              "#46039f"
             ],
             [
              0.2222222222222222,
              "#7201a8"
             ],
             [
              0.3333333333333333,
              "#9c179e"
             ],
             [
              0.4444444444444444,
              "#bd3786"
             ],
             [
              0.5555555555555556,
              "#d8576b"
             ],
             [
              0.6666666666666666,
              "#ed7953"
             ],
             [
              0.7777777777777778,
              "#fb9f3a"
             ],
             [
              0.8888888888888888,
              "#fdca26"
             ],
             [
              1,
              "#f0f921"
             ]
            ],
            "type": "heatmapgl"
           }
          ],
          "histogram": [
           {
            "marker": {
             "pattern": {
              "fillmode": "overlay",
              "size": 10,
              "solidity": 0.2
             }
            },
            "type": "histogram"
           }
          ],
          "histogram2d": [
           {
            "colorbar": {
             "outlinewidth": 0,
             "ticks": ""
            },
            "colorscale": [
             [
              0,
              "#0d0887"
             ],
             [
              0.1111111111111111,
              "#46039f"
             ],
             [
              0.2222222222222222,
              "#7201a8"
             ],
             [
              0.3333333333333333,
              "#9c179e"
             ],
             [
              0.4444444444444444,
              "#bd3786"
             ],
             [
              0.5555555555555556,
              "#d8576b"
             ],
             [
              0.6666666666666666,
              "#ed7953"
             ],
             [
              0.7777777777777778,
              "#fb9f3a"
             ],
             [
              0.8888888888888888,
              "#fdca26"
             ],
             [
              1,
              "#f0f921"
             ]
            ],
            "type": "histogram2d"
           }
          ],
          "histogram2dcontour": [
           {
            "colorbar": {
             "outlinewidth": 0,
             "ticks": ""
            },
            "colorscale": [
             [
              0,
              "#0d0887"
             ],
             [
              0.1111111111111111,
              "#46039f"
             ],
             [
              0.2222222222222222,
              "#7201a8"
             ],
             [
              0.3333333333333333,
              "#9c179e"
             ],
             [
              0.4444444444444444,
              "#bd3786"
             ],
             [
              0.5555555555555556,
              "#d8576b"
             ],
             [
              0.6666666666666666,
              "#ed7953"
             ],
             [
              0.7777777777777778,
              "#fb9f3a"
             ],
             [
              0.8888888888888888,
              "#fdca26"
             ],
             [
              1,
              "#f0f921"
             ]
            ],
            "type": "histogram2dcontour"
           }
          ],
          "mesh3d": [
           {
            "colorbar": {
             "outlinewidth": 0,
             "ticks": ""
            },
            "type": "mesh3d"
           }
          ],
          "parcoords": [
           {
            "line": {
             "colorbar": {
              "outlinewidth": 0,
              "ticks": ""
             }
            },
            "type": "parcoords"
           }
          ],
          "pie": [
           {
            "automargin": true,
            "type": "pie"
           }
          ],
          "scatter": [
           {
            "fillpattern": {
             "fillmode": "overlay",
             "size": 10,
             "solidity": 0.2
            },
            "type": "scatter"
           }
          ],
          "scatter3d": [
           {
            "line": {
             "colorbar": {
              "outlinewidth": 0,
              "ticks": ""
             }
            },
            "marker": {
             "colorbar": {
              "outlinewidth": 0,
              "ticks": ""
             }
            },
            "type": "scatter3d"
           }
          ],
          "scattercarpet": [
           {
            "marker": {
             "colorbar": {
              "outlinewidth": 0,
              "ticks": ""
             }
            },
            "type": "scattercarpet"
           }
          ],
          "scattergeo": [
           {
            "marker": {
             "colorbar": {
              "outlinewidth": 0,
              "ticks": ""
             }
            },
            "type": "scattergeo"
           }
          ],
          "scattergl": [
           {
            "marker": {
             "colorbar": {
              "outlinewidth": 0,
              "ticks": ""
             }
            },
            "type": "scattergl"
           }
          ],
          "scattermapbox": [
           {
            "marker": {
             "colorbar": {
              "outlinewidth": 0,
              "ticks": ""
             }
            },
            "type": "scattermapbox"
           }
          ],
          "scatterpolar": [
           {
            "marker": {
             "colorbar": {
              "outlinewidth": 0,
              "ticks": ""
             }
            },
            "type": "scatterpolar"
           }
          ],
          "scatterpolargl": [
           {
            "marker": {
             "colorbar": {
              "outlinewidth": 0,
              "ticks": ""
             }
            },
            "type": "scatterpolargl"
           }
          ],
          "scatterternary": [
           {
            "marker": {
             "colorbar": {
              "outlinewidth": 0,
              "ticks": ""
             }
            },
            "type": "scatterternary"
           }
          ],
          "surface": [
           {
            "colorbar": {
             "outlinewidth": 0,
             "ticks": ""
            },
            "colorscale": [
             [
              0,
              "#0d0887"
             ],
             [
              0.1111111111111111,
              "#46039f"
             ],
             [
              0.2222222222222222,
              "#7201a8"
             ],
             [
              0.3333333333333333,
              "#9c179e"
             ],
             [
              0.4444444444444444,
              "#bd3786"
             ],
             [
              0.5555555555555556,
              "#d8576b"
             ],
             [
              0.6666666666666666,
              "#ed7953"
             ],
             [
              0.7777777777777778,
              "#fb9f3a"
             ],
             [
              0.8888888888888888,
              "#fdca26"
             ],
             [
              1,
              "#f0f921"
             ]
            ],
            "type": "surface"
           }
          ],
          "table": [
           {
            "cells": {
             "fill": {
              "color": "#EBF0F8"
             },
             "line": {
              "color": "white"
             }
            },
            "header": {
             "fill": {
              "color": "#C8D4E3"
             },
             "line": {
              "color": "white"
             }
            },
            "type": "table"
           }
          ]
         },
         "layout": {
          "annotationdefaults": {
           "arrowcolor": "#2a3f5f",
           "arrowhead": 0,
           "arrowwidth": 1
          },
          "autotypenumbers": "strict",
          "coloraxis": {
           "colorbar": {
            "outlinewidth": 0,
            "ticks": ""
           }
          },
          "colorscale": {
           "diverging": [
            [
             0,
             "#8e0152"
            ],
            [
             0.1,
             "#c51b7d"
            ],
            [
             0.2,
             "#de77ae"
            ],
            [
             0.3,
             "#f1b6da"
            ],
            [
             0.4,
             "#fde0ef"
            ],
            [
             0.5,
             "#f7f7f7"
            ],
            [
             0.6,
             "#e6f5d0"
            ],
            [
             0.7,
             "#b8e186"
            ],
            [
             0.8,
             "#7fbc41"
            ],
            [
             0.9,
             "#4d9221"
            ],
            [
             1,
             "#276419"
            ]
           ],
           "sequential": [
            [
             0,
             "#0d0887"
            ],
            [
             0.1111111111111111,
             "#46039f"
            ],
            [
             0.2222222222222222,
             "#7201a8"
            ],
            [
             0.3333333333333333,
             "#9c179e"
            ],
            [
             0.4444444444444444,
             "#bd3786"
            ],
            [
             0.5555555555555556,
             "#d8576b"
            ],
            [
             0.6666666666666666,
             "#ed7953"
            ],
            [
             0.7777777777777778,
             "#fb9f3a"
            ],
            [
             0.8888888888888888,
             "#fdca26"
            ],
            [
             1,
             "#f0f921"
            ]
           ],
           "sequentialminus": [
            [
             0,
             "#0d0887"
            ],
            [
             0.1111111111111111,
             "#46039f"
            ],
            [
             0.2222222222222222,
             "#7201a8"
            ],
            [
             0.3333333333333333,
             "#9c179e"
            ],
            [
             0.4444444444444444,
             "#bd3786"
            ],
            [
             0.5555555555555556,
             "#d8576b"
            ],
            [
             0.6666666666666666,
             "#ed7953"
            ],
            [
             0.7777777777777778,
             "#fb9f3a"
            ],
            [
             0.8888888888888888,
             "#fdca26"
            ],
            [
             1,
             "#f0f921"
            ]
           ]
          },
          "colorway": [
           "#636efa",
           "#EF553B",
           "#00cc96",
           "#ab63fa",
           "#FFA15A",
           "#19d3f3",
           "#FF6692",
           "#B6E880",
           "#FF97FF",
           "#FECB52"
          ],
          "font": {
           "color": "#2a3f5f"
          },
          "geo": {
           "bgcolor": "white",
           "lakecolor": "white",
           "landcolor": "#E5ECF6",
           "showlakes": true,
           "showland": true,
           "subunitcolor": "white"
          },
          "hoverlabel": {
           "align": "left"
          },
          "hovermode": "closest",
          "mapbox": {
           "style": "light"
          },
          "paper_bgcolor": "white",
          "plot_bgcolor": "#E5ECF6",
          "polar": {
           "angularaxis": {
            "gridcolor": "white",
            "linecolor": "white",
            "ticks": ""
           },
           "bgcolor": "#E5ECF6",
           "radialaxis": {
            "gridcolor": "white",
            "linecolor": "white",
            "ticks": ""
           }
          },
          "scene": {
           "xaxis": {
            "backgroundcolor": "#E5ECF6",
            "gridcolor": "white",
            "gridwidth": 2,
            "linecolor": "white",
            "showbackground": true,
            "ticks": "",
            "zerolinecolor": "white"
           },
           "yaxis": {
            "backgroundcolor": "#E5ECF6",
            "gridcolor": "white",
            "gridwidth": 2,
            "linecolor": "white",
            "showbackground": true,
            "ticks": "",
            "zerolinecolor": "white"
           },
           "zaxis": {
            "backgroundcolor": "#E5ECF6",
            "gridcolor": "white",
            "gridwidth": 2,
            "linecolor": "white",
            "showbackground": true,
            "ticks": "",
            "zerolinecolor": "white"
           }
          },
          "shapedefaults": {
           "line": {
            "color": "#2a3f5f"
           }
          },
          "ternary": {
           "aaxis": {
            "gridcolor": "white",
            "linecolor": "white",
            "ticks": ""
           },
           "baxis": {
            "gridcolor": "white",
            "linecolor": "white",
            "ticks": ""
           },
           "bgcolor": "#E5ECF6",
           "caxis": {
            "gridcolor": "white",
            "linecolor": "white",
            "ticks": ""
           }
          },
          "title": {
           "x": 0.05
          },
          "xaxis": {
           "automargin": true,
           "gridcolor": "white",
           "linecolor": "white",
           "ticks": "",
           "title": {
            "standoff": 15
           },
           "zerolinecolor": "white",
           "zerolinewidth": 2
          },
          "yaxis": {
           "automargin": true,
           "gridcolor": "white",
           "linecolor": "white",
           "ticks": "",
           "title": {
            "standoff": 15
           },
           "zerolinecolor": "white",
           "zerolinewidth": 2
          }
         }
        },
        "width": 900,
        "xaxis": {
         "rangeselector": {
          "buttons": [
           {
            "count": 7,
            "label": "1w",
            "step": "day",
            "stepmode": "backward"
           },
           {
            "count": 1,
            "label": "1m",
            "step": "month",
            "stepmode": "backward"
           },
           {
            "count": 6,
            "label": "6m",
            "step": "month",
            "stepmode": "backward"
           },
           {
            "count": 1,
            "label": "1y",
            "step": "year",
            "stepmode": "backward"
           },
           {
            "step": "all"
           }
          ]
         },
         "rangeslider": {
          "visible": true
         },
         "title": {
          "text": "ds"
         },
         "type": "date"
        },
        "yaxis": {
         "title": {
          "text": "y"
         }
        }
       }
      }
     },
     "metadata": {},
     "output_type": "display_data"
    }
   ],
   "source": [
    "from prophet.plot import plot_plotly\n",
    "plot_plotly(m,forecast)"
   ]
  },
  {
   "cell_type": "code",
   "execution_count": 19,
   "metadata": {},
   "outputs": [
    {
     "data": {
      "text/html": [
       "<div>\n",
       "<style scoped>\n",
       "    .dataframe tbody tr th:only-of-type {\n",
       "        vertical-align: middle;\n",
       "    }\n",
       "\n",
       "    .dataframe tbody tr th {\n",
       "        vertical-align: top;\n",
       "    }\n",
       "\n",
       "    .dataframe thead th {\n",
       "        text-align: right;\n",
       "    }\n",
       "</style>\n",
       "<table border=\"1\" class=\"dataframe\">\n",
       "  <thead>\n",
       "    <tr style=\"text-align: right;\">\n",
       "      <th></th>\n",
       "      <th>ds</th>\n",
       "      <th>yhat</th>\n",
       "      <th>yhat_lower</th>\n",
       "      <th>yhat_upper</th>\n",
       "    </tr>\n",
       "  </thead>\n",
       "  <tbody>\n",
       "    <tr>\n",
       "      <th>149</th>\n",
       "      <td>2024-06-25 23:00:00</td>\n",
       "      <td>22.086185</td>\n",
       "      <td>19.743198</td>\n",
       "      <td>24.382368</td>\n",
       "    </tr>\n",
       "    <tr>\n",
       "      <th>150</th>\n",
       "      <td>2024-06-26 23:00:00</td>\n",
       "      <td>20.479241</td>\n",
       "      <td>17.557874</td>\n",
       "      <td>23.330690</td>\n",
       "    </tr>\n",
       "    <tr>\n",
       "      <th>151</th>\n",
       "      <td>2024-06-27 23:00:00</td>\n",
       "      <td>18.872296</td>\n",
       "      <td>15.432322</td>\n",
       "      <td>22.194761</td>\n",
       "    </tr>\n",
       "    <tr>\n",
       "      <th>152</th>\n",
       "      <td>2024-06-28 23:00:00</td>\n",
       "      <td>17.265352</td>\n",
       "      <td>13.202661</td>\n",
       "      <td>21.021581</td>\n",
       "    </tr>\n",
       "    <tr>\n",
       "      <th>153</th>\n",
       "      <td>2024-06-29 23:00:00</td>\n",
       "      <td>15.658408</td>\n",
       "      <td>10.724748</td>\n",
       "      <td>20.206562</td>\n",
       "    </tr>\n",
       "  </tbody>\n",
       "</table>\n",
       "</div>"
      ],
      "text/plain": [
       "                     ds       yhat  yhat_lower  yhat_upper\n",
       "149 2024-06-25 23:00:00  22.086185   19.743198   24.382368\n",
       "150 2024-06-26 23:00:00  20.479241   17.557874   23.330690\n",
       "151 2024-06-27 23:00:00  18.872296   15.432322   22.194761\n",
       "152 2024-06-28 23:00:00  17.265352   13.202661   21.021581\n",
       "153 2024-06-29 23:00:00  15.658408   10.724748   20.206562"
      ]
     },
     "execution_count": 19,
     "metadata": {},
     "output_type": "execute_result"
    }
   ],
   "source": [
    "forecast[['ds','yhat','yhat_lower','yhat_upper']].tail()\n"
   ]
  },
  {
   "cell_type": "code",
   "execution_count": 20,
   "metadata": {},
   "outputs": [
    {
     "name": "stderr",
     "output_type": "stream",
     "text": [
      "c:\\Users\\shree\\anaconda3\\Lib\\site-packages\\prophet\\plot.py:228: FutureWarning:\n",
      "\n",
      "The behavior of DatetimeProperties.to_pydatetime is deprecated, in a future version this will return a Series containing python datetime objects instead of an ndarray. To retain the old behavior, call `np.array` on the result\n",
      "\n",
      "c:\\Users\\shree\\anaconda3\\Lib\\site-packages\\prophet\\plot.py:397: FutureWarning:\n",
      "\n",
      "The behavior of DatetimeProperties.to_pydatetime is deprecated, in a future version this will return a Series containing python datetime objects instead of an ndarray. To retain the old behavior, call `np.array` on the result\n",
      "\n",
      "c:\\Users\\shree\\anaconda3\\Lib\\site-packages\\prophet\\plot.py:401: FutureWarning:\n",
      "\n",
      "The behavior of DatetimeProperties.to_pydatetime is deprecated, in a future version this will return a Series containing python datetime objects instead of an ndarray. To retain the old behavior, call `np.array` on the result\n",
      "\n"
     ]
    },
    {
     "data": {
      "image/png": "[encoded data removed]",
      "text/plain": [
       "<Figure size 900x600 with 2 Axes>"
      ]
     },
     "metadata": {},
     "output_type": "display_data"
    }
   ],
   "source": [
    "fig_2 = m.plot_components(forecast)"
   ]
  },
  {
   "cell_type": "code",
   "execution_count": 21,
   "metadata": {},
   "outputs": [],
   "source": [
    "import pickle\n",
    "with open('prophet.pkl','wb') as files:\n",
    "    pickle.dump(m, files)\n"
   ]
  },
  {
   "cell_type": "code",
   "execution_count": 26,
   "metadata": {},
   "outputs": [
    {
     "name": "stdout",
     "output_type": "stream",
     "text": [
      "Predicted temperature for 2024-06-01 15:00 is: 31.39\n"
     ]
    }
   ],
   "source": [
    "from prophet import Prophet\n",
    "from prophet.plot import plot_plotly, plot_components_plotly\n",
    "from datetime import datetime\n",
    "\n",
    "# ... your existing model fitting code (model = Prophet(), model.fit(df), etc.)\n",
    "\n",
    "# User interaction and prediction\n",
    "user_date_str = input(\"Enter the date and time you want to predict in YYYY-MM-DD HH:MM format (e.g., 2025-12-31 15:00:00): \")\n",
    "\n",
    "try:\n",
    "  user_date_time = datetime.strptime(user_date_str, \"%Y-%m-%d %H:%M\")\n",
    "except ValueError:\n",
    "  print(\"Invalid date and time format. Please enter YYYY-MM-DD HH:MM.\")\n",
    "  exit()\n",
    "\n",
    "# Prophet works with dates, so extract the date part\n",
    "user_date = user_date_time.date()\n",
    "\n",
    "future_date = pd.DataFrame({'ds': [user_date]})\n",
    "\n",
    "# Informational message about time being ignored\n",
    "\n",
    "one_day_forecast = m.predict(future_date)\n",
    "predicted_temp = one_day_forecast[\"yhat\"].values[0]\n",
    "\n",
    "print(f\"Predicted temperature for {user_date_str} is: {predicted_temp:.2f}\")\n"
   ]
  },
  {
   "cell_type": "code",
   "execution_count": null,
   "metadata": {},
   "outputs": [],
   "source": []
  }
 ],
 "metadata": {
  "kernelspec": {
   "display_name": "base",
   "language": "python",
   "name": "python3"
  },
  "language_info": {
   "codemirror_mode": {
    "name": "ipython",
    "version": 3
   },
   "file_extension": ".py",
   "mimetype": "text/x-python",
   "name": "python",
   "nbconvert_exporter": "python",
   "pygments_lexer": "ipython3",
   "version": "3.11.7"
  }
 },
 "nbformat": 4,
 "nbformat_minor": 2
}
