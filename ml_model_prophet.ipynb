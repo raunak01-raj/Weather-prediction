{
 "cells": [
  {
   "cell_type": "code",
   "execution_count": 23,
   "metadata": {},
   "outputs": [],
   "source": [
    "import numpy as np\n",
    "import matplotlib.pyplot as plt\n",
    "import matplotlib as mpl\n",
    "import pandas as pd\n",
    "from datetime import datetime\n",
    "import plotly.express as px"
   ]
  },
  {
   "cell_type": "code",
   "execution_count": 24,
   "metadata": {},
   "outputs": [
    {
     "name": "stdout",
     "output_type": "stream",
     "text": [
      "Error fetching data for 2024-06-18 00:00:00: 400 - {\"error\":{\"code\":1008,\"message\":\"API key is limited to get history data. Please check our pricing page and upgrade to higher plan.\"}}\n",
      "Error fetching data for 2024-06-19 00:00:00: 400 - {\"error\":{\"code\":1008,\"message\":\"API key is limited to get history data. Please check our pricing page and upgrade to higher plan.\"}}\n",
      "Error fetching data for 2024-06-20 00:00:00: 400 - {\"error\":{\"code\":1008,\"message\":\"API key is limited to get history data. Please check our pricing page and upgrade to higher plan.\"}}\n",
      "Historic weather data of Patna saved to historic_weather_data.csv\n"
     ]
    }
   ],
   "source": [
    "'''import requests\n",
    "import csv\n",
    "from datetime import datetime, timedelta\n",
    "\n",
    "# Replace with your API key\n",
    "API_KEY = \" 56cdd10fcb5c468cbb4193934241803\"\n",
    "\n",
    "# Set the location and date range for historic weather data\n",
    "location = input('enter location')\n",
    "start_date = datetime(2024, 6, 18)  # Start date (YYYY, MM, DD)\n",
    "end_date = datetime(2024, 6, 24)   # End date (YYYY, MM, DD)\n",
    "\n",
    "# Set the base URL and parameters for the API request\n",
    "base_url = \"http://api.weatherapi.com/v1/history.json\"\n",
    "params = {\n",
    "    \"key\": API_KEY,\n",
    "    \"q\": location,\n",
    "    \"dt\": start_date.strftime(\"%Y-%m-%d\")\n",
    "}\n",
    "\n",
    "# Initialize an empty list to store weather data\n",
    "weather_data = []\n",
    "\n",
    "# Loop through the date range and fetch weather data for each day\n",
    "current_date = start_date\n",
    "while current_date <= end_date:\n",
    "    params[\"dt\"] = current_date.strftime(\"%Y-%m-%d\")\n",
    "    response = requests.get(base_url, params=params)\n",
    "    \n",
    "    if response.status_code == 200:\n",
    "        data = response.json()\n",
    "        for forecast in data[\"forecast\"][\"forecastday\"]:\n",
    "            for hour in forecast[\"hour\"]:\n",
    "                weather_data.append({\n",
    "                    \"Date\": hour[\"time\"].split(\" \")[0],\n",
    "                    \"Time\": hour[\"time\"].split(\" \")[1],\n",
    "                    \"Temperature (C)\": hour[\"temp_c\"],\n",
    "                    \"Humidity\": hour[\"humidity\"],\n",
    "                    \"Wind Speed (km/h)\": hour[\"wind_kph\"],\n",
    "                    \"Precipitation (mm)\": hour[\"precip_mm\"]\n",
    "                })\n",
    "    else:\n",
    "        print(f\"Error fetching data for {current_date}: {response.status_code} - {response.text}\")\n",
    "    \n",
    "    current_date += timedelta(days=1)\n",
    "\n",
    "# Save weather data to a CSV file\n",
    "with open(\"historic_weather_data.csv\", \"w\", newline=\"\") as csvfile:\n",
    "    fieldnames = [\"Date\", \"Time\", \"Temperature (C)\", \"Humidity\", \"Wind Speed (km/h)\", \"Precipitation (mm)\"]\n",
    "    writer = csv.DictWriter(csvfile, fieldnames=fieldnames)\n",
    "    \n",
    "    writer.writeheader()\n",
    "    for data in weather_data:\n",
    "        writer.writerow(data)\n",
    "\n",
    "print(f\"Historic weather data of {location} saved to historic_weather_data.csv\")'''"
   ]
  },
  {
   "cell_type": "code",
   "execution_count": 25,
   "metadata": {},
   "outputs": [
    {
     "data": {
      "text/html": [
       "<div>\n",
       "<style scoped>\n",
       "    .dataframe tbody tr th:only-of-type {\n",
       "        vertical-align: middle;\n",
       "    }\n",
       "\n",
       "    .dataframe tbody tr th {\n",
       "        vertical-align: top;\n",
       "    }\n",
       "\n",
       "    .dataframe thead th {\n",
       "        text-align: right;\n",
       "    }\n",
       "</style>\n",
       "<table border=\"1\" class=\"dataframe\">\n",
       "  <thead>\n",
       "    <tr style=\"text-align: right;\">\n",
       "      <th></th>\n",
       "      <th>Date</th>\n",
       "      <th>Time</th>\n",
       "      <th>Temperature (C)</th>\n",
       "      <th>Humidity</th>\n",
       "      <th>Wind Speed (km/h)</th>\n",
       "      <th>Precipitation (mm)</th>\n",
       "    </tr>\n",
       "  </thead>\n",
       "  <tbody>\n",
       "    <tr>\n",
       "      <th>0</th>\n",
       "      <td>2024-06-21</td>\n",
       "      <td>00:00</td>\n",
       "      <td>33.9</td>\n",
       "      <td>49</td>\n",
       "      <td>25.2</td>\n",
       "      <td>0.00</td>\n",
       "    </tr>\n",
       "    <tr>\n",
       "      <th>1</th>\n",
       "      <td>2024-06-21</td>\n",
       "      <td>01:00</td>\n",
       "      <td>33.5</td>\n",
       "      <td>50</td>\n",
       "      <td>22.0</td>\n",
       "      <td>0.01</td>\n",
       "    </tr>\n",
       "    <tr>\n",
       "      <th>2</th>\n",
       "      <td>2024-06-21</td>\n",
       "      <td>02:00</td>\n",
       "      <td>33.6</td>\n",
       "      <td>48</td>\n",
       "      <td>20.2</td>\n",
       "      <td>0.02</td>\n",
       "    </tr>\n",
       "    <tr>\n",
       "      <th>3</th>\n",
       "      <td>2024-06-21</td>\n",
       "      <td>03:00</td>\n",
       "      <td>33.1</td>\n",
       "      <td>50</td>\n",
       "      <td>12.2</td>\n",
       "      <td>0.43</td>\n",
       "    </tr>\n",
       "    <tr>\n",
       "      <th>4</th>\n",
       "      <td>2024-06-21</td>\n",
       "      <td>04:00</td>\n",
       "      <td>31.8</td>\n",
       "      <td>56</td>\n",
       "      <td>10.4</td>\n",
       "      <td>1.97</td>\n",
       "    </tr>\n",
       "    <tr>\n",
       "      <th>...</th>\n",
       "      <td>...</td>\n",
       "      <td>...</td>\n",
       "      <td>...</td>\n",
       "      <td>...</td>\n",
       "      <td>...</td>\n",
       "      <td>...</td>\n",
       "    </tr>\n",
       "    <tr>\n",
       "      <th>91</th>\n",
       "      <td>2024-06-24</td>\n",
       "      <td>19:00</td>\n",
       "      <td>38.8</td>\n",
       "      <td>36</td>\n",
       "      <td>4.0</td>\n",
       "      <td>0.45</td>\n",
       "    </tr>\n",
       "    <tr>\n",
       "      <th>92</th>\n",
       "      <td>2024-06-24</td>\n",
       "      <td>20:00</td>\n",
       "      <td>38.6</td>\n",
       "      <td>36</td>\n",
       "      <td>9.7</td>\n",
       "      <td>0.54</td>\n",
       "    </tr>\n",
       "    <tr>\n",
       "      <th>93</th>\n",
       "      <td>2024-06-24</td>\n",
       "      <td>21:00</td>\n",
       "      <td>37.3</td>\n",
       "      <td>40</td>\n",
       "      <td>13.0</td>\n",
       "      <td>0.16</td>\n",
       "    </tr>\n",
       "    <tr>\n",
       "      <th>94</th>\n",
       "      <td>2024-06-24</td>\n",
       "      <td>22:00</td>\n",
       "      <td>36.1</td>\n",
       "      <td>44</td>\n",
       "      <td>14.4</td>\n",
       "      <td>0.14</td>\n",
       "    </tr>\n",
       "    <tr>\n",
       "      <th>95</th>\n",
       "      <td>2024-06-24</td>\n",
       "      <td>23:00</td>\n",
       "      <td>34.9</td>\n",
       "      <td>48</td>\n",
       "      <td>13.7</td>\n",
       "      <td>0.02</td>\n",
       "    </tr>\n",
       "  </tbody>\n",
       "</table>\n",
       "<p>96 rows × 6 columns</p>\n",
       "</div>"
      ],
      "text/plain": [
       "          Date   Time  Temperature (C)  Humidity  Wind Speed (km/h)  \\\n",
       "0   2024-06-21  00:00             33.9        49               25.2   \n",
       "1   2024-06-21  01:00             33.5        50               22.0   \n",
       "2   2024-06-21  02:00             33.6        48               20.2   \n",
       "3   2024-06-21  03:00             33.1        50               12.2   \n",
       "4   2024-06-21  04:00             31.8        56               10.4   \n",
       "..         ...    ...              ...       ...                ...   \n",
       "91  2024-06-24  19:00             38.8        36                4.0   \n",
       "92  2024-06-24  20:00             38.6        36                9.7   \n",
       "93  2024-06-24  21:00             37.3        40               13.0   \n",
       "94  2024-06-24  22:00             36.1        44               14.4   \n",
       "95  2024-06-24  23:00             34.9        48               13.7   \n",
       "\n",
       "    Precipitation (mm)  \n",
       "0                 0.00  \n",
       "1                 0.01  \n",
       "2                 0.02  \n",
       "3                 0.43  \n",
       "4                 1.97  \n",
       "..                 ...  \n",
       "91                0.45  \n",
       "92                0.54  \n",
       "93                0.16  \n",
       "94                0.14  \n",
       "95                0.02  \n",
       "\n",
       "[96 rows x 6 columns]"
      ]
     },
     "execution_count": 25,
     "metadata": {},
     "output_type": "execute_result"
    }
   ],
   "source": [
    "weather01 = pd.read_csv('historic_weather_data.csv')\n",
    "weather01"
   ]
  },
  {
   "cell_type": "code",
   "execution_count": 26,
   "metadata": {},
   "outputs": [
    {
     "data": {
      "text/html": [
       "<div>\n",
       "<style scoped>\n",
       "    .dataframe tbody tr th:only-of-type {\n",
       "        vertical-align: middle;\n",
       "    }\n",
       "\n",
       "    .dataframe tbody tr th {\n",
       "        vertical-align: top;\n",
       "    }\n",
       "\n",
       "    .dataframe thead th {\n",
       "        text-align: right;\n",
       "    }\n",
       "</style>\n",
       "<table border=\"1\" class=\"dataframe\">\n",
       "  <thead>\n",
       "    <tr style=\"text-align: right;\">\n",
       "      <th></th>\n",
       "      <th>Temperature (C)</th>\n",
       "      <th>Humidity</th>\n",
       "      <th>Wind Speed (km/h)</th>\n",
       "      <th>Precipitation (mm)</th>\n",
       "      <th>datetime</th>\n",
       "    </tr>\n",
       "  </thead>\n",
       "  <tbody>\n",
       "    <tr>\n",
       "      <th>0</th>\n",
       "      <td>33.9</td>\n",
       "      <td>49</td>\n",
       "      <td>25.2</td>\n",
       "      <td>0.00</td>\n",
       "      <td>2024-06-21 00:00:00</td>\n",
       "    </tr>\n",
       "    <tr>\n",
       "      <th>1</th>\n",
       "      <td>33.5</td>\n",
       "      <td>50</td>\n",
       "      <td>22.0</td>\n",
       "      <td>0.01</td>\n",
       "      <td>2024-06-21 01:00:00</td>\n",
       "    </tr>\n",
       "    <tr>\n",
       "      <th>2</th>\n",
       "      <td>33.6</td>\n",
       "      <td>48</td>\n",
       "      <td>20.2</td>\n",
       "      <td>0.02</td>\n",
       "      <td>2024-06-21 02:00:00</td>\n",
       "    </tr>\n",
       "    <tr>\n",
       "      <th>3</th>\n",
       "      <td>33.1</td>\n",
       "      <td>50</td>\n",
       "      <td>12.2</td>\n",
       "      <td>0.43</td>\n",
       "      <td>2024-06-21 03:00:00</td>\n",
       "    </tr>\n",
       "    <tr>\n",
       "      <th>4</th>\n",
       "      <td>31.8</td>\n",
       "      <td>56</td>\n",
       "      <td>10.4</td>\n",
       "      <td>1.97</td>\n",
       "      <td>2024-06-21 04:00:00</td>\n",
       "    </tr>\n",
       "    <tr>\n",
       "      <th>...</th>\n",
       "      <td>...</td>\n",
       "      <td>...</td>\n",
       "      <td>...</td>\n",
       "      <td>...</td>\n",
       "      <td>...</td>\n",
       "    </tr>\n",
       "    <tr>\n",
       "      <th>91</th>\n",
       "      <td>38.8</td>\n",
       "      <td>36</td>\n",
       "      <td>4.0</td>\n",
       "      <td>0.45</td>\n",
       "      <td>2024-06-24 19:00:00</td>\n",
       "    </tr>\n",
       "    <tr>\n",
       "      <th>92</th>\n",
       "      <td>38.6</td>\n",
       "      <td>36</td>\n",
       "      <td>9.7</td>\n",
       "      <td>0.54</td>\n",
       "      <td>2024-06-24 20:00:00</td>\n",
       "    </tr>\n",
       "    <tr>\n",
       "      <th>93</th>\n",
       "      <td>37.3</td>\n",
       "      <td>40</td>\n",
       "      <td>13.0</td>\n",
       "      <td>0.16</td>\n",
       "      <td>2024-06-24 21:00:00</td>\n",
       "    </tr>\n",
       "    <tr>\n",
       "      <th>94</th>\n",
       "      <td>36.1</td>\n",
       "      <td>44</td>\n",
       "      <td>14.4</td>\n",
       "      <td>0.14</td>\n",
       "      <td>2024-06-24 22:00:00</td>\n",
       "    </tr>\n",
       "    <tr>\n",
       "      <th>95</th>\n",
       "      <td>34.9</td>\n",
       "      <td>48</td>\n",
       "      <td>13.7</td>\n",
       "      <td>0.02</td>\n",
       "      <td>2024-06-24 23:00:00</td>\n",
       "    </tr>\n",
       "  </tbody>\n",
       "</table>\n",
       "<p>96 rows × 5 columns</p>\n",
       "</div>"
      ],
      "text/plain": [
       "    Temperature (C)  Humidity  Wind Speed (km/h)  Precipitation (mm)  \\\n",
       "0              33.9        49               25.2                0.00   \n",
       "1              33.5        50               22.0                0.01   \n",
       "2              33.6        48               20.2                0.02   \n",
       "3              33.1        50               12.2                0.43   \n",
       "4              31.8        56               10.4                1.97   \n",
       "..              ...       ...                ...                 ...   \n",
       "91             38.8        36                4.0                0.45   \n",
       "92             38.6        36                9.7                0.54   \n",
       "93             37.3        40               13.0                0.16   \n",
       "94             36.1        44               14.4                0.14   \n",
       "95             34.9        48               13.7                0.02   \n",
       "\n",
       "              datetime  \n",
       "0  2024-06-21 00:00:00  \n",
       "1  2024-06-21 01:00:00  \n",
       "2  2024-06-21 02:00:00  \n",
       "3  2024-06-21 03:00:00  \n",
       "4  2024-06-21 04:00:00  \n",
       "..                 ...  \n",
       "91 2024-06-24 19:00:00  \n",
       "92 2024-06-24 20:00:00  \n",
       "93 2024-06-24 21:00:00  \n",
       "94 2024-06-24 22:00:00  \n",
       "95 2024-06-24 23:00:00  \n",
       "\n",
       "[96 rows x 5 columns]"
      ]
     },
     "execution_count": 26,
     "metadata": {},
     "output_type": "execute_result"
    }
   ],
   "source": [
    "weather01['datetime'] = pd.to_datetime(weather01['Date'] + ' ' + weather01['Time'])\n",
    "\n",
    "weather01.drop(columns=['Date', 'Time'], inplace=True)\n",
    "weather01"
   ]
  },
  {
   "cell_type": "code",
   "execution_count": 27,
   "metadata": {},
   "outputs": [],
   "source": [
    "mpl.rcParams['figure.figsize'] = (15,6)\n"
   ]
  },
  {
   "cell_type": "code",
   "execution_count": 28,
   "metadata": {},
   "outputs": [],
   "source": [
    "weather01= weather01.set_index('datetime')"
   ]
  },
  {
   "cell_type": "code",
   "execution_count": 29,
   "metadata": {},
   "outputs": [
    {
     "data": {
      "text/html": [
       "<div>\n",
       "<style scoped>\n",
       "    .dataframe tbody tr th:only-of-type {\n",
       "        vertical-align: middle;\n",
       "    }\n",
       "\n",
       "    .dataframe tbody tr th {\n",
       "        vertical-align: top;\n",
       "    }\n",
       "\n",
       "    .dataframe thead th {\n",
       "        text-align: right;\n",
       "    }\n",
       "</style>\n",
       "<table border=\"1\" class=\"dataframe\">\n",
       "  <thead>\n",
       "    <tr style=\"text-align: right;\">\n",
       "      <th></th>\n",
       "      <th>Temperature (C)</th>\n",
       "      <th>Humidity</th>\n",
       "      <th>Wind Speed (km/h)</th>\n",
       "      <th>Precipitation (mm)</th>\n",
       "    </tr>\n",
       "    <tr>\n",
       "      <th>datetime</th>\n",
       "      <th></th>\n",
       "      <th></th>\n",
       "      <th></th>\n",
       "      <th></th>\n",
       "    </tr>\n",
       "  </thead>\n",
       "  <tbody>\n",
       "    <tr>\n",
       "      <th>2024-06-21 00:00:00</th>\n",
       "      <td>33.9</td>\n",
       "      <td>49</td>\n",
       "      <td>25.2</td>\n",
       "      <td>0.00</td>\n",
       "    </tr>\n",
       "    <tr>\n",
       "      <th>2024-06-21 01:00:00</th>\n",
       "      <td>33.5</td>\n",
       "      <td>50</td>\n",
       "      <td>22.0</td>\n",
       "      <td>0.01</td>\n",
       "    </tr>\n",
       "    <tr>\n",
       "      <th>2024-06-21 02:00:00</th>\n",
       "      <td>33.6</td>\n",
       "      <td>48</td>\n",
       "      <td>20.2</td>\n",
       "      <td>0.02</td>\n",
       "    </tr>\n",
       "    <tr>\n",
       "      <th>2024-06-21 03:00:00</th>\n",
       "      <td>33.1</td>\n",
       "      <td>50</td>\n",
       "      <td>12.2</td>\n",
       "      <td>0.43</td>\n",
       "    </tr>\n",
       "    <tr>\n",
       "      <th>2024-06-21 04:00:00</th>\n",
       "      <td>31.8</td>\n",
       "      <td>56</td>\n",
       "      <td>10.4</td>\n",
       "      <td>1.97</td>\n",
       "    </tr>\n",
       "    <tr>\n",
       "      <th>...</th>\n",
       "      <td>...</td>\n",
       "      <td>...</td>\n",
       "      <td>...</td>\n",
       "      <td>...</td>\n",
       "    </tr>\n",
       "    <tr>\n",
       "      <th>2024-06-24 19:00:00</th>\n",
       "      <td>38.8</td>\n",
       "      <td>36</td>\n",
       "      <td>4.0</td>\n",
       "      <td>0.45</td>\n",
       "    </tr>\n",
       "    <tr>\n",
       "      <th>2024-06-24 20:00:00</th>\n",
       "      <td>38.6</td>\n",
       "      <td>36</td>\n",
       "      <td>9.7</td>\n",
       "      <td>0.54</td>\n",
       "    </tr>\n",
       "    <tr>\n",
       "      <th>2024-06-24 21:00:00</th>\n",
       "      <td>37.3</td>\n",
       "      <td>40</td>\n",
       "      <td>13.0</td>\n",
       "      <td>0.16</td>\n",
       "    </tr>\n",
       "    <tr>\n",
       "      <th>2024-06-24 22:00:00</th>\n",
       "      <td>36.1</td>\n",
       "      <td>44</td>\n",
       "      <td>14.4</td>\n",
       "      <td>0.14</td>\n",
       "    </tr>\n",
       "    <tr>\n",
       "      <th>2024-06-24 23:00:00</th>\n",
       "      <td>34.9</td>\n",
       "      <td>48</td>\n",
       "      <td>13.7</td>\n",
       "      <td>0.02</td>\n",
       "    </tr>\n",
       "  </tbody>\n",
       "</table>\n",
       "<p>96 rows × 4 columns</p>\n",
       "</div>"
      ],
      "text/plain": [
       "                     Temperature (C)  Humidity  Wind Speed (km/h)  \\\n",
       "datetime                                                            \n",
       "2024-06-21 00:00:00             33.9        49               25.2   \n",
       "2024-06-21 01:00:00             33.5        50               22.0   \n",
       "2024-06-21 02:00:00             33.6        48               20.2   \n",
       "2024-06-21 03:00:00             33.1        50               12.2   \n",
       "2024-06-21 04:00:00             31.8        56               10.4   \n",
       "...                              ...       ...                ...   \n",
       "2024-06-24 19:00:00             38.8        36                4.0   \n",
       "2024-06-24 20:00:00             38.6        36                9.7   \n",
       "2024-06-24 21:00:00             37.3        40               13.0   \n",
       "2024-06-24 22:00:00             36.1        44               14.4   \n",
       "2024-06-24 23:00:00             34.9        48               13.7   \n",
       "\n",
       "                     Precipitation (mm)  \n",
       "datetime                                 \n",
       "2024-06-21 00:00:00                0.00  \n",
       "2024-06-21 01:00:00                0.01  \n",
       "2024-06-21 02:00:00                0.02  \n",
       "2024-06-21 03:00:00                0.43  \n",
       "2024-06-21 04:00:00                1.97  \n",
       "...                                 ...  \n",
       "2024-06-24 19:00:00                0.45  \n",
       "2024-06-24 20:00:00                0.54  \n",
       "2024-06-24 21:00:00                0.16  \n",
       "2024-06-24 22:00:00                0.14  \n",
       "2024-06-24 23:00:00                0.02  \n",
       "\n",
       "[96 rows x 4 columns]"
      ]
     },
     "execution_count": 29,
     "metadata": {},
     "output_type": "execute_result"
    }
   ],
   "source": [
    "weather01"
   ]
  },
  {
   "cell_type": "code",
   "execution_count": 30,
   "metadata": {},
   "outputs": [],
   "source": [
    "weather01 = weather01.reset_index()[['datetime','Temperature (C)','Humidity','Wind Speed (km/h)','Precipitation (mm)']].rename({'datetime':'ds','Temperature (C)':'y'}, axis = 'columns')"
   ]
  },
  {
   "cell_type": "code",
   "execution_count": 31,
   "metadata": {},
   "outputs": [
    {
     "name": "stderr",
     "output_type": "stream",
     "text": [
      "c:\\Users\\shree\\anaconda3\\Lib\\site-packages\\_plotly_utils\\basevalidators.py:106: FutureWarning:\n",
      "\n",
      "The behavior of DatetimeProperties.to_pydatetime is deprecated, in a future version this will return a Series containing python datetime objects instead of an ndarray. To retain the old behavior, call `np.array` on the result\n",
      "\n"
     ]
    },
    {
     "data": {
      "application/vnd.plotly.v1+json": {
       "config": {
        "plotlyServerURL": "https://plot.ly"
       },
       "data": [
        {
         "hovertemplate": "ds=%{x}<br>y=%{y}<extra></extra>",
         "legendgroup": "",
         "line": {
          "color": "#636efa",
          "dash": "solid"
         },
         "marker": {
          "symbol": "circle"
         },
         "mode": "lines",
         "name": "",
         "orientation": "v",
         "showlegend": false,
         "type": "scatter",
         "x": [
          "2024-06-21T00:00:00",
          "2024-06-21T01:00:00",
          "2024-06-21T02:00:00",
          "2024-06-21T03:00:00",
          "2024-06-21T04:00:00",
          "2024-06-21T05:00:00",
          "2024-06-21T06:00:00",
          "2024-06-21T07:00:00",
          "2024-06-21T08:00:00",
          "2024-06-21T09:00:00",
          "2024-06-21T10:00:00",
          "2024-06-21T11:00:00",
          "2024-06-21T12:00:00",
          "2024-06-21T13:00:00",
          "2024-06-21T14:00:00",
          "2024-06-21T15:00:00",
          "2024-06-21T16:00:00",
          "2024-06-21T17:00:00",
          "2024-06-21T18:00:00",
          "2024-06-21T19:00:00",
          "2024-06-21T20:00:00",
          "2024-06-21T21:00:00",
          "2024-06-21T22:00:00",
          "2024-06-21T23:00:00",
          "2024-06-22T00:00:00",
          "2024-06-22T01:00:00",
          "2024-06-22T02:00:00",
          "2024-06-22T03:00:00",
          "2024-06-22T04:00:00",
          "2024-06-22T05:00:00",
          "2024-06-22T06:00:00",
          "2024-06-22T07:00:00",
          "2024-06-22T08:00:00",
          "2024-06-22T09:00:00",
          "2024-06-22T10:00:00",
          "2024-06-22T11:00:00",
          "2024-06-22T12:00:00",
          "2024-06-22T13:00:00",
          "2024-06-22T14:00:00",
          "2024-06-22T15:00:00",
          "2024-06-22T16:00:00",
          "2024-06-22T17:00:00",
          "2024-06-22T18:00:00",
          "2024-06-22T19:00:00",
          "2024-06-22T20:00:00",
          "2024-06-22T21:00:00",
          "2024-06-22T22:00:00",
          "2024-06-22T23:00:00",
          "2024-06-23T00:00:00",
          "2024-06-23T01:00:00",
          "2024-06-23T02:00:00",
          "2024-06-23T03:00:00",
          "2024-06-23T04:00:00",
          "2024-06-23T05:00:00",
          "2024-06-23T06:00:00",
          "2024-06-23T07:00:00",
          "2024-06-23T08:00:00",
          "2024-06-23T09:00:00",
          "2024-06-23T10:00:00",
          "2024-06-23T11:00:00",
          "2024-06-23T12:00:00",
          "2024-06-23T13:00:00",
          "2024-06-23T14:00:00",
          "2024-06-23T15:00:00",
          "2024-06-23T16:00:00",
          "2024-06-23T17:00:00",
          "2024-06-23T18:00:00",
          "2024-06-23T19:00:00",
          "2024-06-23T20:00:00",
          "2024-06-23T21:00:00",
          "2024-06-23T22:00:00",
          "2024-06-23T23:00:00",
          "2024-06-24T00:00:00",
          "2024-06-24T01:00:00",
          "2024-06-24T02:00:00",
          "2024-06-24T03:00:00",
          "2024-06-24T04:00:00",
          "2024-06-24T05:00:00",
          "2024-06-24T06:00:00",
          "2024-06-24T07:00:00",
          "2024-06-24T08:00:00",
          "2024-06-24T09:00:00",
          "2024-06-24T10:00:00",
          "2024-06-24T11:00:00",
          "2024-06-24T12:00:00",
          "2024-06-24T13:00:00",
          "2024-06-24T14:00:00",
          "2024-06-24T15:00:00",
          "2024-06-24T16:00:00",
          "2024-06-24T17:00:00",
          "2024-06-24T18:00:00",
          "2024-06-24T19:00:00",
          "2024-06-24T20:00:00",
          "2024-06-24T21:00:00",
          "2024-06-24T22:00:00",
          "2024-06-24T23:00:00"
         ],
         "xaxis": "x",
         "y": [
          33.9,
          33.5,
          33.6,
          33.1,
          31.8,
          31,
          31.9,
          32.8,
          33.5,
          34.2,
          35.1,
          36.3,
          38,
          39.5,
          40.2,
          40.6,
          40.6,
          40.4,
          39.5,
          37.1,
          35.2,
          34.8,
          34.3,
          33.3,
          31.6,
          32.2,
          32.3,
          32.1,
          31.7,
          31.6,
          32.3,
          33.5,
          34.8,
          36.2,
          37.4,
          38.6,
          39.3,
          38.8,
          39,
          39.1,
          37.4,
          36.1,
          36,
          36.4,
          36.1,
          35.5,
          35.2,
          34.6,
          35,
          34.5,
          33.8,
          33.4,
          33.1,
          33.1,
          34.4,
          36,
          37.4,
          38.7,
          39.8,
          40.4,
          40.5,
          40.6,
          40.9,
          41.2,
          40.6,
          39.8,
          39.3,
          38.8,
          38.6,
          38.4,
          38,
          37.5,
          34.8,
          35,
          35.1,
          34.9,
          34.6,
          34.5,
          35.2,
          36.6,
          37.9,
          39.2,
          40.5,
          41.1,
          41,
          41,
          40.8,
          40.5,
          40,
          39.4,
          39.2,
          38.8,
          38.6,
          37.3,
          36.1,
          34.9
         ],
         "yaxis": "y"
        }
       ],
       "layout": {
        "legend": {
         "tracegroupgap": 0
        },
        "template": {
         "data": {
          "bar": [
           {
            "error_x": {
             "color": "#2a3f5f"
            },
            "error_y": {
             "color": "#2a3f5f"
            },
            "marker": {
             "line": {
              "color": "#E5ECF6",
              "width": 0.5
             },
             "pattern": {
              "fillmode": "overlay",
              "size": 10,
              "solidity": 0.2
             }
            },
            "type": "bar"
           }
          ],
          "barpolar": [
           {
            "marker": {
             "line": {
              "color": "#E5ECF6",
              "width": 0.5
             },
             "pattern": {
              "fillmode": "overlay",
              "size": 10,
              "solidity": 0.2
             }
            },
            "type": "barpolar"
           }
          ],
          "carpet": [
           {
            "aaxis": {
             "endlinecolor": "#2a3f5f",
             "gridcolor": "white",
             "linecolor": "white",
             "minorgridcolor": "white",
             "startlinecolor": "#2a3f5f"
            },
            "baxis": {
             "endlinecolor": "#2a3f5f",
             "gridcolor": "white",
             "linecolor": "white",
             "minorgridcolor": "white",
             "startlinecolor": "#2a3f5f"
            },
            "type": "carpet"
           }
          ],
          "choropleth": [
           {
            "colorbar": {
             "outlinewidth": 0,
             "ticks": ""
            },
            "type": "choropleth"
           }
          ],
          "contour": [
           {
            "colorbar": {
             "outlinewidth": 0,
             "ticks": ""
            },
            "colorscale": [
             [
              0,
              "#0d0887"
             ],
             [
              0.1111111111111111,
              "#46039f"
             ],
             [
              0.2222222222222222,
              "#7201a8"
             ],
             [
              0.3333333333333333,
              "#9c179e"
             ],
             [
              0.4444444444444444,
              "#bd3786"
             ],
             [
              0.5555555555555556,
              "#d8576b"
             ],
             [
              0.6666666666666666,
              "#ed7953"
             ],
             [
              0.7777777777777778,
              "#fb9f3a"
             ],
             [
              0.8888888888888888,
              "#fdca26"
             ],
             [
              1,
              "#f0f921"
             ]
            ],
            "type": "contour"
           }
          ],
          "contourcarpet": [
           {
            "colorbar": {
             "outlinewidth": 0,
             "ticks": ""
            },
            "type": "contourcarpet"
           }
          ],
          "heatmap": [
           {
            "colorbar": {
             "outlinewidth": 0,
             "ticks": ""
            },
            "colorscale": [
             [
              0,
              "#0d0887"
             ],
             [
              0.1111111111111111,
              "#46039f"
             ],
             [
              0.2222222222222222,
              "#7201a8"
             ],
             [
              0.3333333333333333,
              "#9c179e"
             ],
             [
              0.4444444444444444,
              "#bd3786"
             ],
             [
              0.5555555555555556,
              "#d8576b"
             ],
             [
              0.6666666666666666,
              "#ed7953"
             ],
             [
              0.7777777777777778,
              "#fb9f3a"
             ],
             [
              0.8888888888888888,
              "#fdca26"
             ],
             [
              1,
              "#f0f921"
             ]
            ],
            "type": "heatmap"
           }
          ],
          "heatmapgl": [
           {
            "colorbar": {
             "outlinewidth": 0,
             "ticks": ""
            },
            "colorscale": [
             [
              0,
              "#0d0887"
             ],
             [
              0.1111111111111111,
              "#46039f"
             ],
             [
              0.2222222222222222,
              "#7201a8"
             ],
             [
              0.3333333333333333,
              "#9c179e"
             ],
             [
              0.4444444444444444,
              "#bd3786"
             ],
             [
              0.5555555555555556,
              "#d8576b"
             ],
             [
              0.6666666666666666,
              "#ed7953"
             ],
             [
              0.7777777777777778,
              "#fb9f3a"
             ],
             [
              0.8888888888888888,
              "#fdca26"
             ],
             [
              1,
              "#f0f921"
             ]
            ],
            "type": "heatmapgl"
           }
          ],
          "histogram": [
           {
            "marker": {
             "pattern": {
              "fillmode": "overlay",
              "size": 10,
              "solidity": 0.2
             }
            },
            "type": "histogram"
           }
          ],
          "histogram2d": [
           {
            "colorbar": {
             "outlinewidth": 0,
             "ticks": ""
            },
            "colorscale": [
             [
              0,
              "#0d0887"
             ],
             [
              0.1111111111111111,
              "#46039f"
             ],
             [
              0.2222222222222222,
              "#7201a8"
             ],
             [
              0.3333333333333333,
              "#9c179e"
             ],
             [
              0.4444444444444444,
              "#bd3786"
             ],
             [
              0.5555555555555556,
              "#d8576b"
             ],
             [
              0.6666666666666666,
              "#ed7953"
             ],
             [
              0.7777777777777778,
              "#fb9f3a"
             ],
             [
              0.8888888888888888,
              "#fdca26"
             ],
             [
              1,
              "#f0f921"
             ]
            ],
            "type": "histogram2d"
           }
          ],
          "histogram2dcontour": [
           {
            "colorbar": {
             "outlinewidth": 0,
             "ticks": ""
            },
            "colorscale": [
             [
              0,
              "#0d0887"
             ],
             [
              0.1111111111111111,
              "#46039f"
             ],
             [
              0.2222222222222222,
              "#7201a8"
             ],
             [
              0.3333333333333333,
              "#9c179e"
             ],
             [
              0.4444444444444444,
              "#bd3786"
             ],
             [
              0.5555555555555556,
              "#d8576b"
             ],
             [
              0.6666666666666666,
              "#ed7953"
             ],
             [
              0.7777777777777778,
              "#fb9f3a"
             ],
             [
              0.8888888888888888,
              "#fdca26"
             ],
             [
              1,
              "#f0f921"
             ]
            ],
            "type": "histogram2dcontour"
           }
          ],
          "mesh3d": [
           {
            "colorbar": {
             "outlinewidth": 0,
             "ticks": ""
            },
            "type": "mesh3d"
           }
          ],
          "parcoords": [
           {
            "line": {
             "colorbar": {
              "outlinewidth": 0,
              "ticks": ""
             }
            },
            "type": "parcoords"
           }
          ],
          "pie": [
           {
            "automargin": true,
            "type": "pie"
           }
          ],
          "scatter": [
           {
            "fillpattern": {
             "fillmode": "overlay",
             "size": 10,
             "solidity": 0.2
            },
            "type": "scatter"
           }
          ],
          "scatter3d": [
           {
            "line": {
             "colorbar": {
              "outlinewidth": 0,
              "ticks": ""
             }
            },
            "marker": {
             "colorbar": {
              "outlinewidth": 0,
              "ticks": ""
             }
            },
            "type": "scatter3d"
           }
          ],
          "scattercarpet": [
           {
            "marker": {
             "colorbar": {
              "outlinewidth": 0,
              "ticks": ""
             }
            },
            "type": "scattercarpet"
           }
          ],
          "scattergeo": [
           {
            "marker": {
             "colorbar": {
              "outlinewidth": 0,
              "ticks": ""
             }
            },
            "type": "scattergeo"
           }
          ],
          "scattergl": [
           {
            "marker": {
             "colorbar": {
              "outlinewidth": 0,
              "ticks": ""
             }
            },
            "type": "scattergl"
           }
          ],
          "scattermapbox": [
           {
            "marker": {
             "colorbar": {
              "outlinewidth": 0,
              "ticks": ""
             }
            },
            "type": "scattermapbox"
           }
          ],
          "scatterpolar": [
           {
            "marker": {
             "colorbar": {
              "outlinewidth": 0,
              "ticks": ""
             }
            },
            "type": "scatterpolar"
           }
          ],
          "scatterpolargl": [
           {
            "marker": {
             "colorbar": {
              "outlinewidth": 0,
              "ticks": ""
             }
            },
            "type": "scatterpolargl"
           }
          ],
          "scatterternary": [
           {
            "marker": {
             "colorbar": {
              "outlinewidth": 0,
              "ticks": ""
             }
            },
            "type": "scatterternary"
           }
          ],
          "surface": [
           {
            "colorbar": {
             "outlinewidth": 0,
             "ticks": ""
            },
            "colorscale": [
             [
              0,
              "#0d0887"
             ],
             [
              0.1111111111111111,
              "#46039f"
             ],
             [
              0.2222222222222222,
              "#7201a8"
             ],
             [
              0.3333333333333333,
              "#9c179e"
             ],
             [
              0.4444444444444444,
              "#bd3786"
             ],
             [
              0.5555555555555556,
              "#d8576b"
             ],
             [
              0.6666666666666666,
              "#ed7953"
             ],
             [
              0.7777777777777778,
              "#fb9f3a"
             ],
             [
              0.8888888888888888,
              "#fdca26"
             ],
             [
              1,
              "#f0f921"
             ]
            ],
            "type": "surface"
           }
          ],
          "table": [
           {
            "cells": {
             "fill": {
              "color": "#EBF0F8"
             },
             "line": {
              "color": "white"
             }
            },
            "header": {
             "fill": {
              "color": "#C8D4E3"
             },
             "line": {
              "color": "white"
             }
            },
            "type": "table"
           }
          ]
         },
         "layout": {
          "annotationdefaults": {
           "arrowcolor": "#2a3f5f",
           "arrowhead": 0,
           "arrowwidth": 1
          },
          "autotypenumbers": "strict",
          "coloraxis": {
           "colorbar": {
            "outlinewidth": 0,
            "ticks": ""
           }
          },
          "colorscale": {
           "diverging": [
            [
             0,
             "#8e0152"
            ],
            [
             0.1,
             "#c51b7d"
            ],
            [
             0.2,
             "#de77ae"
            ],
            [
             0.3,
             "#f1b6da"
            ],
            [
             0.4,
             "#fde0ef"
            ],
            [
             0.5,
             "#f7f7f7"
            ],
            [
             0.6,
             "#e6f5d0"
            ],
            [
             0.7,
             "#b8e186"
            ],
            [
             0.8,
             "#7fbc41"
            ],
            [
             0.9,
             "#4d9221"
            ],
            [
             1,
             "#276419"
            ]
           ],
           "sequential": [
            [
             0,
             "#0d0887"
            ],
            [
             0.1111111111111111,
             "#46039f"
            ],
            [
             0.2222222222222222,
             "#7201a8"
            ],
            [
             0.3333333333333333,
             "#9c179e"
            ],
            [
             0.4444444444444444,
             "#bd3786"
            ],
            [
             0.5555555555555556,
             "#d8576b"
            ],
            [
             0.6666666666666666,
             "#ed7953"
            ],
            [
             0.7777777777777778,
             "#fb9f3a"
            ],
            [
             0.8888888888888888,
             "#fdca26"
            ],
            [
             1,
             "#f0f921"
            ]
           ],
           "sequentialminus": [
            [
             0,
             "#0d0887"
            ],
            [
             0.1111111111111111,
             "#46039f"
            ],
            [
             0.2222222222222222,
             "#7201a8"
            ],
            [
             0.3333333333333333,
             "#9c179e"
            ],
            [
             0.4444444444444444,
             "#bd3786"
            ],
            [
             0.5555555555555556,
             "#d8576b"
            ],
            [
             0.6666666666666666,
             "#ed7953"
            ],
            [
             0.7777777777777778,
             "#fb9f3a"
            ],
            [
             0.8888888888888888,
             "#fdca26"
            ],
            [
             1,
             "#f0f921"
            ]
           ]
          },
          "colorway": [
           "#636efa",
           "#EF553B",
           "#00cc96",
           "#ab63fa",
           "#FFA15A",
           "#19d3f3",
           "#FF6692",
           "#B6E880",
           "#FF97FF",
           "#FECB52"
          ],
          "font": {
           "color": "#2a3f5f"
          },
          "geo": {
           "bgcolor": "white",
           "lakecolor": "white",
           "landcolor": "#E5ECF6",
           "showlakes": true,
           "showland": true,
           "subunitcolor": "white"
          },
          "hoverlabel": {
           "align": "left"
          },
          "hovermode": "closest",
          "mapbox": {
           "style": "light"
          },
          "paper_bgcolor": "white",
          "plot_bgcolor": "#E5ECF6",
          "polar": {
           "angularaxis": {
            "gridcolor": "white",
            "linecolor": "white",
            "ticks": ""
           },
           "bgcolor": "#E5ECF6",
           "radialaxis": {
            "gridcolor": "white",
            "linecolor": "white",
            "ticks": ""
           }
          },
          "scene": {
           "xaxis": {
            "backgroundcolor": "#E5ECF6",
            "gridcolor": "white",
            "gridwidth": 2,
            "linecolor": "white",
            "showbackground": true,
            "ticks": "",
            "zerolinecolor": "white"
           },
           "yaxis": {
            "backgroundcolor": "#E5ECF6",
            "gridcolor": "white",
            "gridwidth": 2,
            "linecolor": "white",
            "showbackground": true,
            "ticks": "",
            "zerolinecolor": "white"
           },
           "zaxis": {
            "backgroundcolor": "#E5ECF6",
            "gridcolor": "white",
            "gridwidth": 2,
            "linecolor": "white",
            "showbackground": true,
            "ticks": "",
            "zerolinecolor": "white"
           }
          },
          "shapedefaults": {
           "line": {
            "color": "#2a3f5f"
           }
          },
          "ternary": {
           "aaxis": {
            "gridcolor": "white",
            "linecolor": "white",
            "ticks": ""
           },
           "baxis": {
            "gridcolor": "white",
            "linecolor": "white",
            "ticks": ""
           },
           "bgcolor": "#E5ECF6",
           "caxis": {
            "gridcolor": "white",
            "linecolor": "white",
            "ticks": ""
           }
          },
          "title": {
           "x": 0.05
          },
          "xaxis": {
           "automargin": true,
           "gridcolor": "white",
           "linecolor": "white",
           "ticks": "",
           "title": {
            "standoff": 15
           },
           "zerolinecolor": "white",
           "zerolinewidth": 2
          },
          "yaxis": {
           "automargin": true,
           "gridcolor": "white",
           "linecolor": "white",
           "ticks": "",
           "title": {
            "standoff": 15
           },
           "zerolinecolor": "white",
           "zerolinewidth": 2
          }
         }
        },
        "title": {
         "text": "Weather Data Over Time"
        },
        "xaxis": {
         "anchor": "y",
         "domain": [
          0,
          1
         ],
         "title": {
          "text": "ds"
         }
        },
        "yaxis": {
         "anchor": "x",
         "domain": [
          0,
          1
         ],
         "title": {
          "text": "y"
         }
        }
       }
      }
     },
     "metadata": {},
     "output_type": "display_data"
    }
   ],
   "source": [
    "fig = px.line(weather01, x='ds', y='y', title='Weather Data Over Time')\n",
    "fig.show()"
   ]
  },
  {
   "cell_type": "code",
   "execution_count": 32,
   "metadata": {},
   "outputs": [
    {
     "data": {
      "text/plain": [
       "\"import seaborn as sns\\nsns.lineplot(x = 'ds', y= 'y', data= weather01)\""
      ]
     },
     "execution_count": 32,
     "metadata": {},
     "output_type": "execute_result"
    }
   ],
   "source": [
    "'''import seaborn as sns\n",
    "sns.lineplot(x = 'ds', y= 'y', data= weather01)'''"
   ]
  },
  {
   "cell_type": "code",
   "execution_count": 33,
   "metadata": {},
   "outputs": [
    {
     "data": {
      "image/png": "[encoded data removed]",
      "text/plain": [
       "<Figure size 1500x600 with 4 Axes>"
      ]
     },
     "execution_count": 33,
     "metadata": {},
     "output_type": "execute_result"
    },
    {
     "data": {
      "image/png": "[encoded data removed]",
      "text/plain": [
       "<Figure size 1500x600 with 4 Axes>"
      ]
     },
     "metadata": {},
     "output_type": "display_data"
    }
   ],
   "source": [
    "from statsmodels.tsa.seasonal import seasonal_decompose\n",
    "temperature = seasonal_decompose(weather01['y'] , model = 'multiplicative' , period = 7)\n",
    "temperature.plot()\n",
    "\n"
   ]
  },
  {
   "cell_type": "code",
   "execution_count": 34,
   "metadata": {},
   "outputs": [
    {
     "data": {
      "text/html": [
       "<div>\n",
       "<style scoped>\n",
       "    .dataframe tbody tr th:only-of-type {\n",
       "        vertical-align: middle;\n",
       "    }\n",
       "\n",
       "    .dataframe tbody tr th {\n",
       "        vertical-align: top;\n",
       "    }\n",
       "\n",
       "    .dataframe thead th {\n",
       "        text-align: right;\n",
       "    }\n",
       "</style>\n",
       "<table border=\"1\" class=\"dataframe\">\n",
       "  <thead>\n",
       "    <tr style=\"text-align: right;\">\n",
       "      <th></th>\n",
       "      <th>ds</th>\n",
       "      <th>y</th>\n",
       "      <th>Humidity</th>\n",
       "      <th>Wind Speed (km/h)</th>\n",
       "      <th>Precipitation (mm)</th>\n",
       "    </tr>\n",
       "  </thead>\n",
       "  <tbody>\n",
       "    <tr>\n",
       "      <th>46</th>\n",
       "      <td>2024-06-22 22:00:00</td>\n",
       "      <td>35.2</td>\n",
       "      <td>50</td>\n",
       "      <td>18.7</td>\n",
       "      <td>0.00</td>\n",
       "    </tr>\n",
       "    <tr>\n",
       "      <th>47</th>\n",
       "      <td>2024-06-22 23:00:00</td>\n",
       "      <td>34.6</td>\n",
       "      <td>52</td>\n",
       "      <td>18.4</td>\n",
       "      <td>0.00</td>\n",
       "    </tr>\n",
       "    <tr>\n",
       "      <th>48</th>\n",
       "      <td>2024-06-23 00:00:00</td>\n",
       "      <td>35.0</td>\n",
       "      <td>45</td>\n",
       "      <td>14.4</td>\n",
       "      <td>0.00</td>\n",
       "    </tr>\n",
       "    <tr>\n",
       "      <th>49</th>\n",
       "      <td>2024-06-23 01:00:00</td>\n",
       "      <td>34.5</td>\n",
       "      <td>46</td>\n",
       "      <td>16.2</td>\n",
       "      <td>0.00</td>\n",
       "    </tr>\n",
       "    <tr>\n",
       "      <th>50</th>\n",
       "      <td>2024-06-23 02:00:00</td>\n",
       "      <td>33.8</td>\n",
       "      <td>49</td>\n",
       "      <td>14.4</td>\n",
       "      <td>0.00</td>\n",
       "    </tr>\n",
       "    <tr>\n",
       "      <th>51</th>\n",
       "      <td>2024-06-23 03:00:00</td>\n",
       "      <td>33.4</td>\n",
       "      <td>51</td>\n",
       "      <td>13.3</td>\n",
       "      <td>0.00</td>\n",
       "    </tr>\n",
       "    <tr>\n",
       "      <th>52</th>\n",
       "      <td>2024-06-23 04:00:00</td>\n",
       "      <td>33.1</td>\n",
       "      <td>53</td>\n",
       "      <td>11.9</td>\n",
       "      <td>0.00</td>\n",
       "    </tr>\n",
       "    <tr>\n",
       "      <th>53</th>\n",
       "      <td>2024-06-23 05:00:00</td>\n",
       "      <td>33.1</td>\n",
       "      <td>53</td>\n",
       "      <td>11.2</td>\n",
       "      <td>0.00</td>\n",
       "    </tr>\n",
       "    <tr>\n",
       "      <th>54</th>\n",
       "      <td>2024-06-23 06:00:00</td>\n",
       "      <td>34.4</td>\n",
       "      <td>48</td>\n",
       "      <td>12.2</td>\n",
       "      <td>0.00</td>\n",
       "    </tr>\n",
       "    <tr>\n",
       "      <th>55</th>\n",
       "      <td>2024-06-23 07:00:00</td>\n",
       "      <td>36.0</td>\n",
       "      <td>42</td>\n",
       "      <td>10.8</td>\n",
       "      <td>0.00</td>\n",
       "    </tr>\n",
       "    <tr>\n",
       "      <th>56</th>\n",
       "      <td>2024-06-23 08:00:00</td>\n",
       "      <td>37.4</td>\n",
       "      <td>38</td>\n",
       "      <td>9.7</td>\n",
       "      <td>0.00</td>\n",
       "    </tr>\n",
       "    <tr>\n",
       "      <th>57</th>\n",
       "      <td>2024-06-23 09:00:00</td>\n",
       "      <td>38.7</td>\n",
       "      <td>35</td>\n",
       "      <td>8.6</td>\n",
       "      <td>0.00</td>\n",
       "    </tr>\n",
       "    <tr>\n",
       "      <th>58</th>\n",
       "      <td>2024-06-23 10:00:00</td>\n",
       "      <td>39.8</td>\n",
       "      <td>32</td>\n",
       "      <td>9.0</td>\n",
       "      <td>0.00</td>\n",
       "    </tr>\n",
       "    <tr>\n",
       "      <th>59</th>\n",
       "      <td>2024-06-23 11:00:00</td>\n",
       "      <td>40.4</td>\n",
       "      <td>31</td>\n",
       "      <td>7.9</td>\n",
       "      <td>0.01</td>\n",
       "    </tr>\n",
       "    <tr>\n",
       "      <th>60</th>\n",
       "      <td>2024-06-23 12:00:00</td>\n",
       "      <td>40.5</td>\n",
       "      <td>30</td>\n",
       "      <td>7.6</td>\n",
       "      <td>0.00</td>\n",
       "    </tr>\n",
       "    <tr>\n",
       "      <th>61</th>\n",
       "      <td>2024-06-23 13:00:00</td>\n",
       "      <td>40.6</td>\n",
       "      <td>30</td>\n",
       "      <td>7.6</td>\n",
       "      <td>0.00</td>\n",
       "    </tr>\n",
       "    <tr>\n",
       "      <th>62</th>\n",
       "      <td>2024-06-23 14:00:00</td>\n",
       "      <td>40.9</td>\n",
       "      <td>29</td>\n",
       "      <td>8.3</td>\n",
       "      <td>0.00</td>\n",
       "    </tr>\n",
       "    <tr>\n",
       "      <th>63</th>\n",
       "      <td>2024-06-23 15:00:00</td>\n",
       "      <td>41.2</td>\n",
       "      <td>29</td>\n",
       "      <td>7.9</td>\n",
       "      <td>0.00</td>\n",
       "    </tr>\n",
       "    <tr>\n",
       "      <th>64</th>\n",
       "      <td>2024-06-23 16:00:00</td>\n",
       "      <td>40.6</td>\n",
       "      <td>30</td>\n",
       "      <td>10.4</td>\n",
       "      <td>0.00</td>\n",
       "    </tr>\n",
       "    <tr>\n",
       "      <th>65</th>\n",
       "      <td>2024-06-23 17:00:00</td>\n",
       "      <td>39.8</td>\n",
       "      <td>31</td>\n",
       "      <td>14.4</td>\n",
       "      <td>0.00</td>\n",
       "    </tr>\n",
       "    <tr>\n",
       "      <th>66</th>\n",
       "      <td>2024-06-23 18:00:00</td>\n",
       "      <td>39.3</td>\n",
       "      <td>33</td>\n",
       "      <td>13.0</td>\n",
       "      <td>0.00</td>\n",
       "    </tr>\n",
       "    <tr>\n",
       "      <th>67</th>\n",
       "      <td>2024-06-23 19:00:00</td>\n",
       "      <td>38.8</td>\n",
       "      <td>34</td>\n",
       "      <td>10.8</td>\n",
       "      <td>0.29</td>\n",
       "    </tr>\n",
       "    <tr>\n",
       "      <th>68</th>\n",
       "      <td>2024-06-23 20:00:00</td>\n",
       "      <td>38.6</td>\n",
       "      <td>34</td>\n",
       "      <td>12.2</td>\n",
       "      <td>0.00</td>\n",
       "    </tr>\n",
       "    <tr>\n",
       "      <th>69</th>\n",
       "      <td>2024-06-23 21:00:00</td>\n",
       "      <td>38.4</td>\n",
       "      <td>35</td>\n",
       "      <td>13.7</td>\n",
       "      <td>0.00</td>\n",
       "    </tr>\n",
       "    <tr>\n",
       "      <th>70</th>\n",
       "      <td>2024-06-23 22:00:00</td>\n",
       "      <td>38.0</td>\n",
       "      <td>36</td>\n",
       "      <td>10.4</td>\n",
       "      <td>0.00</td>\n",
       "    </tr>\n",
       "    <tr>\n",
       "      <th>71</th>\n",
       "      <td>2024-06-23 23:00:00</td>\n",
       "      <td>37.5</td>\n",
       "      <td>37</td>\n",
       "      <td>9.7</td>\n",
       "      <td>0.00</td>\n",
       "    </tr>\n",
       "    <tr>\n",
       "      <th>72</th>\n",
       "      <td>2024-06-24 00:00:00</td>\n",
       "      <td>34.8</td>\n",
       "      <td>47</td>\n",
       "      <td>4.7</td>\n",
       "      <td>0.11</td>\n",
       "    </tr>\n",
       "    <tr>\n",
       "      <th>73</th>\n",
       "      <td>2024-06-24 01:00:00</td>\n",
       "      <td>35.0</td>\n",
       "      <td>46</td>\n",
       "      <td>1.8</td>\n",
       "      <td>0.03</td>\n",
       "    </tr>\n",
       "    <tr>\n",
       "      <th>74</th>\n",
       "      <td>2024-06-24 02:00:00</td>\n",
       "      <td>35.1</td>\n",
       "      <td>46</td>\n",
       "      <td>3.2</td>\n",
       "      <td>0.00</td>\n",
       "    </tr>\n",
       "    <tr>\n",
       "      <th>75</th>\n",
       "      <td>2024-06-24 03:00:00</td>\n",
       "      <td>34.9</td>\n",
       "      <td>47</td>\n",
       "      <td>3.6</td>\n",
       "      <td>0.00</td>\n",
       "    </tr>\n",
       "    <tr>\n",
       "      <th>76</th>\n",
       "      <td>2024-06-24 04:00:00</td>\n",
       "      <td>34.6</td>\n",
       "      <td>48</td>\n",
       "      <td>4.3</td>\n",
       "      <td>0.00</td>\n",
       "    </tr>\n",
       "    <tr>\n",
       "      <th>77</th>\n",
       "      <td>2024-06-24 05:00:00</td>\n",
       "      <td>34.5</td>\n",
       "      <td>48</td>\n",
       "      <td>5.0</td>\n",
       "      <td>0.00</td>\n",
       "    </tr>\n",
       "    <tr>\n",
       "      <th>78</th>\n",
       "      <td>2024-06-24 06:00:00</td>\n",
       "      <td>35.2</td>\n",
       "      <td>46</td>\n",
       "      <td>5.8</td>\n",
       "      <td>0.00</td>\n",
       "    </tr>\n",
       "    <tr>\n",
       "      <th>79</th>\n",
       "      <td>2024-06-24 07:00:00</td>\n",
       "      <td>36.6</td>\n",
       "      <td>42</td>\n",
       "      <td>4.7</td>\n",
       "      <td>0.00</td>\n",
       "    </tr>\n",
       "    <tr>\n",
       "      <th>80</th>\n",
       "      <td>2024-06-24 08:00:00</td>\n",
       "      <td>37.9</td>\n",
       "      <td>38</td>\n",
       "      <td>4.3</td>\n",
       "      <td>0.00</td>\n",
       "    </tr>\n",
       "    <tr>\n",
       "      <th>81</th>\n",
       "      <td>2024-06-24 09:00:00</td>\n",
       "      <td>39.2</td>\n",
       "      <td>35</td>\n",
       "      <td>2.9</td>\n",
       "      <td>0.00</td>\n",
       "    </tr>\n",
       "    <tr>\n",
       "      <th>82</th>\n",
       "      <td>2024-06-24 10:00:00</td>\n",
       "      <td>40.5</td>\n",
       "      <td>32</td>\n",
       "      <td>2.9</td>\n",
       "      <td>0.00</td>\n",
       "    </tr>\n",
       "    <tr>\n",
       "      <th>83</th>\n",
       "      <td>2024-06-24 11:00:00</td>\n",
       "      <td>41.1</td>\n",
       "      <td>30</td>\n",
       "      <td>3.2</td>\n",
       "      <td>0.00</td>\n",
       "    </tr>\n",
       "    <tr>\n",
       "      <th>84</th>\n",
       "      <td>2024-06-24 12:00:00</td>\n",
       "      <td>41.0</td>\n",
       "      <td>30</td>\n",
       "      <td>5.0</td>\n",
       "      <td>0.00</td>\n",
       "    </tr>\n",
       "    <tr>\n",
       "      <th>85</th>\n",
       "      <td>2024-06-24 13:00:00</td>\n",
       "      <td>41.0</td>\n",
       "      <td>30</td>\n",
       "      <td>5.8</td>\n",
       "      <td>0.00</td>\n",
       "    </tr>\n",
       "    <tr>\n",
       "      <th>86</th>\n",
       "      <td>2024-06-24 14:00:00</td>\n",
       "      <td>40.8</td>\n",
       "      <td>31</td>\n",
       "      <td>6.8</td>\n",
       "      <td>0.00</td>\n",
       "    </tr>\n",
       "    <tr>\n",
       "      <th>87</th>\n",
       "      <td>2024-06-24 15:00:00</td>\n",
       "      <td>40.5</td>\n",
       "      <td>31</td>\n",
       "      <td>7.9</td>\n",
       "      <td>0.02</td>\n",
       "    </tr>\n",
       "    <tr>\n",
       "      <th>88</th>\n",
       "      <td>2024-06-24 16:00:00</td>\n",
       "      <td>40.0</td>\n",
       "      <td>32</td>\n",
       "      <td>5.4</td>\n",
       "      <td>0.08</td>\n",
       "    </tr>\n",
       "    <tr>\n",
       "      <th>89</th>\n",
       "      <td>2024-06-24 17:00:00</td>\n",
       "      <td>39.4</td>\n",
       "      <td>34</td>\n",
       "      <td>2.9</td>\n",
       "      <td>0.00</td>\n",
       "    </tr>\n",
       "    <tr>\n",
       "      <th>90</th>\n",
       "      <td>2024-06-24 18:00:00</td>\n",
       "      <td>39.2</td>\n",
       "      <td>35</td>\n",
       "      <td>3.2</td>\n",
       "      <td>0.00</td>\n",
       "    </tr>\n",
       "    <tr>\n",
       "      <th>91</th>\n",
       "      <td>2024-06-24 19:00:00</td>\n",
       "      <td>38.8</td>\n",
       "      <td>36</td>\n",
       "      <td>4.0</td>\n",
       "      <td>0.45</td>\n",
       "    </tr>\n",
       "    <tr>\n",
       "      <th>92</th>\n",
       "      <td>2024-06-24 20:00:00</td>\n",
       "      <td>38.6</td>\n",
       "      <td>36</td>\n",
       "      <td>9.7</td>\n",
       "      <td>0.54</td>\n",
       "    </tr>\n",
       "    <tr>\n",
       "      <th>93</th>\n",
       "      <td>2024-06-24 21:00:00</td>\n",
       "      <td>37.3</td>\n",
       "      <td>40</td>\n",
       "      <td>13.0</td>\n",
       "      <td>0.16</td>\n",
       "    </tr>\n",
       "    <tr>\n",
       "      <th>94</th>\n",
       "      <td>2024-06-24 22:00:00</td>\n",
       "      <td>36.1</td>\n",
       "      <td>44</td>\n",
       "      <td>14.4</td>\n",
       "      <td>0.14</td>\n",
       "    </tr>\n",
       "    <tr>\n",
       "      <th>95</th>\n",
       "      <td>2024-06-24 23:00:00</td>\n",
       "      <td>34.9</td>\n",
       "      <td>48</td>\n",
       "      <td>13.7</td>\n",
       "      <td>0.02</td>\n",
       "    </tr>\n",
       "  </tbody>\n",
       "</table>\n",
       "</div>"
      ],
      "text/plain": [
       "                    ds     y  Humidity  Wind Speed (km/h)  Precipitation (mm)\n",
       "46 2024-06-22 22:00:00  35.2        50               18.7                0.00\n",
       "47 2024-06-22 23:00:00  34.6        52               18.4                0.00\n",
       "48 2024-06-23 00:00:00  35.0        45               14.4                0.00\n",
       "49 2024-06-23 01:00:00  34.5        46               16.2                0.00\n",
       "50 2024-06-23 02:00:00  33.8        49               14.4                0.00\n",
       "51 2024-06-23 03:00:00  33.4        51               13.3                0.00\n",
       "52 2024-06-23 04:00:00  33.1        53               11.9                0.00\n",
       "53 2024-06-23 05:00:00  33.1        53               11.2                0.00\n",
       "54 2024-06-23 06:00:00  34.4        48               12.2                0.00\n",
       "55 2024-06-23 07:00:00  36.0        42               10.8                0.00\n",
       "56 2024-06-23 08:00:00  37.4        38                9.7                0.00\n",
       "57 2024-06-23 09:00:00  38.7        35                8.6                0.00\n",
       "58 2024-06-23 10:00:00  39.8        32                9.0                0.00\n",
       "59 2024-06-23 11:00:00  40.4        31                7.9                0.01\n",
       "60 2024-06-23 12:00:00  40.5        30                7.6                0.00\n",
       "61 2024-06-23 13:00:00  40.6        30                7.6                0.00\n",
       "62 2024-06-23 14:00:00  40.9        29                8.3                0.00\n",
       "63 2024-06-23 15:00:00  41.2        29                7.9                0.00\n",
       "64 2024-06-23 16:00:00  40.6        30               10.4                0.00\n",
       "65 2024-06-23 17:00:00  39.8        31               14.4                0.00\n",
       "66 2024-06-23 18:00:00  39.3        33               13.0                0.00\n",
       "67 2024-06-23 19:00:00  38.8        34               10.8                0.29\n",
       "68 2024-06-23 20:00:00  38.6        34               12.2                0.00\n",
       "69 2024-06-23 21:00:00  38.4        35               13.7                0.00\n",
       "70 2024-06-23 22:00:00  38.0        36               10.4                0.00\n",
       "71 2024-06-23 23:00:00  37.5        37                9.7                0.00\n",
       "72 2024-06-24 00:00:00  34.8        47                4.7                0.11\n",
       "73 2024-06-24 01:00:00  35.0        46                1.8                0.03\n",
       "74 2024-06-24 02:00:00  35.1        46                3.2                0.00\n",
       "75 2024-06-24 03:00:00  34.9        47                3.6                0.00\n",
       "76 2024-06-24 04:00:00  34.6        48                4.3                0.00\n",
       "77 2024-06-24 05:00:00  34.5        48                5.0                0.00\n",
       "78 2024-06-24 06:00:00  35.2        46                5.8                0.00\n",
       "79 2024-06-24 07:00:00  36.6        42                4.7                0.00\n",
       "80 2024-06-24 08:00:00  37.9        38                4.3                0.00\n",
       "81 2024-06-24 09:00:00  39.2        35                2.9                0.00\n",
       "82 2024-06-24 10:00:00  40.5        32                2.9                0.00\n",
       "83 2024-06-24 11:00:00  41.1        30                3.2                0.00\n",
       "84 2024-06-24 12:00:00  41.0        30                5.0                0.00\n",
       "85 2024-06-24 13:00:00  41.0        30                5.8                0.00\n",
       "86 2024-06-24 14:00:00  40.8        31                6.8                0.00\n",
       "87 2024-06-24 15:00:00  40.5        31                7.9                0.02\n",
       "88 2024-06-24 16:00:00  40.0        32                5.4                0.08\n",
       "89 2024-06-24 17:00:00  39.4        34                2.9                0.00\n",
       "90 2024-06-24 18:00:00  39.2        35                3.2                0.00\n",
       "91 2024-06-24 19:00:00  38.8        36                4.0                0.45\n",
       "92 2024-06-24 20:00:00  38.6        36                9.7                0.54\n",
       "93 2024-06-24 21:00:00  37.3        40               13.0                0.16\n",
       "94 2024-06-24 22:00:00  36.1        44               14.4                0.14\n",
       "95 2024-06-24 23:00:00  34.9        48               13.7                0.02"
      ]
     },
     "execution_count": 34,
     "metadata": {},
     "output_type": "execute_result"
    }
   ],
   "source": [
    "weather01.tail(50)"
   ]
  },
  {
   "cell_type": "code",
   "execution_count": 35,
   "metadata": {},
   "outputs": [],
   "source": [
    "from prophet import  Prophet\n",
    "m = Prophet()"
   ]
  },
  {
   "cell_type": "code",
   "execution_count": 36,
   "metadata": {},
   "outputs": [
    {
     "name": "stderr",
     "output_type": "stream",
     "text": [
      "13:54:04 - cmdstanpy - INFO - Chain [1] start processing\n",
      "13:54:05 - cmdstanpy - INFO - Chain [1] done processing\n"
     ]
    },
    {
     "data": {
      "text/plain": [
       "<prophet.forecaster.Prophet at 0x248048cdfd0>"
      ]
     },
     "execution_count": 36,
     "metadata": {},
     "output_type": "execute_result"
    }
   ],
   "source": [
    "m.fit(weather01)"
   ]
  },
  {
   "cell_type": "code",
   "execution_count": 37,
   "metadata": {},
   "outputs": [
    {
     "data": {
      "text/html": [
       "<div>\n",
       "<style scoped>\n",
       "    .dataframe tbody tr th:only-of-type {\n",
       "        vertical-align: middle;\n",
       "    }\n",
       "\n",
       "    .dataframe tbody tr th {\n",
       "        vertical-align: top;\n",
       "    }\n",
       "\n",
       "    .dataframe thead th {\n",
       "        text-align: right;\n",
       "    }\n",
       "</style>\n",
       "<table border=\"1\" class=\"dataframe\">\n",
       "  <thead>\n",
       "    <tr style=\"text-align: right;\">\n",
       "      <th></th>\n",
       "      <th>ds</th>\n",
       "    </tr>\n",
       "  </thead>\n",
       "  <tbody>\n",
       "    <tr>\n",
       "      <th>211</th>\n",
       "      <td>2024-06-29 19:00:00</td>\n",
       "    </tr>\n",
       "    <tr>\n",
       "      <th>212</th>\n",
       "      <td>2024-06-29 20:00:00</td>\n",
       "    </tr>\n",
       "    <tr>\n",
       "      <th>213</th>\n",
       "      <td>2024-06-29 21:00:00</td>\n",
       "    </tr>\n",
       "    <tr>\n",
       "      <th>214</th>\n",
       "      <td>2024-06-29 22:00:00</td>\n",
       "    </tr>\n",
       "    <tr>\n",
       "      <th>215</th>\n",
       "      <td>2024-06-29 23:00:00</td>\n",
       "    </tr>\n",
       "  </tbody>\n",
       "</table>\n",
       "</div>"
      ],
      "text/plain": [
       "                     ds\n",
       "211 2024-06-29 19:00:00\n",
       "212 2024-06-29 20:00:00\n",
       "213 2024-06-29 21:00:00\n",
       "214 2024-06-29 22:00:00\n",
       "215 2024-06-29 23:00:00"
      ]
     },
     "execution_count": 37,
     "metadata": {},
     "output_type": "execute_result"
    }
   ],
   "source": [
    "future = m.make_future_dataframe(periods=120, freq='H', include_history=True)\n",
    "future.tail()"
   ]
  },
  {
   "cell_type": "code",
   "execution_count": 38,
   "metadata": {},
   "outputs": [
    {
     "data": {
      "text/html": [
       "<div>\n",
       "<style scoped>\n",
       "    .dataframe tbody tr th:only-of-type {\n",
       "        vertical-align: middle;\n",
       "    }\n",
       "\n",
       "    .dataframe tbody tr th {\n",
       "        vertical-align: top;\n",
       "    }\n",
       "\n",
       "    .dataframe thead th {\n",
       "        text-align: right;\n",
       "    }\n",
       "</style>\n",
       "<table border=\"1\" class=\"dataframe\">\n",
       "  <thead>\n",
       "    <tr style=\"text-align: right;\">\n",
       "      <th></th>\n",
       "      <th>ds</th>\n",
       "      <th>yhat</th>\n",
       "      <th>yhat_lower</th>\n",
       "      <th>yhat_upper</th>\n",
       "    </tr>\n",
       "  </thead>\n",
       "  <tbody>\n",
       "    <tr>\n",
       "      <th>211</th>\n",
       "      <td>2024-06-29 19:00:00</td>\n",
       "      <td>35.747956</td>\n",
       "      <td>29.973501</td>\n",
       "      <td>40.929078</td>\n",
       "    </tr>\n",
       "    <tr>\n",
       "      <th>212</th>\n",
       "      <td>2024-06-29 20:00:00</td>\n",
       "      <td>35.106333</td>\n",
       "      <td>29.238386</td>\n",
       "      <td>40.393559</td>\n",
       "    </tr>\n",
       "    <tr>\n",
       "      <th>213</th>\n",
       "      <td>2024-06-29 21:00:00</td>\n",
       "      <td>34.332426</td>\n",
       "      <td>28.502345</td>\n",
       "      <td>39.705054</td>\n",
       "    </tr>\n",
       "    <tr>\n",
       "      <th>214</th>\n",
       "      <td>2024-06-29 22:00:00</td>\n",
       "      <td>33.485955</td>\n",
       "      <td>27.723508</td>\n",
       "      <td>38.766838</td>\n",
       "    </tr>\n",
       "    <tr>\n",
       "      <th>215</th>\n",
       "      <td>2024-06-29 23:00:00</td>\n",
       "      <td>32.760128</td>\n",
       "      <td>26.923327</td>\n",
       "      <td>38.422639</td>\n",
       "    </tr>\n",
       "  </tbody>\n",
       "</table>\n",
       "</div>"
      ],
      "text/plain": [
       "                     ds       yhat  yhat_lower  yhat_upper\n",
       "211 2024-06-29 19:00:00  35.747956   29.973501   40.929078\n",
       "212 2024-06-29 20:00:00  35.106333   29.238386   40.393559\n",
       "213 2024-06-29 21:00:00  34.332426   28.502345   39.705054\n",
       "214 2024-06-29 22:00:00  33.485955   27.723508   38.766838\n",
       "215 2024-06-29 23:00:00  32.760128   26.923327   38.422639"
      ]
     },
     "execution_count": 38,
     "metadata": {},
     "output_type": "execute_result"
    }
   ],
   "source": [
    "forecast= m.predict(future)\n",
    "forecast[['ds','yhat','yhat_lower','yhat_upper']].tail()"
   ]
  },
  {
   "cell_type": "code",
   "execution_count": 39,
   "metadata": {},
   "outputs": [
    {
     "name": "stderr",
     "output_type": "stream",
     "text": [
      "c:\\Users\\shree\\anaconda3\\Lib\\site-packages\\_plotly_utils\\basevalidators.py:106: FutureWarning:\n",
      "\n",
      "The behavior of DatetimeProperties.to_pydatetime is deprecated, in a future version this will return a Series containing python datetime objects instead of an ndarray. To retain the old behavior, call `np.array` on the result\n",
      "\n"
     ]
    },
    {
     "data": {
      "application/vnd.plotly.v1+json": {
       "config": {
        "plotlyServerURL": "https://plot.ly"
       },
       "data": [
        {
         "marker": {
          "color": "black",
          "size": 4
         },
         "mode": "markers",
         "name": "Actual",
         "type": "scatter",
         "x": [
          "2024-06-21T00:00:00",
          "2024-06-21T01:00:00",
          "2024-06-21T02:00:00",
          "2024-06-21T03:00:00",
          "2024-06-21T04:00:00",
          "2024-06-21T05:00:00",
          "2024-06-21T06:00:00",
          "2024-06-21T07:00:00",
          "2024-06-21T08:00:00",
          "2024-06-21T09:00:00",
          "2024-06-21T10:00:00",
          "2024-06-21T11:00:00",
          "2024-06-21T12:00:00",
          "2024-06-21T13:00:00",
          "2024-06-21T14:00:00",
          "2024-06-21T15:00:00",
          "2024-06-21T16:00:00",
          "2024-06-21T17:00:00",
          "2024-06-21T18:00:00",
          "2024-06-21T19:00:00",
          "2024-06-21T20:00:00",
          "2024-06-21T21:00:00",
          "2024-06-21T22:00:00",
          "2024-06-21T23:00:00",
          "2024-06-22T00:00:00",
          "2024-06-22T01:00:00",
          "2024-06-22T02:00:00",
          "2024-06-22T03:00:00",
          "2024-06-22T04:00:00",
          "2024-06-22T05:00:00",
          "2024-06-22T06:00:00",
          "2024-06-22T07:00:00",
          "2024-06-22T08:00:00",
          "2024-06-22T09:00:00",
          "2024-06-22T10:00:00",
          "2024-06-22T11:00:00",
          "2024-06-22T12:00:00",
          "2024-06-22T13:00:00",
          "2024-06-22T14:00:00",
          "2024-06-22T15:00:00",
          "2024-06-22T16:00:00",
          "2024-06-22T17:00:00",
          "2024-06-22T18:00:00",
          "2024-06-22T19:00:00",
          "2024-06-22T20:00:00",
          "2024-06-22T21:00:00",
          "2024-06-22T22:00:00",
          "2024-06-22T23:00:00",
          "2024-06-23T00:00:00",
          "2024-06-23T01:00:00",
          "2024-06-23T02:00:00",
          "2024-06-23T03:00:00",
          "2024-06-23T04:00:00",
          "2024-06-23T05:00:00",
          "2024-06-23T06:00:00",
          "2024-06-23T07:00:00",
          "2024-06-23T08:00:00",
          "2024-06-23T09:00:00",
          "2024-06-23T10:00:00",
          "2024-06-23T11:00:00",
          "2024-06-23T12:00:00",
          "2024-06-23T13:00:00",
          "2024-06-23T14:00:00",
          "2024-06-23T15:00:00",
          "2024-06-23T16:00:00",
          "2024-06-23T17:00:00",
          "2024-06-23T18:00:00",
          "2024-06-23T19:00:00",
          "2024-06-23T20:00:00",
          "2024-06-23T21:00:00",
          "2024-06-23T22:00:00",
          "2024-06-23T23:00:00",
          "2024-06-24T00:00:00",
          "2024-06-24T01:00:00",
          "2024-06-24T02:00:00",
          "2024-06-24T03:00:00",
          "2024-06-24T04:00:00",
          "2024-06-24T05:00:00",
          "2024-06-24T06:00:00",
          "2024-06-24T07:00:00",
          "2024-06-24T08:00:00",
          "2024-06-24T09:00:00",
          "2024-06-24T10:00:00",
          "2024-06-24T11:00:00",
          "2024-06-24T12:00:00",
          "2024-06-24T13:00:00",
          "2024-06-24T14:00:00",
          "2024-06-24T15:00:00",
          "2024-06-24T16:00:00",
          "2024-06-24T17:00:00",
          "2024-06-24T18:00:00",
          "2024-06-24T19:00:00",
          "2024-06-24T20:00:00",
          "2024-06-24T21:00:00",
          "2024-06-24T22:00:00",
          "2024-06-24T23:00:00"
         ],
         "y": [
          33.9,
          33.5,
          33.6,
          33.1,
          31.8,
          31,
          31.9,
          32.8,
          33.5,
          34.2,
          35.1,
          36.3,
          38,
          39.5,
          40.2,
          40.6,
          40.6,
          40.4,
          39.5,
          37.1,
          35.2,
          34.8,
          34.3,
          33.3,
          31.6,
          32.2,
          32.3,
          32.1,
          31.7,
          31.6,
          32.3,
          33.5,
          34.8,
          36.2,
          37.4,
          38.6,
          39.3,
          38.8,
          39,
          39.1,
          37.4,
          36.1,
          36,
          36.4,
          36.1,
          35.5,
          35.2,
          34.6,
          35,
          34.5,
          33.8,
          33.4,
          33.1,
          33.1,
          34.4,
          36,
          37.4,
          38.7,
          39.8,
          40.4,
          40.5,
          40.6,
          40.9,
          41.2,
          40.6,
          39.8,
          39.3,
          38.8,
          38.6,
          38.4,
          38,
          37.5,
          34.8,
          35,
          35.1,
          34.9,
          34.6,
          34.5,
          35.2,
          36.6,
          37.9,
          39.2,
          40.5,
          41.1,
          41,
          41,
          40.8,
          40.5,
          40,
          39.4,
          39.2,
          38.8,
          38.6,
          37.3,
          36.1,
          34.9
         ]
        },
        {
         "hoverinfo": "skip",
         "line": {
          "width": 0
         },
         "mode": "lines",
         "type": "scatter",
         "x": [
          "2024-06-21T00:00:00",
          "2024-06-21T01:00:00",
          "2024-06-21T02:00:00",
          "2024-06-21T03:00:00",
          "2024-06-21T04:00:00",
          "2024-06-21T05:00:00",
          "2024-06-21T06:00:00",
          "2024-06-21T07:00:00",
          "2024-06-21T08:00:00",
          "2024-06-21T09:00:00",
          "2024-06-21T10:00:00",
          "2024-06-21T11:00:00",
          "2024-06-21T12:00:00",
          "2024-06-21T13:00:00",
          "2024-06-21T14:00:00",
          "2024-06-21T15:00:00",
          "2024-06-21T16:00:00",
          "2024-06-21T17:00:00",
          "2024-06-21T18:00:00",
          "2024-06-21T19:00:00",
          "2024-06-21T20:00:00",
          "2024-06-21T21:00:00",
          "2024-06-21T22:00:00",
          "2024-06-21T23:00:00",
          "2024-06-22T00:00:00",
          "2024-06-22T01:00:00",
          "2024-06-22T02:00:00",
          "2024-06-22T03:00:00",
          "2024-06-22T04:00:00",
          "2024-06-22T05:00:00",
          "2024-06-22T06:00:00",
          "2024-06-22T07:00:00",
          "2024-06-22T08:00:00",
          "2024-06-22T09:00:00",
          "2024-06-22T10:00:00",
          "2024-06-22T11:00:00",
          "2024-06-22T12:00:00",
          "2024-06-22T13:00:00",
          "2024-06-22T14:00:00",
          "2024-06-22T15:00:00",
          "2024-06-22T16:00:00",
          "2024-06-22T17:00:00",
          "2024-06-22T18:00:00",
          "2024-06-22T19:00:00",
          "2024-06-22T20:00:00",
          "2024-06-22T21:00:00",
          "2024-06-22T22:00:00",
          "2024-06-22T23:00:00",
          "2024-06-23T00:00:00",
          "2024-06-23T01:00:00",
          "2024-06-23T02:00:00",
          "2024-06-23T03:00:00",
          "2024-06-23T04:00:00",
          "2024-06-23T05:00:00",
          "2024-06-23T06:00:00",
          "2024-06-23T07:00:00",
          "2024-06-23T08:00:00",
          "2024-06-23T09:00:00",
          "2024-06-23T10:00:00",
          "2024-06-23T11:00:00",
          "2024-06-23T12:00:00",
          "2024-06-23T13:00:00",
          "2024-06-23T14:00:00",
          "2024-06-23T15:00:00",
          "2024-06-23T16:00:00",
          "2024-06-23T17:00:00",
          "2024-06-23T18:00:00",
          "2024-06-23T19:00:00",
          "2024-06-23T20:00:00",
          "2024-06-23T21:00:00",
          "2024-06-23T22:00:00",
          "2024-06-23T23:00:00",
          "2024-06-24T00:00:00",
          "2024-06-24T01:00:00",
          "2024-06-24T02:00:00",
          "2024-06-24T03:00:00",
          "2024-06-24T04:00:00",
          "2024-06-24T05:00:00",
          "2024-06-24T06:00:00",
          "2024-06-24T07:00:00",
          "2024-06-24T08:00:00",
          "2024-06-24T09:00:00",
          "2024-06-24T10:00:00",
          "2024-06-24T11:00:00",
          "2024-06-24T12:00:00",
          "2024-06-24T13:00:00",
          "2024-06-24T14:00:00",
          "2024-06-24T15:00:00",
          "2024-06-24T16:00:00",
          "2024-06-24T17:00:00",
          "2024-06-24T18:00:00",
          "2024-06-24T19:00:00",
          "2024-06-24T20:00:00",
          "2024-06-24T21:00:00",
          "2024-06-24T22:00:00",
          "2024-06-24T23:00:00",
          "2024-06-25T00:00:00",
          "2024-06-25T01:00:00",
          "2024-06-25T02:00:00",
          "2024-06-25T03:00:00",
          "2024-06-25T04:00:00",
          "2024-06-25T05:00:00",
          "2024-06-25T06:00:00",
          "2024-06-25T07:00:00",
          "2024-06-25T08:00:00",
          "2024-06-25T09:00:00",
          "2024-06-25T10:00:00",
          "2024-06-25T11:00:00",
          "2024-06-25T12:00:00",
          "2024-06-25T13:00:00",
          "2024-06-25T14:00:00",
          "2024-06-25T15:00:00",
          "2024-06-25T16:00:00",
          "2024-06-25T17:00:00",
          "2024-06-25T18:00:00",
          "2024-06-25T19:00:00",
          "2024-06-25T20:00:00",
          "2024-06-25T21:00:00",
          "2024-06-25T22:00:00",
          "2024-06-25T23:00:00",
          "2024-06-26T00:00:00",
          "2024-06-26T01:00:00",
          "2024-06-26T02:00:00",
          "2024-06-26T03:00:00",
          "2024-06-26T04:00:00",
          "2024-06-26T05:00:00",
          "2024-06-26T06:00:00",
          "2024-06-26T07:00:00",
          "2024-06-26T08:00:00",
          "2024-06-26T09:00:00",
          "2024-06-26T10:00:00",
          "2024-06-26T11:00:00",
          "2024-06-26T12:00:00",
          "2024-06-26T13:00:00",
          "2024-06-26T14:00:00",
          "2024-06-26T15:00:00",
          "2024-06-26T16:00:00",
          "2024-06-26T17:00:00",
          "2024-06-26T18:00:00",
          "2024-06-26T19:00:00",
          "2024-06-26T20:00:00",
          "2024-06-26T21:00:00",
          "2024-06-26T22:00:00",
          "2024-06-26T23:00:00",
          "2024-06-27T00:00:00",
          "2024-06-27T01:00:00",
          "2024-06-27T02:00:00",
          "2024-06-27T03:00:00",
          "2024-06-27T04:00:00",
          "2024-06-27T05:00:00",
          "2024-06-27T06:00:00",
          "2024-06-27T07:00:00",
          "2024-06-27T08:00:00",
          "2024-06-27T09:00:00",
          "2024-06-27T10:00:00",
          "2024-06-27T11:00:00",
          "2024-06-27T12:00:00",
          "2024-06-27T13:00:00",
          "2024-06-27T14:00:00",
          "2024-06-27T15:00:00",
          "2024-06-27T16:00:00",
          "2024-06-27T17:00:00",
          "2024-06-27T18:00:00",
          "2024-06-27T19:00:00",
          "2024-06-27T20:00:00",
          "2024-06-27T21:00:00",
          "2024-06-27T22:00:00",
          "2024-06-27T23:00:00",
          "2024-06-28T00:00:00",
          "2024-06-28T01:00:00",
          "2024-06-28T02:00:00",
          "2024-06-28T03:00:00",
          "2024-06-28T04:00:00",
          "2024-06-28T05:00:00",
          "2024-06-28T06:00:00",
          "2024-06-28T07:00:00",
          "2024-06-28T08:00:00",
          "2024-06-28T09:00:00",
          "2024-06-28T10:00:00",
          "2024-06-28T11:00:00",
          "2024-06-28T12:00:00",
          "2024-06-28T13:00:00",
          "2024-06-28T14:00:00",
          "2024-06-28T15:00:00",
          "2024-06-28T16:00:00",
          "2024-06-28T17:00:00",
          "2024-06-28T18:00:00",
          "2024-06-28T19:00:00",
          "2024-06-28T20:00:00",
          "2024-06-28T21:00:00",
          "2024-06-28T22:00:00",
          "2024-06-28T23:00:00",
          "2024-06-29T00:00:00",
          "2024-06-29T01:00:00",
          "2024-06-29T02:00:00",
          "2024-06-29T03:00:00",
          "2024-06-29T04:00:00",
          "2024-06-29T05:00:00",
          "2024-06-29T06:00:00",
          "2024-06-29T07:00:00",
          "2024-06-29T08:00:00",
          "2024-06-29T09:00:00",
          "2024-06-29T10:00:00",
          "2024-06-29T11:00:00",
          "2024-06-29T12:00:00",
          "2024-06-29T13:00:00",
          "2024-06-29T14:00:00",
          "2024-06-29T15:00:00",
          "2024-06-29T16:00:00",
          "2024-06-29T17:00:00",
          "2024-06-29T18:00:00",
          "2024-06-29T19:00:00",
          "2024-06-29T20:00:00",
          "2024-06-29T21:00:00",
          "2024-06-29T22:00:00",
          "2024-06-29T23:00:00"
         ],
         "y": [
          31.894446681283892,
          31.82377502564256,
          31.434341372380857,
          31.031614486174806,
          30.85145692136501,
          30.603740955844508,
          31.217260932729918,
          32.32789134184339,
          33.81166776684831,
          35.03617965521312,
          36.02570071875444,
          36.76367663464329,
          37.32385963791799,
          37.80287507323444,
          38.0953763644068,
          37.8634167143205,
          37.42869315372921,
          36.600376190869646,
          35.97915114732159,
          35.46442277925897,
          34.870023537443686,
          34.101665572840666,
          33.231853093344306,
          32.63488776587389,
          32.19286272170276,
          31.861912353739932,
          31.617645578523312,
          31.267808343330106,
          30.90775900220007,
          30.942476652149665,
          31.481556069039435,
          32.545006286942694,
          34.02683776458364,
          35.22071755870028,
          36.23036736711601,
          37.001158394361404,
          37.668074879904296,
          38.03413966997094,
          38.344985540856186,
          38.21814843709495,
          37.71688448177448,
          37.039769216827665,
          36.41699088196248,
          35.83942080518473,
          35.331856195544745,
          34.75514898778131,
          33.9438428160571,
          33.283782904543926,
          32.96202525305558,
          32.85331071391175,
          32.74657523327396,
          32.38582811761794,
          32.10777413145281,
          32.06142297262108,
          32.78304283411215,
          33.90154660249958,
          35.48545376237992,
          36.75842672843541,
          37.81495316204218,
          38.59815186760273,
          39.25865518620807,
          39.97002957905391,
          40.222999865853424,
          40.132520641179724,
          39.67929808763746,
          39.08049543695235,
          38.514971683743745,
          38.036802765686076,
          37.45546218825848,
          36.705537006385825,
          36.04872846974931,
          35.19444409420985,
          34.81275937489867,
          34.540372270016576,
          34.24882608222368,
          33.88436136348804,
          33.33898609468589,
          33.20956448211234,
          33.86402096993959,
          34.884585454154646,
          36.423636346750705,
          37.57405150159091,
          38.561246951905325,
          39.136897460950735,
          39.77664469206361,
          40.21518668328539,
          40.48319224816498,
          40.19333198565972,
          39.72372839436918,
          39.03155669253169,
          38.25518431683753,
          37.61582449968947,
          37.028290300883675,
          36.262195562554865,
          35.38801835820653,
          34.576793483952976,
          34.124404440683186,
          33.95166854550891,
          33.61689300552734,
          33.32280272599243,
          32.80039047747413,
          32.82569477113122,
          33.19734294864926,
          34.37422908910598,
          35.69590225971197,
          37.02363676694805,
          37.90393354816185,
          38.57694198701574,
          39.12377806890596,
          39.60768907052657,
          39.821920926042154,
          39.58352979097604,
          39.072429639930164,
          38.339754087630006,
          37.460622397608766,
          36.92858579359429,
          36.316293514659336,
          35.57915598662439,
          34.6922265083107,
          33.91363540484642,
          33.48514083462776,
          33.18308605957931,
          32.88227282261551,
          32.36621608880807,
          32.02574379796339,
          31.886761314043355,
          32.46755942991163,
          33.41838248373099,
          34.757848139630404,
          36.10349926602552,
          37.028016600271826,
          37.631452791761205,
          38.29067168929494,
          38.69023146550318,
          38.673581833281126,
          38.54361055328258,
          38.019708035364374,
          37.208105680593704,
          36.5014527349427,
          35.93467116965509,
          35.146045022276745,
          34.32345229587278,
          33.579651107571834,
          32.725998128332,
          32.22228079284398,
          31.948154211815673,
          31.74017440341651,
          31.18413609667439,
          30.832563388750728,
          30.691434592170115,
          31.15877839683184,
          32.061265823525865,
          33.41935181613393,
          34.6513492837712,
          35.60225657410099,
          36.21627384012523,
          36.80637160882738,
          37.21184633386987,
          37.30268988268977,
          37.02661965039017,
          36.42301814108281,
          35.64932318650599,
          34.91733230695302,
          34.30187997018668,
          33.59884796177211,
          32.763555483452414,
          31.900591105711705,
          31.068518298977516,
          30.644248567478336,
          30.315655054748245,
          30.011544155941742,
          29.40443984689616,
          28.998873482709207,
          28.859017974539015,
          29.4317611268916,
          30.45188364212284,
          31.830697429245177,
          32.92330446512401,
          33.977527727059346,
          34.52640332561879,
          34.90938177220917,
          35.25355750403416,
          35.43737294178823,
          35.246233835117486,
          34.653001159353366,
          33.8310245986709,
          33.09322114734271,
          32.39296802102846,
          31.76151078133587,
          30.821958230414076,
          29.899579536283994,
          29.121630885879828,
          28.557439404954394,
          28.207161299949764,
          28.008571635710016,
          27.446297022944435,
          26.8199867395899,
          26.64726862521272,
          27.329206411723145,
          28.131802317795206,
          29.487650538702,
          30.922291779502423,
          31.609387601593713,
          32.504245980210804,
          32.81050135753464,
          33.14955621585664,
          33.3660662739685,
          33.13893495986856,
          32.3757261862897,
          31.827203779630672,
          30.855435525145875,
          29.97350118523146,
          29.238386380964837,
          28.502345185555033,
          27.723507528926152,
          26.92332729559015
         ]
        },
        {
         "fill": "tonexty",
         "fillcolor": "rgba(0, 114, 178, 0.2)",
         "line": {
          "color": "#0072B2",
          "width": 2
         },
         "mode": "lines",
         "name": "Predicted",
         "type": "scatter",
         "x": [
          "2024-06-21T00:00:00",
          "2024-06-21T01:00:00",
          "2024-06-21T02:00:00",
          "2024-06-21T03:00:00",
          "2024-06-21T04:00:00",
          "2024-06-21T05:00:00",
          "2024-06-21T06:00:00",
          "2024-06-21T07:00:00",
          "2024-06-21T08:00:00",
          "2024-06-21T09:00:00",
          "2024-06-21T10:00:00",
          "2024-06-21T11:00:00",
          "2024-06-21T12:00:00",
          "2024-06-21T13:00:00",
          "2024-06-21T14:00:00",
          "2024-06-21T15:00:00",
          "2024-06-21T16:00:00",
          "2024-06-21T17:00:00",
          "2024-06-21T18:00:00",
          "2024-06-21T19:00:00",
          "2024-06-21T20:00:00",
          "2024-06-21T21:00:00",
          "2024-06-21T22:00:00",
          "2024-06-21T23:00:00",
          "2024-06-22T00:00:00",
          "2024-06-22T01:00:00",
          "2024-06-22T02:00:00",
          "2024-06-22T03:00:00",
          "2024-06-22T04:00:00",
          "2024-06-22T05:00:00",
          "2024-06-22T06:00:00",
          "2024-06-22T07:00:00",
          "2024-06-22T08:00:00",
          "2024-06-22T09:00:00",
          "2024-06-22T10:00:00",
          "2024-06-22T11:00:00",
          "2024-06-22T12:00:00",
          "2024-06-22T13:00:00",
          "2024-06-22T14:00:00",
          "2024-06-22T15:00:00",
          "2024-06-22T16:00:00",
          "2024-06-22T17:00:00",
          "2024-06-22T18:00:00",
          "2024-06-22T19:00:00",
          "2024-06-22T20:00:00",
          "2024-06-22T21:00:00",
          "2024-06-22T22:00:00",
          "2024-06-22T23:00:00",
          "2024-06-23T00:00:00",
          "2024-06-23T01:00:00",
          "2024-06-23T02:00:00",
          "2024-06-23T03:00:00",
          "2024-06-23T04:00:00",
          "2024-06-23T05:00:00",
          "2024-06-23T06:00:00",
          "2024-06-23T07:00:00",
          "2024-06-23T08:00:00",
          "2024-06-23T09:00:00",
          "2024-06-23T10:00:00",
          "2024-06-23T11:00:00",
          "2024-06-23T12:00:00",
          "2024-06-23T13:00:00",
          "2024-06-23T14:00:00",
          "2024-06-23T15:00:00",
          "2024-06-23T16:00:00",
          "2024-06-23T17:00:00",
          "2024-06-23T18:00:00",
          "2024-06-23T19:00:00",
          "2024-06-23T20:00:00",
          "2024-06-23T21:00:00",
          "2024-06-23T22:00:00",
          "2024-06-23T23:00:00",
          "2024-06-24T00:00:00",
          "2024-06-24T01:00:00",
          "2024-06-24T02:00:00",
          "2024-06-24T03:00:00",
          "2024-06-24T04:00:00",
          "2024-06-24T05:00:00",
          "2024-06-24T06:00:00",
          "2024-06-24T07:00:00",
          "2024-06-24T08:00:00",
          "2024-06-24T09:00:00",
          "2024-06-24T10:00:00",
          "2024-06-24T11:00:00",
          "2024-06-24T12:00:00",
          "2024-06-24T13:00:00",
          "2024-06-24T14:00:00",
          "2024-06-24T15:00:00",
          "2024-06-24T16:00:00",
          "2024-06-24T17:00:00",
          "2024-06-24T18:00:00",
          "2024-06-24T19:00:00",
          "2024-06-24T20:00:00",
          "2024-06-24T21:00:00",
          "2024-06-24T22:00:00",
          "2024-06-24T23:00:00",
          "2024-06-25T00:00:00",
          "2024-06-25T01:00:00",
          "2024-06-25T02:00:00",
          "2024-06-25T03:00:00",
          "2024-06-25T04:00:00",
          "2024-06-25T05:00:00",
          "2024-06-25T06:00:00",
          "2024-06-25T07:00:00",
          "2024-06-25T08:00:00",
          "2024-06-25T09:00:00",
          "2024-06-25T10:00:00",
          "2024-06-25T11:00:00",
          "2024-06-25T12:00:00",
          "2024-06-25T13:00:00",
          "2024-06-25T14:00:00",
          "2024-06-25T15:00:00",
          "2024-06-25T16:00:00",
          "2024-06-25T17:00:00",
          "2024-06-25T18:00:00",
          "2024-06-25T19:00:00",
          "2024-06-25T20:00:00",
          "2024-06-25T21:00:00",
          "2024-06-25T22:00:00",
          "2024-06-25T23:00:00",
          "2024-06-26T00:00:00",
          "2024-06-26T01:00:00",
          "2024-06-26T02:00:00",
          "2024-06-26T03:00:00",
          "2024-06-26T04:00:00",
          "2024-06-26T05:00:00",
          "2024-06-26T06:00:00",
          "2024-06-26T07:00:00",
          "2024-06-26T08:00:00",
          "2024-06-26T09:00:00",
          "2024-06-26T10:00:00",
          "2024-06-26T11:00:00",
          "2024-06-26T12:00:00",
          "2024-06-26T13:00:00",
          "2024-06-26T14:00:00",
          "2024-06-26T15:00:00",
          "2024-06-26T16:00:00",
          "2024-06-26T17:00:00",
          "2024-06-26T18:00:00",
          "2024-06-26T19:00:00",
          "2024-06-26T20:00:00",
          "2024-06-26T21:00:00",
          "2024-06-26T22:00:00",
          "2024-06-26T23:00:00",
          "2024-06-27T00:00:00",
          "2024-06-27T01:00:00",
          "2024-06-27T02:00:00",
          "2024-06-27T03:00:00",
          "2024-06-27T04:00:00",
          "2024-06-27T05:00:00",
          "2024-06-27T06:00:00",
          "2024-06-27T07:00:00",
          "2024-06-27T08:00:00",
          "2024-06-27T09:00:00",
          "2024-06-27T10:00:00",
          "2024-06-27T11:00:00",
          "2024-06-27T12:00:00",
          "2024-06-27T13:00:00",
          "2024-06-27T14:00:00",
          "2024-06-27T15:00:00",
          "2024-06-27T16:00:00",
          "2024-06-27T17:00:00",
          "2024-06-27T18:00:00",
          "2024-06-27T19:00:00",
          "2024-06-27T20:00:00",
          "2024-06-27T21:00:00",
          "2024-06-27T22:00:00",
          "2024-06-27T23:00:00",
          "2024-06-28T00:00:00",
          "2024-06-28T01:00:00",
          "2024-06-28T02:00:00",
          "2024-06-28T03:00:00",
          "2024-06-28T04:00:00",
          "2024-06-28T05:00:00",
          "2024-06-28T06:00:00",
          "2024-06-28T07:00:00",
          "2024-06-28T08:00:00",
          "2024-06-28T09:00:00",
          "2024-06-28T10:00:00",
          "2024-06-28T11:00:00",
          "2024-06-28T12:00:00",
          "2024-06-28T13:00:00",
          "2024-06-28T14:00:00",
          "2024-06-28T15:00:00",
          "2024-06-28T16:00:00",
          "2024-06-28T17:00:00",
          "2024-06-28T18:00:00",
          "2024-06-28T19:00:00",
          "2024-06-28T20:00:00",
          "2024-06-28T21:00:00",
          "2024-06-28T22:00:00",
          "2024-06-28T23:00:00",
          "2024-06-29T00:00:00",
          "2024-06-29T01:00:00",
          "2024-06-29T02:00:00",
          "2024-06-29T03:00:00",
          "2024-06-29T04:00:00",
          "2024-06-29T05:00:00",
          "2024-06-29T06:00:00",
          "2024-06-29T07:00:00",
          "2024-06-29T08:00:00",
          "2024-06-29T09:00:00",
          "2024-06-29T10:00:00",
          "2024-06-29T11:00:00",
          "2024-06-29T12:00:00",
          "2024-06-29T13:00:00",
          "2024-06-29T14:00:00",
          "2024-06-29T15:00:00",
          "2024-06-29T16:00:00",
          "2024-06-29T17:00:00",
          "2024-06-29T18:00:00",
          "2024-06-29T19:00:00",
          "2024-06-29T20:00:00",
          "2024-06-29T21:00:00",
          "2024-06-29T22:00:00",
          "2024-06-29T23:00:00"
         ],
         "y": [
          33.037879948007884,
          32.80673547681127,
          32.56705895090871,
          32.18795061674799,
          31.7982227340702,
          31.733466421990197,
          32.27486462183743,
          33.40737721739599,
          34.814220188949385,
          36.10918122503072,
          37.09398254189251,
          37.81765243028374,
          38.41348133476958,
          38.89731533769005,
          39.13070784012599,
          38.972079091652745,
          38.446435745628555,
          37.75152002769525,
          37.092194534820166,
          36.51369393874497,
          35.904623556491806,
          35.163269875771,
          34.3493511614393,
          33.65607764218803,
          33.22451866307699,
          32.993503842924085,
          32.75395696803022,
          32.3749782848884,
          31.995014434671308,
          31.94002215502677,
          32.49118438732083,
          33.633560680701116,
          35.05026735008703,
          36.355092083984644,
          37.3498399345135,
          38.08345635657431,
          38.68923179474332,
          39.18317659873293,
          39.42667990224656,
          39.27816195484936,
          38.76285609573663,
          38.078277864711524,
          37.42928985875734,
          36.932713267562264,
          36.4055668902098,
          35.74613721431953,
          35.01416506363224,
          34.40283810805817,
          34.05322569257872,
          33.90407421427311,
          33.746390681254965,
          33.449275339979415,
          33.14154045002455,
          33.15877713067634,
          33.78216832322159,
          34.99666910247417,
          36.48550025781787,
          37.86244947754639,
          38.92911410699734,
          39.734647308008086,
          40.41233952508492,
          40.97793580728502,
          41.29309058904666,
          41.21622411986666,
          40.7721162861527,
          40.15873608051935,
          39.580946099958425,
          39.08392011355405,
          38.55632434100194,
          37.89644526989183,
          37.05025837346536,
          36.3247166721604,
          35.86088951094685,
          35.597376499925645,
          35.325331434187625,
          34.91385456020169,
          34.49162014277798,
          34.394357295967865,
          34.90324896107442,
          36.003255021869,
          37.37759145866638,
          38.640045960002446,
          39.59229431317929,
          40.28341123788018,
          40.846687178691056,
          41.29796821788999,
          41.498807756617715,
          41.3076260444266,
          40.74942973466493,
          40.02196105293658,
          39.33008259635114,
          38.71902903659359,
          38.07740569065355,
          37.30349904619651,
          36.45702736803772,
          35.731200884921755,
          35.26708894194029,
          35.00343793607325,
          34.731254875487735,
          34.319640006649124,
          33.897405589238005,
          33.80014274242675,
          34.30903440754618,
          35.40904046835014,
          36.78337690514894,
          38.045831406473944,
          38.99807975964909,
          39.689196684345205,
          40.25247262515431,
          40.703753664351794,
          40.904593203073375,
          40.71341149087978,
          40.15521518110313,
          39.42774649942131,
          38.735868042797286,
          38.124814483038726,
          37.483191137137005,
          36.70928449268523,
          35.86281281448226,
          35.13698633140139,
          34.67287438840941,
          34.40922338253827,
          34.13704032193886,
          33.7254254531232,
          33.30319103570658,
          33.205928188891235,
          33.71481985401795,
          34.814825914754984,
          36.189162351631495,
          37.45161685295105,
          38.403865206073796,
          39.09498213081024,
          39.65825807162815,
          40.10953911081361,
          40.31037864953171,
          40.11919693733298,
          39.56100062755191,
          38.83353194586242,
          38.14165348924343,
          37.53059992949325,
          36.8889765835802,
          36.11506993912746,
          35.2685982609268,
          34.54277177785118,
          34.07865983485332,
          33.815008828993236,
          33.542825768408115,
          33.13121089957063,
          32.708976482156004,
          32.61171363534023,
          33.120605300441156,
          34.22061136122675,
          35.59494779803368,
          36.85740229936327,
          37.809650652543596,
          38.50076757728464,
          39.06404351806376,
          39.51532455725563,
          39.71616409599003,
          39.52498238380449,
          38.966786074034665,
          38.239317392309125,
          37.54743893569225,
          36.93638537597279,
          36.29476203002339,
          35.520855385569696,
          34.67438370737135,
          33.94855722429159,
          33.48444528130781,
          33.220794275442614,
          32.94861121485924,
          32.53699634601806,
          32.11476192860544,
          32.017499081799116,
          32.52639074691025,
          33.6263968077079,
          35.00073324451624,
          36.263187745840376,
          37.2154360990134,
          37.90655302371673,
          38.46982896452701,
          38.921110003723044,
          39.1219495424453,
          38.93076783025768,
          38.37257152048345,
          37.64510283879385,
          36.95322438217338,
          36.34217082241793,
          35.700547476506856,
          34.92664083205842,
          34.080169153859494,
          33.35434267074138,
          32.890230727776945,
          32.62657972190763,
          32.35439666131305,
          31.94278179246548,
          31.52054737507402,
          31.42328452825801,
          31.932176193382016,
          33.03218225418903,
          34.406518690998794,
          35.66897319231188,
          36.6212215454832,
          37.312338470181764,
          37.875614410990266,
          38.32689545018486,
          38.527734988900946,
          38.33655327671087,
          37.77835696692164,
          37.05088828524056,
          36.35900982861953,
          35.747956268863064,
          35.106332922950045,
          34.33242627850625,
          33.48595460030404,
          32.760128117221015
         ]
        },
        {
         "fill": "tonexty",
         "fillcolor": "rgba(0, 114, 178, 0.2)",
         "hoverinfo": "skip",
         "line": {
          "width": 0
         },
         "mode": "lines",
         "type": "scatter",
         "x": [
          "2024-06-21T00:00:00",
          "2024-06-21T01:00:00",
          "2024-06-21T02:00:00",
          "2024-06-21T03:00:00",
          "2024-06-21T04:00:00",
          "2024-06-21T05:00:00",
          "2024-06-21T06:00:00",
          "2024-06-21T07:00:00",
          "2024-06-21T08:00:00",
          "2024-06-21T09:00:00",
          "2024-06-21T10:00:00",
          "2024-06-21T11:00:00",
          "2024-06-21T12:00:00",
          "2024-06-21T13:00:00",
          "2024-06-21T14:00:00",
          "2024-06-21T15:00:00",
          "2024-06-21T16:00:00",
          "2024-06-21T17:00:00",
          "2024-06-21T18:00:00",
          "2024-06-21T19:00:00",
          "2024-06-21T20:00:00",
          "2024-06-21T21:00:00",
          "2024-06-21T22:00:00",
          "2024-06-21T23:00:00",
          "2024-06-22T00:00:00",
          "2024-06-22T01:00:00",
          "2024-06-22T02:00:00",
          "2024-06-22T03:00:00",
          "2024-06-22T04:00:00",
          "2024-06-22T05:00:00",
          "2024-06-22T06:00:00",
          "2024-06-22T07:00:00",
          "2024-06-22T08:00:00",
          "2024-06-22T09:00:00",
          "2024-06-22T10:00:00",
          "2024-06-22T11:00:00",
          "2024-06-22T12:00:00",
          "2024-06-22T13:00:00",
          "2024-06-22T14:00:00",
          "2024-06-22T15:00:00",
          "2024-06-22T16:00:00",
          "2024-06-22T17:00:00",
          "2024-06-22T18:00:00",
          "2024-06-22T19:00:00",
          "2024-06-22T20:00:00",
          "2024-06-22T21:00:00",
          "2024-06-22T22:00:00",
          "2024-06-22T23:00:00",
          "2024-06-23T00:00:00",
          "2024-06-23T01:00:00",
          "2024-06-23T02:00:00",
          "2024-06-23T03:00:00",
          "2024-06-23T04:00:00",
          "2024-06-23T05:00:00",
          "2024-06-23T06:00:00",
          "2024-06-23T07:00:00",
          "2024-06-23T08:00:00",
          "2024-06-23T09:00:00",
          "2024-06-23T10:00:00",
          "2024-06-23T11:00:00",
          "2024-06-23T12:00:00",
          "2024-06-23T13:00:00",
          "2024-06-23T14:00:00",
          "2024-06-23T15:00:00",
          "2024-06-23T16:00:00",
          "2024-06-23T17:00:00",
          "2024-06-23T18:00:00",
          "2024-06-23T19:00:00",
          "2024-06-23T20:00:00",
          "2024-06-23T21:00:00",
          "2024-06-23T22:00:00",
          "2024-06-23T23:00:00",
          "2024-06-24T00:00:00",
          "2024-06-24T01:00:00",
          "2024-06-24T02:00:00",
          "2024-06-24T03:00:00",
          "2024-06-24T04:00:00",
          "2024-06-24T05:00:00",
          "2024-06-24T06:00:00",
          "2024-06-24T07:00:00",
          "2024-06-24T08:00:00",
          "2024-06-24T09:00:00",
          "2024-06-24T10:00:00",
          "2024-06-24T11:00:00",
          "2024-06-24T12:00:00",
          "2024-06-24T13:00:00",
          "2024-06-24T14:00:00",
          "2024-06-24T15:00:00",
          "2024-06-24T16:00:00",
          "2024-06-24T17:00:00",
          "2024-06-24T18:00:00",
          "2024-06-24T19:00:00",
          "2024-06-24T20:00:00",
          "2024-06-24T21:00:00",
          "2024-06-24T22:00:00",
          "2024-06-24T23:00:00",
          "2024-06-25T00:00:00",
          "2024-06-25T01:00:00",
          "2024-06-25T02:00:00",
          "2024-06-25T03:00:00",
          "2024-06-25T04:00:00",
          "2024-06-25T05:00:00",
          "2024-06-25T06:00:00",
          "2024-06-25T07:00:00",
          "2024-06-25T08:00:00",
          "2024-06-25T09:00:00",
          "2024-06-25T10:00:00",
          "2024-06-25T11:00:00",
          "2024-06-25T12:00:00",
          "2024-06-25T13:00:00",
          "2024-06-25T14:00:00",
          "2024-06-25T15:00:00",
          "2024-06-25T16:00:00",
          "2024-06-25T17:00:00",
          "2024-06-25T18:00:00",
          "2024-06-25T19:00:00",
          "2024-06-25T20:00:00",
          "2024-06-25T21:00:00",
          "2024-06-25T22:00:00",
          "2024-06-25T23:00:00",
          "2024-06-26T00:00:00",
          "2024-06-26T01:00:00",
          "2024-06-26T02:00:00",
          "2024-06-26T03:00:00",
          "2024-06-26T04:00:00",
          "2024-06-26T05:00:00",
          "2024-06-26T06:00:00",
          "2024-06-26T07:00:00",
          "2024-06-26T08:00:00",
          "2024-06-26T09:00:00",
          "2024-06-26T10:00:00",
          "2024-06-26T11:00:00",
          "2024-06-26T12:00:00",
          "2024-06-26T13:00:00",
          "2024-06-26T14:00:00",
          "2024-06-26T15:00:00",
          "2024-06-26T16:00:00",
          "2024-06-26T17:00:00",
          "2024-06-26T18:00:00",
          "2024-06-26T19:00:00",
          "2024-06-26T20:00:00",
          "2024-06-26T21:00:00",
          "2024-06-26T22:00:00",
          "2024-06-26T23:00:00",
          "2024-06-27T00:00:00",
          "2024-06-27T01:00:00",
          "2024-06-27T02:00:00",
          "2024-06-27T03:00:00",
          "2024-06-27T04:00:00",
          "2024-06-27T05:00:00",
          "2024-06-27T06:00:00",
          "2024-06-27T07:00:00",
          "2024-06-27T08:00:00",
          "2024-06-27T09:00:00",
          "2024-06-27T10:00:00",
          "2024-06-27T11:00:00",
          "2024-06-27T12:00:00",
          "2024-06-27T13:00:00",
          "2024-06-27T14:00:00",
          "2024-06-27T15:00:00",
          "2024-06-27T16:00:00",
          "2024-06-27T17:00:00",
          "2024-06-27T18:00:00",
          "2024-06-27T19:00:00",
          "2024-06-27T20:00:00",
          "2024-06-27T21:00:00",
          "2024-06-27T22:00:00",
          "2024-06-27T23:00:00",
          "2024-06-28T00:00:00",
          "2024-06-28T01:00:00",
          "2024-06-28T02:00:00",
          "2024-06-28T03:00:00",
          "2024-06-28T04:00:00",
          "2024-06-28T05:00:00",
          "2024-06-28T06:00:00",
          "2024-06-28T07:00:00",
          "2024-06-28T08:00:00",
          "2024-06-28T09:00:00",
          "2024-06-28T10:00:00",
          "2024-06-28T11:00:00",
          "2024-06-28T12:00:00",
          "2024-06-28T13:00:00",
          "2024-06-28T14:00:00",
          "2024-06-28T15:00:00",
          "2024-06-28T16:00:00",
          "2024-06-28T17:00:00",
          "2024-06-28T18:00:00",
          "2024-06-28T19:00:00",
          "2024-06-28T20:00:00",
          "2024-06-28T21:00:00",
          "2024-06-28T22:00:00",
          "2024-06-28T23:00:00",
          "2024-06-29T00:00:00",
          "2024-06-29T01:00:00",
          "2024-06-29T02:00:00",
          "2024-06-29T03:00:00",
          "2024-06-29T04:00:00",
          "2024-06-29T05:00:00",
          "2024-06-29T06:00:00",
          "2024-06-29T07:00:00",
          "2024-06-29T08:00:00",
          "2024-06-29T09:00:00",
          "2024-06-29T10:00:00",
          "2024-06-29T11:00:00",
          "2024-06-29T12:00:00",
          "2024-06-29T13:00:00",
          "2024-06-29T14:00:00",
          "2024-06-29T15:00:00",
          "2024-06-29T16:00:00",
          "2024-06-29T17:00:00",
          "2024-06-29T18:00:00",
          "2024-06-29T19:00:00",
          "2024-06-29T20:00:00",
          "2024-06-29T21:00:00",
          "2024-06-29T22:00:00",
          "2024-06-29T23:00:00"
         ],
         "y": [
          34.12803875868958,
          33.907554783426384,
          33.62154522776353,
          33.24553229794264,
          32.89731076778938,
          32.806646443656334,
          33.38398750537365,
          34.519382981654715,
          35.80623073553556,
          37.182334078868806,
          38.17151345456723,
          38.956905936064906,
          39.45310497854591,
          39.95186159592988,
          40.185669333074195,
          39.972039517223685,
          39.54652360085031,
          38.80320413946457,
          38.205302750672075,
          37.58378413423132,
          37.067875186014305,
          36.3158117002806,
          35.434847772962904,
          34.73800495952749,
          34.370616358088384,
          34.06012539580089,
          33.806834177520116,
          33.4396627319305,
          33.081784678193884,
          33.02756903332048,
          33.534150170963684,
          34.673449854836804,
          36.15622043523506,
          37.40824251659885,
          38.36477974850443,
          39.13251408530621,
          39.76653306820417,
          40.27487542903248,
          40.540232668151255,
          40.3349358661807,
          39.86752423025061,
          39.18256121407323,
          38.530782718941786,
          37.97286703865021,
          37.46818139359852,
          36.87191611157649,
          36.109511981490286,
          35.50891779981989,
          35.09564447532992,
          34.884190350089284,
          34.770301156946275,
          34.533367771169246,
          34.231635403780274,
          34.183909779242015,
          34.865750946938654,
          36.002915062174466,
          37.55328522882562,
          38.96955671461444,
          40.07409972269058,
          40.80356318745993,
          41.44638490864619,
          42.115829062787874,
          42.36512956398976,
          42.24636298641557,
          41.95403366771383,
          41.270873251456536,
          40.625880941622455,
          40.14523029122359,
          39.68969396392721,
          38.92165196855621,
          38.1462386924425,
          37.39454967045401,
          36.93129994886716,
          36.70992461084751,
          36.37288666467011,
          35.977917033144685,
          35.568764861130234,
          35.539732759512766,
          35.99401532703034,
          37.06586765494966,
          38.55099504525611,
          39.694377419796915,
          40.62401859421189,
          41.35361836003747,
          41.93390921709947,
          42.354727660480776,
          42.58202552980733,
          42.42699544971633,
          41.87093964224432,
          41.14496207715318,
          40.33947211931722,
          39.82436566334863,
          39.06830613147736,
          38.368176568844405,
          37.534793260495306,
          36.82179239808281,
          36.32645539394247,
          36.061767985269796,
          35.79660071272674,
          35.46713339205851,
          34.94905032795237,
          34.937413922691114,
          35.274407987074554,
          36.51697450682173,
          37.84968104496995,
          39.19680900963007,
          40.045927427635164,
          40.75429510857112,
          41.37870929794137,
          41.72739226587579,
          42.0181970100109,
          41.790785973281665,
          41.19179509623215,
          40.607172482957616,
          39.748887331317874,
          39.238580231571135,
          38.686494742606484,
          37.930300378909656,
          36.97979302891055,
          36.30721976560162,
          35.901561209897324,
          35.58876298393144,
          35.366857238237344,
          34.92153574382471,
          34.59277206203354,
          34.436941489092625,
          34.93701261970655,
          36.064322193766195,
          37.53236603459582,
          38.788513378223065,
          39.75916749750311,
          40.478978116333415,
          41.12342976700174,
          41.67045193822513,
          41.742731974358364,
          41.57683078776518,
          41.15840802599869,
          40.442563408227805,
          39.691547163825895,
          39.06983174638731,
          38.446429174627156,
          37.82297844146943,
          36.845476081211665,
          36.33168324376524,
          35.874860772269734,
          35.60593761392352,
          35.416207753855865,
          35.09656472396874,
          34.623227857902265,
          34.57516935943574,
          35.05423803821815,
          36.25253705473528,
          37.7227793494008,
          39.007337461741066,
          40.050051967644,
          40.746116601473965,
          41.23595203526995,
          41.78986370642853,
          42.03680865090878,
          41.91277749288865,
          41.363560215345586,
          40.60867115046351,
          39.99379396760301,
          39.40374756692975,
          38.93364593089354,
          37.94535680166672,
          37.37827016053841,
          36.58908404174084,
          36.20959679352866,
          36.07645404762641,
          35.66953643201693,
          35.38177352937233,
          34.95960096360735,
          34.82874187614476,
          35.57830627448784,
          36.90446833665639,
          38.220490108151076,
          39.305219920822594,
          40.48663839498821,
          41.10650843755739,
          41.87452024303033,
          42.30726270586585,
          42.681320801586025,
          42.31299560476815,
          41.975868496055085,
          41.182217606228946,
          40.58623993187869,
          40.17120881313486,
          39.359557886147805,
          38.93950494585044,
          37.89636301790754,
          37.38829060001902,
          37.050945442425046,
          36.8769102529002,
          36.36143055463634,
          36.19231117944523,
          35.82655699398441,
          35.86199218620362,
          36.147329106850066,
          37.601442232469175,
          38.993385614882214,
          40.28155563999167,
          41.26673974538796,
          42.033213830209334,
          42.501034493514595,
          43.22832237958845,
          43.26661246264185,
          43.57749418823282,
          42.77317869669916,
          42.13386349353784,
          41.56440918909653,
          40.929078339819704,
          40.39355934008574,
          39.70505382321654,
          38.76683787881401,
          38.42263850765441
         ]
        }
       ],
       "layout": {
        "height": 600,
        "showlegend": false,
        "template": {
         "data": {
          "bar": [
           {
            "error_x": {
             "color": "#2a3f5f"
            },
            "error_y": {
             "color": "#2a3f5f"
            },
            "marker": {
             "line": {
              "color": "#E5ECF6",
              "width": 0.5
             },
             "pattern": {
              "fillmode": "overlay",
              "size": 10,
              "solidity": 0.2
             }
            },
            "type": "bar"
           }
          ],
          "barpolar": [
           {
            "marker": {
             "line": {
              "color": "#E5ECF6",
              "width": 0.5
             },
             "pattern": {
              "fillmode": "overlay",
              "size": 10,
              "solidity": 0.2
             }
            },
            "type": "barpolar"
           }
          ],
          "carpet": [
           {
            "aaxis": {
             "endlinecolor": "#2a3f5f",
             "gridcolor": "white",
             "linecolor": "white",
             "minorgridcolor": "white",
             "startlinecolor": "#2a3f5f"
            },
            "baxis": {
             "endlinecolor": "#2a3f5f",
             "gridcolor": "white",
             "linecolor": "white",
             "minorgridcolor": "white",
             "startlinecolor": "#2a3f5f"
            },
            "type": "carpet"
           }
          ],
          "choropleth": [
           {
            "colorbar": {
             "outlinewidth": 0,
             "ticks": ""
            },
            "type": "choropleth"
           }
          ],
          "contour": [
           {
            "colorbar": {
             "outlinewidth": 0,
             "ticks": ""
            },
            "colorscale": [
             [
              0,
              "#0d0887"
             ],
             [
              0.1111111111111111,
              "#46039f"
             ],
             [
              0.2222222222222222,
              "#7201a8"
             ],
             [
              0.3333333333333333,
              "#9c179e"
             ],
             [
              0.4444444444444444,
              "#bd3786"
             ],
             [
              0.5555555555555556,
              "#d8576b"
             ],
             [
              0.6666666666666666,
              "#ed7953"
             ],
             [
              0.7777777777777778,
              "#fb9f3a"
             ],
             [
              0.8888888888888888,
              "#fdca26"
             ],
             [
              1,
              "#f0f921"
             ]
            ],
            "type": "contour"
           }
          ],
          "contourcarpet": [
           {
            "colorbar": {
             "outlinewidth": 0,
             "ticks": ""
            },
            "type": "contourcarpet"
           }
          ],
          "heatmap": [
           {
            "colorbar": {
             "outlinewidth": 0,
             "ticks": ""
            },
            "colorscale": [
             [
              0,
              "#0d0887"
             ],
             [
              0.1111111111111111,
              "#46039f"
             ],
             [
              0.2222222222222222,
              "#7201a8"
             ],
             [
              0.3333333333333333,
              "#9c179e"
             ],
             [
              0.4444444444444444,
              "#bd3786"
             ],
             [
              0.5555555555555556,
              "#d8576b"
             ],
             [
              0.6666666666666666,
              "#ed7953"
             ],
             [
              0.7777777777777778,
              "#fb9f3a"
             ],
             [
              0.8888888888888888,
              "#fdca26"
             ],
             [
              1,
              "#f0f921"
             ]
            ],
            "type": "heatmap"
           }
          ],
          "heatmapgl": [
           {
            "colorbar": {
             "outlinewidth": 0,
             "ticks": ""
            },
            "colorscale": [
             [
              0,
              "#0d0887"
             ],
             [
              0.1111111111111111,
              "#46039f"
             ],
             [
              0.2222222222222222,
              "#7201a8"
             ],
             [
              0.3333333333333333,
              "#9c179e"
             ],
             [
              0.4444444444444444,
              "#bd3786"
             ],
             [
              0.5555555555555556,
              "#d8576b"
             ],
             [
              0.6666666666666666,
              "#ed7953"
             ],
             [
              0.7777777777777778,
              "#fb9f3a"
             ],
             [
              0.8888888888888888,
              "#fdca26"
             ],
             [
              1,
              "#f0f921"
             ]
            ],
            "type": "heatmapgl"
           }
          ],
          "histogram": [
           {
            "marker": {
             "pattern": {
              "fillmode": "overlay",
              "size": 10,
              "solidity": 0.2
             }
            },
            "type": "histogram"
           }
          ],
          "histogram2d": [
           {
            "colorbar": {
             "outlinewidth": 0,
             "ticks": ""
            },
            "colorscale": [
             [
              0,
              "#0d0887"
             ],
             [
              0.1111111111111111,
              "#46039f"
             ],
             [
              0.2222222222222222,
              "#7201a8"
             ],
             [
              0.3333333333333333,
              "#9c179e"
             ],
             [
              0.4444444444444444,
              "#bd3786"
             ],
             [
              0.5555555555555556,
              "#d8576b"
             ],
             [
              0.6666666666666666,
              "#ed7953"
             ],
             [
              0.7777777777777778,
              "#fb9f3a"
             ],
             [
              0.8888888888888888,
              "#fdca26"
             ],
             [
              1,
              "#f0f921"
             ]
            ],
            "type": "histogram2d"
           }
          ],
          "histogram2dcontour": [
           {
            "colorbar": {
             "outlinewidth": 0,
             "ticks": ""
            },
            "colorscale": [
             [
              0,
              "#0d0887"
             ],
             [
              0.1111111111111111,
              "#46039f"
             ],
             [
              0.2222222222222222,
              "#7201a8"
             ],
             [
              0.3333333333333333,
              "#9c179e"
             ],
             [
              0.4444444444444444,
              "#bd3786"
             ],
             [
              0.5555555555555556,
              "#d8576b"
             ],
             [
              0.6666666666666666,
              "#ed7953"
             ],
             [
              0.7777777777777778,
              "#fb9f3a"
             ],
             [
              0.8888888888888888,
              "#fdca26"
             ],
             [
              1,
              "#f0f921"
             ]
            ],
            "type": "histogram2dcontour"
           }
          ],
          "mesh3d": [
           {
            "colorbar": {
             "outlinewidth": 0,
             "ticks": ""
            },
            "type": "mesh3d"
           }
          ],
          "parcoords": [
           {
            "line": {
             "colorbar": {
              "outlinewidth": 0,
              "ticks": ""
             }
            },
            "type": "parcoords"
           }
          ],
          "pie": [
           {
            "automargin": true,
            "type": "pie"
           }
          ],
          "scatter": [
           {
            "fillpattern": {
             "fillmode": "overlay",
             "size": 10,
             "solidity": 0.2
            },
            "type": "scatter"
           }
          ],
          "scatter3d": [
           {
            "line": {
             "colorbar": {
              "outlinewidth": 0,
              "ticks": ""
             }
            },
            "marker": {
             "colorbar": {
              "outlinewidth": 0,
              "ticks": ""
             }
            },
            "type": "scatter3d"
           }
          ],
          "scattercarpet": [
           {
            "marker": {
             "colorbar": {
              "outlinewidth": 0,
              "ticks": ""
             }
            },
            "type": "scattercarpet"
           }
          ],
          "scattergeo": [
           {
            "marker": {
             "colorbar": {
              "outlinewidth": 0,
              "ticks": ""
             }
            },
            "type": "scattergeo"
           }
          ],
          "scattergl": [
           {
            "marker": {
             "colorbar": {
              "outlinewidth": 0,
              "ticks": ""
             }
            },
            "type": "scattergl"
           }
          ],
          "scattermapbox": [
           {
            "marker": {
             "colorbar": {
              "outlinewidth": 0,
              "ticks": ""
             }
            },
            "type": "scattermapbox"
           }
          ],
          "scatterpolar": [
           {
            "marker": {
             "colorbar": {
              "outlinewidth": 0,
              "ticks": ""
             }
            },
            "type": "scatterpolar"
           }
          ],
          "scatterpolargl": [
           {
            "marker": {
             "colorbar": {
              "outlinewidth": 0,
              "ticks": ""
             }
            },
            "type": "scatterpolargl"
           }
          ],
          "scatterternary": [
           {
            "marker": {
             "colorbar": {
              "outlinewidth": 0,
              "ticks": ""
             }
            },
            "type": "scatterternary"
           }
          ],
          "surface": [
           {
            "colorbar": {
             "outlinewidth": 0,
             "ticks": ""
            },
            "colorscale": [
             [
              0,
              "#0d0887"
             ],
             [
              0.1111111111111111,
              "#46039f"
             ],
             [
              0.2222222222222222,
              "#7201a8"
             ],
             [
              0.3333333333333333,
              "#9c179e"
             ],
             [
              0.4444444444444444,
              "#bd3786"
             ],
             [
              0.5555555555555556,
              "#d8576b"
             ],
             [
              0.6666666666666666,
              "#ed7953"
             ],
             [
              0.7777777777777778,
              "#fb9f3a"
             ],
             [
              0.8888888888888888,
              "#fdca26"
             ],
             [
              1,
              "#f0f921"
             ]
            ],
            "type": "surface"
           }
          ],
          "table": [
           {
            "cells": {
             "fill": {
              "color": "#EBF0F8"
             },
             "line": {
              "color": "white"
             }
            },
            "header": {
             "fill": {
              "color": "#C8D4E3"
             },
             "line": {
              "color": "white"
             }
            },
            "type": "table"
           }
          ]
         },
         "layout": {
          "annotationdefaults": {
           "arrowcolor": "#2a3f5f",
           "arrowhead": 0,
           "arrowwidth": 1
          },
          "autotypenumbers": "strict",
          "coloraxis": {
           "colorbar": {
            "outlinewidth": 0,
            "ticks": ""
           }
          },
          "colorscale": {
           "diverging": [
            [
             0,
             "#8e0152"
            ],
            [
             0.1,
             "#c51b7d"
            ],
            [
             0.2,
             "#de77ae"
            ],
            [
             0.3,
             "#f1b6da"
            ],
            [
             0.4,
             "#fde0ef"
            ],
            [
             0.5,
             "#f7f7f7"
            ],
            [
             0.6,
             "#e6f5d0"
            ],
            [
             0.7,
             "#b8e186"
            ],
            [
             0.8,
             "#7fbc41"
            ],
            [
             0.9,
             "#4d9221"
            ],
            [
             1,
             "#276419"
            ]
           ],
           "sequential": [
            [
             0,
             "#0d0887"
            ],
            [
             0.1111111111111111,
             "#46039f"
            ],
            [
             0.2222222222222222,
             "#7201a8"
            ],
            [
             0.3333333333333333,
             "#9c179e"
            ],
            [
             0.4444444444444444,
             "#bd3786"
            ],
            [
             0.5555555555555556,
             "#d8576b"
            ],
            [
             0.6666666666666666,
             "#ed7953"
            ],
            [
             0.7777777777777778,
             "#fb9f3a"
            ],
            [
             0.8888888888888888,
             "#fdca26"
            ],
            [
             1,
             "#f0f921"
            ]
           ],
           "sequentialminus": [
            [
             0,
             "#0d0887"
            ],
            [
             0.1111111111111111,
             "#46039f"
            ],
            [
             0.2222222222222222,
             "#7201a8"
            ],
            [
             0.3333333333333333,
             "#9c179e"
            ],
            [
             0.4444444444444444,
             "#bd3786"
            ],
            [
             0.5555555555555556,
             "#d8576b"
            ],
            [
             0.6666666666666666,
             "#ed7953"
            ],
            [
             0.7777777777777778,
             "#fb9f3a"
            ],
            [
             0.8888888888888888,
             "#fdca26"
            ],
            [
             1,
             "#f0f921"
            ]
           ]
          },
          "colorway": [
           "#636efa",
           "#EF553B",
           "#00cc96",
           "#ab63fa",
           "#FFA15A",
           "#19d3f3",
           "#FF6692",
           "#B6E880",
           "#FF97FF",
           "#FECB52"
          ],
          "font": {
           "color": "#2a3f5f"
          },
          "geo": {
           "bgcolor": "white",
           "lakecolor": "white",
           "landcolor": "#E5ECF6",
           "showlakes": true,
           "showland": true,
           "subunitcolor": "white"
          },
          "hoverlabel": {
           "align": "left"
          },
          "hovermode": "closest",
          "mapbox": {
           "style": "light"
          },
          "paper_bgcolor": "white",
          "plot_bgcolor": "#E5ECF6",
          "polar": {
           "angularaxis": {
            "gridcolor": "white",
            "linecolor": "white",
            "ticks": ""
           },
           "bgcolor": "#E5ECF6",
           "radialaxis": {
            "gridcolor": "white",
            "linecolor": "white",
            "ticks": ""
           }
          },
          "scene": {
           "xaxis": {
            "backgroundcolor": "#E5ECF6",
            "gridcolor": "white",
            "gridwidth": 2,
            "linecolor": "white",
            "showbackground": true,
            "ticks": "",
            "zerolinecolor": "white"
           },
           "yaxis": {
            "backgroundcolor": "#E5ECF6",
            "gridcolor": "white",
            "gridwidth": 2,
            "linecolor": "white",
            "showbackground": true,
            "ticks": "",
            "zerolinecolor": "white"
           },
           "zaxis": {
            "backgroundcolor": "#E5ECF6",
            "gridcolor": "white",
            "gridwidth": 2,
            "linecolor": "white",
            "showbackground": true,
            "ticks": "",
            "zerolinecolor": "white"
           }
          },
          "shapedefaults": {
           "line": {
            "color": "#2a3f5f"
           }
          },
          "ternary": {
           "aaxis": {
            "gridcolor": "white",
            "linecolor": "white",
            "ticks": ""
           },
           "baxis": {
            "gridcolor": "white",
            "linecolor": "white",
            "ticks": ""
           },
           "bgcolor": "#E5ECF6",
           "caxis": {
            "gridcolor": "white",
            "linecolor": "white",
            "ticks": ""
           }
          },
          "title": {
           "x": 0.05
          },
          "xaxis": {
           "automargin": true,
           "gridcolor": "white",
           "linecolor": "white",
           "ticks": "",
           "title": {
            "standoff": 15
           },
           "zerolinecolor": "white",
           "zerolinewidth": 2
          },
          "yaxis": {
           "automargin": true,
           "gridcolor": "white",
           "linecolor": "white",
           "ticks": "",
           "title": {
            "standoff": 15
           },
           "zerolinecolor": "white",
           "zerolinewidth": 2
          }
         }
        },
        "width": 900,
        "xaxis": {
         "rangeselector": {
          "buttons": [
           {
            "count": 7,
            "label": "1w",
            "step": "day",
            "stepmode": "backward"
           },
           {
            "count": 1,
            "label": "1m",
            "step": "month",
            "stepmode": "backward"
           },
           {
            "count": 6,
            "label": "6m",
            "step": "month",
            "stepmode": "backward"
           },
           {
            "count": 1,
            "label": "1y",
            "step": "year",
            "stepmode": "backward"
           },
           {
            "step": "all"
           }
          ]
         },
         "rangeslider": {
          "visible": true
         },
         "title": {
          "text": "ds"
         },
         "type": "date"
        },
        "yaxis": {
         "title": {
          "text": "y"
         }
        }
       }
      }
     },
     "metadata": {},
     "output_type": "display_data"
    }
   ],
   "source": [
    "from prophet.plot import plot_plotly\n",
    "plot_plotly(m,forecast)"
   ]
  },
  {
   "cell_type": "code",
   "execution_count": 40,
   "metadata": {},
   "outputs": [
    {
     "data": {
      "text/html": [
       "<div>\n",
       "<style scoped>\n",
       "    .dataframe tbody tr th:only-of-type {\n",
       "        vertical-align: middle;\n",
       "    }\n",
       "\n",
       "    .dataframe tbody tr th {\n",
       "        vertical-align: top;\n",
       "    }\n",
       "\n",
       "    .dataframe thead th {\n",
       "        text-align: right;\n",
       "    }\n",
       "</style>\n",
       "<table border=\"1\" class=\"dataframe\">\n",
       "  <thead>\n",
       "    <tr style=\"text-align: right;\">\n",
       "      <th></th>\n",
       "      <th>ds</th>\n",
       "      <th>yhat</th>\n",
       "      <th>yhat_lower</th>\n",
       "      <th>yhat_upper</th>\n",
       "    </tr>\n",
       "  </thead>\n",
       "  <tbody>\n",
       "    <tr>\n",
       "      <th>211</th>\n",
       "      <td>2024-06-29 19:00:00</td>\n",
       "      <td>35.747956</td>\n",
       "      <td>29.973501</td>\n",
       "      <td>40.929078</td>\n",
       "    </tr>\n",
       "    <tr>\n",
       "      <th>212</th>\n",
       "      <td>2024-06-29 20:00:00</td>\n",
       "      <td>35.106333</td>\n",
       "      <td>29.238386</td>\n",
       "      <td>40.393559</td>\n",
       "    </tr>\n",
       "    <tr>\n",
       "      <th>213</th>\n",
       "      <td>2024-06-29 21:00:00</td>\n",
       "      <td>34.332426</td>\n",
       "      <td>28.502345</td>\n",
       "      <td>39.705054</td>\n",
       "    </tr>\n",
       "    <tr>\n",
       "      <th>214</th>\n",
       "      <td>2024-06-29 22:00:00</td>\n",
       "      <td>33.485955</td>\n",
       "      <td>27.723508</td>\n",
       "      <td>38.766838</td>\n",
       "    </tr>\n",
       "    <tr>\n",
       "      <th>215</th>\n",
       "      <td>2024-06-29 23:00:00</td>\n",
       "      <td>32.760128</td>\n",
       "      <td>26.923327</td>\n",
       "      <td>38.422639</td>\n",
       "    </tr>\n",
       "  </tbody>\n",
       "</table>\n",
       "</div>"
      ],
      "text/plain": [
       "                     ds       yhat  yhat_lower  yhat_upper\n",
       "211 2024-06-29 19:00:00  35.747956   29.973501   40.929078\n",
       "212 2024-06-29 20:00:00  35.106333   29.238386   40.393559\n",
       "213 2024-06-29 21:00:00  34.332426   28.502345   39.705054\n",
       "214 2024-06-29 22:00:00  33.485955   27.723508   38.766838\n",
       "215 2024-06-29 23:00:00  32.760128   26.923327   38.422639"
      ]
     },
     "execution_count": 40,
     "metadata": {},
     "output_type": "execute_result"
    }
   ],
   "source": [
    "forecast[['ds','yhat','yhat_lower','yhat_upper']].tail()\n"
   ]
  },
  {
   "cell_type": "code",
   "execution_count": 41,
   "metadata": {},
   "outputs": [
    {
     "name": "stderr",
     "output_type": "stream",
     "text": [
      "c:\\Users\\shree\\anaconda3\\Lib\\site-packages\\prophet\\plot.py:228: FutureWarning:\n",
      "\n",
      "The behavior of DatetimeProperties.to_pydatetime is deprecated, in a future version this will return a Series containing python datetime objects instead of an ndarray. To retain the old behavior, call `np.array` on the result\n",
      "\n",
      "c:\\Users\\shree\\anaconda3\\Lib\\site-packages\\prophet\\plot.py:397: FutureWarning:\n",
      "\n",
      "The behavior of DatetimeProperties.to_pydatetime is deprecated, in a future version this will return a Series containing python datetime objects instead of an ndarray. To retain the old behavior, call `np.array` on the result\n",
      "\n",
      "c:\\Users\\shree\\anaconda3\\Lib\\site-packages\\prophet\\plot.py:401: FutureWarning:\n",
      "\n",
      "The behavior of DatetimeProperties.to_pydatetime is deprecated, in a future version this will return a Series containing python datetime objects instead of an ndarray. To retain the old behavior, call `np.array` on the result\n",
      "\n"
     ]
    },
    {
     "data": {
      "image/png": "[encoded data removed]",
      "text/plain": [
       "<Figure size 900x600 with 2 Axes>"
      ]
     },
     "metadata": {},
     "output_type": "display_data"
    }
   ],
   "source": [
    "fig_2 = m.plot_components(forecast)"
   ]
  },
  {
   "cell_type": "code",
   "execution_count": 42,
   "metadata": {},
   "outputs": [],
   "source": [
    "import pickle\n",
    "with open('prophet.pkl','wb') as files:\n",
    "    pickle.dump(m, files)\n"
   ]
  },
  {
   "cell_type": "code",
   "execution_count": 43,
   "metadata": {},
   "outputs": [
    {
     "name": "stdout",
     "output_type": "stream",
     "text": [
      "Predicted temperature for 2024-06-29 13:50 is: 32.89\n"
     ]
    }
   ],
   "source": [
    "from prophet import Prophet\n",
    "from datetime import datetime\n",
    "\n",
    "\n",
    "user_date_str = input(\"Enter the date and time you want to predict in YYYY-MM-DD HH:MM format (e.g., 2025-12-31 15:00:00): \")\n",
    "\n",
    "try:\n",
    "  user_date_time = datetime.strptime(user_date_str, \"%Y-%m-%d %H:%M\")\n",
    "except ValueError:\n",
    "  print(\"Invalid date and time format. Please enter YYYY-MM-DD HH:MM.\")\n",
    "  exit()\n",
    "\n",
    "user_date = user_date_time.date()\n",
    "\n",
    "future_date = pd.DataFrame({'ds': [user_date]})\n",
    "\n",
    "\n",
    "one_day_forecast = m.predict(future_date)\n",
    "predicted_temp = one_day_forecast[\"yhat\"].values[0]\n",
    "\n",
    "print(f\"Predicted temperature for {user_date_str} is: {predicted_temp:.2f}\")\n"
   ]
  },
  {
   "cell_type": "code",
   "execution_count": null,
   "metadata": {},
   "outputs": [],
   "source": []
  }
 ],
 "metadata": {
  "kernelspec": {
   "display_name": "base",
   "language": "python",
   "name": "python3"
  },
  "language_info": {
   "codemirror_mode": {
    "name": "ipython",
    "version": 3
   },
   "file_extension": ".py",
   "mimetype": "text/x-python",
   "name": "python",
   "nbconvert_exporter": "python",
   "pygments_lexer": "ipython3",
   "version": "3.11.7"
  }
 },
 "nbformat": 4,
 "nbformat_minor": 2
}
