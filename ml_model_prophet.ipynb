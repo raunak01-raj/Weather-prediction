{
 "cells": [
  {
   "cell_type": "code",
   "execution_count": 74,
   "metadata": {},
   "outputs": [],
   "source": [
    "import numpy as np\n",
    "import matplotlib.pyplot as plt\n",
    "import matplotlib as mpl\n",
    "import pandas as pd\n",
    "from datetime import datetime\n",
    "import plotly.express as px"
   ]
  },
  {
   "cell_type": "code",
   "execution_count": 75,
   "metadata": {},
   "outputs": [
    {
     "data": {
      "text/plain": [
       "'import requests\\nimport csv\\nfrom datetime import datetime, timedelta\\n\\n# Replace with your API key\\nAPI_KEY = \" 56cdd10fcb5c468cbb4193934241803\"\\n\\n# Set the location and date range for historic weather data\\nlocation = input(\\'enter location\\')\\nstart_date = datetime(2024, 6, 13)  # Start date (YYYY, MM, DD)\\nend_date = datetime(2024, 6, 19)   # End date (YYYY, MM, DD)\\n\\n# Set the base URL and parameters for the API request\\nbase_url = \"http://api.weatherapi.com/v1/history.json\"\\nparams = {\\n    \"key\": API_KEY,\\n    \"q\": location,\\n    \"dt\": start_date.strftime(\"%Y-%m-%d\")\\n}\\n\\n# Initialize an empty list to store weather data\\nweather_data = []\\n\\n# Loop through the date range and fetch weather data for each day\\ncurrent_date = start_date\\nwhile current_date <= end_date:\\n    params[\"dt\"] = current_date.strftime(\"%Y-%m-%d\")\\n    response = requests.get(base_url, params=params)\\n    \\n    if response.status_code == 200:\\n        data = response.json()\\n        for forecast in data[\"forecast\"][\"forecastday\"]:\\n            for hour in forecast[\"hour\"]:\\n                weather_data.append({\\n                    \"Date\": hour[\"time\"].split(\" \")[0],\\n                    \"Time\": hour[\"time\"].split(\" \")[1],\\n                    \"Temperature (C)\": hour[\"temp_c\"],\\n                    \"Humidity\": hour[\"humidity\"],\\n                    \"Wind Speed (km/h)\": hour[\"wind_kph\"],\\n                    \"Precipitation (mm)\": hour[\"precip_mm\"]\\n                })\\n    else:\\n        print(f\"Error fetching data for {current_date}: {response.status_code} - {response.text}\")\\n    \\n    current_date += timedelta(days=1)\\n\\n# Save weather data to a CSV file\\nwith open(\"historic_weather_data.csv\", \"w\", newline=\"\") as csvfile:\\n    fieldnames = [\"Date\", \"Time\", \"Temperature (C)\", \"Humidity\", \"Wind Speed (km/h)\", \"Precipitation (mm)\"]\\n    writer = csv.DictWriter(csvfile, fieldnames=fieldnames)\\n    \\n    writer.writeheader()\\n    for data in weather_data:\\n        writer.writerow(data)\\n\\nprint(f\"Historic weather data of {location} saved to historic_weather_data.csv\")'"
      ]
     },
     "execution_count": 75,
     "metadata": {},
     "output_type": "execute_result"
    }
   ],
   "source": [
    "'''import requests\n",
    "import csv\n",
    "from datetime import datetime, timedelta\n",
    "\n",
    "# Replace with your API key\n",
    "API_KEY = \" 56cdd10fcb5c468cbb4193934241803\"\n",
    "\n",
    "# Set the location and date range for historic weather data\n",
    "location = input('enter location')\n",
    "start_date = datetime(2024, 6, 13)  # Start date (YYYY, MM, DD)\n",
    "end_date = datetime(2024, 6, 19)   # End date (YYYY, MM, DD)\n",
    "\n",
    "# Set the base URL and parameters for the API request\n",
    "base_url = \"http://api.weatherapi.com/v1/history.json\"\n",
    "params = {\n",
    "    \"key\": API_KEY,\n",
    "    \"q\": location,\n",
    "    \"dt\": start_date.strftime(\"%Y-%m-%d\")\n",
    "}\n",
    "\n",
    "# Initialize an empty list to store weather data\n",
    "weather_data = []\n",
    "\n",
    "# Loop through the date range and fetch weather data for each day\n",
    "current_date = start_date\n",
    "while current_date <= end_date:\n",
    "    params[\"dt\"] = current_date.strftime(\"%Y-%m-%d\")\n",
    "    response = requests.get(base_url, params=params)\n",
    "    \n",
    "    if response.status_code == 200:\n",
    "        data = response.json()\n",
    "        for forecast in data[\"forecast\"][\"forecastday\"]:\n",
    "            for hour in forecast[\"hour\"]:\n",
    "                weather_data.append({\n",
    "                    \"Date\": hour[\"time\"].split(\" \")[0],\n",
    "                    \"Time\": hour[\"time\"].split(\" \")[1],\n",
    "                    \"Temperature (C)\": hour[\"temp_c\"],\n",
    "                    \"Humidity\": hour[\"humidity\"],\n",
    "                    \"Wind Speed (km/h)\": hour[\"wind_kph\"],\n",
    "                    \"Precipitation (mm)\": hour[\"precip_mm\"]\n",
    "                })\n",
    "    else:\n",
    "        print(f\"Error fetching data for {current_date}: {response.status_code} - {response.text}\")\n",
    "    \n",
    "    current_date += timedelta(days=1)\n",
    "\n",
    "# Save weather data to a CSV file\n",
    "with open(\"historic_weather_data.csv\", \"w\", newline=\"\") as csvfile:\n",
    "    fieldnames = [\"Date\", \"Time\", \"Temperature (C)\", \"Humidity\", \"Wind Speed (km/h)\", \"Precipitation (mm)\"]\n",
    "    writer = csv.DictWriter(csvfile, fieldnames=fieldnames)\n",
    "    \n",
    "    writer.writeheader()\n",
    "    for data in weather_data:\n",
    "        writer.writerow(data)\n",
    "\n",
    "print(f\"Historic weather data of {location} saved to historic_weather_data.csv\")'''"
   ]
  },
  {
   "cell_type": "code",
   "execution_count": 76,
   "metadata": {},
   "outputs": [
    {
     "data": {
      "text/html": [
       "<div>\n",
       "<style scoped>\n",
       "    .dataframe tbody tr th:only-of-type {\n",
       "        vertical-align: middle;\n",
       "    }\n",
       "\n",
       "    .dataframe tbody tr th {\n",
       "        vertical-align: top;\n",
       "    }\n",
       "\n",
       "    .dataframe thead th {\n",
       "        text-align: right;\n",
       "    }\n",
       "</style>\n",
       "<table border=\"1\" class=\"dataframe\">\n",
       "  <thead>\n",
       "    <tr style=\"text-align: right;\">\n",
       "      <th></th>\n",
       "      <th>Date</th>\n",
       "      <th>Time</th>\n",
       "      <th>Temperature (C)</th>\n",
       "      <th>Humidity</th>\n",
       "      <th>Wind Speed (km/h)</th>\n",
       "      <th>Precipitation (mm)</th>\n",
       "    </tr>\n",
       "  </thead>\n",
       "  <tbody>\n",
       "    <tr>\n",
       "      <th>0</th>\n",
       "      <td>2024-06-18</td>\n",
       "      <td>00:00</td>\n",
       "      <td>36.8</td>\n",
       "      <td>38</td>\n",
       "      <td>11.9</td>\n",
       "      <td>0.00</td>\n",
       "    </tr>\n",
       "    <tr>\n",
       "      <th>1</th>\n",
       "      <td>2024-06-18</td>\n",
       "      <td>01:00</td>\n",
       "      <td>36.8</td>\n",
       "      <td>36</td>\n",
       "      <td>13.0</td>\n",
       "      <td>0.00</td>\n",
       "    </tr>\n",
       "    <tr>\n",
       "      <th>2</th>\n",
       "      <td>2024-06-18</td>\n",
       "      <td>02:00</td>\n",
       "      <td>36.4</td>\n",
       "      <td>36</td>\n",
       "      <td>10.4</td>\n",
       "      <td>0.00</td>\n",
       "    </tr>\n",
       "    <tr>\n",
       "      <th>3</th>\n",
       "      <td>2024-06-18</td>\n",
       "      <td>03:00</td>\n",
       "      <td>36.2</td>\n",
       "      <td>36</td>\n",
       "      <td>12.2</td>\n",
       "      <td>0.00</td>\n",
       "    </tr>\n",
       "    <tr>\n",
       "      <th>4</th>\n",
       "      <td>2024-06-18</td>\n",
       "      <td>04:00</td>\n",
       "      <td>35.6</td>\n",
       "      <td>38</td>\n",
       "      <td>7.9</td>\n",
       "      <td>0.00</td>\n",
       "    </tr>\n",
       "    <tr>\n",
       "      <th>...</th>\n",
       "      <td>...</td>\n",
       "      <td>...</td>\n",
       "      <td>...</td>\n",
       "      <td>...</td>\n",
       "      <td>...</td>\n",
       "      <td>...</td>\n",
       "    </tr>\n",
       "    <tr>\n",
       "      <th>163</th>\n",
       "      <td>2024-06-24</td>\n",
       "      <td>19:00</td>\n",
       "      <td>38.8</td>\n",
       "      <td>36</td>\n",
       "      <td>4.0</td>\n",
       "      <td>0.45</td>\n",
       "    </tr>\n",
       "    <tr>\n",
       "      <th>164</th>\n",
       "      <td>2024-06-24</td>\n",
       "      <td>20:00</td>\n",
       "      <td>38.6</td>\n",
       "      <td>36</td>\n",
       "      <td>9.7</td>\n",
       "      <td>0.54</td>\n",
       "    </tr>\n",
       "    <tr>\n",
       "      <th>165</th>\n",
       "      <td>2024-06-24</td>\n",
       "      <td>21:00</td>\n",
       "      <td>37.3</td>\n",
       "      <td>40</td>\n",
       "      <td>13.0</td>\n",
       "      <td>0.16</td>\n",
       "    </tr>\n",
       "    <tr>\n",
       "      <th>166</th>\n",
       "      <td>2024-06-24</td>\n",
       "      <td>22:00</td>\n",
       "      <td>36.1</td>\n",
       "      <td>44</td>\n",
       "      <td>14.4</td>\n",
       "      <td>0.14</td>\n",
       "    </tr>\n",
       "    <tr>\n",
       "      <th>167</th>\n",
       "      <td>2024-06-24</td>\n",
       "      <td>23:00</td>\n",
       "      <td>34.9</td>\n",
       "      <td>48</td>\n",
       "      <td>13.7</td>\n",
       "      <td>0.02</td>\n",
       "    </tr>\n",
       "  </tbody>\n",
       "</table>\n",
       "<p>168 rows × 6 columns</p>\n",
       "</div>"
      ],
      "text/plain": [
       "           Date   Time  Temperature (C)  Humidity  Wind Speed (km/h)  \\\n",
       "0    2024-06-18  00:00             36.8        38               11.9   \n",
       "1    2024-06-18  01:00             36.8        36               13.0   \n",
       "2    2024-06-18  02:00             36.4        36               10.4   \n",
       "3    2024-06-18  03:00             36.2        36               12.2   \n",
       "4    2024-06-18  04:00             35.6        38                7.9   \n",
       "..          ...    ...              ...       ...                ...   \n",
       "163  2024-06-24  19:00             38.8        36                4.0   \n",
       "164  2024-06-24  20:00             38.6        36                9.7   \n",
       "165  2024-06-24  21:00             37.3        40               13.0   \n",
       "166  2024-06-24  22:00             36.1        44               14.4   \n",
       "167  2024-06-24  23:00             34.9        48               13.7   \n",
       "\n",
       "     Precipitation (mm)  \n",
       "0                  0.00  \n",
       "1                  0.00  \n",
       "2                  0.00  \n",
       "3                  0.00  \n",
       "4                  0.00  \n",
       "..                  ...  \n",
       "163                0.45  \n",
       "164                0.54  \n",
       "165                0.16  \n",
       "166                0.14  \n",
       "167                0.02  \n",
       "\n",
       "[168 rows x 6 columns]"
      ]
     },
     "execution_count": 76,
     "metadata": {},
     "output_type": "execute_result"
    }
   ],
   "source": [
    "weather01 = pd.read_csv('historic_weather_data.csv')\n",
    "weather01"
   ]
  },
  {
   "cell_type": "code",
   "execution_count": 77,
   "metadata": {},
   "outputs": [
    {
     "data": {
      "text/html": [
       "<div>\n",
       "<style scoped>\n",
       "    .dataframe tbody tr th:only-of-type {\n",
       "        vertical-align: middle;\n",
       "    }\n",
       "\n",
       "    .dataframe tbody tr th {\n",
       "        vertical-align: top;\n",
       "    }\n",
       "\n",
       "    .dataframe thead th {\n",
       "        text-align: right;\n",
       "    }\n",
       "</style>\n",
       "<table border=\"1\" class=\"dataframe\">\n",
       "  <thead>\n",
       "    <tr style=\"text-align: right;\">\n",
       "      <th></th>\n",
       "      <th>Temperature (C)</th>\n",
       "      <th>Humidity</th>\n",
       "      <th>Wind Speed (km/h)</th>\n",
       "      <th>Precipitation (mm)</th>\n",
       "      <th>datetime</th>\n",
       "    </tr>\n",
       "  </thead>\n",
       "  <tbody>\n",
       "    <tr>\n",
       "      <th>0</th>\n",
       "      <td>36.8</td>\n",
       "      <td>38</td>\n",
       "      <td>11.9</td>\n",
       "      <td>0.00</td>\n",
       "      <td>2024-06-18 00:00:00</td>\n",
       "    </tr>\n",
       "    <tr>\n",
       "      <th>1</th>\n",
       "      <td>36.8</td>\n",
       "      <td>36</td>\n",
       "      <td>13.0</td>\n",
       "      <td>0.00</td>\n",
       "      <td>2024-06-18 01:00:00</td>\n",
       "    </tr>\n",
       "    <tr>\n",
       "      <th>2</th>\n",
       "      <td>36.4</td>\n",
       "      <td>36</td>\n",
       "      <td>10.4</td>\n",
       "      <td>0.00</td>\n",
       "      <td>2024-06-18 02:00:00</td>\n",
       "    </tr>\n",
       "    <tr>\n",
       "      <th>3</th>\n",
       "      <td>36.2</td>\n",
       "      <td>36</td>\n",
       "      <td>12.2</td>\n",
       "      <td>0.00</td>\n",
       "      <td>2024-06-18 03:00:00</td>\n",
       "    </tr>\n",
       "    <tr>\n",
       "      <th>4</th>\n",
       "      <td>35.6</td>\n",
       "      <td>38</td>\n",
       "      <td>7.9</td>\n",
       "      <td>0.00</td>\n",
       "      <td>2024-06-18 04:00:00</td>\n",
       "    </tr>\n",
       "    <tr>\n",
       "      <th>...</th>\n",
       "      <td>...</td>\n",
       "      <td>...</td>\n",
       "      <td>...</td>\n",
       "      <td>...</td>\n",
       "      <td>...</td>\n",
       "    </tr>\n",
       "    <tr>\n",
       "      <th>163</th>\n",
       "      <td>38.8</td>\n",
       "      <td>36</td>\n",
       "      <td>4.0</td>\n",
       "      <td>0.45</td>\n",
       "      <td>2024-06-24 19:00:00</td>\n",
       "    </tr>\n",
       "    <tr>\n",
       "      <th>164</th>\n",
       "      <td>38.6</td>\n",
       "      <td>36</td>\n",
       "      <td>9.7</td>\n",
       "      <td>0.54</td>\n",
       "      <td>2024-06-24 20:00:00</td>\n",
       "    </tr>\n",
       "    <tr>\n",
       "      <th>165</th>\n",
       "      <td>37.3</td>\n",
       "      <td>40</td>\n",
       "      <td>13.0</td>\n",
       "      <td>0.16</td>\n",
       "      <td>2024-06-24 21:00:00</td>\n",
       "    </tr>\n",
       "    <tr>\n",
       "      <th>166</th>\n",
       "      <td>36.1</td>\n",
       "      <td>44</td>\n",
       "      <td>14.4</td>\n",
       "      <td>0.14</td>\n",
       "      <td>2024-06-24 22:00:00</td>\n",
       "    </tr>\n",
       "    <tr>\n",
       "      <th>167</th>\n",
       "      <td>34.9</td>\n",
       "      <td>48</td>\n",
       "      <td>13.7</td>\n",
       "      <td>0.02</td>\n",
       "      <td>2024-06-24 23:00:00</td>\n",
       "    </tr>\n",
       "  </tbody>\n",
       "</table>\n",
       "<p>168 rows × 5 columns</p>\n",
       "</div>"
      ],
      "text/plain": [
       "     Temperature (C)  Humidity  Wind Speed (km/h)  Precipitation (mm)  \\\n",
       "0               36.8        38               11.9                0.00   \n",
       "1               36.8        36               13.0                0.00   \n",
       "2               36.4        36               10.4                0.00   \n",
       "3               36.2        36               12.2                0.00   \n",
       "4               35.6        38                7.9                0.00   \n",
       "..               ...       ...                ...                 ...   \n",
       "163             38.8        36                4.0                0.45   \n",
       "164             38.6        36                9.7                0.54   \n",
       "165             37.3        40               13.0                0.16   \n",
       "166             36.1        44               14.4                0.14   \n",
       "167             34.9        48               13.7                0.02   \n",
       "\n",
       "               datetime  \n",
       "0   2024-06-18 00:00:00  \n",
       "1   2024-06-18 01:00:00  \n",
       "2   2024-06-18 02:00:00  \n",
       "3   2024-06-18 03:00:00  \n",
       "4   2024-06-18 04:00:00  \n",
       "..                  ...  \n",
       "163 2024-06-24 19:00:00  \n",
       "164 2024-06-24 20:00:00  \n",
       "165 2024-06-24 21:00:00  \n",
       "166 2024-06-24 22:00:00  \n",
       "167 2024-06-24 23:00:00  \n",
       "\n",
       "[168 rows x 5 columns]"
      ]
     },
     "execution_count": 77,
     "metadata": {},
     "output_type": "execute_result"
    }
   ],
   "source": [
    "weather01['datetime'] = pd.to_datetime(weather01['Date'] + ' ' + weather01['Time'])\n",
    "\n",
    "weather01.drop(columns=['Date', 'Time'], inplace=True)\n",
    "weather01"
   ]
  },
  {
   "cell_type": "code",
   "execution_count": 78,
   "metadata": {},
   "outputs": [],
   "source": [
    "mpl.rcParams['figure.figsize'] = (15,6)\n"
   ]
  },
  {
   "cell_type": "code",
   "execution_count": 79,
   "metadata": {},
   "outputs": [],
   "source": [
    "weather01= weather01.set_index('datetime')"
   ]
  },
  {
   "cell_type": "code",
   "execution_count": 80,
   "metadata": {},
   "outputs": [
    {
     "data": {
      "text/html": [
       "<div>\n",
       "<style scoped>\n",
       "    .dataframe tbody tr th:only-of-type {\n",
       "        vertical-align: middle;\n",
       "    }\n",
       "\n",
       "    .dataframe tbody tr th {\n",
       "        vertical-align: top;\n",
       "    }\n",
       "\n",
       "    .dataframe thead th {\n",
       "        text-align: right;\n",
       "    }\n",
       "</style>\n",
       "<table border=\"1\" class=\"dataframe\">\n",
       "  <thead>\n",
       "    <tr style=\"text-align: right;\">\n",
       "      <th></th>\n",
       "      <th>Temperature (C)</th>\n",
       "      <th>Humidity</th>\n",
       "      <th>Wind Speed (km/h)</th>\n",
       "      <th>Precipitation (mm)</th>\n",
       "    </tr>\n",
       "    <tr>\n",
       "      <th>datetime</th>\n",
       "      <th></th>\n",
       "      <th></th>\n",
       "      <th></th>\n",
       "      <th></th>\n",
       "    </tr>\n",
       "  </thead>\n",
       "  <tbody>\n",
       "    <tr>\n",
       "      <th>2024-06-18 00:00:00</th>\n",
       "      <td>36.8</td>\n",
       "      <td>38</td>\n",
       "      <td>11.9</td>\n",
       "      <td>0.00</td>\n",
       "    </tr>\n",
       "    <tr>\n",
       "      <th>2024-06-18 01:00:00</th>\n",
       "      <td>36.8</td>\n",
       "      <td>36</td>\n",
       "      <td>13.0</td>\n",
       "      <td>0.00</td>\n",
       "    </tr>\n",
       "    <tr>\n",
       "      <th>2024-06-18 02:00:00</th>\n",
       "      <td>36.4</td>\n",
       "      <td>36</td>\n",
       "      <td>10.4</td>\n",
       "      <td>0.00</td>\n",
       "    </tr>\n",
       "    <tr>\n",
       "      <th>2024-06-18 03:00:00</th>\n",
       "      <td>36.2</td>\n",
       "      <td>36</td>\n",
       "      <td>12.2</td>\n",
       "      <td>0.00</td>\n",
       "    </tr>\n",
       "    <tr>\n",
       "      <th>2024-06-18 04:00:00</th>\n",
       "      <td>35.6</td>\n",
       "      <td>38</td>\n",
       "      <td>7.9</td>\n",
       "      <td>0.00</td>\n",
       "    </tr>\n",
       "    <tr>\n",
       "      <th>...</th>\n",
       "      <td>...</td>\n",
       "      <td>...</td>\n",
       "      <td>...</td>\n",
       "      <td>...</td>\n",
       "    </tr>\n",
       "    <tr>\n",
       "      <th>2024-06-24 19:00:00</th>\n",
       "      <td>38.8</td>\n",
       "      <td>36</td>\n",
       "      <td>4.0</td>\n",
       "      <td>0.45</td>\n",
       "    </tr>\n",
       "    <tr>\n",
       "      <th>2024-06-24 20:00:00</th>\n",
       "      <td>38.6</td>\n",
       "      <td>36</td>\n",
       "      <td>9.7</td>\n",
       "      <td>0.54</td>\n",
       "    </tr>\n",
       "    <tr>\n",
       "      <th>2024-06-24 21:00:00</th>\n",
       "      <td>37.3</td>\n",
       "      <td>40</td>\n",
       "      <td>13.0</td>\n",
       "      <td>0.16</td>\n",
       "    </tr>\n",
       "    <tr>\n",
       "      <th>2024-06-24 22:00:00</th>\n",
       "      <td>36.1</td>\n",
       "      <td>44</td>\n",
       "      <td>14.4</td>\n",
       "      <td>0.14</td>\n",
       "    </tr>\n",
       "    <tr>\n",
       "      <th>2024-06-24 23:00:00</th>\n",
       "      <td>34.9</td>\n",
       "      <td>48</td>\n",
       "      <td>13.7</td>\n",
       "      <td>0.02</td>\n",
       "    </tr>\n",
       "  </tbody>\n",
       "</table>\n",
       "<p>168 rows × 4 columns</p>\n",
       "</div>"
      ],
      "text/plain": [
       "                     Temperature (C)  Humidity  Wind Speed (km/h)  \\\n",
       "datetime                                                            \n",
       "2024-06-18 00:00:00             36.8        38               11.9   \n",
       "2024-06-18 01:00:00             36.8        36               13.0   \n",
       "2024-06-18 02:00:00             36.4        36               10.4   \n",
       "2024-06-18 03:00:00             36.2        36               12.2   \n",
       "2024-06-18 04:00:00             35.6        38                7.9   \n",
       "...                              ...       ...                ...   \n",
       "2024-06-24 19:00:00             38.8        36                4.0   \n",
       "2024-06-24 20:00:00             38.6        36                9.7   \n",
       "2024-06-24 21:00:00             37.3        40               13.0   \n",
       "2024-06-24 22:00:00             36.1        44               14.4   \n",
       "2024-06-24 23:00:00             34.9        48               13.7   \n",
       "\n",
       "                     Precipitation (mm)  \n",
       "datetime                                 \n",
       "2024-06-18 00:00:00                0.00  \n",
       "2024-06-18 01:00:00                0.00  \n",
       "2024-06-18 02:00:00                0.00  \n",
       "2024-06-18 03:00:00                0.00  \n",
       "2024-06-18 04:00:00                0.00  \n",
       "...                                 ...  \n",
       "2024-06-24 19:00:00                0.45  \n",
       "2024-06-24 20:00:00                0.54  \n",
       "2024-06-24 21:00:00                0.16  \n",
       "2024-06-24 22:00:00                0.14  \n",
       "2024-06-24 23:00:00                0.02  \n",
       "\n",
       "[168 rows x 4 columns]"
      ]
     },
     "execution_count": 80,
     "metadata": {},
     "output_type": "execute_result"
    }
   ],
   "source": [
    "weather01"
   ]
  },
  {
   "cell_type": "code",
   "execution_count": 81,
   "metadata": {},
   "outputs": [],
   "source": [
    "weather01 = weather01.reset_index()[['datetime','Temperature (C)','Humidity','Wind Speed (km/h)','Precipitation (mm)']].rename({'datetime':'ds','Temperature (C)':'y'}, axis = 'columns')"
   ]
  },
  {
   "cell_type": "code",
   "execution_count": 82,
   "metadata": {},
   "outputs": [
    {
     "name": "stderr",
     "output_type": "stream",
     "text": [
      "c:\\Users\\shree\\anaconda3\\Lib\\site-packages\\_plotly_utils\\basevalidators.py:106: FutureWarning:\n",
      "\n",
      "The behavior of DatetimeProperties.to_pydatetime is deprecated, in a future version this will return a Series containing python datetime objects instead of an ndarray. To retain the old behavior, call `np.array` on the result\n",
      "\n"
     ]
    },
    {
     "data": {
      "application/vnd.plotly.v1+json": {
       "config": {
        "plotlyServerURL": "https://plot.ly"
       },
       "data": [
        {
         "hovertemplate": "ds=%{x}<br>y=%{y}<extra></extra>",
         "legendgroup": "",
         "line": {
          "color": "#636efa",
          "dash": "solid"
         },
         "marker": {
          "symbol": "circle"
         },
         "mode": "lines",
         "name": "",
         "orientation": "v",
         "showlegend": false,
         "type": "scatter",
         "x": [
          "2024-06-18T00:00:00",
          "2024-06-18T01:00:00",
          "2024-06-18T02:00:00",
          "2024-06-18T03:00:00",
          "2024-06-18T04:00:00",
          "2024-06-18T05:00:00",
          "2024-06-18T06:00:00",
          "2024-06-18T07:00:00",
          "2024-06-18T08:00:00",
          "2024-06-18T09:00:00",
          "2024-06-18T10:00:00",
          "2024-06-18T11:00:00",
          "2024-06-18T12:00:00",
          "2024-06-18T13:00:00",
          "2024-06-18T14:00:00",
          "2024-06-18T15:00:00",
          "2024-06-18T16:00:00",
          "2024-06-18T17:00:00",
          "2024-06-18T18:00:00",
          "2024-06-18T19:00:00",
          "2024-06-18T20:00:00",
          "2024-06-18T21:00:00",
          "2024-06-18T22:00:00",
          "2024-06-18T23:00:00",
          "2024-06-19T00:00:00",
          "2024-06-19T01:00:00",
          "2024-06-19T02:00:00",
          "2024-06-19T03:00:00",
          "2024-06-19T04:00:00",
          "2024-06-19T05:00:00",
          "2024-06-19T06:00:00",
          "2024-06-19T07:00:00",
          "2024-06-19T08:00:00",
          "2024-06-19T09:00:00",
          "2024-06-19T10:00:00",
          "2024-06-19T11:00:00",
          "2024-06-19T12:00:00",
          "2024-06-19T13:00:00",
          "2024-06-19T14:00:00",
          "2024-06-19T15:00:00",
          "2024-06-19T16:00:00",
          "2024-06-19T17:00:00",
          "2024-06-19T18:00:00",
          "2024-06-19T19:00:00",
          "2024-06-19T20:00:00",
          "2024-06-19T21:00:00",
          "2024-06-19T22:00:00",
          "2024-06-19T23:00:00",
          "2024-06-20T00:00:00",
          "2024-06-20T01:00:00",
          "2024-06-20T02:00:00",
          "2024-06-20T03:00:00",
          "2024-06-20T04:00:00",
          "2024-06-20T05:00:00",
          "2024-06-20T06:00:00",
          "2024-06-20T07:00:00",
          "2024-06-20T08:00:00",
          "2024-06-20T09:00:00",
          "2024-06-20T10:00:00",
          "2024-06-20T11:00:00",
          "2024-06-20T12:00:00",
          "2024-06-20T13:00:00",
          "2024-06-20T14:00:00",
          "2024-06-20T15:00:00",
          "2024-06-20T16:00:00",
          "2024-06-20T17:00:00",
          "2024-06-20T18:00:00",
          "2024-06-20T19:00:00",
          "2024-06-20T20:00:00",
          "2024-06-20T21:00:00",
          "2024-06-20T22:00:00",
          "2024-06-20T23:00:00",
          "2024-06-21T00:00:00",
          "2024-06-21T01:00:00",
          "2024-06-21T02:00:00",
          "2024-06-21T03:00:00",
          "2024-06-21T04:00:00",
          "2024-06-21T05:00:00",
          "2024-06-21T06:00:00",
          "2024-06-21T07:00:00",
          "2024-06-21T08:00:00",
          "2024-06-21T09:00:00",
          "2024-06-21T10:00:00",
          "2024-06-21T11:00:00",
          "2024-06-21T12:00:00",
          "2024-06-21T13:00:00",
          "2024-06-21T14:00:00",
          "2024-06-21T15:00:00",
          "2024-06-21T16:00:00",
          "2024-06-21T17:00:00",
          "2024-06-21T18:00:00",
          "2024-06-21T19:00:00",
          "2024-06-21T20:00:00",
          "2024-06-21T21:00:00",
          "2024-06-21T22:00:00",
          "2024-06-21T23:00:00",
          "2024-06-22T00:00:00",
          "2024-06-22T01:00:00",
          "2024-06-22T02:00:00",
          "2024-06-22T03:00:00",
          "2024-06-22T04:00:00",
          "2024-06-22T05:00:00",
          "2024-06-22T06:00:00",
          "2024-06-22T07:00:00",
          "2024-06-22T08:00:00",
          "2024-06-22T09:00:00",
          "2024-06-22T10:00:00",
          "2024-06-22T11:00:00",
          "2024-06-22T12:00:00",
          "2024-06-22T13:00:00",
          "2024-06-22T14:00:00",
          "2024-06-22T15:00:00",
          "2024-06-22T16:00:00",
          "2024-06-22T17:00:00",
          "2024-06-22T18:00:00",
          "2024-06-22T19:00:00",
          "2024-06-22T20:00:00",
          "2024-06-22T21:00:00",
          "2024-06-22T22:00:00",
          "2024-06-22T23:00:00",
          "2024-06-23T00:00:00",
          "2024-06-23T01:00:00",
          "2024-06-23T02:00:00",
          "2024-06-23T03:00:00",
          "2024-06-23T04:00:00",
          "2024-06-23T05:00:00",
          "2024-06-23T06:00:00",
          "2024-06-23T07:00:00",
          "2024-06-23T08:00:00",
          "2024-06-23T09:00:00",
          "2024-06-23T10:00:00",
          "2024-06-23T11:00:00",
          "2024-06-23T12:00:00",
          "2024-06-23T13:00:00",
          "2024-06-23T14:00:00",
          "2024-06-23T15:00:00",
          "2024-06-23T16:00:00",
          "2024-06-23T17:00:00",
          "2024-06-23T18:00:00",
          "2024-06-23T19:00:00",
          "2024-06-23T20:00:00",
          "2024-06-23T21:00:00",
          "2024-06-23T22:00:00",
          "2024-06-23T23:00:00",
          "2024-06-24T00:00:00",
          "2024-06-24T01:00:00",
          "2024-06-24T02:00:00",
          "2024-06-24T03:00:00",
          "2024-06-24T04:00:00",
          "2024-06-24T05:00:00",
          "2024-06-24T06:00:00",
          "2024-06-24T07:00:00",
          "2024-06-24T08:00:00",
          "2024-06-24T09:00:00",
          "2024-06-24T10:00:00",
          "2024-06-24T11:00:00",
          "2024-06-24T12:00:00",
          "2024-06-24T13:00:00",
          "2024-06-24T14:00:00",
          "2024-06-24T15:00:00",
          "2024-06-24T16:00:00",
          "2024-06-24T17:00:00",
          "2024-06-24T18:00:00",
          "2024-06-24T19:00:00",
          "2024-06-24T20:00:00",
          "2024-06-24T21:00:00",
          "2024-06-24T22:00:00",
          "2024-06-24T23:00:00"
         ],
         "xaxis": "x",
         "y": [
          36.8,
          36.8,
          36.4,
          36.2,
          35.6,
          34.9,
          35.6,
          38,
          40.5,
          42.1,
          43.7,
          45.7,
          46.7,
          47,
          47.2,
          46.9,
          46.5,
          45.7,
          42.2,
          38.2,
          34.8,
          33.6,
          33.1,
          32.7,
          32.5,
          32.5,
          32.3,
          32.6,
          32.9,
          32.9,
          34.9,
          37.5,
          39.3,
          40.3,
          41.9,
          43.1,
          43.5,
          43.3,
          43.3,
          43.9,
          44,
          42.9,
          41.3,
          38.6,
          35.6,
          33.2,
          32.6,
          32.4,
          30.9,
          31.3,
          31.4,
          30.5,
          29.9,
          29.8,
          30.8,
          32.5,
          34.5,
          36.6,
          38.4,
          39.9,
          41.2,
          42.2,
          42.9,
          43,
          42.8,
          42,
          40.5,
          38.9,
          36,
          33.2,
          31,
          30.2,
          33.9,
          33.5,
          33.6,
          33.1,
          31.8,
          31,
          31.9,
          32.8,
          33.5,
          34.2,
          35.1,
          36.3,
          38,
          39.5,
          40.2,
          40.6,
          40.6,
          40.4,
          39.5,
          37.1,
          35.2,
          34.8,
          34.3,
          33.3,
          31.6,
          32.2,
          32.3,
          32.1,
          31.7,
          31.6,
          32.3,
          33.5,
          34.8,
          36.2,
          37.4,
          38.6,
          39.3,
          38.8,
          39,
          39.1,
          37.4,
          36.1,
          36,
          36.4,
          36.1,
          35.5,
          35.2,
          34.6,
          35,
          34.5,
          33.8,
          33.4,
          33.1,
          33.1,
          34.4,
          36,
          37.4,
          38.7,
          39.8,
          40.4,
          40.5,
          40.6,
          40.9,
          41.2,
          40.6,
          39.8,
          39.3,
          38.8,
          38.6,
          38.4,
          38,
          37.5,
          34.8,
          35,
          35.1,
          34.9,
          34.6,
          34.5,
          35.2,
          36.6,
          37.9,
          39.2,
          40.5,
          41.1,
          41,
          41,
          40.8,
          40.5,
          40,
          39.4,
          39.2,
          38.8,
          38.6,
          37.3,
          36.1,
          34.9
         ],
         "yaxis": "y"
        }
       ],
       "layout": {
        "legend": {
         "tracegroupgap": 0
        },
        "template": {
         "data": {
          "bar": [
           {
            "error_x": {
             "color": "#2a3f5f"
            },
            "error_y": {
             "color": "#2a3f5f"
            },
            "marker": {
             "line": {
              "color": "#E5ECF6",
              "width": 0.5
             },
             "pattern": {
              "fillmode": "overlay",
              "size": 10,
              "solidity": 0.2
             }
            },
            "type": "bar"
           }
          ],
          "barpolar": [
           {
            "marker": {
             "line": {
              "color": "#E5ECF6",
              "width": 0.5
             },
             "pattern": {
              "fillmode": "overlay",
              "size": 10,
              "solidity": 0.2
             }
            },
            "type": "barpolar"
           }
          ],
          "carpet": [
           {
            "aaxis": {
             "endlinecolor": "#2a3f5f",
             "gridcolor": "white",
             "linecolor": "white",
             "minorgridcolor": "white",
             "startlinecolor": "#2a3f5f"
            },
            "baxis": {
             "endlinecolor": "#2a3f5f",
             "gridcolor": "white",
             "linecolor": "white",
             "minorgridcolor": "white",
             "startlinecolor": "#2a3f5f"
            },
            "type": "carpet"
           }
          ],
          "choropleth": [
           {
            "colorbar": {
             "outlinewidth": 0,
             "ticks": ""
            },
            "type": "choropleth"
           }
          ],
          "contour": [
           {
            "colorbar": {
             "outlinewidth": 0,
             "ticks": ""
            },
            "colorscale": [
             [
              0,
              "#0d0887"
             ],
             [
              0.1111111111111111,
              "#46039f"
             ],
             [
              0.2222222222222222,
              "#7201a8"
             ],
             [
              0.3333333333333333,
              "#9c179e"
             ],
             [
              0.4444444444444444,
              "#bd3786"
             ],
             [
              0.5555555555555556,
              "#d8576b"
             ],
             [
              0.6666666666666666,
              "#ed7953"
             ],
             [
              0.7777777777777778,
              "#fb9f3a"
             ],
             [
              0.8888888888888888,
              "#fdca26"
             ],
             [
              1,
              "#f0f921"
             ]
            ],
            "type": "contour"
           }
          ],
          "contourcarpet": [
           {
            "colorbar": {
             "outlinewidth": 0,
             "ticks": ""
            },
            "type": "contourcarpet"
           }
          ],
          "heatmap": [
           {
            "colorbar": {
             "outlinewidth": 0,
             "ticks": ""
            },
            "colorscale": [
             [
              0,
              "#0d0887"
             ],
             [
              0.1111111111111111,
              "#46039f"
             ],
             [
              0.2222222222222222,
              "#7201a8"
             ],
             [
              0.3333333333333333,
              "#9c179e"
             ],
             [
              0.4444444444444444,
              "#bd3786"
             ],
             [
              0.5555555555555556,
              "#d8576b"
             ],
             [
              0.6666666666666666,
              "#ed7953"
             ],
             [
              0.7777777777777778,
              "#fb9f3a"
             ],
             [
              0.8888888888888888,
              "#fdca26"
             ],
             [
              1,
              "#f0f921"
             ]
            ],
            "type": "heatmap"
           }
          ],
          "heatmapgl": [
           {
            "colorbar": {
             "outlinewidth": 0,
             "ticks": ""
            },
            "colorscale": [
             [
              0,
              "#0d0887"
             ],
             [
              0.1111111111111111,
              "#46039f"
             ],
             [
              0.2222222222222222,
              "#7201a8"
             ],
             [
              0.3333333333333333,
              "#9c179e"
             ],
             [
              0.4444444444444444,
              "#bd3786"
             ],
             [
              0.5555555555555556,
              "#d8576b"
             ],
             [
              0.6666666666666666,
              "#ed7953"
             ],
             [
              0.7777777777777778,
              "#fb9f3a"
             ],
             [
              0.8888888888888888,
              "#fdca26"
             ],
             [
              1,
              "#f0f921"
             ]
            ],
            "type": "heatmapgl"
           }
          ],
          "histogram": [
           {
            "marker": {
             "pattern": {
              "fillmode": "overlay",
              "size": 10,
              "solidity": 0.2
             }
            },
            "type": "histogram"
           }
          ],
          "histogram2d": [
           {
            "colorbar": {
             "outlinewidth": 0,
             "ticks": ""
            },
            "colorscale": [
             [
              0,
              "#0d0887"
             ],
             [
              0.1111111111111111,
              "#46039f"
             ],
             [
              0.2222222222222222,
              "#7201a8"
             ],
             [
              0.3333333333333333,
              "#9c179e"
             ],
             [
              0.4444444444444444,
              "#bd3786"
             ],
             [
              0.5555555555555556,
              "#d8576b"
             ],
             [
              0.6666666666666666,
              "#ed7953"
             ],
             [
              0.7777777777777778,
              "#fb9f3a"
             ],
             [
              0.8888888888888888,
              "#fdca26"
             ],
             [
              1,
              "#f0f921"
             ]
            ],
            "type": "histogram2d"
           }
          ],
          "histogram2dcontour": [
           {
            "colorbar": {
             "outlinewidth": 0,
             "ticks": ""
            },
            "colorscale": [
             [
              0,
              "#0d0887"
             ],
             [
              0.1111111111111111,
              "#46039f"
             ],
             [
              0.2222222222222222,
              "#7201a8"
             ],
             [
              0.3333333333333333,
              "#9c179e"
             ],
             [
              0.4444444444444444,
              "#bd3786"
             ],
             [
              0.5555555555555556,
              "#d8576b"
             ],
             [
              0.6666666666666666,
              "#ed7953"
             ],
             [
              0.7777777777777778,
              "#fb9f3a"
             ],
             [
              0.8888888888888888,
              "#fdca26"
             ],
             [
              1,
              "#f0f921"
             ]
            ],
            "type": "histogram2dcontour"
           }
          ],
          "mesh3d": [
           {
            "colorbar": {
             "outlinewidth": 0,
             "ticks": ""
            },
            "type": "mesh3d"
           }
          ],
          "parcoords": [
           {
            "line": {
             "colorbar": {
              "outlinewidth": 0,
              "ticks": ""
             }
            },
            "type": "parcoords"
           }
          ],
          "pie": [
           {
            "automargin": true,
            "type": "pie"
           }
          ],
          "scatter": [
           {
            "fillpattern": {
             "fillmode": "overlay",
             "size": 10,
             "solidity": 0.2
            },
            "type": "scatter"
           }
          ],
          "scatter3d": [
           {
            "line": {
             "colorbar": {
              "outlinewidth": 0,
              "ticks": ""
             }
            },
            "marker": {
             "colorbar": {
              "outlinewidth": 0,
              "ticks": ""
             }
            },
            "type": "scatter3d"
           }
          ],
          "scattercarpet": [
           {
            "marker": {
             "colorbar": {
              "outlinewidth": 0,
              "ticks": ""
             }
            },
            "type": "scattercarpet"
           }
          ],
          "scattergeo": [
           {
            "marker": {
             "colorbar": {
              "outlinewidth": 0,
              "ticks": ""
             }
            },
            "type": "scattergeo"
           }
          ],
          "scattergl": [
           {
            "marker": {
             "colorbar": {
              "outlinewidth": 0,
              "ticks": ""
             }
            },
            "type": "scattergl"
           }
          ],
          "scattermapbox": [
           {
            "marker": {
             "colorbar": {
              "outlinewidth": 0,
              "ticks": ""
             }
            },
            "type": "scattermapbox"
           }
          ],
          "scatterpolar": [
           {
            "marker": {
             "colorbar": {
              "outlinewidth": 0,
              "ticks": ""
             }
            },
            "type": "scatterpolar"
           }
          ],
          "scatterpolargl": [
           {
            "marker": {
             "colorbar": {
              "outlinewidth": 0,
              "ticks": ""
             }
            },
            "type": "scatterpolargl"
           }
          ],
          "scatterternary": [
           {
            "marker": {
             "colorbar": {
              "outlinewidth": 0,
              "ticks": ""
             }
            },
            "type": "scatterternary"
           }
          ],
          "surface": [
           {
            "colorbar": {
             "outlinewidth": 0,
             "ticks": ""
            },
            "colorscale": [
             [
              0,
              "#0d0887"
             ],
             [
              0.1111111111111111,
              "#46039f"
             ],
             [
              0.2222222222222222,
              "#7201a8"
             ],
             [
              0.3333333333333333,
              "#9c179e"
             ],
             [
              0.4444444444444444,
              "#bd3786"
             ],
             [
              0.5555555555555556,
              "#d8576b"
             ],
             [
              0.6666666666666666,
              "#ed7953"
             ],
             [
              0.7777777777777778,
              "#fb9f3a"
             ],
             [
              0.8888888888888888,
              "#fdca26"
             ],
             [
              1,
              "#f0f921"
             ]
            ],
            "type": "surface"
           }
          ],
          "table": [
           {
            "cells": {
             "fill": {
              "color": "#EBF0F8"
             },
             "line": {
              "color": "white"
             }
            },
            "header": {
             "fill": {
              "color": "#C8D4E3"
             },
             "line": {
              "color": "white"
             }
            },
            "type": "table"
           }
          ]
         },
         "layout": {
          "annotationdefaults": {
           "arrowcolor": "#2a3f5f",
           "arrowhead": 0,
           "arrowwidth": 1
          },
          "autotypenumbers": "strict",
          "coloraxis": {
           "colorbar": {
            "outlinewidth": 0,
            "ticks": ""
           }
          },
          "colorscale": {
           "diverging": [
            [
             0,
             "#8e0152"
            ],
            [
             0.1,
             "#c51b7d"
            ],
            [
             0.2,
             "#de77ae"
            ],
            [
             0.3,
             "#f1b6da"
            ],
            [
             0.4,
             "#fde0ef"
            ],
            [
             0.5,
             "#f7f7f7"
            ],
            [
             0.6,
             "#e6f5d0"
            ],
            [
             0.7,
             "#b8e186"
            ],
            [
             0.8,
             "#7fbc41"
            ],
            [
             0.9,
             "#4d9221"
            ],
            [
             1,
             "#276419"
            ]
           ],
           "sequential": [
            [
             0,
             "#0d0887"
            ],
            [
             0.1111111111111111,
             "#46039f"
            ],
            [
             0.2222222222222222,
             "#7201a8"
            ],
            [
             0.3333333333333333,
             "#9c179e"
            ],
            [
             0.4444444444444444,
             "#bd3786"
            ],
            [
             0.5555555555555556,
             "#d8576b"
            ],
            [
             0.6666666666666666,
             "#ed7953"
            ],
            [
             0.7777777777777778,
             "#fb9f3a"
            ],
            [
             0.8888888888888888,
             "#fdca26"
            ],
            [
             1,
             "#f0f921"
            ]
           ],
           "sequentialminus": [
            [
             0,
             "#0d0887"
            ],
            [
             0.1111111111111111,
             "#46039f"
            ],
            [
             0.2222222222222222,
             "#7201a8"
            ],
            [
             0.3333333333333333,
             "#9c179e"
            ],
            [
             0.4444444444444444,
             "#bd3786"
            ],
            [
             0.5555555555555556,
             "#d8576b"
            ],
            [
             0.6666666666666666,
             "#ed7953"
            ],
            [
             0.7777777777777778,
             "#fb9f3a"
            ],
            [
             0.8888888888888888,
             "#fdca26"
            ],
            [
             1,
             "#f0f921"
            ]
           ]
          },
          "colorway": [
           "#636efa",
           "#EF553B",
           "#00cc96",
           "#ab63fa",
           "#FFA15A",
           "#19d3f3",
           "#FF6692",
           "#B6E880",
           "#FF97FF",
           "#FECB52"
          ],
          "font": {
           "color": "#2a3f5f"
          },
          "geo": {
           "bgcolor": "white",
           "lakecolor": "white",
           "landcolor": "#E5ECF6",
           "showlakes": true,
           "showland": true,
           "subunitcolor": "white"
          },
          "hoverlabel": {
           "align": "left"
          },
          "hovermode": "closest",
          "mapbox": {
           "style": "light"
          },
          "paper_bgcolor": "white",
          "plot_bgcolor": "#E5ECF6",
          "polar": {
           "angularaxis": {
            "gridcolor": "white",
            "linecolor": "white",
            "ticks": ""
           },
           "bgcolor": "#E5ECF6",
           "radialaxis": {
            "gridcolor": "white",
            "linecolor": "white",
            "ticks": ""
           }
          },
          "scene": {
           "xaxis": {
            "backgroundcolor": "#E5ECF6",
            "gridcolor": "white",
            "gridwidth": 2,
            "linecolor": "white",
            "showbackground": true,
            "ticks": "",
            "zerolinecolor": "white"
           },
           "yaxis": {
            "backgroundcolor": "#E5ECF6",
            "gridcolor": "white",
            "gridwidth": 2,
            "linecolor": "white",
            "showbackground": true,
            "ticks": "",
            "zerolinecolor": "white"
           },
           "zaxis": {
            "backgroundcolor": "#E5ECF6",
            "gridcolor": "white",
            "gridwidth": 2,
            "linecolor": "white",
            "showbackground": true,
            "ticks": "",
            "zerolinecolor": "white"
           }
          },
          "shapedefaults": {
           "line": {
            "color": "#2a3f5f"
           }
          },
          "ternary": {
           "aaxis": {
            "gridcolor": "white",
            "linecolor": "white",
            "ticks": ""
           },
           "baxis": {
            "gridcolor": "white",
            "linecolor": "white",
            "ticks": ""
           },
           "bgcolor": "#E5ECF6",
           "caxis": {
            "gridcolor": "white",
            "linecolor": "white",
            "ticks": ""
           }
          },
          "title": {
           "x": 0.05
          },
          "xaxis": {
           "automargin": true,
           "gridcolor": "white",
           "linecolor": "white",
           "ticks": "",
           "title": {
            "standoff": 15
           },
           "zerolinecolor": "white",
           "zerolinewidth": 2
          },
          "yaxis": {
           "automargin": true,
           "gridcolor": "white",
           "linecolor": "white",
           "ticks": "",
           "title": {
            "standoff": 15
           },
           "zerolinecolor": "white",
           "zerolinewidth": 2
          }
         }
        },
        "title": {
         "text": "Weather Data Over Time"
        },
        "xaxis": {
         "anchor": "y",
         "domain": [
          0,
          1
         ],
         "title": {
          "text": "ds"
         }
        },
        "yaxis": {
         "anchor": "x",
         "domain": [
          0,
          1
         ],
         "title": {
          "text": "y"
         }
        }
       }
      }
     },
     "metadata": {},
     "output_type": "display_data"
    }
   ],
   "source": [
    "fig = px.line(weather01, x='ds', y='y', title='Weather Data Over Time')\n",
    "fig.show()"
   ]
  },
  {
   "cell_type": "code",
   "execution_count": 83,
   "metadata": {},
   "outputs": [
    {
     "data": {
      "text/plain": [
       "\"import seaborn as sns\\nsns.lineplot(x = 'ds', y= 'y', data= weather01)\""
      ]
     },
     "execution_count": 83,
     "metadata": {},
     "output_type": "execute_result"
    }
   ],
   "source": [
    "'''import seaborn as sns\n",
    "sns.lineplot(x = 'ds', y= 'y', data= weather01)'''"
   ]
  },
  {
   "cell_type": "code",
   "execution_count": 84,
   "metadata": {},
   "outputs": [
    {
     "data": {
      "image/png": "[encoded data removed]",
      "text/plain": [
       "<Figure size 1500x600 with 4 Axes>"
      ]
     },
     "execution_count": 84,
     "metadata": {},
     "output_type": "execute_result"
    },
    {
     "data": {
      "image/png": "[encoded data removed]",
      "text/plain": [
       "<Figure size 1500x600 with 4 Axes>"
      ]
     },
     "metadata": {},
     "output_type": "display_data"
    }
   ],
   "source": [
    "from statsmodels.tsa.seasonal import seasonal_decompose\n",
    "temperature = seasonal_decompose(weather01['y'] , model = 'multiplicative' , period = 7)\n",
    "temperature.plot()\n",
    "\n"
   ]
  },
  {
   "cell_type": "code",
   "execution_count": 85,
   "metadata": {},
   "outputs": [
    {
     "data": {
      "text/html": [
       "<div>\n",
       "<style scoped>\n",
       "    .dataframe tbody tr th:only-of-type {\n",
       "        vertical-align: middle;\n",
       "    }\n",
       "\n",
       "    .dataframe tbody tr th {\n",
       "        vertical-align: top;\n",
       "    }\n",
       "\n",
       "    .dataframe thead th {\n",
       "        text-align: right;\n",
       "    }\n",
       "</style>\n",
       "<table border=\"1\" class=\"dataframe\">\n",
       "  <thead>\n",
       "    <tr style=\"text-align: right;\">\n",
       "      <th></th>\n",
       "      <th>ds</th>\n",
       "      <th>y</th>\n",
       "      <th>Humidity</th>\n",
       "      <th>Wind Speed (km/h)</th>\n",
       "      <th>Precipitation (mm)</th>\n",
       "    </tr>\n",
       "  </thead>\n",
       "  <tbody>\n",
       "    <tr>\n",
       "      <th>118</th>\n",
       "      <td>2024-06-22 22:00:00</td>\n",
       "      <td>35.2</td>\n",
       "      <td>50</td>\n",
       "      <td>18.7</td>\n",
       "      <td>0.00</td>\n",
       "    </tr>\n",
       "    <tr>\n",
       "      <th>119</th>\n",
       "      <td>2024-06-22 23:00:00</td>\n",
       "      <td>34.6</td>\n",
       "      <td>52</td>\n",
       "      <td>18.4</td>\n",
       "      <td>0.00</td>\n",
       "    </tr>\n",
       "    <tr>\n",
       "      <th>120</th>\n",
       "      <td>2024-06-23 00:00:00</td>\n",
       "      <td>35.0</td>\n",
       "      <td>45</td>\n",
       "      <td>14.4</td>\n",
       "      <td>0.00</td>\n",
       "    </tr>\n",
       "    <tr>\n",
       "      <th>121</th>\n",
       "      <td>2024-06-23 01:00:00</td>\n",
       "      <td>34.5</td>\n",
       "      <td>46</td>\n",
       "      <td>16.2</td>\n",
       "      <td>0.00</td>\n",
       "    </tr>\n",
       "    <tr>\n",
       "      <th>122</th>\n",
       "      <td>2024-06-23 02:00:00</td>\n",
       "      <td>33.8</td>\n",
       "      <td>49</td>\n",
       "      <td>14.4</td>\n",
       "      <td>0.00</td>\n",
       "    </tr>\n",
       "    <tr>\n",
       "      <th>123</th>\n",
       "      <td>2024-06-23 03:00:00</td>\n",
       "      <td>33.4</td>\n",
       "      <td>51</td>\n",
       "      <td>13.3</td>\n",
       "      <td>0.00</td>\n",
       "    </tr>\n",
       "    <tr>\n",
       "      <th>124</th>\n",
       "      <td>2024-06-23 04:00:00</td>\n",
       "      <td>33.1</td>\n",
       "      <td>53</td>\n",
       "      <td>11.9</td>\n",
       "      <td>0.00</td>\n",
       "    </tr>\n",
       "    <tr>\n",
       "      <th>125</th>\n",
       "      <td>2024-06-23 05:00:00</td>\n",
       "      <td>33.1</td>\n",
       "      <td>53</td>\n",
       "      <td>11.2</td>\n",
       "      <td>0.00</td>\n",
       "    </tr>\n",
       "    <tr>\n",
       "      <th>126</th>\n",
       "      <td>2024-06-23 06:00:00</td>\n",
       "      <td>34.4</td>\n",
       "      <td>48</td>\n",
       "      <td>12.2</td>\n",
       "      <td>0.00</td>\n",
       "    </tr>\n",
       "    <tr>\n",
       "      <th>127</th>\n",
       "      <td>2024-06-23 07:00:00</td>\n",
       "      <td>36.0</td>\n",
       "      <td>42</td>\n",
       "      <td>10.8</td>\n",
       "      <td>0.00</td>\n",
       "    </tr>\n",
       "    <tr>\n",
       "      <th>128</th>\n",
       "      <td>2024-06-23 08:00:00</td>\n",
       "      <td>37.4</td>\n",
       "      <td>38</td>\n",
       "      <td>9.7</td>\n",
       "      <td>0.00</td>\n",
       "    </tr>\n",
       "    <tr>\n",
       "      <th>129</th>\n",
       "      <td>2024-06-23 09:00:00</td>\n",
       "      <td>38.7</td>\n",
       "      <td>35</td>\n",
       "      <td>8.6</td>\n",
       "      <td>0.00</td>\n",
       "    </tr>\n",
       "    <tr>\n",
       "      <th>130</th>\n",
       "      <td>2024-06-23 10:00:00</td>\n",
       "      <td>39.8</td>\n",
       "      <td>32</td>\n",
       "      <td>9.0</td>\n",
       "      <td>0.00</td>\n",
       "    </tr>\n",
       "    <tr>\n",
       "      <th>131</th>\n",
       "      <td>2024-06-23 11:00:00</td>\n",
       "      <td>40.4</td>\n",
       "      <td>31</td>\n",
       "      <td>7.9</td>\n",
       "      <td>0.01</td>\n",
       "    </tr>\n",
       "    <tr>\n",
       "      <th>132</th>\n",
       "      <td>2024-06-23 12:00:00</td>\n",
       "      <td>40.5</td>\n",
       "      <td>30</td>\n",
       "      <td>7.6</td>\n",
       "      <td>0.00</td>\n",
       "    </tr>\n",
       "    <tr>\n",
       "      <th>133</th>\n",
       "      <td>2024-06-23 13:00:00</td>\n",
       "      <td>40.6</td>\n",
       "      <td>30</td>\n",
       "      <td>7.6</td>\n",
       "      <td>0.00</td>\n",
       "    </tr>\n",
       "    <tr>\n",
       "      <th>134</th>\n",
       "      <td>2024-06-23 14:00:00</td>\n",
       "      <td>40.9</td>\n",
       "      <td>29</td>\n",
       "      <td>8.3</td>\n",
       "      <td>0.00</td>\n",
       "    </tr>\n",
       "    <tr>\n",
       "      <th>135</th>\n",
       "      <td>2024-06-23 15:00:00</td>\n",
       "      <td>41.2</td>\n",
       "      <td>29</td>\n",
       "      <td>7.9</td>\n",
       "      <td>0.00</td>\n",
       "    </tr>\n",
       "    <tr>\n",
       "      <th>136</th>\n",
       "      <td>2024-06-23 16:00:00</td>\n",
       "      <td>40.6</td>\n",
       "      <td>30</td>\n",
       "      <td>10.4</td>\n",
       "      <td>0.00</td>\n",
       "    </tr>\n",
       "    <tr>\n",
       "      <th>137</th>\n",
       "      <td>2024-06-23 17:00:00</td>\n",
       "      <td>39.8</td>\n",
       "      <td>31</td>\n",
       "      <td>14.4</td>\n",
       "      <td>0.00</td>\n",
       "    </tr>\n",
       "    <tr>\n",
       "      <th>138</th>\n",
       "      <td>2024-06-23 18:00:00</td>\n",
       "      <td>39.3</td>\n",
       "      <td>33</td>\n",
       "      <td>13.0</td>\n",
       "      <td>0.00</td>\n",
       "    </tr>\n",
       "    <tr>\n",
       "      <th>139</th>\n",
       "      <td>2024-06-23 19:00:00</td>\n",
       "      <td>38.8</td>\n",
       "      <td>34</td>\n",
       "      <td>10.8</td>\n",
       "      <td>0.29</td>\n",
       "    </tr>\n",
       "    <tr>\n",
       "      <th>140</th>\n",
       "      <td>2024-06-23 20:00:00</td>\n",
       "      <td>38.6</td>\n",
       "      <td>34</td>\n",
       "      <td>12.2</td>\n",
       "      <td>0.00</td>\n",
       "    </tr>\n",
       "    <tr>\n",
       "      <th>141</th>\n",
       "      <td>2024-06-23 21:00:00</td>\n",
       "      <td>38.4</td>\n",
       "      <td>35</td>\n",
       "      <td>13.7</td>\n",
       "      <td>0.00</td>\n",
       "    </tr>\n",
       "    <tr>\n",
       "      <th>142</th>\n",
       "      <td>2024-06-23 22:00:00</td>\n",
       "      <td>38.0</td>\n",
       "      <td>36</td>\n",
       "      <td>10.4</td>\n",
       "      <td>0.00</td>\n",
       "    </tr>\n",
       "    <tr>\n",
       "      <th>143</th>\n",
       "      <td>2024-06-23 23:00:00</td>\n",
       "      <td>37.5</td>\n",
       "      <td>37</td>\n",
       "      <td>9.7</td>\n",
       "      <td>0.00</td>\n",
       "    </tr>\n",
       "    <tr>\n",
       "      <th>144</th>\n",
       "      <td>2024-06-24 00:00:00</td>\n",
       "      <td>34.8</td>\n",
       "      <td>47</td>\n",
       "      <td>4.7</td>\n",
       "      <td>0.11</td>\n",
       "    </tr>\n",
       "    <tr>\n",
       "      <th>145</th>\n",
       "      <td>2024-06-24 01:00:00</td>\n",
       "      <td>35.0</td>\n",
       "      <td>46</td>\n",
       "      <td>1.8</td>\n",
       "      <td>0.03</td>\n",
       "    </tr>\n",
       "    <tr>\n",
       "      <th>146</th>\n",
       "      <td>2024-06-24 02:00:00</td>\n",
       "      <td>35.1</td>\n",
       "      <td>46</td>\n",
       "      <td>3.2</td>\n",
       "      <td>0.00</td>\n",
       "    </tr>\n",
       "    <tr>\n",
       "      <th>147</th>\n",
       "      <td>2024-06-24 03:00:00</td>\n",
       "      <td>34.9</td>\n",
       "      <td>47</td>\n",
       "      <td>3.6</td>\n",
       "      <td>0.00</td>\n",
       "    </tr>\n",
       "    <tr>\n",
       "      <th>148</th>\n",
       "      <td>2024-06-24 04:00:00</td>\n",
       "      <td>34.6</td>\n",
       "      <td>48</td>\n",
       "      <td>4.3</td>\n",
       "      <td>0.00</td>\n",
       "    </tr>\n",
       "    <tr>\n",
       "      <th>149</th>\n",
       "      <td>2024-06-24 05:00:00</td>\n",
       "      <td>34.5</td>\n",
       "      <td>48</td>\n",
       "      <td>5.0</td>\n",
       "      <td>0.00</td>\n",
       "    </tr>\n",
       "    <tr>\n",
       "      <th>150</th>\n",
       "      <td>2024-06-24 06:00:00</td>\n",
       "      <td>35.2</td>\n",
       "      <td>46</td>\n",
       "      <td>5.8</td>\n",
       "      <td>0.00</td>\n",
       "    </tr>\n",
       "    <tr>\n",
       "      <th>151</th>\n",
       "      <td>2024-06-24 07:00:00</td>\n",
       "      <td>36.6</td>\n",
       "      <td>42</td>\n",
       "      <td>4.7</td>\n",
       "      <td>0.00</td>\n",
       "    </tr>\n",
       "    <tr>\n",
       "      <th>152</th>\n",
       "      <td>2024-06-24 08:00:00</td>\n",
       "      <td>37.9</td>\n",
       "      <td>38</td>\n",
       "      <td>4.3</td>\n",
       "      <td>0.00</td>\n",
       "    </tr>\n",
       "    <tr>\n",
       "      <th>153</th>\n",
       "      <td>2024-06-24 09:00:00</td>\n",
       "      <td>39.2</td>\n",
       "      <td>35</td>\n",
       "      <td>2.9</td>\n",
       "      <td>0.00</td>\n",
       "    </tr>\n",
       "    <tr>\n",
       "      <th>154</th>\n",
       "      <td>2024-06-24 10:00:00</td>\n",
       "      <td>40.5</td>\n",
       "      <td>32</td>\n",
       "      <td>2.9</td>\n",
       "      <td>0.00</td>\n",
       "    </tr>\n",
       "    <tr>\n",
       "      <th>155</th>\n",
       "      <td>2024-06-24 11:00:00</td>\n",
       "      <td>41.1</td>\n",
       "      <td>30</td>\n",
       "      <td>3.2</td>\n",
       "      <td>0.00</td>\n",
       "    </tr>\n",
       "    <tr>\n",
       "      <th>156</th>\n",
       "      <td>2024-06-24 12:00:00</td>\n",
       "      <td>41.0</td>\n",
       "      <td>30</td>\n",
       "      <td>5.0</td>\n",
       "      <td>0.00</td>\n",
       "    </tr>\n",
       "    <tr>\n",
       "      <th>157</th>\n",
       "      <td>2024-06-24 13:00:00</td>\n",
       "      <td>41.0</td>\n",
       "      <td>30</td>\n",
       "      <td>5.8</td>\n",
       "      <td>0.00</td>\n",
       "    </tr>\n",
       "    <tr>\n",
       "      <th>158</th>\n",
       "      <td>2024-06-24 14:00:00</td>\n",
       "      <td>40.8</td>\n",
       "      <td>31</td>\n",
       "      <td>6.8</td>\n",
       "      <td>0.00</td>\n",
       "    </tr>\n",
       "    <tr>\n",
       "      <th>159</th>\n",
       "      <td>2024-06-24 15:00:00</td>\n",
       "      <td>40.5</td>\n",
       "      <td>31</td>\n",
       "      <td>7.9</td>\n",
       "      <td>0.02</td>\n",
       "    </tr>\n",
       "    <tr>\n",
       "      <th>160</th>\n",
       "      <td>2024-06-24 16:00:00</td>\n",
       "      <td>40.0</td>\n",
       "      <td>32</td>\n",
       "      <td>5.4</td>\n",
       "      <td>0.08</td>\n",
       "    </tr>\n",
       "    <tr>\n",
       "      <th>161</th>\n",
       "      <td>2024-06-24 17:00:00</td>\n",
       "      <td>39.4</td>\n",
       "      <td>34</td>\n",
       "      <td>2.9</td>\n",
       "      <td>0.00</td>\n",
       "    </tr>\n",
       "    <tr>\n",
       "      <th>162</th>\n",
       "      <td>2024-06-24 18:00:00</td>\n",
       "      <td>39.2</td>\n",
       "      <td>35</td>\n",
       "      <td>3.2</td>\n",
       "      <td>0.00</td>\n",
       "    </tr>\n",
       "    <tr>\n",
       "      <th>163</th>\n",
       "      <td>2024-06-24 19:00:00</td>\n",
       "      <td>38.8</td>\n",
       "      <td>36</td>\n",
       "      <td>4.0</td>\n",
       "      <td>0.45</td>\n",
       "    </tr>\n",
       "    <tr>\n",
       "      <th>164</th>\n",
       "      <td>2024-06-24 20:00:00</td>\n",
       "      <td>38.6</td>\n",
       "      <td>36</td>\n",
       "      <td>9.7</td>\n",
       "      <td>0.54</td>\n",
       "    </tr>\n",
       "    <tr>\n",
       "      <th>165</th>\n",
       "      <td>2024-06-24 21:00:00</td>\n",
       "      <td>37.3</td>\n",
       "      <td>40</td>\n",
       "      <td>13.0</td>\n",
       "      <td>0.16</td>\n",
       "    </tr>\n",
       "    <tr>\n",
       "      <th>166</th>\n",
       "      <td>2024-06-24 22:00:00</td>\n",
       "      <td>36.1</td>\n",
       "      <td>44</td>\n",
       "      <td>14.4</td>\n",
       "      <td>0.14</td>\n",
       "    </tr>\n",
       "    <tr>\n",
       "      <th>167</th>\n",
       "      <td>2024-06-24 23:00:00</td>\n",
       "      <td>34.9</td>\n",
       "      <td>48</td>\n",
       "      <td>13.7</td>\n",
       "      <td>0.02</td>\n",
       "    </tr>\n",
       "  </tbody>\n",
       "</table>\n",
       "</div>"
      ],
      "text/plain": [
       "                     ds     y  Humidity  Wind Speed (km/h)  Precipitation (mm)\n",
       "118 2024-06-22 22:00:00  35.2        50               18.7                0.00\n",
       "119 2024-06-22 23:00:00  34.6        52               18.4                0.00\n",
       "120 2024-06-23 00:00:00  35.0        45               14.4                0.00\n",
       "121 2024-06-23 01:00:00  34.5        46               16.2                0.00\n",
       "122 2024-06-23 02:00:00  33.8        49               14.4                0.00\n",
       "123 2024-06-23 03:00:00  33.4        51               13.3                0.00\n",
       "124 2024-06-23 04:00:00  33.1        53               11.9                0.00\n",
       "125 2024-06-23 05:00:00  33.1        53               11.2                0.00\n",
       "126 2024-06-23 06:00:00  34.4        48               12.2                0.00\n",
       "127 2024-06-23 07:00:00  36.0        42               10.8                0.00\n",
       "128 2024-06-23 08:00:00  37.4        38                9.7                0.00\n",
       "129 2024-06-23 09:00:00  38.7        35                8.6                0.00\n",
       "130 2024-06-23 10:00:00  39.8        32                9.0                0.00\n",
       "131 2024-06-23 11:00:00  40.4        31                7.9                0.01\n",
       "132 2024-06-23 12:00:00  40.5        30                7.6                0.00\n",
       "133 2024-06-23 13:00:00  40.6        30                7.6                0.00\n",
       "134 2024-06-23 14:00:00  40.9        29                8.3                0.00\n",
       "135 2024-06-23 15:00:00  41.2        29                7.9                0.00\n",
       "136 2024-06-23 16:00:00  40.6        30               10.4                0.00\n",
       "137 2024-06-23 17:00:00  39.8        31               14.4                0.00\n",
       "138 2024-06-23 18:00:00  39.3        33               13.0                0.00\n",
       "139 2024-06-23 19:00:00  38.8        34               10.8                0.29\n",
       "140 2024-06-23 20:00:00  38.6        34               12.2                0.00\n",
       "141 2024-06-23 21:00:00  38.4        35               13.7                0.00\n",
       "142 2024-06-23 22:00:00  38.0        36               10.4                0.00\n",
       "143 2024-06-23 23:00:00  37.5        37                9.7                0.00\n",
       "144 2024-06-24 00:00:00  34.8        47                4.7                0.11\n",
       "145 2024-06-24 01:00:00  35.0        46                1.8                0.03\n",
       "146 2024-06-24 02:00:00  35.1        46                3.2                0.00\n",
       "147 2024-06-24 03:00:00  34.9        47                3.6                0.00\n",
       "148 2024-06-24 04:00:00  34.6        48                4.3                0.00\n",
       "149 2024-06-24 05:00:00  34.5        48                5.0                0.00\n",
       "150 2024-06-24 06:00:00  35.2        46                5.8                0.00\n",
       "151 2024-06-24 07:00:00  36.6        42                4.7                0.00\n",
       "152 2024-06-24 08:00:00  37.9        38                4.3                0.00\n",
       "153 2024-06-24 09:00:00  39.2        35                2.9                0.00\n",
       "154 2024-06-24 10:00:00  40.5        32                2.9                0.00\n",
       "155 2024-06-24 11:00:00  41.1        30                3.2                0.00\n",
       "156 2024-06-24 12:00:00  41.0        30                5.0                0.00\n",
       "157 2024-06-24 13:00:00  41.0        30                5.8                0.00\n",
       "158 2024-06-24 14:00:00  40.8        31                6.8                0.00\n",
       "159 2024-06-24 15:00:00  40.5        31                7.9                0.02\n",
       "160 2024-06-24 16:00:00  40.0        32                5.4                0.08\n",
       "161 2024-06-24 17:00:00  39.4        34                2.9                0.00\n",
       "162 2024-06-24 18:00:00  39.2        35                3.2                0.00\n",
       "163 2024-06-24 19:00:00  38.8        36                4.0                0.45\n",
       "164 2024-06-24 20:00:00  38.6        36                9.7                0.54\n",
       "165 2024-06-24 21:00:00  37.3        40               13.0                0.16\n",
       "166 2024-06-24 22:00:00  36.1        44               14.4                0.14\n",
       "167 2024-06-24 23:00:00  34.9        48               13.7                0.02"
      ]
     },
     "execution_count": 85,
     "metadata": {},
     "output_type": "execute_result"
    }
   ],
   "source": [
    "weather01.tail(50)"
   ]
  },
  {
   "cell_type": "code",
   "execution_count": 86,
   "metadata": {},
   "outputs": [],
   "source": [
    "from prophet import  Prophet\n",
    "m = Prophet()"
   ]
  },
  {
   "cell_type": "code",
   "execution_count": 87,
   "metadata": {},
   "outputs": [
    {
     "name": "stderr",
     "output_type": "stream",
     "text": [
      "14:19:46 - cmdstanpy - INFO - Chain [1] start processing\n",
      "14:19:46 - cmdstanpy - INFO - Chain [1] done processing\n"
     ]
    },
    {
     "data": {
      "text/plain": [
       "<prophet.forecaster.Prophet at 0x1dab9200bd0>"
      ]
     },
     "execution_count": 87,
     "metadata": {},
     "output_type": "execute_result"
    }
   ],
   "source": [
    "m.fit(weather01)"
   ]
  },
  {
   "cell_type": "code",
   "execution_count": 88,
   "metadata": {},
   "outputs": [
    {
     "data": {
      "text/html": [
       "<div>\n",
       "<style scoped>\n",
       "    .dataframe tbody tr th:only-of-type {\n",
       "        vertical-align: middle;\n",
       "    }\n",
       "\n",
       "    .dataframe tbody tr th {\n",
       "        vertical-align: top;\n",
       "    }\n",
       "\n",
       "    .dataframe thead th {\n",
       "        text-align: right;\n",
       "    }\n",
       "</style>\n",
       "<table border=\"1\" class=\"dataframe\">\n",
       "  <thead>\n",
       "    <tr style=\"text-align: right;\">\n",
       "      <th></th>\n",
       "      <th>ds</th>\n",
       "    </tr>\n",
       "  </thead>\n",
       "  <tbody>\n",
       "    <tr>\n",
       "      <th>283</th>\n",
       "      <td>2024-06-29 19:00:00</td>\n",
       "    </tr>\n",
       "    <tr>\n",
       "      <th>284</th>\n",
       "      <td>2024-06-29 20:00:00</td>\n",
       "    </tr>\n",
       "    <tr>\n",
       "      <th>285</th>\n",
       "      <td>2024-06-29 21:00:00</td>\n",
       "    </tr>\n",
       "    <tr>\n",
       "      <th>286</th>\n",
       "      <td>2024-06-29 22:00:00</td>\n",
       "    </tr>\n",
       "    <tr>\n",
       "      <th>287</th>\n",
       "      <td>2024-06-29 23:00:00</td>\n",
       "    </tr>\n",
       "  </tbody>\n",
       "</table>\n",
       "</div>"
      ],
      "text/plain": [
       "                     ds\n",
       "283 2024-06-29 19:00:00\n",
       "284 2024-06-29 20:00:00\n",
       "285 2024-06-29 21:00:00\n",
       "286 2024-06-29 22:00:00\n",
       "287 2024-06-29 23:00:00"
      ]
     },
     "execution_count": 88,
     "metadata": {},
     "output_type": "execute_result"
    }
   ],
   "source": [
    "future = m.make_future_dataframe(periods=120, freq='H', include_history=True)\n",
    "future.tail()"
   ]
  },
  {
   "cell_type": "code",
   "execution_count": 89,
   "metadata": {},
   "outputs": [
    {
     "data": {
      "text/html": [
       "<div>\n",
       "<style scoped>\n",
       "    .dataframe tbody tr th:only-of-type {\n",
       "        vertical-align: middle;\n",
       "    }\n",
       "\n",
       "    .dataframe tbody tr th {\n",
       "        vertical-align: top;\n",
       "    }\n",
       "\n",
       "    .dataframe thead th {\n",
       "        text-align: right;\n",
       "    }\n",
       "</style>\n",
       "<table border=\"1\" class=\"dataframe\">\n",
       "  <thead>\n",
       "    <tr style=\"text-align: right;\">\n",
       "      <th></th>\n",
       "      <th>ds</th>\n",
       "      <th>yhat</th>\n",
       "      <th>yhat_lower</th>\n",
       "      <th>yhat_upper</th>\n",
       "    </tr>\n",
       "  </thead>\n",
       "  <tbody>\n",
       "    <tr>\n",
       "      <th>283</th>\n",
       "      <td>2024-06-29 19:00:00</td>\n",
       "      <td>43.800746</td>\n",
       "      <td>40.721623</td>\n",
       "      <td>46.916100</td>\n",
       "    </tr>\n",
       "    <tr>\n",
       "      <th>284</th>\n",
       "      <td>2024-06-29 20:00:00</td>\n",
       "      <td>42.269490</td>\n",
       "      <td>39.091148</td>\n",
       "      <td>45.441894</td>\n",
       "    </tr>\n",
       "    <tr>\n",
       "      <th>285</th>\n",
       "      <td>2024-06-29 21:00:00</td>\n",
       "      <td>40.906428</td>\n",
       "      <td>37.737822</td>\n",
       "      <td>44.059970</td>\n",
       "    </tr>\n",
       "    <tr>\n",
       "      <th>286</th>\n",
       "      <td>2024-06-29 22:00:00</td>\n",
       "      <td>39.943163</td>\n",
       "      <td>36.970240</td>\n",
       "      <td>42.973556</td>\n",
       "    </tr>\n",
       "    <tr>\n",
       "      <th>287</th>\n",
       "      <td>2024-06-29 23:00:00</td>\n",
       "      <td>39.474925</td>\n",
       "      <td>36.246019</td>\n",
       "      <td>42.636659</td>\n",
       "    </tr>\n",
       "  </tbody>\n",
       "</table>\n",
       "</div>"
      ],
      "text/plain": [
       "                     ds       yhat  yhat_lower  yhat_upper\n",
       "283 2024-06-29 19:00:00  43.800746   40.721623   46.916100\n",
       "284 2024-06-29 20:00:00  42.269490   39.091148   45.441894\n",
       "285 2024-06-29 21:00:00  40.906428   37.737822   44.059970\n",
       "286 2024-06-29 22:00:00  39.943163   36.970240   42.973556\n",
       "287 2024-06-29 23:00:00  39.474925   36.246019   42.636659"
      ]
     },
     "execution_count": 89,
     "metadata": {},
     "output_type": "execute_result"
    }
   ],
   "source": [
    "forecast= m.predict(future)\n",
    "forecast[['ds','yhat','yhat_lower','yhat_upper']].tail()"
   ]
  },
  {
   "cell_type": "code",
   "execution_count": 90,
   "metadata": {},
   "outputs": [
    {
     "name": "stderr",
     "output_type": "stream",
     "text": [
      "c:\\Users\\shree\\anaconda3\\Lib\\site-packages\\_plotly_utils\\basevalidators.py:106: FutureWarning:\n",
      "\n",
      "The behavior of DatetimeProperties.to_pydatetime is deprecated, in a future version this will return a Series containing python datetime objects instead of an ndarray. To retain the old behavior, call `np.array` on the result\n",
      "\n"
     ]
    },
    {
     "data": {
      "application/vnd.plotly.v1+json": {
       "config": {
        "plotlyServerURL": "https://plot.ly"
       },
       "data": [
        {
         "marker": {
          "color": "black",
          "size": 4
         },
         "mode": "markers",
         "name": "Actual",
         "type": "scatter",
         "x": [
          "2024-06-18T00:00:00",
          "2024-06-18T01:00:00",
          "2024-06-18T02:00:00",
          "2024-06-18T03:00:00",
          "2024-06-18T04:00:00",
          "2024-06-18T05:00:00",
          "2024-06-18T06:00:00",
          "2024-06-18T07:00:00",
          "2024-06-18T08:00:00",
          "2024-06-18T09:00:00",
          "2024-06-18T10:00:00",
          "2024-06-18T11:00:00",
          "2024-06-18T12:00:00",
          "2024-06-18T13:00:00",
          "2024-06-18T14:00:00",
          "2024-06-18T15:00:00",
          "2024-06-18T16:00:00",
          "2024-06-18T17:00:00",
          "2024-06-18T18:00:00",
          "2024-06-18T19:00:00",
          "2024-06-18T20:00:00",
          "2024-06-18T21:00:00",
          "2024-06-18T22:00:00",
          "2024-06-18T23:00:00",
          "2024-06-19T00:00:00",
          "2024-06-19T01:00:00",
          "2024-06-19T02:00:00",
          "2024-06-19T03:00:00",
          "2024-06-19T04:00:00",
          "2024-06-19T05:00:00",
          "2024-06-19T06:00:00",
          "2024-06-19T07:00:00",
          "2024-06-19T08:00:00",
          "2024-06-19T09:00:00",
          "2024-06-19T10:00:00",
          "2024-06-19T11:00:00",
          "2024-06-19T12:00:00",
          "2024-06-19T13:00:00",
          "2024-06-19T14:00:00",
          "2024-06-19T15:00:00",
          "2024-06-19T16:00:00",
          "2024-06-19T17:00:00",
          "2024-06-19T18:00:00",
          "2024-06-19T19:00:00",
          "2024-06-19T20:00:00",
          "2024-06-19T21:00:00",
          "2024-06-19T22:00:00",
          "2024-06-19T23:00:00",
          "2024-06-20T00:00:00",
          "2024-06-20T01:00:00",
          "2024-06-20T02:00:00",
          "2024-06-20T03:00:00",
          "2024-06-20T04:00:00",
          "2024-06-20T05:00:00",
          "2024-06-20T06:00:00",
          "2024-06-20T07:00:00",
          "2024-06-20T08:00:00",
          "2024-06-20T09:00:00",
          "2024-06-20T10:00:00",
          "2024-06-20T11:00:00",
          "2024-06-20T12:00:00",
          "2024-06-20T13:00:00",
          "2024-06-20T14:00:00",
          "2024-06-20T15:00:00",
          "2024-06-20T16:00:00",
          "2024-06-20T17:00:00",
          "2024-06-20T18:00:00",
          "2024-06-20T19:00:00",
          "2024-06-20T20:00:00",
          "2024-06-20T21:00:00",
          "2024-06-20T22:00:00",
          "2024-06-20T23:00:00",
          "2024-06-21T00:00:00",
          "2024-06-21T01:00:00",
          "2024-06-21T02:00:00",
          "2024-06-21T03:00:00",
          "2024-06-21T04:00:00",
          "2024-06-21T05:00:00",
          "2024-06-21T06:00:00",
          "2024-06-21T07:00:00",
          "2024-06-21T08:00:00",
          "2024-06-21T09:00:00",
          "2024-06-21T10:00:00",
          "2024-06-21T11:00:00",
          "2024-06-21T12:00:00",
          "2024-06-21T13:00:00",
          "2024-06-21T14:00:00",
          "2024-06-21T15:00:00",
          "2024-06-21T16:00:00",
          "2024-06-21T17:00:00",
          "2024-06-21T18:00:00",
          "2024-06-21T19:00:00",
          "2024-06-21T20:00:00",
          "2024-06-21T21:00:00",
          "2024-06-21T22:00:00",
          "2024-06-21T23:00:00",
          "2024-06-22T00:00:00",
          "2024-06-22T01:00:00",
          "2024-06-22T02:00:00",
          "2024-06-22T03:00:00",
          "2024-06-22T04:00:00",
          "2024-06-22T05:00:00",
          "2024-06-22T06:00:00",
          "2024-06-22T07:00:00",
          "2024-06-22T08:00:00",
          "2024-06-22T09:00:00",
          "2024-06-22T10:00:00",
          "2024-06-22T11:00:00",
          "2024-06-22T12:00:00",
          "2024-06-22T13:00:00",
          "2024-06-22T14:00:00",
          "2024-06-22T15:00:00",
          "2024-06-22T16:00:00",
          "2024-06-22T17:00:00",
          "2024-06-22T18:00:00",
          "2024-06-22T19:00:00",
          "2024-06-22T20:00:00",
          "2024-06-22T21:00:00",
          "2024-06-22T22:00:00",
          "2024-06-22T23:00:00",
          "2024-06-23T00:00:00",
          "2024-06-23T01:00:00",
          "2024-06-23T02:00:00",
          "2024-06-23T03:00:00",
          "2024-06-23T04:00:00",
          "2024-06-23T05:00:00",
          "2024-06-23T06:00:00",
          "2024-06-23T07:00:00",
          "2024-06-23T08:00:00",
          "2024-06-23T09:00:00",
          "2024-06-23T10:00:00",
          "2024-06-23T11:00:00",
          "2024-06-23T12:00:00",
          "2024-06-23T13:00:00",
          "2024-06-23T14:00:00",
          "2024-06-23T15:00:00",
          "2024-06-23T16:00:00",
          "2024-06-23T17:00:00",
          "2024-06-23T18:00:00",
          "2024-06-23T19:00:00",
          "2024-06-23T20:00:00",
          "2024-06-23T21:00:00",
          "2024-06-23T22:00:00",
          "2024-06-23T23:00:00",
          "2024-06-24T00:00:00",
          "2024-06-24T01:00:00",
          "2024-06-24T02:00:00",
          "2024-06-24T03:00:00",
          "2024-06-24T04:00:00",
          "2024-06-24T05:00:00",
          "2024-06-24T06:00:00",
          "2024-06-24T07:00:00",
          "2024-06-24T08:00:00",
          "2024-06-24T09:00:00",
          "2024-06-24T10:00:00",
          "2024-06-24T11:00:00",
          "2024-06-24T12:00:00",
          "2024-06-24T13:00:00",
          "2024-06-24T14:00:00",
          "2024-06-24T15:00:00",
          "2024-06-24T16:00:00",
          "2024-06-24T17:00:00",
          "2024-06-24T18:00:00",
          "2024-06-24T19:00:00",
          "2024-06-24T20:00:00",
          "2024-06-24T21:00:00",
          "2024-06-24T22:00:00",
          "2024-06-24T23:00:00"
         ],
         "y": [
          36.8,
          36.8,
          36.4,
          36.2,
          35.6,
          34.9,
          35.6,
          38,
          40.5,
          42.1,
          43.7,
          45.7,
          46.7,
          47,
          47.2,
          46.9,
          46.5,
          45.7,
          42.2,
          38.2,
          34.8,
          33.6,
          33.1,
          32.7,
          32.5,
          32.5,
          32.3,
          32.6,
          32.9,
          32.9,
          34.9,
          37.5,
          39.3,
          40.3,
          41.9,
          43.1,
          43.5,
          43.3,
          43.3,
          43.9,
          44,
          42.9,
          41.3,
          38.6,
          35.6,
          33.2,
          32.6,
          32.4,
          30.9,
          31.3,
          31.4,
          30.5,
          29.9,
          29.8,
          30.8,
          32.5,
          34.5,
          36.6,
          38.4,
          39.9,
          41.2,
          42.2,
          42.9,
          43,
          42.8,
          42,
          40.5,
          38.9,
          36,
          33.2,
          31,
          30.2,
          33.9,
          33.5,
          33.6,
          33.1,
          31.8,
          31,
          31.9,
          32.8,
          33.5,
          34.2,
          35.1,
          36.3,
          38,
          39.5,
          40.2,
          40.6,
          40.6,
          40.4,
          39.5,
          37.1,
          35.2,
          34.8,
          34.3,
          33.3,
          31.6,
          32.2,
          32.3,
          32.1,
          31.7,
          31.6,
          32.3,
          33.5,
          34.8,
          36.2,
          37.4,
          38.6,
          39.3,
          38.8,
          39,
          39.1,
          37.4,
          36.1,
          36,
          36.4,
          36.1,
          35.5,
          35.2,
          34.6,
          35,
          34.5,
          33.8,
          33.4,
          33.1,
          33.1,
          34.4,
          36,
          37.4,
          38.7,
          39.8,
          40.4,
          40.5,
          40.6,
          40.9,
          41.2,
          40.6,
          39.8,
          39.3,
          38.8,
          38.6,
          38.4,
          38,
          37.5,
          34.8,
          35,
          35.1,
          34.9,
          34.6,
          34.5,
          35.2,
          36.6,
          37.9,
          39.2,
          40.5,
          41.1,
          41,
          41,
          40.8,
          40.5,
          40,
          39.4,
          39.2,
          38.8,
          38.6,
          37.3,
          36.1,
          34.9
         ]
        },
        {
         "hoverinfo": "skip",
         "line": {
          "width": 0
         },
         "mode": "lines",
         "type": "scatter",
         "x": [
          "2024-06-18T00:00:00",
          "2024-06-18T01:00:00",
          "2024-06-18T02:00:00",
          "2024-06-18T03:00:00",
          "2024-06-18T04:00:00",
          "2024-06-18T05:00:00",
          "2024-06-18T06:00:00",
          "2024-06-18T07:00:00",
          "2024-06-18T08:00:00",
          "2024-06-18T09:00:00",
          "2024-06-18T10:00:00",
          "2024-06-18T11:00:00",
          "2024-06-18T12:00:00",
          "2024-06-18T13:00:00",
          "2024-06-18T14:00:00",
          "2024-06-18T15:00:00",
          "2024-06-18T16:00:00",
          "2024-06-18T17:00:00",
          "2024-06-18T18:00:00",
          "2024-06-18T19:00:00",
          "2024-06-18T20:00:00",
          "2024-06-18T21:00:00",
          "2024-06-18T22:00:00",
          "2024-06-18T23:00:00",
          "2024-06-19T00:00:00",
          "2024-06-19T01:00:00",
          "2024-06-19T02:00:00",
          "2024-06-19T03:00:00",
          "2024-06-19T04:00:00",
          "2024-06-19T05:00:00",
          "2024-06-19T06:00:00",
          "2024-06-19T07:00:00",
          "2024-06-19T08:00:00",
          "2024-06-19T09:00:00",
          "2024-06-19T10:00:00",
          "2024-06-19T11:00:00",
          "2024-06-19T12:00:00",
          "2024-06-19T13:00:00",
          "2024-06-19T14:00:00",
          "2024-06-19T15:00:00",
          "2024-06-19T16:00:00",
          "2024-06-19T17:00:00",
          "2024-06-19T18:00:00",
          "2024-06-19T19:00:00",
          "2024-06-19T20:00:00",
          "2024-06-19T21:00:00",
          "2024-06-19T22:00:00",
          "2024-06-19T23:00:00",
          "2024-06-20T00:00:00",
          "2024-06-20T01:00:00",
          "2024-06-20T02:00:00",
          "2024-06-20T03:00:00",
          "2024-06-20T04:00:00",
          "2024-06-20T05:00:00",
          "2024-06-20T06:00:00",
          "2024-06-20T07:00:00",
          "2024-06-20T08:00:00",
          "2024-06-20T09:00:00",
          "2024-06-20T10:00:00",
          "2024-06-20T11:00:00",
          "2024-06-20T12:00:00",
          "2024-06-20T13:00:00",
          "2024-06-20T14:00:00",
          "2024-06-20T15:00:00",
          "2024-06-20T16:00:00",
          "2024-06-20T17:00:00",
          "2024-06-20T18:00:00",
          "2024-06-20T19:00:00",
          "2024-06-20T20:00:00",
          "2024-06-20T21:00:00",
          "2024-06-20T22:00:00",
          "2024-06-20T23:00:00",
          "2024-06-21T00:00:00",
          "2024-06-21T01:00:00",
          "2024-06-21T02:00:00",
          "2024-06-21T03:00:00",
          "2024-06-21T04:00:00",
          "2024-06-21T05:00:00",
          "2024-06-21T06:00:00",
          "2024-06-21T07:00:00",
          "2024-06-21T08:00:00",
          "2024-06-21T09:00:00",
          "2024-06-21T10:00:00",
          "2024-06-21T11:00:00",
          "2024-06-21T12:00:00",
          "2024-06-21T13:00:00",
          "2024-06-21T14:00:00",
          "2024-06-21T15:00:00",
          "2024-06-21T16:00:00",
          "2024-06-21T17:00:00",
          "2024-06-21T18:00:00",
          "2024-06-21T19:00:00",
          "2024-06-21T20:00:00",
          "2024-06-21T21:00:00",
          "2024-06-21T22:00:00",
          "2024-06-21T23:00:00",
          "2024-06-22T00:00:00",
          "2024-06-22T01:00:00",
          "2024-06-22T02:00:00",
          "2024-06-22T03:00:00",
          "2024-06-22T04:00:00",
          "2024-06-22T05:00:00",
          "2024-06-22T06:00:00",
          "2024-06-22T07:00:00",
          "2024-06-22T08:00:00",
          "2024-06-22T09:00:00",
          "2024-06-22T10:00:00",
          "2024-06-22T11:00:00",
          "2024-06-22T12:00:00",
          "2024-06-22T13:00:00",
          "2024-06-22T14:00:00",
          "2024-06-22T15:00:00",
          "2024-06-22T16:00:00",
          "2024-06-22T17:00:00",
          "2024-06-22T18:00:00",
          "2024-06-22T19:00:00",
          "2024-06-22T20:00:00",
          "2024-06-22T21:00:00",
          "2024-06-22T22:00:00",
          "2024-06-22T23:00:00",
          "2024-06-23T00:00:00",
          "2024-06-23T01:00:00",
          "2024-06-23T02:00:00",
          "2024-06-23T03:00:00",
          "2024-06-23T04:00:00",
          "2024-06-23T05:00:00",
          "2024-06-23T06:00:00",
          "2024-06-23T07:00:00",
          "2024-06-23T08:00:00",
          "2024-06-23T09:00:00",
          "2024-06-23T10:00:00",
          "2024-06-23T11:00:00",
          "2024-06-23T12:00:00",
          "2024-06-23T13:00:00",
          "2024-06-23T14:00:00",
          "2024-06-23T15:00:00",
          "2024-06-23T16:00:00",
          "2024-06-23T17:00:00",
          "2024-06-23T18:00:00",
          "2024-06-23T19:00:00",
          "2024-06-23T20:00:00",
          "2024-06-23T21:00:00",
          "2024-06-23T22:00:00",
          "2024-06-23T23:00:00",
          "2024-06-24T00:00:00",
          "2024-06-24T01:00:00",
          "2024-06-24T02:00:00",
          "2024-06-24T03:00:00",
          "2024-06-24T04:00:00",
          "2024-06-24T05:00:00",
          "2024-06-24T06:00:00",
          "2024-06-24T07:00:00",
          "2024-06-24T08:00:00",
          "2024-06-24T09:00:00",
          "2024-06-24T10:00:00",
          "2024-06-24T11:00:00",
          "2024-06-24T12:00:00",
          "2024-06-24T13:00:00",
          "2024-06-24T14:00:00",
          "2024-06-24T15:00:00",
          "2024-06-24T16:00:00",
          "2024-06-24T17:00:00",
          "2024-06-24T18:00:00",
          "2024-06-24T19:00:00",
          "2024-06-24T20:00:00",
          "2024-06-24T21:00:00",
          "2024-06-24T22:00:00",
          "2024-06-24T23:00:00",
          "2024-06-25T00:00:00",
          "2024-06-25T01:00:00",
          "2024-06-25T02:00:00",
          "2024-06-25T03:00:00",
          "2024-06-25T04:00:00",
          "2024-06-25T05:00:00",
          "2024-06-25T06:00:00",
          "2024-06-25T07:00:00",
          "2024-06-25T08:00:00",
          "2024-06-25T09:00:00",
          "2024-06-25T10:00:00",
          "2024-06-25T11:00:00",
          "2024-06-25T12:00:00",
          "2024-06-25T13:00:00",
          "2024-06-25T14:00:00",
          "2024-06-25T15:00:00",
          "2024-06-25T16:00:00",
          "2024-06-25T17:00:00",
          "2024-06-25T18:00:00",
          "2024-06-25T19:00:00",
          "2024-06-25T20:00:00",
          "2024-06-25T21:00:00",
          "2024-06-25T22:00:00",
          "2024-06-25T23:00:00",
          "2024-06-26T00:00:00",
          "2024-06-26T01:00:00",
          "2024-06-26T02:00:00",
          "2024-06-26T03:00:00",
          "2024-06-26T04:00:00",
          "2024-06-26T05:00:00",
          "2024-06-26T06:00:00",
          "2024-06-26T07:00:00",
          "2024-06-26T08:00:00",
          "2024-06-26T09:00:00",
          "2024-06-26T10:00:00",
          "2024-06-26T11:00:00",
          "2024-06-26T12:00:00",
          "2024-06-26T13:00:00",
          "2024-06-26T14:00:00",
          "2024-06-26T15:00:00",
          "2024-06-26T16:00:00",
          "2024-06-26T17:00:00",
          "2024-06-26T18:00:00",
          "2024-06-26T19:00:00",
          "2024-06-26T20:00:00",
          "2024-06-26T21:00:00",
          "2024-06-26T22:00:00",
          "2024-06-26T23:00:00",
          "2024-06-27T00:00:00",
          "2024-06-27T01:00:00",
          "2024-06-27T02:00:00",
          "2024-06-27T03:00:00",
          "2024-06-27T04:00:00",
          "2024-06-27T05:00:00",
          "2024-06-27T06:00:00",
          "2024-06-27T07:00:00",
          "2024-06-27T08:00:00",
          "2024-06-27T09:00:00",
          "2024-06-27T10:00:00",
          "2024-06-27T11:00:00",
          "2024-06-27T12:00:00",
          "2024-06-27T13:00:00",
          "2024-06-27T14:00:00",
          "2024-06-27T15:00:00",
          "2024-06-27T16:00:00",
          "2024-06-27T17:00:00",
          "2024-06-27T18:00:00",
          "2024-06-27T19:00:00",
          "2024-06-27T20:00:00",
          "2024-06-27T21:00:00",
          "2024-06-27T22:00:00",
          "2024-06-27T23:00:00",
          "2024-06-28T00:00:00",
          "2024-06-28T01:00:00",
          "2024-06-28T02:00:00",
          "2024-06-28T03:00:00",
          "2024-06-28T04:00:00",
          "2024-06-28T05:00:00",
          "2024-06-28T06:00:00",
          "2024-06-28T07:00:00",
          "2024-06-28T08:00:00",
          "2024-06-28T09:00:00",
          "2024-06-28T10:00:00",
          "2024-06-28T11:00:00",
          "2024-06-28T12:00:00",
          "2024-06-28T13:00:00",
          "2024-06-28T14:00:00",
          "2024-06-28T15:00:00",
          "2024-06-28T16:00:00",
          "2024-06-28T17:00:00",
          "2024-06-28T18:00:00",
          "2024-06-28T19:00:00",
          "2024-06-28T20:00:00",
          "2024-06-28T21:00:00",
          "2024-06-28T22:00:00",
          "2024-06-28T23:00:00",
          "2024-06-29T00:00:00",
          "2024-06-29T01:00:00",
          "2024-06-29T02:00:00",
          "2024-06-29T03:00:00",
          "2024-06-29T04:00:00",
          "2024-06-29T05:00:00",
          "2024-06-29T06:00:00",
          "2024-06-29T07:00:00",
          "2024-06-29T08:00:00",
          "2024-06-29T09:00:00",
          "2024-06-29T10:00:00",
          "2024-06-29T11:00:00",
          "2024-06-29T12:00:00",
          "2024-06-29T13:00:00",
          "2024-06-29T14:00:00",
          "2024-06-29T15:00:00",
          "2024-06-29T16:00:00",
          "2024-06-29T17:00:00",
          "2024-06-29T18:00:00",
          "2024-06-29T19:00:00",
          "2024-06-29T20:00:00",
          "2024-06-29T21:00:00",
          "2024-06-29T22:00:00",
          "2024-06-29T23:00:00"
         ],
         "y": [
          34.940206258505356,
          35.003745211748544,
          34.82868141506315,
          34.14638186183109,
          33.85409105966387,
          33.73339388031335,
          34.37185195794021,
          35.92016135800264,
          37.62279576800508,
          39.15727286762875,
          40.26382798280102,
          41.22586753235525,
          41.728040032857095,
          42.29487333264357,
          42.41885369437153,
          42.29934317956251,
          41.82313149543891,
          41.01304768059985,
          39.67291323108519,
          38.17320614444908,
          36.57223826749397,
          34.96054494550241,
          33.746292853666176,
          33.4112673380693,
          33.03376968121372,
          32.80237650124762,
          32.65083852178977,
          32.22558327887628,
          31.780992057617173,
          31.793164096288137,
          32.5311137437014,
          33.899374829199466,
          35.45630125983719,
          37.09197339440211,
          38.338309602055574,
          39.14357262474879,
          39.81267783651258,
          40.26856691908428,
          40.3513037008124,
          40.367522118165034,
          39.861830440217354,
          39.07291669378125,
          37.67432665117487,
          36.12395462035138,
          34.477045297993136,
          32.803718220579,
          31.943072308347006,
          31.20018099868768,
          31.192985319645295,
          30.963799820134255,
          30.883416420090803,
          30.342083354741366,
          29.92329854508048,
          29.93116391282062,
          30.652219776013563,
          31.97829658964522,
          33.69453360492066,
          35.42232001787194,
          36.663291697100796,
          37.4889911387026,
          38.10920434283036,
          38.72269022782091,
          38.88450165578621,
          39.04829997038253,
          38.42516427963248,
          37.7169378174535,
          36.404916207919776,
          34.97780206112505,
          33.40275997470386,
          31.78415049921486,
          30.70497483925574,
          30.08573617909062,
          30.240683593383295,
          29.955918802636262,
          29.837368205384706,
          29.427308823949314,
          29.05028177240991,
          29.19493558161524,
          29.97478524418839,
          31.17940549939599,
          32.91425776422109,
          34.67209602011154,
          35.813611379199244,
          36.87454076669532,
          37.48313105715129,
          38.0992142393739,
          38.452067105486044,
          38.57973933219006,
          38.1307706073019,
          37.274995683360316,
          35.960615105002546,
          34.66662938049037,
          33.06725881725355,
          31.620947808773636,
          30.61021276175452,
          30.160870548756066,
          29.98348952721604,
          30.056141194896565,
          29.857554086840523,
          29.645703363300008,
          29.19942215501077,
          29.313951519829747,
          30.14389917966014,
          31.64480664708413,
          33.465692569004176,
          35.20908990008487,
          36.53502812927715,
          37.42782586974068,
          38.22234980120989,
          38.739707111305876,
          39.03539869992087,
          39.14559286295647,
          38.6251558518156,
          38.03979090106506,
          36.789531589681786,
          35.48166408330669,
          33.89597727804194,
          32.35032280933867,
          31.343621727337677,
          30.92482248797983,
          30.883774400189388,
          31.132678730181542,
          30.770384597288608,
          30.418557964470196,
          29.97629584830553,
          30.184759018735654,
          31.087964474706723,
          32.40248624381052,
          34.2296414647648,
          36.14894866165229,
          37.42532358429312,
          38.361869255642794,
          39.16187407963202,
          39.759714900813194,
          39.98273624300643,
          40.13152472471919,
          39.775454452602055,
          38.884020854908975,
          37.721359915756295,
          36.27239467191285,
          34.66096583806804,
          33.391567861186324,
          32.36822583165976,
          31.88421705104898,
          31.74182455050348,
          31.905538525976453,
          31.807807980411756,
          31.256692889111303,
          30.994010653584308,
          31.164540034524993,
          31.909568653527522,
          33.43720920875837,
          35.35578878071057,
          36.938144820852216,
          38.21571587978467,
          39.13350815556501,
          40.07167166167753,
          40.666115783474105,
          40.91208337840992,
          41.117173467991506,
          40.67379991184175,
          39.778569804093905,
          38.530545602672056,
          37.30277030288344,
          35.547542830179424,
          34.267222460213475,
          33.32208354307738,
          32.8576925564606,
          32.59500711813607,
          32.76350316595484,
          32.62547212037027,
          32.221924820230925,
          31.920835725630827,
          32.05186758823666,
          32.925561638176454,
          34.38415977273238,
          36.13311585965531,
          37.911459968270286,
          39.21605064941256,
          40.36949974866971,
          40.87866682314129,
          41.477048104232836,
          41.735952919258516,
          41.83397331368696,
          41.48485158485357,
          40.79778140720518,
          39.60384880303308,
          38.19887977222368,
          36.486563890258836,
          35.20799960431089,
          34.28614218023484,
          33.80398083533402,
          33.782318573195134,
          33.706177835267,
          33.440065325872034,
          33.26193240992712,
          32.65114265138397,
          32.897148812912675,
          33.80721426209103,
          35.30352906013323,
          37.167371406732826,
          38.829282512928835,
          40.06513122054663,
          41.17784376280402,
          41.93168039344986,
          42.447407559797625,
          42.66457192610437,
          42.85994093257956,
          42.43228380214424,
          41.52818733081082,
          40.38146893786404,
          38.987535222150484,
          37.45493552221905,
          35.96804876634419,
          35.17442143864589,
          34.616075171690284,
          34.36798948272851,
          34.389506429924744,
          34.38272905349447,
          34.00111281483407,
          33.69570781613721,
          33.649938347715924,
          34.634390452727175,
          36.18516816017556,
          37.86023960613576,
          39.31552279472198,
          40.780512590016315,
          41.97490920935813,
          42.63219738675311,
          43.284745401023656,
          43.51619927944324,
          43.456752209935544,
          43.05702742965651,
          42.3543566333174,
          41.19901652496082,
          39.86662407148826,
          38.16827472045707,
          36.8551035134593,
          35.58952809701131,
          35.48701527473197,
          35.2123398452496,
          35.03916596183485,
          34.96611102191666,
          34.58046122746142,
          34.448488878932885,
          34.50295216561938,
          35.24744011074385,
          36.6938919557919,
          38.48153530855511,
          40.39802340538645,
          41.46970248483997,
          42.41690552160443,
          43.14007833156094,
          43.61638377833777,
          43.998669791658735,
          44.317263613286194,
          43.978141496995796,
          42.94568119479907,
          41.569439701154344,
          40.16953913075131,
          38.673664482070194,
          37.34762107575106,
          36.45009532506767,
          35.86584643939933,
          35.76794055795102,
          35.65572455562933,
          35.427779892849244,
          34.98502864431341,
          34.94474970369316,
          35.0464173228585,
          35.86099082478203,
          37.2034660985417,
          39.064590432688604,
          40.699490743291044,
          42.03534578843728,
          43.028059513777016,
          43.60119011616415,
          44.116799099590565,
          44.54869770175657,
          44.37540427958596,
          44.32505906341836,
          43.28478666516924,
          42.19137036497141,
          40.72162323010012,
          39.09114812524693,
          37.737822471059985,
          36.97023972691412,
          36.246018920417946
         ]
        },
        {
         "fill": "tonexty",
         "fillcolor": "rgba(0, 114, 178, 0.2)",
         "line": {
          "color": "#0072B2",
          "width": 2
         },
         "mode": "lines",
         "name": "Predicted",
         "type": "scatter",
         "x": [
          "2024-06-18T00:00:00",
          "2024-06-18T01:00:00",
          "2024-06-18T02:00:00",
          "2024-06-18T03:00:00",
          "2024-06-18T04:00:00",
          "2024-06-18T05:00:00",
          "2024-06-18T06:00:00",
          "2024-06-18T07:00:00",
          "2024-06-18T08:00:00",
          "2024-06-18T09:00:00",
          "2024-06-18T10:00:00",
          "2024-06-18T11:00:00",
          "2024-06-18T12:00:00",
          "2024-06-18T13:00:00",
          "2024-06-18T14:00:00",
          "2024-06-18T15:00:00",
          "2024-06-18T16:00:00",
          "2024-06-18T17:00:00",
          "2024-06-18T18:00:00",
          "2024-06-18T19:00:00",
          "2024-06-18T20:00:00",
          "2024-06-18T21:00:00",
          "2024-06-18T22:00:00",
          "2024-06-18T23:00:00",
          "2024-06-19T00:00:00",
          "2024-06-19T01:00:00",
          "2024-06-19T02:00:00",
          "2024-06-19T03:00:00",
          "2024-06-19T04:00:00",
          "2024-06-19T05:00:00",
          "2024-06-19T06:00:00",
          "2024-06-19T07:00:00",
          "2024-06-19T08:00:00",
          "2024-06-19T09:00:00",
          "2024-06-19T10:00:00",
          "2024-06-19T11:00:00",
          "2024-06-19T12:00:00",
          "2024-06-19T13:00:00",
          "2024-06-19T14:00:00",
          "2024-06-19T15:00:00",
          "2024-06-19T16:00:00",
          "2024-06-19T17:00:00",
          "2024-06-19T18:00:00",
          "2024-06-19T19:00:00",
          "2024-06-19T20:00:00",
          "2024-06-19T21:00:00",
          "2024-06-19T22:00:00",
          "2024-06-19T23:00:00",
          "2024-06-20T00:00:00",
          "2024-06-20T01:00:00",
          "2024-06-20T02:00:00",
          "2024-06-20T03:00:00",
          "2024-06-20T04:00:00",
          "2024-06-20T05:00:00",
          "2024-06-20T06:00:00",
          "2024-06-20T07:00:00",
          "2024-06-20T08:00:00",
          "2024-06-20T09:00:00",
          "2024-06-20T10:00:00",
          "2024-06-20T11:00:00",
          "2024-06-20T12:00:00",
          "2024-06-20T13:00:00",
          "2024-06-20T14:00:00",
          "2024-06-20T15:00:00",
          "2024-06-20T16:00:00",
          "2024-06-20T17:00:00",
          "2024-06-20T18:00:00",
          "2024-06-20T19:00:00",
          "2024-06-20T20:00:00",
          "2024-06-20T21:00:00",
          "2024-06-20T22:00:00",
          "2024-06-20T23:00:00",
          "2024-06-21T00:00:00",
          "2024-06-21T01:00:00",
          "2024-06-21T02:00:00",
          "2024-06-21T03:00:00",
          "2024-06-21T04:00:00",
          "2024-06-21T05:00:00",
          "2024-06-21T06:00:00",
          "2024-06-21T07:00:00",
          "2024-06-21T08:00:00",
          "2024-06-21T09:00:00",
          "2024-06-21T10:00:00",
          "2024-06-21T11:00:00",
          "2024-06-21T12:00:00",
          "2024-06-21T13:00:00",
          "2024-06-21T14:00:00",
          "2024-06-21T15:00:00",
          "2024-06-21T16:00:00",
          "2024-06-21T17:00:00",
          "2024-06-21T18:00:00",
          "2024-06-21T19:00:00",
          "2024-06-21T20:00:00",
          "2024-06-21T21:00:00",
          "2024-06-21T22:00:00",
          "2024-06-21T23:00:00",
          "2024-06-22T00:00:00",
          "2024-06-22T01:00:00",
          "2024-06-22T02:00:00",
          "2024-06-22T03:00:00",
          "2024-06-22T04:00:00",
          "2024-06-22T05:00:00",
          "2024-06-22T06:00:00",
          "2024-06-22T07:00:00",
          "2024-06-22T08:00:00",
          "2024-06-22T09:00:00",
          "2024-06-22T10:00:00",
          "2024-06-22T11:00:00",
          "2024-06-22T12:00:00",
          "2024-06-22T13:00:00",
          "2024-06-22T14:00:00",
          "2024-06-22T15:00:00",
          "2024-06-22T16:00:00",
          "2024-06-22T17:00:00",
          "2024-06-22T18:00:00",
          "2024-06-22T19:00:00",
          "2024-06-22T20:00:00",
          "2024-06-22T21:00:00",
          "2024-06-22T22:00:00",
          "2024-06-22T23:00:00",
          "2024-06-23T00:00:00",
          "2024-06-23T01:00:00",
          "2024-06-23T02:00:00",
          "2024-06-23T03:00:00",
          "2024-06-23T04:00:00",
          "2024-06-23T05:00:00",
          "2024-06-23T06:00:00",
          "2024-06-23T07:00:00",
          "2024-06-23T08:00:00",
          "2024-06-23T09:00:00",
          "2024-06-23T10:00:00",
          "2024-06-23T11:00:00",
          "2024-06-23T12:00:00",
          "2024-06-23T13:00:00",
          "2024-06-23T14:00:00",
          "2024-06-23T15:00:00",
          "2024-06-23T16:00:00",
          "2024-06-23T17:00:00",
          "2024-06-23T18:00:00",
          "2024-06-23T19:00:00",
          "2024-06-23T20:00:00",
          "2024-06-23T21:00:00",
          "2024-06-23T22:00:00",
          "2024-06-23T23:00:00",
          "2024-06-24T00:00:00",
          "2024-06-24T01:00:00",
          "2024-06-24T02:00:00",
          "2024-06-24T03:00:00",
          "2024-06-24T04:00:00",
          "2024-06-24T05:00:00",
          "2024-06-24T06:00:00",
          "2024-06-24T07:00:00",
          "2024-06-24T08:00:00",
          "2024-06-24T09:00:00",
          "2024-06-24T10:00:00",
          "2024-06-24T11:00:00",
          "2024-06-24T12:00:00",
          "2024-06-24T13:00:00",
          "2024-06-24T14:00:00",
          "2024-06-24T15:00:00",
          "2024-06-24T16:00:00",
          "2024-06-24T17:00:00",
          "2024-06-24T18:00:00",
          "2024-06-24T19:00:00",
          "2024-06-24T20:00:00",
          "2024-06-24T21:00:00",
          "2024-06-24T22:00:00",
          "2024-06-24T23:00:00",
          "2024-06-25T00:00:00",
          "2024-06-25T01:00:00",
          "2024-06-25T02:00:00",
          "2024-06-25T03:00:00",
          "2024-06-25T04:00:00",
          "2024-06-25T05:00:00",
          "2024-06-25T06:00:00",
          "2024-06-25T07:00:00",
          "2024-06-25T08:00:00",
          "2024-06-25T09:00:00",
          "2024-06-25T10:00:00",
          "2024-06-25T11:00:00",
          "2024-06-25T12:00:00",
          "2024-06-25T13:00:00",
          "2024-06-25T14:00:00",
          "2024-06-25T15:00:00",
          "2024-06-25T16:00:00",
          "2024-06-25T17:00:00",
          "2024-06-25T18:00:00",
          "2024-06-25T19:00:00",
          "2024-06-25T20:00:00",
          "2024-06-25T21:00:00",
          "2024-06-25T22:00:00",
          "2024-06-25T23:00:00",
          "2024-06-26T00:00:00",
          "2024-06-26T01:00:00",
          "2024-06-26T02:00:00",
          "2024-06-26T03:00:00",
          "2024-06-26T04:00:00",
          "2024-06-26T05:00:00",
          "2024-06-26T06:00:00",
          "2024-06-26T07:00:00",
          "2024-06-26T08:00:00",
          "2024-06-26T09:00:00",
          "2024-06-26T10:00:00",
          "2024-06-26T11:00:00",
          "2024-06-26T12:00:00",
          "2024-06-26T13:00:00",
          "2024-06-26T14:00:00",
          "2024-06-26T15:00:00",
          "2024-06-26T16:00:00",
          "2024-06-26T17:00:00",
          "2024-06-26T18:00:00",
          "2024-06-26T19:00:00",
          "2024-06-26T20:00:00",
          "2024-06-26T21:00:00",
          "2024-06-26T22:00:00",
          "2024-06-26T23:00:00",
          "2024-06-27T00:00:00",
          "2024-06-27T01:00:00",
          "2024-06-27T02:00:00",
          "2024-06-27T03:00:00",
          "2024-06-27T04:00:00",
          "2024-06-27T05:00:00",
          "2024-06-27T06:00:00",
          "2024-06-27T07:00:00",
          "2024-06-27T08:00:00",
          "2024-06-27T09:00:00",
          "2024-06-27T10:00:00",
          "2024-06-27T11:00:00",
          "2024-06-27T12:00:00",
          "2024-06-27T13:00:00",
          "2024-06-27T14:00:00",
          "2024-06-27T15:00:00",
          "2024-06-27T16:00:00",
          "2024-06-27T17:00:00",
          "2024-06-27T18:00:00",
          "2024-06-27T19:00:00",
          "2024-06-27T20:00:00",
          "2024-06-27T21:00:00",
          "2024-06-27T22:00:00",
          "2024-06-27T23:00:00",
          "2024-06-28T00:00:00",
          "2024-06-28T01:00:00",
          "2024-06-28T02:00:00",
          "2024-06-28T03:00:00",
          "2024-06-28T04:00:00",
          "2024-06-28T05:00:00",
          "2024-06-28T06:00:00",
          "2024-06-28T07:00:00",
          "2024-06-28T08:00:00",
          "2024-06-28T09:00:00",
          "2024-06-28T10:00:00",
          "2024-06-28T11:00:00",
          "2024-06-28T12:00:00",
          "2024-06-28T13:00:00",
          "2024-06-28T14:00:00",
          "2024-06-28T15:00:00",
          "2024-06-28T16:00:00",
          "2024-06-28T17:00:00",
          "2024-06-28T18:00:00",
          "2024-06-28T19:00:00",
          "2024-06-28T20:00:00",
          "2024-06-28T21:00:00",
          "2024-06-28T22:00:00",
          "2024-06-28T23:00:00",
          "2024-06-29T00:00:00",
          "2024-06-29T01:00:00",
          "2024-06-29T02:00:00",
          "2024-06-29T03:00:00",
          "2024-06-29T04:00:00",
          "2024-06-29T05:00:00",
          "2024-06-29T06:00:00",
          "2024-06-29T07:00:00",
          "2024-06-29T08:00:00",
          "2024-06-29T09:00:00",
          "2024-06-29T10:00:00",
          "2024-06-29T11:00:00",
          "2024-06-29T12:00:00",
          "2024-06-29T13:00:00",
          "2024-06-29T14:00:00",
          "2024-06-29T15:00:00",
          "2024-06-29T16:00:00",
          "2024-06-29T17:00:00",
          "2024-06-29T18:00:00",
          "2024-06-29T19:00:00",
          "2024-06-29T20:00:00",
          "2024-06-29T21:00:00",
          "2024-06-29T22:00:00",
          "2024-06-29T23:00:00"
         ],
         "y": [
          37.09807050400008,
          36.97404594522458,
          36.68534570699925,
          36.2063445473503,
          35.79265230638772,
          35.824528368591636,
          36.546711980093335,
          37.896546900111765,
          39.544035416790535,
          41.10054120768489,
          42.32913369445653,
          43.208721249410935,
          43.837536204876926,
          44.285759942475075,
          44.5207885735915,
          44.44010008111969,
          43.95247808088698,
          43.03232721545409,
          41.72785733124512,
          40.155730788326956,
          38.50475859229636,
          37.021981988731426,
          35.939001016268904,
          35.35104837079847,
          35.13668496237713,
          35.012660458035114,
          34.7239602742282,
          34.24495916903589,
          33.83126705321663,
          33.863143240572285,
          34.58532697950915,
          35.93516202685808,
          37.58265067102761,
          39.13915683973372,
          40.36774970430143,
          41.247337637026355,
          41.87615297828541,
          42.32437710168089,
          42.55946642578025,
          42.478838626258415,
          41.991277319028484,
          41.07118715579596,
          39.766777973787434,
          38.194712133074304,
          36.54380896688963,
          35.061101393125305,
          33.978189376552166,
          33.39030568700593,
          33.17601123446975,
          33.067866385892536,
          32.79504585786797,
          32.33192440844809,
          31.9341118776526,
          31.981867650048486,
          32.744896891131134,
          34.13557744073343,
          35.823911586974226,
          37.42126300748783,
          38.69070112386789,
          39.61113430846989,
          40.289297571647076,
          40.78686961702708,
          41.07124655594191,
          41.03990637120954,
          40.601632678791816,
          39.7309849810758,
          38.47601826462624,
          36.953394889447964,
          35.351925861214205,
          33.91865242540894,
          32.885206784964424,
          32.34678947151552,
          32.18196139512682,
          32.10747222277009,
          31.868307370979505,
          31.44464047108242,
          31.086282489819848,
          31.173492811758404,
          31.951010685246608,
          33.35617986727742,
          35.05900264592154,
          36.69333711655356,
          37.999758283048706,
          38.95717451773076,
          39.66381816089072,
          40.189870586228324,
          40.52369408854281,
          40.54180046724528,
          40.152973338236826,
          39.33161735322157,
          38.1259423494415,
          36.66055416429206,
          35.11632032598669,
          33.74028208028304,
          32.76403939167601,
          32.28282503005657,
          32.17519990550089,
          32.160662392569726,
          31.98144920016768,
          31.61193508637302,
          31.30772989123915,
          31.449092999292635,
          32.28448499734049,
          33.74752830390493,
          35.50822520712993,
          37.17793938457976,
          38.5197402578894,
          39.518125216395084,
          40.26573758341138,
          40.83275873255613,
          41.18658477523143,
          41.22469369429077,
          40.85586910563393,
          40.05543357094583,
          38.87067901751051,
          37.418267805365424,
          35.88701094010592,
          34.523949667302006,
          33.560683980707076,
          33.092446621105864,
          32.997798498538984,
          32.993489280060615,
          32.824504382124154,
          32.46521856627877,
          32.17124166906402,
          32.3228330750773,
          33.164732032576985,
          34.63428229862426,
          36.40148616142452,
          38.07770729683435,
          39.42601512818558,
          40.42531802776256,
          41.17384833579723,
          41.74178742594251,
          42.09653140933227,
          42.135558269051025,
          41.76765162110638,
          40.967216117109714,
          39.7824615943659,
          38.3300504129169,
          36.79879357838816,
          35.43573233626968,
          34.47246665136048,
          34.004229293471425,
          33.90958117259443,
          33.90527195579696,
          33.736287059537396,
          33.377001241910385,
          33.08302434286604,
          33.2346157470662,
          34.0765147028004,
          35.54606496705412,
          37.31326882794655,
          38.989489963121045,
          40.33779779414451,
          41.33710069332999,
          42.085631001042266,
          42.65357009088645,
          43.008314074264256,
          43.047340933997475,
          42.67943428606977,
          41.8789987820337,
          40.69424425935895,
          39.24183307791723,
          37.710576243295314,
          36.34751500119495,
          35.384249316328884,
          34.916011958413016,
          34.82136383753948,
          34.81705462073651,
          34.648069724481786,
          34.28878390683507,
          33.99480700782224,
          34.14639841201019,
          34.9882973677619,
          36.4578476320274,
          38.225051492920755,
          39.90127262807796,
          41.24958045909832,
          42.24888335827509,
          42.99741366598466,
          43.565352755830375,
          43.92009673919536,
          43.95912359894053,
          43.59121695097841,
          42.790781447013536,
          41.60602692427162,
          40.15361574282318,
          38.622358908294125,
          37.25929766618217,
          36.29603198125906,
          35.82779462336296,
          35.733146502479784,
          35.72883728567921,
          35.559852389411844,
          35.20056657179069,
          34.906589672767836,
          35.05818107696294,
          35.9000800327234,
          37.36963029690177,
          39.13683415789497,
          40.81305529304364,
          42.161363123993226,
          43.1606660232202,
          43.90919633095377,
          44.4771354207743,
          44.83187940414081,
          44.87090626388358,
          44.502999615913794,
          43.702564111928766,
          42.51780958918429,
          41.06539840775817,
          39.53414157320128,
          38.171080331098686,
          37.20781464618923,
          36.73957728830456,
          36.644929167398104,
          36.64061995061876,
          36.47163505436344,
          36.112349236715374,
          35.818372337697305,
          35.969963741884605,
          36.81186269761709,
          38.281412961845994,
          40.048616822765716,
          41.72483795792404,
          43.07314578894704,
          44.07244868819435,
          44.82097899586856,
          45.388918085696126,
          45.74366206908625,
          45.782688928830034,
          45.41478228087718,
          44.61434677685275,
          43.4295922541113,
          41.97718107275849,
          40.44592423810845,
          39.0828629960152,
          38.119597311119406,
          37.651359953217096,
          37.556711832343154,
          37.55240261554956,
          37.38341771929348,
          37.02413190164007,
          36.73015500262677,
          36.8817464068286,
          37.72364536256424,
          39.19319562681927,
          40.96039948773993,
          42.63662062288971,
          43.98492845390086,
          44.984231353101265,
          45.732761660810944,
          46.30070075064881,
          46.65544473401823,
          46.69447159377309,
          46.32656494581255,
          45.52612944183259,
          44.341374919104354,
          42.88896373766443,
          41.35770690310726,
          39.994645661002416,
          39.03137997608781,
          38.56314261815868,
          38.46849449728346,
          38.46418528049226,
          38.29520038423788,
          37.935914566564755,
          37.641937667572364,
          37.79352907177259,
          38.63542802752574,
          40.104978291792534,
          41.87218215271414,
          43.548403287846625,
          44.89671111885467,
          45.896014018046365,
          46.64454432575332,
          47.21248341559274,
          47.56722739894933,
          47.60625425871614,
          47.23834761072119,
          46.43791210675657,
          45.25315758401702,
          43.80074640257038,
          42.269489568014414,
          40.90642832592768,
          39.943162641017985,
          39.47492528310863
         ]
        },
        {
         "fill": "tonexty",
         "fillcolor": "rgba(0, 114, 178, 0.2)",
         "hoverinfo": "skip",
         "line": {
          "width": 0
         },
         "mode": "lines",
         "type": "scatter",
         "x": [
          "2024-06-18T00:00:00",
          "2024-06-18T01:00:00",
          "2024-06-18T02:00:00",
          "2024-06-18T03:00:00",
          "2024-06-18T04:00:00",
          "2024-06-18T05:00:00",
          "2024-06-18T06:00:00",
          "2024-06-18T07:00:00",
          "2024-06-18T08:00:00",
          "2024-06-18T09:00:00",
          "2024-06-18T10:00:00",
          "2024-06-18T11:00:00",
          "2024-06-18T12:00:00",
          "2024-06-18T13:00:00",
          "2024-06-18T14:00:00",
          "2024-06-18T15:00:00",
          "2024-06-18T16:00:00",
          "2024-06-18T17:00:00",
          "2024-06-18T18:00:00",
          "2024-06-18T19:00:00",
          "2024-06-18T20:00:00",
          "2024-06-18T21:00:00",
          "2024-06-18T22:00:00",
          "2024-06-18T23:00:00",
          "2024-06-19T00:00:00",
          "2024-06-19T01:00:00",
          "2024-06-19T02:00:00",
          "2024-06-19T03:00:00",
          "2024-06-19T04:00:00",
          "2024-06-19T05:00:00",
          "2024-06-19T06:00:00",
          "2024-06-19T07:00:00",
          "2024-06-19T08:00:00",
          "2024-06-19T09:00:00",
          "2024-06-19T10:00:00",
          "2024-06-19T11:00:00",
          "2024-06-19T12:00:00",
          "2024-06-19T13:00:00",
          "2024-06-19T14:00:00",
          "2024-06-19T15:00:00",
          "2024-06-19T16:00:00",
          "2024-06-19T17:00:00",
          "2024-06-19T18:00:00",
          "2024-06-19T19:00:00",
          "2024-06-19T20:00:00",
          "2024-06-19T21:00:00",
          "2024-06-19T22:00:00",
          "2024-06-19T23:00:00",
          "2024-06-20T00:00:00",
          "2024-06-20T01:00:00",
          "2024-06-20T02:00:00",
          "2024-06-20T03:00:00",
          "2024-06-20T04:00:00",
          "2024-06-20T05:00:00",
          "2024-06-20T06:00:00",
          "2024-06-20T07:00:00",
          "2024-06-20T08:00:00",
          "2024-06-20T09:00:00",
          "2024-06-20T10:00:00",
          "2024-06-20T11:00:00",
          "2024-06-20T12:00:00",
          "2024-06-20T13:00:00",
          "2024-06-20T14:00:00",
          "2024-06-20T15:00:00",
          "2024-06-20T16:00:00",
          "2024-06-20T17:00:00",
          "2024-06-20T18:00:00",
          "2024-06-20T19:00:00",
          "2024-06-20T20:00:00",
          "2024-06-20T21:00:00",
          "2024-06-20T22:00:00",
          "2024-06-20T23:00:00",
          "2024-06-21T00:00:00",
          "2024-06-21T01:00:00",
          "2024-06-21T02:00:00",
          "2024-06-21T03:00:00",
          "2024-06-21T04:00:00",
          "2024-06-21T05:00:00",
          "2024-06-21T06:00:00",
          "2024-06-21T07:00:00",
          "2024-06-21T08:00:00",
          "2024-06-21T09:00:00",
          "2024-06-21T10:00:00",
          "2024-06-21T11:00:00",
          "2024-06-21T12:00:00",
          "2024-06-21T13:00:00",
          "2024-06-21T14:00:00",
          "2024-06-21T15:00:00",
          "2024-06-21T16:00:00",
          "2024-06-21T17:00:00",
          "2024-06-21T18:00:00",
          "2024-06-21T19:00:00",
          "2024-06-21T20:00:00",
          "2024-06-21T21:00:00",
          "2024-06-21T22:00:00",
          "2024-06-21T23:00:00",
          "2024-06-22T00:00:00",
          "2024-06-22T01:00:00",
          "2024-06-22T02:00:00",
          "2024-06-22T03:00:00",
          "2024-06-22T04:00:00",
          "2024-06-22T05:00:00",
          "2024-06-22T06:00:00",
          "2024-06-22T07:00:00",
          "2024-06-22T08:00:00",
          "2024-06-22T09:00:00",
          "2024-06-22T10:00:00",
          "2024-06-22T11:00:00",
          "2024-06-22T12:00:00",
          "2024-06-22T13:00:00",
          "2024-06-22T14:00:00",
          "2024-06-22T15:00:00",
          "2024-06-22T16:00:00",
          "2024-06-22T17:00:00",
          "2024-06-22T18:00:00",
          "2024-06-22T19:00:00",
          "2024-06-22T20:00:00",
          "2024-06-22T21:00:00",
          "2024-06-22T22:00:00",
          "2024-06-22T23:00:00",
          "2024-06-23T00:00:00",
          "2024-06-23T01:00:00",
          "2024-06-23T02:00:00",
          "2024-06-23T03:00:00",
          "2024-06-23T04:00:00",
          "2024-06-23T05:00:00",
          "2024-06-23T06:00:00",
          "2024-06-23T07:00:00",
          "2024-06-23T08:00:00",
          "2024-06-23T09:00:00",
          "2024-06-23T10:00:00",
          "2024-06-23T11:00:00",
          "2024-06-23T12:00:00",
          "2024-06-23T13:00:00",
          "2024-06-23T14:00:00",
          "2024-06-23T15:00:00",
          "2024-06-23T16:00:00",
          "2024-06-23T17:00:00",
          "2024-06-23T18:00:00",
          "2024-06-23T19:00:00",
          "2024-06-23T20:00:00",
          "2024-06-23T21:00:00",
          "2024-06-23T22:00:00",
          "2024-06-23T23:00:00",
          "2024-06-24T00:00:00",
          "2024-06-24T01:00:00",
          "2024-06-24T02:00:00",
          "2024-06-24T03:00:00",
          "2024-06-24T04:00:00",
          "2024-06-24T05:00:00",
          "2024-06-24T06:00:00",
          "2024-06-24T07:00:00",
          "2024-06-24T08:00:00",
          "2024-06-24T09:00:00",
          "2024-06-24T10:00:00",
          "2024-06-24T11:00:00",
          "2024-06-24T12:00:00",
          "2024-06-24T13:00:00",
          "2024-06-24T14:00:00",
          "2024-06-24T15:00:00",
          "2024-06-24T16:00:00",
          "2024-06-24T17:00:00",
          "2024-06-24T18:00:00",
          "2024-06-24T19:00:00",
          "2024-06-24T20:00:00",
          "2024-06-24T21:00:00",
          "2024-06-24T22:00:00",
          "2024-06-24T23:00:00",
          "2024-06-25T00:00:00",
          "2024-06-25T01:00:00",
          "2024-06-25T02:00:00",
          "2024-06-25T03:00:00",
          "2024-06-25T04:00:00",
          "2024-06-25T05:00:00",
          "2024-06-25T06:00:00",
          "2024-06-25T07:00:00",
          "2024-06-25T08:00:00",
          "2024-06-25T09:00:00",
          "2024-06-25T10:00:00",
          "2024-06-25T11:00:00",
          "2024-06-25T12:00:00",
          "2024-06-25T13:00:00",
          "2024-06-25T14:00:00",
          "2024-06-25T15:00:00",
          "2024-06-25T16:00:00",
          "2024-06-25T17:00:00",
          "2024-06-25T18:00:00",
          "2024-06-25T19:00:00",
          "2024-06-25T20:00:00",
          "2024-06-25T21:00:00",
          "2024-06-25T22:00:00",
          "2024-06-25T23:00:00",
          "2024-06-26T00:00:00",
          "2024-06-26T01:00:00",
          "2024-06-26T02:00:00",
          "2024-06-26T03:00:00",
          "2024-06-26T04:00:00",
          "2024-06-26T05:00:00",
          "2024-06-26T06:00:00",
          "2024-06-26T07:00:00",
          "2024-06-26T08:00:00",
          "2024-06-26T09:00:00",
          "2024-06-26T10:00:00",
          "2024-06-26T11:00:00",
          "2024-06-26T12:00:00",
          "2024-06-26T13:00:00",
          "2024-06-26T14:00:00",
          "2024-06-26T15:00:00",
          "2024-06-26T16:00:00",
          "2024-06-26T17:00:00",
          "2024-06-26T18:00:00",
          "2024-06-26T19:00:00",
          "2024-06-26T20:00:00",
          "2024-06-26T21:00:00",
          "2024-06-26T22:00:00",
          "2024-06-26T23:00:00",
          "2024-06-27T00:00:00",
          "2024-06-27T01:00:00",
          "2024-06-27T02:00:00",
          "2024-06-27T03:00:00",
          "2024-06-27T04:00:00",
          "2024-06-27T05:00:00",
          "2024-06-27T06:00:00",
          "2024-06-27T07:00:00",
          "2024-06-27T08:00:00",
          "2024-06-27T09:00:00",
          "2024-06-27T10:00:00",
          "2024-06-27T11:00:00",
          "2024-06-27T12:00:00",
          "2024-06-27T13:00:00",
          "2024-06-27T14:00:00",
          "2024-06-27T15:00:00",
          "2024-06-27T16:00:00",
          "2024-06-27T17:00:00",
          "2024-06-27T18:00:00",
          "2024-06-27T19:00:00",
          "2024-06-27T20:00:00",
          "2024-06-27T21:00:00",
          "2024-06-27T22:00:00",
          "2024-06-27T23:00:00",
          "2024-06-28T00:00:00",
          "2024-06-28T01:00:00",
          "2024-06-28T02:00:00",
          "2024-06-28T03:00:00",
          "2024-06-28T04:00:00",
          "2024-06-28T05:00:00",
          "2024-06-28T06:00:00",
          "2024-06-28T07:00:00",
          "2024-06-28T08:00:00",
          "2024-06-28T09:00:00",
          "2024-06-28T10:00:00",
          "2024-06-28T11:00:00",
          "2024-06-28T12:00:00",
          "2024-06-28T13:00:00",
          "2024-06-28T14:00:00",
          "2024-06-28T15:00:00",
          "2024-06-28T16:00:00",
          "2024-06-28T17:00:00",
          "2024-06-28T18:00:00",
          "2024-06-28T19:00:00",
          "2024-06-28T20:00:00",
          "2024-06-28T21:00:00",
          "2024-06-28T22:00:00",
          "2024-06-28T23:00:00",
          "2024-06-29T00:00:00",
          "2024-06-29T01:00:00",
          "2024-06-29T02:00:00",
          "2024-06-29T03:00:00",
          "2024-06-29T04:00:00",
          "2024-06-29T05:00:00",
          "2024-06-29T06:00:00",
          "2024-06-29T07:00:00",
          "2024-06-29T08:00:00",
          "2024-06-29T09:00:00",
          "2024-06-29T10:00:00",
          "2024-06-29T11:00:00",
          "2024-06-29T12:00:00",
          "2024-06-29T13:00:00",
          "2024-06-29T14:00:00",
          "2024-06-29T15:00:00",
          "2024-06-29T16:00:00",
          "2024-06-29T17:00:00",
          "2024-06-29T18:00:00",
          "2024-06-29T19:00:00",
          "2024-06-29T20:00:00",
          "2024-06-29T21:00:00",
          "2024-06-29T22:00:00",
          "2024-06-29T23:00:00"
         ],
         "y": [
          39.27128691095536,
          38.972429446243105,
          38.64513793933505,
          38.185333023636424,
          37.9186791008224,
          37.942124295138164,
          38.55948723209989,
          39.942369948627736,
          41.628300537657566,
          43.20519860564897,
          44.448702925740776,
          45.26351064243251,
          45.89455930522258,
          46.19665675073547,
          46.53011199029138,
          46.53539209553675,
          45.96518638971488,
          44.99333569614937,
          43.69536441366628,
          42.50587477443153,
          40.49923308260749,
          39.04833011209996,
          38.108139391455225,
          37.41857648443255,
          37.144558538149575,
          37.18852432492273,
          36.78154852556234,
          36.29001229565927,
          35.903100377641586,
          36.0151400707664,
          36.67592648160556,
          37.95900797140232,
          39.69134161670688,
          41.185738076948134,
          42.30471850726886,
          43.39602727182877,
          44.01640258803262,
          44.398198629272876,
          44.66323220681105,
          44.57838033807089,
          44.18722006402283,
          43.17797865593997,
          41.84919893073613,
          40.36796129449333,
          38.644266555486126,
          37.01589878023475,
          36.04688282575842,
          35.57069779209829,
          35.23159273413341,
          34.98133676637913,
          34.749377716044094,
          34.337691289859066,
          34.25969173302762,
          34.023117323889146,
          34.70604860913223,
          36.235794361402306,
          37.82510738170226,
          39.43911501014802,
          40.80657664491723,
          41.688802697745594,
          42.35158575138771,
          42.68065632162942,
          43.20868577951032,
          43.13090780376683,
          42.69083588784994,
          41.680699780579076,
          40.605219202496585,
          39.12703051070109,
          37.45845279358907,
          35.99618159664059,
          34.93117944280719,
          34.3098809821012,
          34.206797098935056,
          34.14503848405655,
          33.96935466417605,
          33.62524311331992,
          33.208147918083014,
          33.3415275114848,
          34.006063175573125,
          35.35884796227763,
          37.115167032034265,
          38.683667887617815,
          39.996785660615686,
          40.977477763698055,
          41.683669980025506,
          42.35323531112213,
          42.66491992856709,
          42.44962596421601,
          42.22868403918786,
          41.467177249657624,
          40.125050918246174,
          38.89679422245122,
          37.12316943911805,
          35.844288711754544,
          34.92050975706369,
          34.28977438196677,
          34.138937411178624,
          34.266466324004234,
          33.989389151126346,
          33.5355817525121,
          33.29108511289284,
          33.52262431877127,
          34.20384815743712,
          35.79267181378454,
          37.69520628029353,
          39.2276580564345,
          40.889894706494154,
          41.63248702507093,
          42.50881964883405,
          42.882899794100474,
          43.18864318180174,
          43.181728113896725,
          42.846455860254196,
          42.195674339055536,
          40.922385129509884,
          39.54102283045312,
          38.12886405387475,
          36.619295531689225,
          35.534310110134065,
          35.10628104299119,
          35.034708178890284,
          35.14871898363001,
          34.93326435840493,
          34.46962534941762,
          34.36170268372733,
          34.46210678241232,
          35.308932550815875,
          36.81744548221825,
          38.54945941771072,
          40.14623647628808,
          41.55082349407832,
          42.46449307201401,
          43.210089787853796,
          43.85955190976445,
          44.21753630715998,
          44.30517860733121,
          43.79871130179307,
          42.86231886999562,
          41.78048347970082,
          40.431304967604625,
          38.928105064848936,
          37.5241789802972,
          36.54986973952154,
          36.07434546220894,
          36.216355299546095,
          36.01382704896814,
          35.85502803832981,
          35.546506560545396,
          35.17903166754176,
          35.45284865751106,
          36.17665508420269,
          37.524708229141005,
          39.39010068723499,
          41.17256344073374,
          42.31747040576448,
          43.3875996182916,
          44.08727842125954,
          44.83666173192176,
          45.147058124681564,
          45.08585583610346,
          44.90240789146155,
          43.932460531081084,
          42.74606374453824,
          41.36419221550745,
          39.815411632387615,
          38.26683927422859,
          37.40741230332182,
          36.974805370706584,
          36.73280584386755,
          36.88730063004432,
          36.80923948648394,
          36.37474936358074,
          36.144115460333914,
          36.21747334521532,
          36.96543758465743,
          38.47025996863519,
          40.02721813554954,
          41.91810586315217,
          43.211425931011206,
          44.10212135829359,
          45.17616972641737,
          45.572725793913186,
          46.02310158319878,
          46.010436138762074,
          45.7914740019607,
          45.004578888789354,
          43.59691676522348,
          42.13892320612468,
          40.647006055164496,
          39.375696848619505,
          38.28198584034376,
          37.91245181943527,
          37.81000844426682,
          37.61869167015052,
          37.73582903153783,
          37.09226360145198,
          36.84338949772557,
          37.243877801523745,
          37.92043495300126,
          39.536828176215046,
          41.31063368014922,
          42.92795376836276,
          44.345983120088235,
          45.40225044233517,
          46.11116281100491,
          46.54292516967365,
          47.04188301152184,
          46.908336557441984,
          46.499294366374315,
          46.019068827216955,
          44.622014861236245,
          43.28411703624543,
          41.62788022629743,
          40.166885443664455,
          39.46600261350878,
          38.94281898048149,
          38.72117162701902,
          38.79741430037671,
          38.60037722200723,
          38.251357014375806,
          38.06494618885853,
          38.31098752249549,
          39.06948657988102,
          40.39944722182685,
          42.30886486317897,
          43.90158365672644,
          45.28897401144707,
          46.42190750166696,
          47.08682315018962,
          47.80085019742247,
          47.91405209041469,
          48.12276470038844,
          47.71357069144426,
          46.88027813080227,
          45.65704374801503,
          44.5160104664859,
          42.853560446406924,
          41.47806124257991,
          40.367999766300834,
          40.14584308278722,
          39.91765723190944,
          39.903782945478405,
          39.74981016738169,
          39.4661000424769,
          39.17131422394912,
          39.464607323717594,
          40.081707808350984,
          41.6299975957316,
          43.44687445435846,
          45.14537578584494,
          46.35403353315465,
          47.44566412791269,
          48.210909136835916,
          48.91102201759568,
          49.162199888359304,
          49.37881272975707,
          48.89319802352569,
          48.13874202093289,
          46.889167815103775,
          45.61305600963072,
          44.19710749559019,
          42.65771391022234,
          41.778872544722695,
          41.24851168585008,
          41.21219004198225,
          41.114681716678085,
          41.09052367730036,
          40.54271486163399,
          40.576695348283764,
          40.621248263911156,
          41.59650973566167,
          43.06895906754983,
          44.69757089666653,
          46.34178800000086,
          47.67725184459996,
          48.88752231622558,
          49.60129823784724,
          50.18891461095375,
          50.45967984522667,
          50.6189789585473,
          50.21274651165611,
          49.30444005702759,
          48.17808842594577,
          46.91610007302896,
          45.44189374948286,
          44.05996967241352,
          42.973555648685206,
          42.63665854529047
         ]
        }
       ],
       "layout": {
        "height": 600,
        "showlegend": false,
        "template": {
         "data": {
          "bar": [
           {
            "error_x": {
             "color": "#2a3f5f"
            },
            "error_y": {
             "color": "#2a3f5f"
            },
            "marker": {
             "line": {
              "color": "#E5ECF6",
              "width": 0.5
             },
             "pattern": {
              "fillmode": "overlay",
              "size": 10,
              "solidity": 0.2
             }
            },
            "type": "bar"
           }
          ],
          "barpolar": [
           {
            "marker": {
             "line": {
              "color": "#E5ECF6",
              "width": 0.5
             },
             "pattern": {
              "fillmode": "overlay",
              "size": 10,
              "solidity": 0.2
             }
            },
            "type": "barpolar"
           }
          ],
          "carpet": [
           {
            "aaxis": {
             "endlinecolor": "#2a3f5f",
             "gridcolor": "white",
             "linecolor": "white",
             "minorgridcolor": "white",
             "startlinecolor": "#2a3f5f"
            },
            "baxis": {
             "endlinecolor": "#2a3f5f",
             "gridcolor": "white",
             "linecolor": "white",
             "minorgridcolor": "white",
             "startlinecolor": "#2a3f5f"
            },
            "type": "carpet"
           }
          ],
          "choropleth": [
           {
            "colorbar": {
             "outlinewidth": 0,
             "ticks": ""
            },
            "type": "choropleth"
           }
          ],
          "contour": [
           {
            "colorbar": {
             "outlinewidth": 0,
             "ticks": ""
            },
            "colorscale": [
             [
              0,
              "#0d0887"
             ],
             [
              0.1111111111111111,
              "#46039f"
             ],
             [
              0.2222222222222222,
              "#7201a8"
             ],
             [
              0.3333333333333333,
              "#9c179e"
             ],
             [
              0.4444444444444444,
              "#bd3786"
             ],
             [
              0.5555555555555556,
              "#d8576b"
             ],
             [
              0.6666666666666666,
              "#ed7953"
             ],
             [
              0.7777777777777778,
              "#fb9f3a"
             ],
             [
              0.8888888888888888,
              "#fdca26"
             ],
             [
              1,
              "#f0f921"
             ]
            ],
            "type": "contour"
           }
          ],
          "contourcarpet": [
           {
            "colorbar": {
             "outlinewidth": 0,
             "ticks": ""
            },
            "type": "contourcarpet"
           }
          ],
          "heatmap": [
           {
            "colorbar": {
             "outlinewidth": 0,
             "ticks": ""
            },
            "colorscale": [
             [
              0,
              "#0d0887"
             ],
             [
              0.1111111111111111,
              "#46039f"
             ],
             [
              0.2222222222222222,
              "#7201a8"
             ],
             [
              0.3333333333333333,
              "#9c179e"
             ],
             [
              0.4444444444444444,
              "#bd3786"
             ],
             [
              0.5555555555555556,
              "#d8576b"
             ],
             [
              0.6666666666666666,
              "#ed7953"
             ],
             [
              0.7777777777777778,
              "#fb9f3a"
             ],
             [
              0.8888888888888888,
              "#fdca26"
             ],
             [
              1,
              "#f0f921"
             ]
            ],
            "type": "heatmap"
           }
          ],
          "heatmapgl": [
           {
            "colorbar": {
             "outlinewidth": 0,
             "ticks": ""
            },
            "colorscale": [
             [
              0,
              "#0d0887"
             ],
             [
              0.1111111111111111,
              "#46039f"
             ],
             [
              0.2222222222222222,
              "#7201a8"
             ],
             [
              0.3333333333333333,
              "#9c179e"
             ],
             [
              0.4444444444444444,
              "#bd3786"
             ],
             [
              0.5555555555555556,
              "#d8576b"
             ],
             [
              0.6666666666666666,
              "#ed7953"
             ],
             [
              0.7777777777777778,
              "#fb9f3a"
             ],
             [
              0.8888888888888888,
              "#fdca26"
             ],
             [
              1,
              "#f0f921"
             ]
            ],
            "type": "heatmapgl"
           }
          ],
          "histogram": [
           {
            "marker": {
             "pattern": {
              "fillmode": "overlay",
              "size": 10,
              "solidity": 0.2
             }
            },
            "type": "histogram"
           }
          ],
          "histogram2d": [
           {
            "colorbar": {
             "outlinewidth": 0,
             "ticks": ""
            },
            "colorscale": [
             [
              0,
              "#0d0887"
             ],
             [
              0.1111111111111111,
              "#46039f"
             ],
             [
              0.2222222222222222,
              "#7201a8"
             ],
             [
              0.3333333333333333,
              "#9c179e"
             ],
             [
              0.4444444444444444,
              "#bd3786"
             ],
             [
              0.5555555555555556,
              "#d8576b"
             ],
             [
              0.6666666666666666,
              "#ed7953"
             ],
             [
              0.7777777777777778,
              "#fb9f3a"
             ],
             [
              0.8888888888888888,
              "#fdca26"
             ],
             [
              1,
              "#f0f921"
             ]
            ],
            "type": "histogram2d"
           }
          ],
          "histogram2dcontour": [
           {
            "colorbar": {
             "outlinewidth": 0,
             "ticks": ""
            },
            "colorscale": [
             [
              0,
              "#0d0887"
             ],
             [
              0.1111111111111111,
              "#46039f"
             ],
             [
              0.2222222222222222,
              "#7201a8"
             ],
             [
              0.3333333333333333,
              "#9c179e"
             ],
             [
              0.4444444444444444,
              "#bd3786"
             ],
             [
              0.5555555555555556,
              "#d8576b"
             ],
             [
              0.6666666666666666,
              "#ed7953"
             ],
             [
              0.7777777777777778,
              "#fb9f3a"
             ],
             [
              0.8888888888888888,
              "#fdca26"
             ],
             [
              1,
              "#f0f921"
             ]
            ],
            "type": "histogram2dcontour"
           }
          ],
          "mesh3d": [
           {
            "colorbar": {
             "outlinewidth": 0,
             "ticks": ""
            },
            "type": "mesh3d"
           }
          ],
          "parcoords": [
           {
            "line": {
             "colorbar": {
              "outlinewidth": 0,
              "ticks": ""
             }
            },
            "type": "parcoords"
           }
          ],
          "pie": [
           {
            "automargin": true,
            "type": "pie"
           }
          ],
          "scatter": [
           {
            "fillpattern": {
             "fillmode": "overlay",
             "size": 10,
             "solidity": 0.2
            },
            "type": "scatter"
           }
          ],
          "scatter3d": [
           {
            "line": {
             "colorbar": {
              "outlinewidth": 0,
              "ticks": ""
             }
            },
            "marker": {
             "colorbar": {
              "outlinewidth": 0,
              "ticks": ""
             }
            },
            "type": "scatter3d"
           }
          ],
          "scattercarpet": [
           {
            "marker": {
             "colorbar": {
              "outlinewidth": 0,
              "ticks": ""
             }
            },
            "type": "scattercarpet"
           }
          ],
          "scattergeo": [
           {
            "marker": {
             "colorbar": {
              "outlinewidth": 0,
              "ticks": ""
             }
            },
            "type": "scattergeo"
           }
          ],
          "scattergl": [
           {
            "marker": {
             "colorbar": {
              "outlinewidth": 0,
              "ticks": ""
             }
            },
            "type": "scattergl"
           }
          ],
          "scattermapbox": [
           {
            "marker": {
             "colorbar": {
              "outlinewidth": 0,
              "ticks": ""
             }
            },
            "type": "scattermapbox"
           }
          ],
          "scatterpolar": [
           {
            "marker": {
             "colorbar": {
              "outlinewidth": 0,
              "ticks": ""
             }
            },
            "type": "scatterpolar"
           }
          ],
          "scatterpolargl": [
           {
            "marker": {
             "colorbar": {
              "outlinewidth": 0,
              "ticks": ""
             }
            },
            "type": "scatterpolargl"
           }
          ],
          "scatterternary": [
           {
            "marker": {
             "colorbar": {
              "outlinewidth": 0,
              "ticks": ""
             }
            },
            "type": "scatterternary"
           }
          ],
          "surface": [
           {
            "colorbar": {
             "outlinewidth": 0,
             "ticks": ""
            },
            "colorscale": [
             [
              0,
              "#0d0887"
             ],
             [
              0.1111111111111111,
              "#46039f"
             ],
             [
              0.2222222222222222,
              "#7201a8"
             ],
             [
              0.3333333333333333,
              "#9c179e"
             ],
             [
              0.4444444444444444,
              "#bd3786"
             ],
             [
              0.5555555555555556,
              "#d8576b"
             ],
             [
              0.6666666666666666,
              "#ed7953"
             ],
             [
              0.7777777777777778,
              "#fb9f3a"
             ],
             [
              0.8888888888888888,
              "#fdca26"
             ],
             [
              1,
              "#f0f921"
             ]
            ],
            "type": "surface"
           }
          ],
          "table": [
           {
            "cells": {
             "fill": {
              "color": "#EBF0F8"
             },
             "line": {
              "color": "white"
             }
            },
            "header": {
             "fill": {
              "color": "#C8D4E3"
             },
             "line": {
              "color": "white"
             }
            },
            "type": "table"
           }
          ]
         },
         "layout": {
          "annotationdefaults": {
           "arrowcolor": "#2a3f5f",
           "arrowhead": 0,
           "arrowwidth": 1
          },
          "autotypenumbers": "strict",
          "coloraxis": {
           "colorbar": {
            "outlinewidth": 0,
            "ticks": ""
           }
          },
          "colorscale": {
           "diverging": [
            [
             0,
             "#8e0152"
            ],
            [
             0.1,
             "#c51b7d"
            ],
            [
             0.2,
             "#de77ae"
            ],
            [
             0.3,
             "#f1b6da"
            ],
            [
             0.4,
             "#fde0ef"
            ],
            [
             0.5,
             "#f7f7f7"
            ],
            [
             0.6,
             "#e6f5d0"
            ],
            [
             0.7,
             "#b8e186"
            ],
            [
             0.8,
             "#7fbc41"
            ],
            [
             0.9,
             "#4d9221"
            ],
            [
             1,
             "#276419"
            ]
           ],
           "sequential": [
            [
             0,
             "#0d0887"
            ],
            [
             0.1111111111111111,
             "#46039f"
            ],
            [
             0.2222222222222222,
             "#7201a8"
            ],
            [
             0.3333333333333333,
             "#9c179e"
            ],
            [
             0.4444444444444444,
             "#bd3786"
            ],
            [
             0.5555555555555556,
             "#d8576b"
            ],
            [
             0.6666666666666666,
             "#ed7953"
            ],
            [
             0.7777777777777778,
             "#fb9f3a"
            ],
            [
             0.8888888888888888,
             "#fdca26"
            ],
            [
             1,
             "#f0f921"
            ]
           ],
           "sequentialminus": [
            [
             0,
             "#0d0887"
            ],
            [
             0.1111111111111111,
             "#46039f"
            ],
            [
             0.2222222222222222,
             "#7201a8"
            ],
            [
             0.3333333333333333,
             "#9c179e"
            ],
            [
             0.4444444444444444,
             "#bd3786"
            ],
            [
             0.5555555555555556,
             "#d8576b"
            ],
            [
             0.6666666666666666,
             "#ed7953"
            ],
            [
             0.7777777777777778,
             "#fb9f3a"
            ],
            [
             0.8888888888888888,
             "#fdca26"
            ],
            [
             1,
             "#f0f921"
            ]
           ]
          },
          "colorway": [
           "#636efa",
           "#EF553B",
           "#00cc96",
           "#ab63fa",
           "#FFA15A",
           "#19d3f3",
           "#FF6692",
           "#B6E880",
           "#FF97FF",
           "#FECB52"
          ],
          "font": {
           "color": "#2a3f5f"
          },
          "geo": {
           "bgcolor": "white",
           "lakecolor": "white",
           "landcolor": "#E5ECF6",
           "showlakes": true,
           "showland": true,
           "subunitcolor": "white"
          },
          "hoverlabel": {
           "align": "left"
          },
          "hovermode": "closest",
          "mapbox": {
           "style": "light"
          },
          "paper_bgcolor": "white",
          "plot_bgcolor": "#E5ECF6",
          "polar": {
           "angularaxis": {
            "gridcolor": "white",
            "linecolor": "white",
            "ticks": ""
           },
           "bgcolor": "#E5ECF6",
           "radialaxis": {
            "gridcolor": "white",
            "linecolor": "white",
            "ticks": ""
           }
          },
          "scene": {
           "xaxis": {
            "backgroundcolor": "#E5ECF6",
            "gridcolor": "white",
            "gridwidth": 2,
            "linecolor": "white",
            "showbackground": true,
            "ticks": "",
            "zerolinecolor": "white"
           },
           "yaxis": {
            "backgroundcolor": "#E5ECF6",
            "gridcolor": "white",
            "gridwidth": 2,
            "linecolor": "white",
            "showbackground": true,
            "ticks": "",
            "zerolinecolor": "white"
           },
           "zaxis": {
            "backgroundcolor": "#E5ECF6",
            "gridcolor": "white",
            "gridwidth": 2,
            "linecolor": "white",
            "showbackground": true,
            "ticks": "",
            "zerolinecolor": "white"
           }
          },
          "shapedefaults": {
           "line": {
            "color": "#2a3f5f"
           }
          },
          "ternary": {
           "aaxis": {
            "gridcolor": "white",
            "linecolor": "white",
            "ticks": ""
           },
           "baxis": {
            "gridcolor": "white",
            "linecolor": "white",
            "ticks": ""
           },
           "bgcolor": "#E5ECF6",
           "caxis": {
            "gridcolor": "white",
            "linecolor": "white",
            "ticks": ""
           }
          },
          "title": {
           "x": 0.05
          },
          "xaxis": {
           "automargin": true,
           "gridcolor": "white",
           "linecolor": "white",
           "ticks": "",
           "title": {
            "standoff": 15
           },
           "zerolinecolor": "white",
           "zerolinewidth": 2
          },
          "yaxis": {
           "automargin": true,
           "gridcolor": "white",
           "linecolor": "white",
           "ticks": "",
           "title": {
            "standoff": 15
           },
           "zerolinecolor": "white",
           "zerolinewidth": 2
          }
         }
        },
        "width": 900,
        "xaxis": {
         "rangeselector": {
          "buttons": [
           {
            "count": 7,
            "label": "1w",
            "step": "day",
            "stepmode": "backward"
           },
           {
            "count": 1,
            "label": "1m",
            "step": "month",
            "stepmode": "backward"
           },
           {
            "count": 6,
            "label": "6m",
            "step": "month",
            "stepmode": "backward"
           },
           {
            "count": 1,
            "label": "1y",
            "step": "year",
            "stepmode": "backward"
           },
           {
            "step": "all"
           }
          ]
         },
         "rangeslider": {
          "visible": true
         },
         "title": {
          "text": "ds"
         },
         "type": "date"
        },
        "yaxis": {
         "title": {
          "text": "y"
         }
        }
       }
      }
     },
     "metadata": {},
     "output_type": "display_data"
    }
   ],
   "source": [
    "from prophet.plot import plot_plotly\n",
    "plot_plotly(m,forecast)"
   ]
  },
  {
   "cell_type": "code",
   "execution_count": 91,
   "metadata": {},
   "outputs": [
    {
     "data": {
      "text/html": [
       "<div>\n",
       "<style scoped>\n",
       "    .dataframe tbody tr th:only-of-type {\n",
       "        vertical-align: middle;\n",
       "    }\n",
       "\n",
       "    .dataframe tbody tr th {\n",
       "        vertical-align: top;\n",
       "    }\n",
       "\n",
       "    .dataframe thead th {\n",
       "        text-align: right;\n",
       "    }\n",
       "</style>\n",
       "<table border=\"1\" class=\"dataframe\">\n",
       "  <thead>\n",
       "    <tr style=\"text-align: right;\">\n",
       "      <th></th>\n",
       "      <th>ds</th>\n",
       "      <th>yhat</th>\n",
       "      <th>yhat_lower</th>\n",
       "      <th>yhat_upper</th>\n",
       "    </tr>\n",
       "  </thead>\n",
       "  <tbody>\n",
       "    <tr>\n",
       "      <th>283</th>\n",
       "      <td>2024-06-29 19:00:00</td>\n",
       "      <td>43.800746</td>\n",
       "      <td>40.721623</td>\n",
       "      <td>46.916100</td>\n",
       "    </tr>\n",
       "    <tr>\n",
       "      <th>284</th>\n",
       "      <td>2024-06-29 20:00:00</td>\n",
       "      <td>42.269490</td>\n",
       "      <td>39.091148</td>\n",
       "      <td>45.441894</td>\n",
       "    </tr>\n",
       "    <tr>\n",
       "      <th>285</th>\n",
       "      <td>2024-06-29 21:00:00</td>\n",
       "      <td>40.906428</td>\n",
       "      <td>37.737822</td>\n",
       "      <td>44.059970</td>\n",
       "    </tr>\n",
       "    <tr>\n",
       "      <th>286</th>\n",
       "      <td>2024-06-29 22:00:00</td>\n",
       "      <td>39.943163</td>\n",
       "      <td>36.970240</td>\n",
       "      <td>42.973556</td>\n",
       "    </tr>\n",
       "    <tr>\n",
       "      <th>287</th>\n",
       "      <td>2024-06-29 23:00:00</td>\n",
       "      <td>39.474925</td>\n",
       "      <td>36.246019</td>\n",
       "      <td>42.636659</td>\n",
       "    </tr>\n",
       "  </tbody>\n",
       "</table>\n",
       "</div>"
      ],
      "text/plain": [
       "                     ds       yhat  yhat_lower  yhat_upper\n",
       "283 2024-06-29 19:00:00  43.800746   40.721623   46.916100\n",
       "284 2024-06-29 20:00:00  42.269490   39.091148   45.441894\n",
       "285 2024-06-29 21:00:00  40.906428   37.737822   44.059970\n",
       "286 2024-06-29 22:00:00  39.943163   36.970240   42.973556\n",
       "287 2024-06-29 23:00:00  39.474925   36.246019   42.636659"
      ]
     },
     "execution_count": 91,
     "metadata": {},
     "output_type": "execute_result"
    }
   ],
   "source": [
    "forecast[['ds','yhat','yhat_lower','yhat_upper']].tail()\n"
   ]
  },
  {
   "cell_type": "code",
   "execution_count": 92,
   "metadata": {},
   "outputs": [
    {
     "name": "stderr",
     "output_type": "stream",
     "text": [
      "c:\\Users\\shree\\anaconda3\\Lib\\site-packages\\prophet\\plot.py:228: FutureWarning:\n",
      "\n",
      "The behavior of DatetimeProperties.to_pydatetime is deprecated, in a future version this will return a Series containing python datetime objects instead of an ndarray. To retain the old behavior, call `np.array` on the result\n",
      "\n",
      "c:\\Users\\shree\\anaconda3\\Lib\\site-packages\\prophet\\plot.py:397: FutureWarning:\n",
      "\n",
      "The behavior of DatetimeProperties.to_pydatetime is deprecated, in a future version this will return a Series containing python datetime objects instead of an ndarray. To retain the old behavior, call `np.array` on the result\n",
      "\n",
      "c:\\Users\\shree\\anaconda3\\Lib\\site-packages\\prophet\\plot.py:401: FutureWarning:\n",
      "\n",
      "The behavior of DatetimeProperties.to_pydatetime is deprecated, in a future version this will return a Series containing python datetime objects instead of an ndarray. To retain the old behavior, call `np.array` on the result\n",
      "\n"
     ]
    },
    {
     "data": {
      "image/png": "[encoded data removed]",
      "text/plain": [
       "<Figure size 900x600 with 2 Axes>"
      ]
     },
     "metadata": {},
     "output_type": "display_data"
    }
   ],
   "source": [
    "fig_2 = m.plot_components(forecast)"
   ]
  },
  {
   "cell_type": "code",
   "execution_count": 93,
   "metadata": {},
   "outputs": [],
   "source": [
    "import pickle\n",
    "with open('prophet.pkl','wb') as files:\n",
    "    pickle.dump(m, files)\n"
   ]
  },
  {
   "cell_type": "code",
   "execution_count": 94,
   "metadata": {},
   "outputs": [
    {
     "name": "stdout",
     "output_type": "stream",
     "text": [
      "Predicted temperature for 2024-06-27 04:00 is: 36.64\n"
     ]
    }
   ],
   "source": [
    "from prophet import Prophet\n",
    "from datetime import datetime\n",
    "\n",
    "\n",
    "user_date_str = input(\"Enter the date and time you want to predict in YYYY-MM-DD HH:MM format (e.g., 2025-12-31 15:00:00): \")\n",
    "\n",
    "try:\n",
    "  user_date_time = datetime.strptime(user_date_str, \"%Y-%m-%d %H:%M\")\n",
    "except ValueError:\n",
    "  print(\"Invalid date and time format. Please enter YYYY-MM-DD HH:MM.\")\n",
    "  exit()\n",
    "\n",
    "user_date = user_date_time.date()\n",
    "\n",
    "future_date = pd.DataFrame({'ds': [user_date]})\n",
    "\n",
    "\n",
    "one_day_forecast = m.predict(future_date)\n",
    "predicted_temp = one_day_forecast[\"yhat\"].values[0]\n",
    "\n",
    "print(f\"Predicted temperature for {user_date_str} is: {predicted_temp:.2f}\")\n"
   ]
  },
  {
   "cell_type": "code",
   "execution_count": null,
   "metadata": {},
   "outputs": [],
   "source": []
  }
 ],
 "metadata": {
  "kernelspec": {
   "display_name": "base",
   "language": "python",
   "name": "python3"
  },
  "language_info": {
   "codemirror_mode": {
    "name": "ipython",
    "version": 3
   },
   "file_extension": ".py",
   "mimetype": "text/x-python",
   "name": "python",
   "nbconvert_exporter": "python",
   "pygments_lexer": "ipython3",
   "version": "3.11.7"
  }
 },
 "nbformat": 4,
 "nbformat_minor": 2
}
