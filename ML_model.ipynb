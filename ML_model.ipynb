{
 "cells": [
  {
   "cell_type": "code",
   "execution_count": 28,
   "metadata": {},
   "outputs": [],
   "source": [
    "import pandas as pd\n",
    "import numpy as np\n",
    "from sklearn.svm import SVR\n"
   ]
  },
  {
   "cell_type": "code",
   "execution_count": 29,
   "metadata": {},
   "outputs": [],
   "source": [
    "weather01 = pd.read_csv('IndianWeatherRepository 1.csv')"
   ]
  },
  {
   "cell_type": "code",
   "execution_count": 30,
   "metadata": {},
   "outputs": [
    {
     "data": {
      "text/html": [
       "<div>\n",
       "<style scoped>\n",
       "    .dataframe tbody tr th:only-of-type {\n",
       "        vertical-align: middle;\n",
       "    }\n",
       "\n",
       "    .dataframe tbody tr th {\n",
       "        vertical-align: top;\n",
       "    }\n",
       "\n",
       "    .dataframe thead th {\n",
       "        text-align: right;\n",
       "    }\n",
       "</style>\n",
       "<table border=\"1\" class=\"dataframe\">\n",
       "  <thead>\n",
       "    <tr style=\"text-align: right;\">\n",
       "      <th></th>\n",
       "      <th>location_name</th>\n",
       "      <th>region</th>\n",
       "      <th>last_updated</th>\n",
       "      <th>temperature_celsius</th>\n",
       "      <th>wind_kph</th>\n",
       "      <th>pressure_in</th>\n",
       "      <th>precip_mm</th>\n",
       "      <th>humidity</th>\n",
       "      <th>feels_like_celsius</th>\n",
       "      <th>air_quality_Nitrogen_dioxide</th>\n",
       "    </tr>\n",
       "  </thead>\n",
       "  <tbody>\n",
       "    <tr>\n",
       "      <th>0</th>\n",
       "      <td>Ashoknagar</td>\n",
       "      <td>Madhya Pradesh</td>\n",
       "      <td>2023-08-29 10:45</td>\n",
       "      <td>27.5</td>\n",
       "      <td>20.5</td>\n",
       "      <td>29.77</td>\n",
       "      <td>0.0</td>\n",
       "      <td>67</td>\n",
       "      <td>29.7</td>\n",
       "      <td>1.7</td>\n",
       "    </tr>\n",
       "    <tr>\n",
       "      <th>1</th>\n",
       "      <td>Raisen</td>\n",
       "      <td>Madhya Pradesh</td>\n",
       "      <td>2023-08-29 10:45</td>\n",
       "      <td>27.5</td>\n",
       "      <td>15.5</td>\n",
       "      <td>29.78</td>\n",
       "      <td>0.0</td>\n",
       "      <td>70</td>\n",
       "      <td>30.0</td>\n",
       "      <td>2.1</td>\n",
       "    </tr>\n",
       "    <tr>\n",
       "      <th>2</th>\n",
       "      <td>Chhindwara</td>\n",
       "      <td>Madhya Pradesh</td>\n",
       "      <td>2023-08-29 10:45</td>\n",
       "      <td>26.3</td>\n",
       "      <td>18.4</td>\n",
       "      <td>29.78</td>\n",
       "      <td>0.0</td>\n",
       "      <td>70</td>\n",
       "      <td>28.2</td>\n",
       "      <td>0.6</td>\n",
       "    </tr>\n",
       "    <tr>\n",
       "      <th>3</th>\n",
       "      <td>Betul</td>\n",
       "      <td>Madhya Pradesh</td>\n",
       "      <td>2023-08-29 10:45</td>\n",
       "      <td>25.6</td>\n",
       "      <td>16.9</td>\n",
       "      <td>29.80</td>\n",
       "      <td>0.0</td>\n",
       "      <td>76</td>\n",
       "      <td>27.6</td>\n",
       "      <td>1.2</td>\n",
       "    </tr>\n",
       "    <tr>\n",
       "      <th>4</th>\n",
       "      <td>Hoshangabad</td>\n",
       "      <td>Madhya Pradesh</td>\n",
       "      <td>2023-08-29 10:45</td>\n",
       "      <td>27.2</td>\n",
       "      <td>16.2</td>\n",
       "      <td>29.79</td>\n",
       "      <td>0.0</td>\n",
       "      <td>74</td>\n",
       "      <td>29.9</td>\n",
       "      <td>2.2</td>\n",
       "    </tr>\n",
       "    <tr>\n",
       "      <th>...</th>\n",
       "      <td>...</td>\n",
       "      <td>...</td>\n",
       "      <td>...</td>\n",
       "      <td>...</td>\n",
       "      <td>...</td>\n",
       "      <td>...</td>\n",
       "      <td>...</td>\n",
       "      <td>...</td>\n",
       "      <td>...</td>\n",
       "      <td>...</td>\n",
       "    </tr>\n",
       "    <tr>\n",
       "      <th>109531</th>\n",
       "      <td>Niwari</td>\n",
       "      <td>Uttar Pradesh</td>\n",
       "      <td>2024-03-19 22:00</td>\n",
       "      <td>25.0</td>\n",
       "      <td>6.1</td>\n",
       "      <td>29.94</td>\n",
       "      <td>0.0</td>\n",
       "      <td>39</td>\n",
       "      <td>23.8</td>\n",
       "      <td>32.9</td>\n",
       "    </tr>\n",
       "    <tr>\n",
       "      <th>109532</th>\n",
       "      <td>Saitual</td>\n",
       "      <td>Mizoram</td>\n",
       "      <td>2024-03-19 22:00</td>\n",
       "      <td>20.6</td>\n",
       "      <td>3.6</td>\n",
       "      <td>29.92</td>\n",
       "      <td>0.0</td>\n",
       "      <td>34</td>\n",
       "      <td>20.7</td>\n",
       "      <td>4.8</td>\n",
       "    </tr>\n",
       "    <tr>\n",
       "      <th>109533</th>\n",
       "      <td>Ranipet</td>\n",
       "      <td>Tamil Nadu</td>\n",
       "      <td>2024-03-19 22:00</td>\n",
       "      <td>23.8</td>\n",
       "      <td>11.5</td>\n",
       "      <td>29.91</td>\n",
       "      <td>0.0</td>\n",
       "      <td>72</td>\n",
       "      <td>25.6</td>\n",
       "      <td>7.1</td>\n",
       "    </tr>\n",
       "    <tr>\n",
       "      <th>109534</th>\n",
       "      <td>Tenkasi</td>\n",
       "      <td>Tamil Nadu</td>\n",
       "      <td>2024-03-19 22:00</td>\n",
       "      <td>30.0</td>\n",
       "      <td>9.0</td>\n",
       "      <td>29.88</td>\n",
       "      <td>0.0</td>\n",
       "      <td>62</td>\n",
       "      <td>37.7</td>\n",
       "      <td>4.2</td>\n",
       "    </tr>\n",
       "    <tr>\n",
       "      <th>109535</th>\n",
       "      <td>Pendra</td>\n",
       "      <td>Maharashtra</td>\n",
       "      <td>2024-03-19 22:00</td>\n",
       "      <td>24.2</td>\n",
       "      <td>3.6</td>\n",
       "      <td>29.89</td>\n",
       "      <td>0.0</td>\n",
       "      <td>13</td>\n",
       "      <td>23.3</td>\n",
       "      <td>3.1</td>\n",
       "    </tr>\n",
       "  </tbody>\n",
       "</table>\n",
       "<p>109536 rows × 10 columns</p>\n",
       "</div>"
      ],
      "text/plain": [
       "       location_name          region      last_updated  temperature_celsius  \\\n",
       "0         Ashoknagar  Madhya Pradesh  2023-08-29 10:45                 27.5   \n",
       "1             Raisen  Madhya Pradesh  2023-08-29 10:45                 27.5   \n",
       "2         Chhindwara  Madhya Pradesh  2023-08-29 10:45                 26.3   \n",
       "3              Betul  Madhya Pradesh  2023-08-29 10:45                 25.6   \n",
       "4        Hoshangabad  Madhya Pradesh  2023-08-29 10:45                 27.2   \n",
       "...              ...             ...               ...                  ...   \n",
       "109531        Niwari   Uttar Pradesh  2024-03-19 22:00                 25.0   \n",
       "109532       Saitual         Mizoram  2024-03-19 22:00                 20.6   \n",
       "109533       Ranipet      Tamil Nadu  2024-03-19 22:00                 23.8   \n",
       "109534       Tenkasi      Tamil Nadu  2024-03-19 22:00                 30.0   \n",
       "109535        Pendra     Maharashtra  2024-03-19 22:00                 24.2   \n",
       "\n",
       "        wind_kph  pressure_in  precip_mm  humidity  feels_like_celsius  \\\n",
       "0           20.5        29.77        0.0        67                29.7   \n",
       "1           15.5        29.78        0.0        70                30.0   \n",
       "2           18.4        29.78        0.0        70                28.2   \n",
       "3           16.9        29.80        0.0        76                27.6   \n",
       "4           16.2        29.79        0.0        74                29.9   \n",
       "...          ...          ...        ...       ...                 ...   \n",
       "109531       6.1        29.94        0.0        39                23.8   \n",
       "109532       3.6        29.92        0.0        34                20.7   \n",
       "109533      11.5        29.91        0.0        72                25.6   \n",
       "109534       9.0        29.88        0.0        62                37.7   \n",
       "109535       3.6        29.89        0.0        13                23.3   \n",
       "\n",
       "        air_quality_Nitrogen_dioxide  \n",
       "0                                1.7  \n",
       "1                                2.1  \n",
       "2                                0.6  \n",
       "3                                1.2  \n",
       "4                                2.2  \n",
       "...                              ...  \n",
       "109531                          32.9  \n",
       "109532                           4.8  \n",
       "109533                           7.1  \n",
       "109534                           4.2  \n",
       "109535                           3.1  \n",
       "\n",
       "[109536 rows x 10 columns]"
      ]
     },
     "execution_count": 30,
     "metadata": {},
     "output_type": "execute_result"
    }
   ],
   "source": [
    "columns_to_drop =['air_quality_gb-defra-index','country','latitude','longitude','air_quality_us-epa-index','timezone','condition_text','air_quality_Sulphur_dioxide','air_quality_PM2.5','last_updated_epoch','moon_phase','moon_illumination','wind_mph','wind_degree','wind_direction','pressure_mb','precip_in','feels_like_fahrenheit','visibility_miles','uv_index','gust_mph','gust_kph','temperature_fahrenheit','cloud','visibility_km','air_quality_PM10','sunrise','sunset','moonrise','moonset','air_quality_Ozone','air_quality_Carbon_Monoxide']\n",
    "weather01 = weather01.drop(columns_to_drop, axis=1)\n",
    "weather01.head()\n",
    "weather01\n"
   ]
  },
  {
   "cell_type": "code",
   "execution_count": 31,
   "metadata": {},
   "outputs": [
    {
     "name": "stdout",
     "output_type": "stream",
     "text": [
      "location_name                         Ashoknagar\n",
      "region                            Madhya Pradesh\n",
      "last_updated                    2023-08-29 10:45\n",
      "temperature_celsius                         27.5\n",
      "wind_kph                                    20.5\n",
      "pressure_in                                29.77\n",
      "precip_mm                                    0.0\n",
      "humidity                                      67\n",
      "feels_like_celsius                          29.7\n",
      "air_quality_Nitrogen_dioxide                 1.7\n",
      "Name: 0, dtype: object\n"
     ]
    }
   ],
   "source": [
    "first_row = weather01.iloc[0]\n",
    "print(first_row)"
   ]
  },
  {
   "cell_type": "code",
   "execution_count": 32,
   "metadata": {},
   "outputs": [
    {
     "data": {
      "text/plain": [
       "(109536, 10)"
      ]
     },
     "execution_count": 32,
     "metadata": {},
     "output_type": "execute_result"
    }
   ],
   "source": [
    "#renaming our columns\n",
    "weather01 = weather01.rename(columns={'location_name':'location','last_updated':'date','condition_text':'cloud_cover'})\n",
    "weather01.shape"
   ]
  },
  {
   "cell_type": "code",
   "execution_count": 33,
   "metadata": {},
   "outputs": [
    {
     "data": {
      "text/html": [
       "<div>\n",
       "<style scoped>\n",
       "    .dataframe tbody tr th:only-of-type {\n",
       "        vertical-align: middle;\n",
       "    }\n",
       "\n",
       "    .dataframe tbody tr th {\n",
       "        vertical-align: top;\n",
       "    }\n",
       "\n",
       "    .dataframe thead th {\n",
       "        text-align: right;\n",
       "    }\n",
       "</style>\n",
       "<table border=\"1\" class=\"dataframe\">\n",
       "  <thead>\n",
       "    <tr style=\"text-align: right;\">\n",
       "      <th></th>\n",
       "      <th>location</th>\n",
       "      <th>region</th>\n",
       "      <th>date</th>\n",
       "      <th>temperature_celsius</th>\n",
       "      <th>wind_kph</th>\n",
       "      <th>pressure_in</th>\n",
       "      <th>precip_mm</th>\n",
       "      <th>humidity</th>\n",
       "      <th>feels_like_celsius</th>\n",
       "      <th>air_quality_Nitrogen_dioxide</th>\n",
       "      <th>date_time</th>\n",
       "    </tr>\n",
       "  </thead>\n",
       "  <tbody>\n",
       "    <tr>\n",
       "      <th>0</th>\n",
       "      <td>Ashoknagar</td>\n",
       "      <td>Madhya Pradesh</td>\n",
       "      <td>2023-08-29 10:45</td>\n",
       "      <td>27.5</td>\n",
       "      <td>20.5</td>\n",
       "      <td>29.77</td>\n",
       "      <td>0.0</td>\n",
       "      <td>67</td>\n",
       "      <td>29.7</td>\n",
       "      <td>1.7</td>\n",
       "      <td>2023-08-29 10:45:00</td>\n",
       "    </tr>\n",
       "    <tr>\n",
       "      <th>1</th>\n",
       "      <td>Raisen</td>\n",
       "      <td>Madhya Pradesh</td>\n",
       "      <td>2023-08-29 10:45</td>\n",
       "      <td>27.5</td>\n",
       "      <td>15.5</td>\n",
       "      <td>29.78</td>\n",
       "      <td>0.0</td>\n",
       "      <td>70</td>\n",
       "      <td>30.0</td>\n",
       "      <td>2.1</td>\n",
       "      <td>2023-08-29 10:45:00</td>\n",
       "    </tr>\n",
       "    <tr>\n",
       "      <th>2</th>\n",
       "      <td>Chhindwara</td>\n",
       "      <td>Madhya Pradesh</td>\n",
       "      <td>2023-08-29 10:45</td>\n",
       "      <td>26.3</td>\n",
       "      <td>18.4</td>\n",
       "      <td>29.78</td>\n",
       "      <td>0.0</td>\n",
       "      <td>70</td>\n",
       "      <td>28.2</td>\n",
       "      <td>0.6</td>\n",
       "      <td>2023-08-29 10:45:00</td>\n",
       "    </tr>\n",
       "    <tr>\n",
       "      <th>3</th>\n",
       "      <td>Betul</td>\n",
       "      <td>Madhya Pradesh</td>\n",
       "      <td>2023-08-29 10:45</td>\n",
       "      <td>25.6</td>\n",
       "      <td>16.9</td>\n",
       "      <td>29.80</td>\n",
       "      <td>0.0</td>\n",
       "      <td>76</td>\n",
       "      <td>27.6</td>\n",
       "      <td>1.2</td>\n",
       "      <td>2023-08-29 10:45:00</td>\n",
       "    </tr>\n",
       "    <tr>\n",
       "      <th>4</th>\n",
       "      <td>Hoshangabad</td>\n",
       "      <td>Madhya Pradesh</td>\n",
       "      <td>2023-08-29 10:45</td>\n",
       "      <td>27.2</td>\n",
       "      <td>16.2</td>\n",
       "      <td>29.79</td>\n",
       "      <td>0.0</td>\n",
       "      <td>74</td>\n",
       "      <td>29.9</td>\n",
       "      <td>2.2</td>\n",
       "      <td>2023-08-29 10:45:00</td>\n",
       "    </tr>\n",
       "  </tbody>\n",
       "</table>\n",
       "</div>"
      ],
      "text/plain": [
       "      location          region              date  temperature_celsius  \\\n",
       "0   Ashoknagar  Madhya Pradesh  2023-08-29 10:45                 27.5   \n",
       "1       Raisen  Madhya Pradesh  2023-08-29 10:45                 27.5   \n",
       "2   Chhindwara  Madhya Pradesh  2023-08-29 10:45                 26.3   \n",
       "3        Betul  Madhya Pradesh  2023-08-29 10:45                 25.6   \n",
       "4  Hoshangabad  Madhya Pradesh  2023-08-29 10:45                 27.2   \n",
       "\n",
       "   wind_kph  pressure_in  precip_mm  humidity  feels_like_celsius  \\\n",
       "0      20.5        29.77        0.0        67                29.7   \n",
       "1      15.5        29.78        0.0        70                30.0   \n",
       "2      18.4        29.78        0.0        70                28.2   \n",
       "3      16.9        29.80        0.0        76                27.6   \n",
       "4      16.2        29.79        0.0        74                29.9   \n",
       "\n",
       "   air_quality_Nitrogen_dioxide           date_time  \n",
       "0                           1.7 2023-08-29 10:45:00  \n",
       "1                           2.1 2023-08-29 10:45:00  \n",
       "2                           0.6 2023-08-29 10:45:00  \n",
       "3                           1.2 2023-08-29 10:45:00  \n",
       "4                           2.2 2023-08-29 10:45:00  "
      ]
     },
     "execution_count": 33,
     "metadata": {},
     "output_type": "execute_result"
    }
   ],
   "source": [
    "# Converting 'date' column to datetime format\n",
    "weather01['date_time'] = pd.to_datetime(weather01['date'], format='%Y-%m-%d %H:%M')\n",
    "weather01.head()\n"
   ]
  },
  {
   "cell_type": "code",
   "execution_count": 34,
   "metadata": {},
   "outputs": [
    {
     "name": "stdout",
     "output_type": "stream",
     "text": [
      "Daily Aggregated Data:\n",
      "            temperature_celsius   humidity  precip_mm\n",
      "date_time                                            \n",
      "2023-08-29            29.666667  59.926335       27.1\n",
      "2023-08-30            28.246909  65.676364       26.2\n",
      "2023-08-31            24.940182  76.690909      122.4\n",
      "2023-09-01            25.379779  76.154412      206.0\n",
      "2023-09-02            25.628780  75.327869      268.4\n"
     ]
    }
   ],
   "source": [
    "#Now we will calculate Temporal aggregation which we will use further \n",
    "# Calculate daily average temperature, humidity, and total precipitation\n",
    "daily_aggregated_data = weather01.resample('D', on='date_time').agg({\n",
    "    'temperature_celsius': 'mean',\n",
    "    'humidity': 'mean',\n",
    "    'precip_mm': 'sum'\n",
    "})\n",
    "\n",
    "print(\"Daily Aggregated Data:\")\n",
    "print(daily_aggregated_data.head())"
   ]
  },
  {
   "cell_type": "code",
   "execution_count": 35,
   "metadata": {},
   "outputs": [],
   "source": [
    "weather01=weather01.drop('date',axis=1)\n"
   ]
  },
  {
   "cell_type": "code",
   "execution_count": 36,
   "metadata": {},
   "outputs": [
    {
     "data": {
      "text/html": [
       "<div>\n",
       "<style scoped>\n",
       "    .dataframe tbody tr th:only-of-type {\n",
       "        vertical-align: middle;\n",
       "    }\n",
       "\n",
       "    .dataframe tbody tr th {\n",
       "        vertical-align: top;\n",
       "    }\n",
       "\n",
       "    .dataframe thead th {\n",
       "        text-align: right;\n",
       "    }\n",
       "</style>\n",
       "<table border=\"1\" class=\"dataframe\">\n",
       "  <thead>\n",
       "    <tr style=\"text-align: right;\">\n",
       "      <th></th>\n",
       "      <th>location</th>\n",
       "      <th>region</th>\n",
       "      <th>temperature_celsius</th>\n",
       "      <th>wind_kph</th>\n",
       "      <th>pressure_in</th>\n",
       "      <th>precip_mm</th>\n",
       "      <th>humidity</th>\n",
       "      <th>feels_like_celsius</th>\n",
       "      <th>air_quality_Nitrogen_dioxide</th>\n",
       "      <th>date_time</th>\n",
       "    </tr>\n",
       "  </thead>\n",
       "  <tbody>\n",
       "    <tr>\n",
       "      <th>355</th>\n",
       "      <td>Pune</td>\n",
       "      <td>Maharashtra</td>\n",
       "      <td>26.4</td>\n",
       "      <td>15.8</td>\n",
       "      <td>29.84</td>\n",
       "      <td>0.0</td>\n",
       "      <td>64</td>\n",
       "      <td>27.9</td>\n",
       "      <td>3.4</td>\n",
       "      <td>2023-08-29 10:45:00</td>\n",
       "    </tr>\n",
       "    <tr>\n",
       "      <th>900</th>\n",
       "      <td>Pune</td>\n",
       "      <td>Maharashtra</td>\n",
       "      <td>25.3</td>\n",
       "      <td>8.3</td>\n",
       "      <td>29.88</td>\n",
       "      <td>0.0</td>\n",
       "      <td>67</td>\n",
       "      <td>26.8</td>\n",
       "      <td>5.7</td>\n",
       "      <td>2023-08-30 09:00:00</td>\n",
       "    </tr>\n",
       "    <tr>\n",
       "      <th>1449</th>\n",
       "      <td>Pune</td>\n",
       "      <td>Maharashtra</td>\n",
       "      <td>21.1</td>\n",
       "      <td>6.8</td>\n",
       "      <td>29.84</td>\n",
       "      <td>0.0</td>\n",
       "      <td>93</td>\n",
       "      <td>21.1</td>\n",
       "      <td>6.3</td>\n",
       "      <td>2023-08-31 05:30:00</td>\n",
       "    </tr>\n",
       "    <tr>\n",
       "      <th>1998</th>\n",
       "      <td>Pune</td>\n",
       "      <td>Maharashtra</td>\n",
       "      <td>23.4</td>\n",
       "      <td>8.3</td>\n",
       "      <td>29.81</td>\n",
       "      <td>0.0</td>\n",
       "      <td>79</td>\n",
       "      <td>25.4</td>\n",
       "      <td>16.3</td>\n",
       "      <td>2023-09-01 05:15:00</td>\n",
       "    </tr>\n",
       "    <tr>\n",
       "      <th>2542</th>\n",
       "      <td>Pune</td>\n",
       "      <td>Maharashtra</td>\n",
       "      <td>24.8</td>\n",
       "      <td>5.8</td>\n",
       "      <td>29.79</td>\n",
       "      <td>0.0</td>\n",
       "      <td>76</td>\n",
       "      <td>26.7</td>\n",
       "      <td>11.5</td>\n",
       "      <td>2023-09-02 05:15:00</td>\n",
       "    </tr>\n",
       "    <tr>\n",
       "      <th>...</th>\n",
       "      <td>...</td>\n",
       "      <td>...</td>\n",
       "      <td>...</td>\n",
       "      <td>...</td>\n",
       "      <td>...</td>\n",
       "      <td>...</td>\n",
       "      <td>...</td>\n",
       "      <td>...</td>\n",
       "      <td>...</td>\n",
       "      <td>...</td>\n",
       "    </tr>\n",
       "    <tr>\n",
       "      <th>107146</th>\n",
       "      <td>Pune</td>\n",
       "      <td>Maharashtra</td>\n",
       "      <td>24.0</td>\n",
       "      <td>7.6</td>\n",
       "      <td>29.95</td>\n",
       "      <td>0.0</td>\n",
       "      <td>36</td>\n",
       "      <td>24.6</td>\n",
       "      <td>32.9</td>\n",
       "      <td>2024-03-15 22:15:00</td>\n",
       "    </tr>\n",
       "    <tr>\n",
       "      <th>107694</th>\n",
       "      <td>Pune</td>\n",
       "      <td>Maharashtra</td>\n",
       "      <td>24.6</td>\n",
       "      <td>11.5</td>\n",
       "      <td>29.95</td>\n",
       "      <td>0.0</td>\n",
       "      <td>37</td>\n",
       "      <td>24.9</td>\n",
       "      <td>17.7</td>\n",
       "      <td>2024-03-16 22:00:00</td>\n",
       "    </tr>\n",
       "    <tr>\n",
       "      <th>108246</th>\n",
       "      <td>Pune</td>\n",
       "      <td>Maharashtra</td>\n",
       "      <td>24.0</td>\n",
       "      <td>15.1</td>\n",
       "      <td>29.95</td>\n",
       "      <td>0.0</td>\n",
       "      <td>36</td>\n",
       "      <td>24.6</td>\n",
       "      <td>14.4</td>\n",
       "      <td>2024-03-17 22:15:00</td>\n",
       "    </tr>\n",
       "    <tr>\n",
       "      <th>108797</th>\n",
       "      <td>Pune</td>\n",
       "      <td>Maharashtra</td>\n",
       "      <td>24.6</td>\n",
       "      <td>10.4</td>\n",
       "      <td>29.94</td>\n",
       "      <td>0.0</td>\n",
       "      <td>35</td>\n",
       "      <td>24.8</td>\n",
       "      <td>19.4</td>\n",
       "      <td>2024-03-18 22:15:00</td>\n",
       "    </tr>\n",
       "    <tr>\n",
       "      <th>109344</th>\n",
       "      <td>Pune</td>\n",
       "      <td>Maharashtra</td>\n",
       "      <td>24.8</td>\n",
       "      <td>10.1</td>\n",
       "      <td>29.93</td>\n",
       "      <td>0.0</td>\n",
       "      <td>31</td>\n",
       "      <td>24.7</td>\n",
       "      <td>25.4</td>\n",
       "      <td>2024-03-19 22:00:00</td>\n",
       "    </tr>\n",
       "  </tbody>\n",
       "</table>\n",
       "<p>200 rows × 10 columns</p>\n",
       "</div>"
      ],
      "text/plain": [
       "       location       region  temperature_celsius  wind_kph  pressure_in  \\\n",
       "355        Pune  Maharashtra                 26.4      15.8        29.84   \n",
       "900        Pune  Maharashtra                 25.3       8.3        29.88   \n",
       "1449       Pune  Maharashtra                 21.1       6.8        29.84   \n",
       "1998       Pune  Maharashtra                 23.4       8.3        29.81   \n",
       "2542       Pune  Maharashtra                 24.8       5.8        29.79   \n",
       "...         ...          ...                  ...       ...          ...   \n",
       "107146     Pune  Maharashtra                 24.0       7.6        29.95   \n",
       "107694     Pune  Maharashtra                 24.6      11.5        29.95   \n",
       "108246     Pune  Maharashtra                 24.0      15.1        29.95   \n",
       "108797     Pune  Maharashtra                 24.6      10.4        29.94   \n",
       "109344     Pune  Maharashtra                 24.8      10.1        29.93   \n",
       "\n",
       "        precip_mm  humidity  feels_like_celsius  air_quality_Nitrogen_dioxide  \\\n",
       "355           0.0        64                27.9                           3.4   \n",
       "900           0.0        67                26.8                           5.7   \n",
       "1449          0.0        93                21.1                           6.3   \n",
       "1998          0.0        79                25.4                          16.3   \n",
       "2542          0.0        76                26.7                          11.5   \n",
       "...           ...       ...                 ...                           ...   \n",
       "107146        0.0        36                24.6                          32.9   \n",
       "107694        0.0        37                24.9                          17.7   \n",
       "108246        0.0        36                24.6                          14.4   \n",
       "108797        0.0        35                24.8                          19.4   \n",
       "109344        0.0        31                24.7                          25.4   \n",
       "\n",
       "                 date_time  \n",
       "355    2023-08-29 10:45:00  \n",
       "900    2023-08-30 09:00:00  \n",
       "1449   2023-08-31 05:30:00  \n",
       "1998   2023-09-01 05:15:00  \n",
       "2542   2023-09-02 05:15:00  \n",
       "...                    ...  \n",
       "107146 2024-03-15 22:15:00  \n",
       "107694 2024-03-16 22:00:00  \n",
       "108246 2024-03-17 22:15:00  \n",
       "108797 2024-03-18 22:15:00  \n",
       "109344 2024-03-19 22:00:00  \n",
       "\n",
       "[200 rows x 10 columns]"
      ]
     },
     "execution_count": 36,
     "metadata": {},
     "output_type": "execute_result"
    }
   ],
   "source": [
    "grouped_data = weather01.groupby(['location'])\n",
    "\n",
    "derived_group_name = None\n",
    "\n",
    "city_name= input('enter city name:')\n",
    "\n",
    "derived_group_name = city_name\n",
    "City = grouped_data.get_group(derived_group_name)\n",
    "City"
   ]
  },
  {
   "cell_type": "code",
   "execution_count": 37,
   "metadata": {},
   "outputs": [
    {
     "name": "stderr",
     "output_type": "stream",
     "text": [
      "c:\\Users\\shree\\anaconda3\\Lib\\site-packages\\_plotly_utils\\basevalidators.py:106: FutureWarning:\n",
      "\n",
      "The behavior of DatetimeProperties.to_pydatetime is deprecated, in a future version this will return a Series containing python datetime objects instead of an ndarray. To retain the old behavior, call `np.array` on the result\n",
      "\n"
     ]
    },
    {
     "data": {
      "application/vnd.plotly.v1+json": {
       "config": {
        "plotlyServerURL": "https://plot.ly"
       },
       "data": [
        {
         "hovertemplate": "date_time=%{x}<br>temperature_celsius=%{y}<extra></extra>",
         "legendgroup": "",
         "line": {
          "color": "#636efa",
          "dash": "solid"
         },
         "marker": {
          "symbol": "circle"
         },
         "mode": "lines",
         "name": "",
         "orientation": "v",
         "showlegend": false,
         "type": "scatter",
         "x": [
          "2023-08-29T10:45:00",
          "2023-08-30T09:00:00",
          "2023-08-31T05:30:00",
          "2023-09-01T05:15:00",
          "2023-09-02T05:15:00",
          "2023-09-03T05:15:00",
          "2023-09-04T05:15:00",
          "2023-09-05T05:00:00",
          "2023-09-06T05:00:00",
          "2023-09-07T04:45:00",
          "2023-09-08T04:30:00",
          "2023-09-09T04:30:00",
          "2023-09-10T04:30:00",
          "2023-09-11T04:30:00",
          "2023-09-12T04:30:00",
          "2023-09-13T04:15:00",
          "2023-09-14T20:00:00",
          "2023-09-15T04:15:00",
          "2023-09-16T04:15:00",
          "2023-09-17T04:00:00",
          "2023-09-18T04:15:00",
          "2023-09-19T04:00:00",
          "2023-09-20T04:00:00",
          "2023-09-21T04:00:00",
          "2023-09-22T04:00:00",
          "2023-09-23T03:45:00",
          "2023-09-24T04:00:00",
          "2023-09-25T03:45:00",
          "2023-09-26T03:45:00",
          "2023-09-27T03:45:00",
          "2023-09-28T03:30:00",
          "2023-09-29T04:15:00",
          "2023-09-30T03:15:00",
          "2023-10-01T04:00:00",
          "2023-10-02T03:15:00",
          "2023-10-03T03:30:00",
          "2023-10-04T03:15:00",
          "2023-10-05T03:00:00",
          "2023-10-06T03:00:00",
          "2023-10-07T02:45:00",
          "2023-10-08T02:45:00",
          "2023-10-09T02:30:00",
          "2023-10-10T03:00:00",
          "2023-10-11T02:45:00",
          "2023-10-12T02:45:00",
          "2023-10-13T02:45:00",
          "2023-10-14T02:30:00",
          "2023-10-15T02:30:00",
          "2023-10-16T02:30:00",
          "2023-10-17T02:15:00",
          "2023-10-18T02:30:00",
          "2023-10-19T02:15:00",
          "2023-10-20T02:30:00",
          "2023-10-21T02:15:00",
          "2023-10-22T02:15:00",
          "2023-10-23T02:15:00",
          "2023-10-24T02:15:00",
          "2023-10-25T02:15:00",
          "2023-10-26T02:00:00",
          "2023-10-27T02:15:00",
          "2023-10-28T02:00:00",
          "2023-10-29T02:45:00",
          "2023-10-30T01:45:00",
          "2023-11-01T02:00:00",
          "2023-11-02T01:45:00",
          "2023-11-03T02:00:00",
          "2023-11-04T01:45:00",
          "2023-11-05T01:45:00",
          "2023-11-06T01:30:00",
          "2023-11-07T01:45:00",
          "2023-11-08T01:45:00",
          "2023-11-09T01:30:00",
          "2023-11-10T01:45:00",
          "2023-11-11T01:30:00",
          "2023-11-15T04:00:00",
          "2023-11-16T01:45:00",
          "2023-11-17T01:15:00",
          "2023-11-18T01:30:00",
          "2023-11-19T01:15:00",
          "2023-11-20T01:30:00",
          "2023-11-21T01:15:00",
          "2023-11-22T00:45:00",
          "2023-11-23T01:00:00",
          "2023-11-24T01:15:00",
          "2023-11-25T01:00:00",
          "2023-11-26T01:30:00",
          "2023-11-27T01:15:00",
          "2023-11-28T01:15:00",
          "2023-11-29T01:15:00",
          "2023-11-30T01:00:00",
          "2023-12-01T00:45:00",
          "2023-12-02T01:00:00",
          "2023-12-04T02:00:00",
          "2023-12-05T01:15:00",
          "2023-12-06T01:30:00",
          "2023-12-07T01:15:00",
          "2023-12-08T01:00:00",
          "2023-12-09T00:45:00",
          "2023-12-10T01:00:00",
          "2023-12-11T01:00:00",
          "2023-12-12T01:00:00",
          "2023-12-13T01:00:00",
          "2023-12-14T00:45:00",
          "2023-12-15T00:45:00",
          "2023-12-16T01:00:00",
          "2023-12-17T00:45:00",
          "2023-12-18T00:45:00",
          "2023-12-19T00:30:00",
          "2023-12-20T01:15:00",
          "2023-12-21T00:30:00",
          "2023-12-22T00:15:00",
          "2023-12-23T00:00:00",
          "2023-12-24T00:15:00",
          "2023-12-25T00:15:00",
          "2023-12-26T00:15:00",
          "2023-12-27T00:45:00",
          "2023-12-28T00:15:00",
          "2023-12-29T00:00:00",
          "2023-12-29T23:45:00",
          "2023-12-31T00:00:00",
          "2024-01-01T00:00:00",
          "2024-01-02T00:15:00",
          "2024-01-03T00:30:00",
          "2024-01-03T23:45:00",
          "2024-01-05T00:00:00",
          "2024-01-06T00:00:00",
          "2024-01-06T23:45:00",
          "2024-01-07T23:15:00",
          "2024-01-09T01:00:00",
          "2024-01-10T00:00:00",
          "2024-01-11T00:00:00",
          "2024-01-11T23:30:00",
          "2024-01-12T23:45:00",
          "2024-01-13T23:45:00",
          "2024-01-15T00:00:00",
          "2024-01-16T00:00:00",
          "2024-01-17T00:00:00",
          "2024-01-17T23:30:00",
          "2024-01-18T23:45:00",
          "2024-01-19T23:45:00",
          "2024-01-20T23:45:00",
          "2024-01-21T23:00:00",
          "2024-01-23T00:00:00",
          "2024-01-23T23:30:00",
          "2024-01-24T23:30:00",
          "2024-01-25T23:00:00",
          "2024-01-26T23:30:00",
          "2024-01-27T23:15:00",
          "2024-01-28T23:45:00",
          "2024-01-29T23:30:00",
          "2024-01-30T23:30:00",
          "2024-01-31T23:15:00",
          "2024-02-01T23:30:00",
          "2024-02-02T23:30:00",
          "2024-02-03T23:30:00",
          "2024-02-04T23:00:00",
          "2024-02-05T23:45:00",
          "2024-02-06T23:15:00",
          "2024-02-07T23:15:00",
          "2024-02-08T23:15:00",
          "2024-02-09T23:15:00",
          "2024-02-10T23:30:00",
          "2024-02-11T23:15:00",
          "2024-02-12T23:30:00",
          "2024-02-13T23:00:00",
          "2024-02-14T23:15:00",
          "2024-02-15T23:15:00",
          "2024-02-16T23:00:00",
          "2024-02-17T23:15:00",
          "2024-02-18T23:00:00",
          "2024-02-19T23:15:00",
          "2024-02-20T23:00:00",
          "2024-02-21T23:15:00",
          "2024-02-22T22:45:00",
          "2024-02-23T22:45:00",
          "2024-02-24T23:15:00",
          "2024-02-25T22:45:00",
          "2024-02-26T22:45:00",
          "2024-02-27T22:30:00",
          "2024-02-28T22:45:00",
          "2024-02-29T22:15:00",
          "2024-03-01T22:30:00",
          "2024-03-02T22:45:00",
          "2024-03-03T22:45:00",
          "2024-03-04T22:30:00",
          "2024-03-05T22:30:00",
          "2024-03-06T22:45:00",
          "2024-03-07T22:45:00",
          "2024-03-08T22:30:00",
          "2024-03-09T22:30:00",
          "2024-03-10T22:45:00",
          "2024-03-11T22:30:00",
          "2024-03-12T22:15:00",
          "2024-03-13T22:30:00",
          "2024-03-14T22:15:00",
          "2024-03-15T22:15:00",
          "2024-03-16T22:00:00",
          "2024-03-17T22:15:00",
          "2024-03-18T22:15:00",
          "2024-03-19T22:00:00"
         ],
         "xaxis": "x",
         "y": [
          26.4,
          25.3,
          21.1,
          23.4,
          24.8,
          22.5,
          21.2,
          20.9,
          21.4,
          21.5,
          21.3,
          21.4,
          21.7,
          21.6,
          20.8,
          20.1,
          22.3,
          20.4,
          21.7,
          22,
          21.8,
          21.6,
          21.6,
          22.3,
          22.4,
          22.1,
          21.2,
          21,
          20.9,
          21.5,
          22.6,
          23.1,
          22.6,
          23.2,
          21.2,
          20.7,
          21.4,
          21.8,
          20.3,
          21.4,
          22.6,
          22.4,
          22.3,
          22.9,
          24.5,
          25.4,
          23,
          22.8,
          23.4,
          23.4,
          23.4,
          23.9,
          24.6,
          23.3,
          24,
          22.4,
          22.7,
          22.3,
          21.8,
          20.2,
          20.1,
          20.5,
          20.8,
          21,
          20.3,
          20.3,
          21.3,
          24.2,
          21.1,
          20.8,
          21.9,
          22.2,
          22.3,
          22.4,
          19.4,
          19.6,
          20,
          20.1,
          22,
          23.4,
          23,
          19.8,
          20,
          22.7,
          23.3,
          23.9,
          19.9,
          20.3,
          20.4,
          20.1,
          22,
          22.6,
          20.8,
          20.3,
          19.8,
          20.9,
          20.2,
          19.9,
          21.1,
          20.2,
          20.2,
          19.4,
          19.6,
          19.1,
          18.5,
          19,
          20.6,
          19.5,
          18.8,
          18.8,
          20.9,
          19.5,
          19.7,
          19.5,
          20.4,
          19.7,
          19.7,
          19.9,
          20.5,
          19.3,
          19.3,
          19.7,
          20.9,
          20.5,
          19.9,
          20.6,
          22.8,
          21.6,
          23.2,
          23,
          21.7,
          24,
          22.7,
          21.5,
          19.7,
          17,
          16.3,
          17.8,
          17.4,
          18.9,
          18.4,
          19.8,
          16.9,
          17.8,
          18.1,
          19.6,
          21,
          21.6,
          20.8,
          21.4,
          21,
          18.4,
          18.5,
          21.1,
          22.6,
          22.7,
          23.2,
          23.5,
          22.4,
          22.2,
          22,
          21.5,
          21.6,
          22,
          22.2,
          23,
          23.7,
          24.1,
          23.1,
          23.3,
          22.5,
          20.5,
          19.8,
          20,
          21.1,
          21.2,
          24.1,
          25.7,
          25.9,
          26.6,
          28.3,
          25.7,
          21.8,
          20.8,
          22,
          23.1,
          22.7,
          24,
          24.9,
          25.5,
          25.1,
          26.6,
          26.5,
          24.7,
          24.3,
          24,
          24.6,
          24,
          24.6,
          24.8
         ],
         "yaxis": "y"
        }
       ],
       "layout": {
        "legend": {
         "tracegroupgap": 0
        },
        "margin": {
         "t": 60
        },
        "template": {
         "data": {
          "bar": [
           {
            "error_x": {
             "color": "#2a3f5f"
            },
            "error_y": {
             "color": "#2a3f5f"
            },
            "marker": {
             "line": {
              "color": "#E5ECF6",
              "width": 0.5
             },
             "pattern": {
              "fillmode": "overlay",
              "size": 10,
              "solidity": 0.2
             }
            },
            "type": "bar"
           }
          ],
          "barpolar": [
           {
            "marker": {
             "line": {
              "color": "#E5ECF6",
              "width": 0.5
             },
             "pattern": {
              "fillmode": "overlay",
              "size": 10,
              "solidity": 0.2
             }
            },
            "type": "barpolar"
           }
          ],
          "carpet": [
           {
            "aaxis": {
             "endlinecolor": "#2a3f5f",
             "gridcolor": "white",
             "linecolor": "white",
             "minorgridcolor": "white",
             "startlinecolor": "#2a3f5f"
            },
            "baxis": {
             "endlinecolor": "#2a3f5f",
             "gridcolor": "white",
             "linecolor": "white",
             "minorgridcolor": "white",
             "startlinecolor": "#2a3f5f"
            },
            "type": "carpet"
           }
          ],
          "choropleth": [
           {
            "colorbar": {
             "outlinewidth": 0,
             "ticks": ""
            },
            "type": "choropleth"
           }
          ],
          "contour": [
           {
            "colorbar": {
             "outlinewidth": 0,
             "ticks": ""
            },
            "colorscale": [
             [
              0,
              "#0d0887"
             ],
             [
              0.1111111111111111,
              "#46039f"
             ],
             [
              0.2222222222222222,
              "#7201a8"
             ],
             [
              0.3333333333333333,
              "#9c179e"
             ],
             [
              0.4444444444444444,
              "#bd3786"
             ],
             [
              0.5555555555555556,
              "#d8576b"
             ],
             [
              0.6666666666666666,
              "#ed7953"
             ],
             [
              0.7777777777777778,
              "#fb9f3a"
             ],
             [
              0.8888888888888888,
              "#fdca26"
             ],
             [
              1,
              "#f0f921"
             ]
            ],
            "type": "contour"
           }
          ],
          "contourcarpet": [
           {
            "colorbar": {
             "outlinewidth": 0,
             "ticks": ""
            },
            "type": "contourcarpet"
           }
          ],
          "heatmap": [
           {
            "colorbar": {
             "outlinewidth": 0,
             "ticks": ""
            },
            "colorscale": [
             [
              0,
              "#0d0887"
             ],
             [
              0.1111111111111111,
              "#46039f"
             ],
             [
              0.2222222222222222,
              "#7201a8"
             ],
             [
              0.3333333333333333,
              "#9c179e"
             ],
             [
              0.4444444444444444,
              "#bd3786"
             ],
             [
              0.5555555555555556,
              "#d8576b"
             ],
             [
              0.6666666666666666,
              "#ed7953"
             ],
             [
              0.7777777777777778,
              "#fb9f3a"
             ],
             [
              0.8888888888888888,
              "#fdca26"
             ],
             [
              1,
              "#f0f921"
             ]
            ],
            "type": "heatmap"
           }
          ],
          "heatmapgl": [
           {
            "colorbar": {
             "outlinewidth": 0,
             "ticks": ""
            },
            "colorscale": [
             [
              0,
              "#0d0887"
             ],
             [
              0.1111111111111111,
              "#46039f"
             ],
             [
              0.2222222222222222,
              "#7201a8"
             ],
             [
              0.3333333333333333,
              "#9c179e"
             ],
             [
              0.4444444444444444,
              "#bd3786"
             ],
             [
              0.5555555555555556,
              "#d8576b"
             ],
             [
              0.6666666666666666,
              "#ed7953"
             ],
             [
              0.7777777777777778,
              "#fb9f3a"
             ],
             [
              0.8888888888888888,
              "#fdca26"
             ],
             [
              1,
              "#f0f921"
             ]
            ],
            "type": "heatmapgl"
           }
          ],
          "histogram": [
           {
            "marker": {
             "pattern": {
              "fillmode": "overlay",
              "size": 10,
              "solidity": 0.2
             }
            },
            "type": "histogram"
           }
          ],
          "histogram2d": [
           {
            "colorbar": {
             "outlinewidth": 0,
             "ticks": ""
            },
            "colorscale": [
             [
              0,
              "#0d0887"
             ],
             [
              0.1111111111111111,
              "#46039f"
             ],
             [
              0.2222222222222222,
              "#7201a8"
             ],
             [
              0.3333333333333333,
              "#9c179e"
             ],
             [
              0.4444444444444444,
              "#bd3786"
             ],
             [
              0.5555555555555556,
              "#d8576b"
             ],
             [
              0.6666666666666666,
              "#ed7953"
             ],
             [
              0.7777777777777778,
              "#fb9f3a"
             ],
             [
              0.8888888888888888,
              "#fdca26"
             ],
             [
              1,
              "#f0f921"
             ]
            ],
            "type": "histogram2d"
           }
          ],
          "histogram2dcontour": [
           {
            "colorbar": {
             "outlinewidth": 0,
             "ticks": ""
            },
            "colorscale": [
             [
              0,
              "#0d0887"
             ],
             [
              0.1111111111111111,
              "#46039f"
             ],
             [
              0.2222222222222222,
              "#7201a8"
             ],
             [
              0.3333333333333333,
              "#9c179e"
             ],
             [
              0.4444444444444444,
              "#bd3786"
             ],
             [
              0.5555555555555556,
              "#d8576b"
             ],
             [
              0.6666666666666666,
              "#ed7953"
             ],
             [
              0.7777777777777778,
              "#fb9f3a"
             ],
             [
              0.8888888888888888,
              "#fdca26"
             ],
             [
              1,
              "#f0f921"
             ]
            ],
            "type": "histogram2dcontour"
           }
          ],
          "mesh3d": [
           {
            "colorbar": {
             "outlinewidth": 0,
             "ticks": ""
            },
            "type": "mesh3d"
           }
          ],
          "parcoords": [
           {
            "line": {
             "colorbar": {
              "outlinewidth": 0,
              "ticks": ""
             }
            },
            "type": "parcoords"
           }
          ],
          "pie": [
           {
            "automargin": true,
            "type": "pie"
           }
          ],
          "scatter": [
           {
            "fillpattern": {
             "fillmode": "overlay",
             "size": 10,
             "solidity": 0.2
            },
            "type": "scatter"
           }
          ],
          "scatter3d": [
           {
            "line": {
             "colorbar": {
              "outlinewidth": 0,
              "ticks": ""
             }
            },
            "marker": {
             "colorbar": {
              "outlinewidth": 0,
              "ticks": ""
             }
            },
            "type": "scatter3d"
           }
          ],
          "scattercarpet": [
           {
            "marker": {
             "colorbar": {
              "outlinewidth": 0,
              "ticks": ""
             }
            },
            "type": "scattercarpet"
           }
          ],
          "scattergeo": [
           {
            "marker": {
             "colorbar": {
              "outlinewidth": 0,
              "ticks": ""
             }
            },
            "type": "scattergeo"
           }
          ],
          "scattergl": [
           {
            "marker": {
             "colorbar": {
              "outlinewidth": 0,
              "ticks": ""
             }
            },
            "type": "scattergl"
           }
          ],
          "scattermapbox": [
           {
            "marker": {
             "colorbar": {
              "outlinewidth": 0,
              "ticks": ""
             }
            },
            "type": "scattermapbox"
           }
          ],
          "scatterpolar": [
           {
            "marker": {
             "colorbar": {
              "outlinewidth": 0,
              "ticks": ""
             }
            },
            "type": "scatterpolar"
           }
          ],
          "scatterpolargl": [
           {
            "marker": {
             "colorbar": {
              "outlinewidth": 0,
              "ticks": ""
             }
            },
            "type": "scatterpolargl"
           }
          ],
          "scatterternary": [
           {
            "marker": {
             "colorbar": {
              "outlinewidth": 0,
              "ticks": ""
             }
            },
            "type": "scatterternary"
           }
          ],
          "surface": [
           {
            "colorbar": {
             "outlinewidth": 0,
             "ticks": ""
            },
            "colorscale": [
             [
              0,
              "#0d0887"
             ],
             [
              0.1111111111111111,
              "#46039f"
             ],
             [
              0.2222222222222222,
              "#7201a8"
             ],
             [
              0.3333333333333333,
              "#9c179e"
             ],
             [
              0.4444444444444444,
              "#bd3786"
             ],
             [
              0.5555555555555556,
              "#d8576b"
             ],
             [
              0.6666666666666666,
              "#ed7953"
             ],
             [
              0.7777777777777778,
              "#fb9f3a"
             ],
             [
              0.8888888888888888,
              "#fdca26"
             ],
             [
              1,
              "#f0f921"
             ]
            ],
            "type": "surface"
           }
          ],
          "table": [
           {
            "cells": {
             "fill": {
              "color": "#EBF0F8"
             },
             "line": {
              "color": "white"
             }
            },
            "header": {
             "fill": {
              "color": "#C8D4E3"
             },
             "line": {
              "color": "white"
             }
            },
            "type": "table"
           }
          ]
         },
         "layout": {
          "annotationdefaults": {
           "arrowcolor": "#2a3f5f",
           "arrowhead": 0,
           "arrowwidth": 1
          },
          "autotypenumbers": "strict",
          "coloraxis": {
           "colorbar": {
            "outlinewidth": 0,
            "ticks": ""
           }
          },
          "colorscale": {
           "diverging": [
            [
             0,
             "#8e0152"
            ],
            [
             0.1,
             "#c51b7d"
            ],
            [
             0.2,
             "#de77ae"
            ],
            [
             0.3,
             "#f1b6da"
            ],
            [
             0.4,
             "#fde0ef"
            ],
            [
             0.5,
             "#f7f7f7"
            ],
            [
             0.6,
             "#e6f5d0"
            ],
            [
             0.7,
             "#b8e186"
            ],
            [
             0.8,
             "#7fbc41"
            ],
            [
             0.9,
             "#4d9221"
            ],
            [
             1,
             "#276419"
            ]
           ],
           "sequential": [
            [
             0,
             "#0d0887"
            ],
            [
             0.1111111111111111,
             "#46039f"
            ],
            [
             0.2222222222222222,
             "#7201a8"
            ],
            [
             0.3333333333333333,
             "#9c179e"
            ],
            [
             0.4444444444444444,
             "#bd3786"
            ],
            [
             0.5555555555555556,
             "#d8576b"
            ],
            [
             0.6666666666666666,
             "#ed7953"
            ],
            [
             0.7777777777777778,
             "#fb9f3a"
            ],
            [
             0.8888888888888888,
             "#fdca26"
            ],
            [
             1,
             "#f0f921"
            ]
           ],
           "sequentialminus": [
            [
             0,
             "#0d0887"
            ],
            [
             0.1111111111111111,
             "#46039f"
            ],
            [
             0.2222222222222222,
             "#7201a8"
            ],
            [
             0.3333333333333333,
             "#9c179e"
            ],
            [
             0.4444444444444444,
             "#bd3786"
            ],
            [
             0.5555555555555556,
             "#d8576b"
            ],
            [
             0.6666666666666666,
             "#ed7953"
            ],
            [
             0.7777777777777778,
             "#fb9f3a"
            ],
            [
             0.8888888888888888,
             "#fdca26"
            ],
            [
             1,
             "#f0f921"
            ]
           ]
          },
          "colorway": [
           "#636efa",
           "#EF553B",
           "#00cc96",
           "#ab63fa",
           "#FFA15A",
           "#19d3f3",
           "#FF6692",
           "#B6E880",
           "#FF97FF",
           "#FECB52"
          ],
          "font": {
           "color": "#2a3f5f"
          },
          "geo": {
           "bgcolor": "white",
           "lakecolor": "white",
           "landcolor": "#E5ECF6",
           "showlakes": true,
           "showland": true,
           "subunitcolor": "white"
          },
          "hoverlabel": {
           "align": "left"
          },
          "hovermode": "closest",
          "mapbox": {
           "style": "light"
          },
          "paper_bgcolor": "white",
          "plot_bgcolor": "#E5ECF6",
          "polar": {
           "angularaxis": {
            "gridcolor": "white",
            "linecolor": "white",
            "ticks": ""
           },
           "bgcolor": "#E5ECF6",
           "radialaxis": {
            "gridcolor": "white",
            "linecolor": "white",
            "ticks": ""
           }
          },
          "scene": {
           "xaxis": {
            "backgroundcolor": "#E5ECF6",
            "gridcolor": "white",
            "gridwidth": 2,
            "linecolor": "white",
            "showbackground": true,
            "ticks": "",
            "zerolinecolor": "white"
           },
           "yaxis": {
            "backgroundcolor": "#E5ECF6",
            "gridcolor": "white",
            "gridwidth": 2,
            "linecolor": "white",
            "showbackground": true,
            "ticks": "",
            "zerolinecolor": "white"
           },
           "zaxis": {
            "backgroundcolor": "#E5ECF6",
            "gridcolor": "white",
            "gridwidth": 2,
            "linecolor": "white",
            "showbackground": true,
            "ticks": "",
            "zerolinecolor": "white"
           }
          },
          "shapedefaults": {
           "line": {
            "color": "#2a3f5f"
           }
          },
          "ternary": {
           "aaxis": {
            "gridcolor": "white",
            "linecolor": "white",
            "ticks": ""
           },
           "baxis": {
            "gridcolor": "white",
            "linecolor": "white",
            "ticks": ""
           },
           "bgcolor": "#E5ECF6",
           "caxis": {
            "gridcolor": "white",
            "linecolor": "white",
            "ticks": ""
           }
          },
          "title": {
           "x": 0.05
          },
          "xaxis": {
           "automargin": true,
           "gridcolor": "white",
           "linecolor": "white",
           "ticks": "",
           "title": {
            "standoff": 15
           },
           "zerolinecolor": "white",
           "zerolinewidth": 2
          },
          "yaxis": {
           "automargin": true,
           "gridcolor": "white",
           "linecolor": "white",
           "ticks": "",
           "title": {
            "standoff": 15
           },
           "zerolinecolor": "white",
           "zerolinewidth": 2
          }
         }
        },
        "xaxis": {
         "anchor": "y",
         "domain": [
          0,
          1
         ],
         "title": {
          "text": "date_time"
         }
        },
        "yaxis": {
         "anchor": "x",
         "domain": [
          0,
          1
         ],
         "title": {
          "text": "temperature_celsius"
         }
        }
       }
      }
     },
     "metadata": {},
     "output_type": "display_data"
    }
   ],
   "source": [
    "import plotly.express as px\n",
    "fig = px.line(City, x='date_time', y='temperature_celsius')\n",
    "fig.show()\n"
   ]
  },
  {
   "cell_type": "code",
   "execution_count": 38,
   "metadata": {},
   "outputs": [
    {
     "data": {
      "text/html": [
       "<div>\n",
       "<style scoped>\n",
       "    .dataframe tbody tr th:only-of-type {\n",
       "        vertical-align: middle;\n",
       "    }\n",
       "\n",
       "    .dataframe tbody tr th {\n",
       "        vertical-align: top;\n",
       "    }\n",
       "\n",
       "    .dataframe thead th {\n",
       "        text-align: right;\n",
       "    }\n",
       "</style>\n",
       "<table border=\"1\" class=\"dataframe\">\n",
       "  <thead>\n",
       "    <tr style=\"text-align: right;\">\n",
       "      <th></th>\n",
       "      <th>temperature_celsius</th>\n",
       "      <th>wind_kph</th>\n",
       "      <th>pressure_in</th>\n",
       "      <th>precip_mm</th>\n",
       "      <th>humidity</th>\n",
       "      <th>feels_like_celsius</th>\n",
       "      <th>air_quality_Nitrogen_dioxide</th>\n",
       "    </tr>\n",
       "  </thead>\n",
       "  <tbody>\n",
       "    <tr>\n",
       "      <th>count</th>\n",
       "      <td>200.000000</td>\n",
       "      <td>200.00000</td>\n",
       "      <td>200.000000</td>\n",
       "      <td>200.000000</td>\n",
       "      <td>200.000000</td>\n",
       "      <td>200.000000</td>\n",
       "      <td>200.000000</td>\n",
       "    </tr>\n",
       "    <tr>\n",
       "      <th>mean</th>\n",
       "      <td>21.683500</td>\n",
       "      <td>6.89350</td>\n",
       "      <td>29.909300</td>\n",
       "      <td>0.023850</td>\n",
       "      <td>58.460000</td>\n",
       "      <td>22.255500</td>\n",
       "      <td>32.528000</td>\n",
       "    </tr>\n",
       "    <tr>\n",
       "      <th>std</th>\n",
       "      <td>2.029946</td>\n",
       "      <td>2.92171</td>\n",
       "      <td>0.085898</td>\n",
       "      <td>0.145825</td>\n",
       "      <td>21.554615</td>\n",
       "      <td>2.504703</td>\n",
       "      <td>19.656398</td>\n",
       "    </tr>\n",
       "    <tr>\n",
       "      <th>min</th>\n",
       "      <td>16.300000</td>\n",
       "      <td>3.60000</td>\n",
       "      <td>29.690000</td>\n",
       "      <td>0.000000</td>\n",
       "      <td>16.000000</td>\n",
       "      <td>16.300000</td>\n",
       "      <td>1.800000</td>\n",
       "    </tr>\n",
       "    <tr>\n",
       "      <th>25%</th>\n",
       "      <td>20.275000</td>\n",
       "      <td>4.30000</td>\n",
       "      <td>29.880000</td>\n",
       "      <td>0.000000</td>\n",
       "      <td>40.000000</td>\n",
       "      <td>20.275000</td>\n",
       "      <td>18.300000</td>\n",
       "    </tr>\n",
       "    <tr>\n",
       "      <th>50%</th>\n",
       "      <td>21.550000</td>\n",
       "      <td>6.50000</td>\n",
       "      <td>29.930000</td>\n",
       "      <td>0.000000</td>\n",
       "      <td>55.000000</td>\n",
       "      <td>21.550000</td>\n",
       "      <td>31.900000</td>\n",
       "    </tr>\n",
       "    <tr>\n",
       "      <th>75%</th>\n",
       "      <td>23.000000</td>\n",
       "      <td>8.60000</td>\n",
       "      <td>29.960000</td>\n",
       "      <td>0.000000</td>\n",
       "      <td>74.250000</td>\n",
       "      <td>24.700000</td>\n",
       "      <td>43.500000</td>\n",
       "    </tr>\n",
       "    <tr>\n",
       "      <th>max</th>\n",
       "      <td>28.300000</td>\n",
       "      <td>15.80000</td>\n",
       "      <td>30.070000</td>\n",
       "      <td>1.510000</td>\n",
       "      <td>96.000000</td>\n",
       "      <td>27.900000</td>\n",
       "      <td>111.000000</td>\n",
       "    </tr>\n",
       "  </tbody>\n",
       "</table>\n",
       "</div>"
      ],
      "text/plain": [
       "       temperature_celsius   wind_kph  pressure_in   precip_mm    humidity  \\\n",
       "count           200.000000  200.00000   200.000000  200.000000  200.000000   \n",
       "mean             21.683500    6.89350    29.909300    0.023850   58.460000   \n",
       "std               2.029946    2.92171     0.085898    0.145825   21.554615   \n",
       "min              16.300000    3.60000    29.690000    0.000000   16.000000   \n",
       "25%              20.275000    4.30000    29.880000    0.000000   40.000000   \n",
       "50%              21.550000    6.50000    29.930000    0.000000   55.000000   \n",
       "75%              23.000000    8.60000    29.960000    0.000000   74.250000   \n",
       "max              28.300000   15.80000    30.070000    1.510000   96.000000   \n",
       "\n",
       "       feels_like_celsius  air_quality_Nitrogen_dioxide  \n",
       "count          200.000000                    200.000000  \n",
       "mean            22.255500                     32.528000  \n",
       "std              2.504703                     19.656398  \n",
       "min             16.300000                      1.800000  \n",
       "25%             20.275000                     18.300000  \n",
       "50%             21.550000                     31.900000  \n",
       "75%             24.700000                     43.500000  \n",
       "max             27.900000                    111.000000  "
      ]
     },
     "execution_count": 38,
     "metadata": {},
     "output_type": "execute_result"
    }
   ],
   "source": [
    "City = City.set_index('date_time')\n",
    "City.describe()"
   ]
  },
  {
   "cell_type": "code",
   "execution_count": 39,
   "metadata": {},
   "outputs": [
    {
     "name": "stdout",
     "output_type": "stream",
     "text": [
      "weather01 Data with Moving Averages:\n",
      "                     temperature_celsius  temperature_7day_ma  humidity  \\\n",
      "date_time                                                                 \n",
      "2023-08-29 10:45:00                 26.4                  NaN        64   \n",
      "2023-08-30 09:00:00                 25.3                  NaN        67   \n",
      "2023-08-31 05:30:00                 21.1                  NaN        93   \n",
      "2023-09-01 05:15:00                 23.4                  NaN        79   \n",
      "2023-09-02 05:15:00                 24.8                  NaN        76   \n",
      "...                                  ...                  ...       ...   \n",
      "2024-03-15 22:15:00                 24.0            25.242857        36   \n",
      "2024-03-16 22:00:00                 24.6            25.114286        37   \n",
      "2024-03-17 22:15:00                 24.0            24.957143        36   \n",
      "2024-03-18 22:15:00                 24.6            24.671429        35   \n",
      "2024-03-19 22:00:00                 24.8            24.428571        31   \n",
      "\n",
      "                     humidity_7day_ma  wind_kph  wind_speed_7day_ma  \n",
      "date_time                                                            \n",
      "2023-08-29 10:45:00               NaN      15.8                 NaN  \n",
      "2023-08-30 09:00:00               NaN       8.3                 NaN  \n",
      "2023-08-31 05:30:00               NaN       6.8                 NaN  \n",
      "2023-09-01 05:15:00               NaN       8.3                 NaN  \n",
      "2023-09-02 05:15:00               NaN       5.8                 NaN  \n",
      "...                               ...       ...                 ...  \n",
      "2024-03-15 22:15:00         30.428571       7.6            9.585714  \n",
      "2024-03-16 22:00:00         31.714286      11.5            9.785714  \n",
      "2024-03-17 22:15:00         33.571429      15.1           10.500000  \n",
      "2024-03-18 22:15:00         34.428571      10.4           11.057143  \n",
      "2024-03-19 22:00:00         34.000000      10.1           11.057143  \n",
      "\n",
      "[200 rows x 6 columns]\n"
     ]
    }
   ],
   "source": [
    "# Now we will perform 'Moving Averages' for short term fluctuation in the dataset\n",
    "# Calculate 7-day moving average of temperature\n",
    "City['temperature_7day_ma'] = City['temperature_celsius'].rolling(window=7).mean()\n",
    "City['humidity_7day_ma'] = City['humidity'].rolling(window=7).mean()\n",
    "City['wind_speed_7day_ma'] = City['wind_kph'].rolling(window=7).mean()\n",
    "print(\"weather01 Data with Moving Averages:\")\n",
    "print(City[[ 'temperature_celsius', 'temperature_7day_ma','humidity','humidity_7day_ma','wind_kph','wind_speed_7day_ma']])\n",
    "#Remember these are new columns in our dataset"
   ]
  },
  {
   "cell_type": "code",
   "execution_count": 40,
   "metadata": {},
   "outputs": [],
   "source": [
    "#  SVM model training \n",
    "\n",
    "from sklearn.preprocessing import StandardScaler\n",
    "from sklearn.model_selection import train_test_split\n",
    "from sklearn.svm import SVR\n",
    "\n",
    "City.dropna(inplace=True)\n",
    "\n"
   ]
  },
  {
   "cell_type": "code",
   "execution_count": 41,
   "metadata": {},
   "outputs": [
    {
     "name": "stderr",
     "output_type": "stream",
     "text": [
      "c:\\Users\\shree\\anaconda3\\Lib\\site-packages\\seaborn\\_oldcore.py:1119: FutureWarning:\n",
      "\n",
      "use_inf_as_na option is deprecated and will be removed in a future version. Convert inf values to NaN before operating instead.\n",
      "\n",
      "c:\\Users\\shree\\anaconda3\\Lib\\site-packages\\seaborn\\_oldcore.py:1119: FutureWarning:\n",
      "\n",
      "use_inf_as_na option is deprecated and will be removed in a future version. Convert inf values to NaN before operating instead.\n",
      "\n"
     ]
    },
    {
     "data": {
      "text/plain": [
       "<Axes: xlabel='date_time', ylabel='temperature_celsius'>"
      ]
     },
     "execution_count": 41,
     "metadata": {},
     "output_type": "execute_result"
    },
    {
     "data": {
      "image/png": "[encoded data removed]",
      "text/plain": [
       "<Figure size 1500x500 with 1 Axes>"
      ]
     },
     "metadata": {},
     "output_type": "display_data"
    }
   ],
   "source": [
    "import seaborn as sns\n",
    "sns.set(rc={'figure.figsize':(15,5)})\n",
    "sns.lineplot(x = 'date_time', y= 'temperature_celsius', data= City)"
   ]
  },
  {
   "cell_type": "code",
   "execution_count": 42,
   "metadata": {},
   "outputs": [],
   "source": [
    "# selecting the independent feature i.e., features in which the ML model will be trained \n",
    "independent_feature= ['wind_kph','pressure_in','precip_mm','humidity','air_quality_Nitrogen_dioxide','feels_like_celsius'] \n",
    "# selecting the targeted feature i.e., features that will be predicted based on their respective value in independent feature\n",
    "targeted_feature= ['temperature_celsius']"
   ]
  },
  {
   "cell_type": "code",
   "execution_count": 43,
   "metadata": {},
   "outputs": [
    {
     "data": {
      "text/plain": [
       "((135, 6), (59, 6))"
      ]
     },
     "execution_count": 43,
     "metadata": {},
     "output_type": "execute_result"
    }
   ],
   "source": [
    "X_train,X_test,y_train,y_test = train_test_split(City[independent_feature],City[targeted_feature],test_size=0.3,random_state=3)\n",
    "X_train.shape, X_test.shape"
   ]
  },
  {
   "cell_type": "code",
   "execution_count": null,
   "metadata": {},
   "outputs": [],
   "source": [
    "\n"
   ]
  },
  {
   "cell_type": "code",
   "execution_count": 44,
   "metadata": {},
   "outputs": [
    {
     "name": "stderr",
     "output_type": "stream",
     "text": [
      "c:\\Users\\shree\\anaconda3\\Lib\\site-packages\\sklearn\\utils\\validation.py:1143: DataConversionWarning:\n",
      "\n",
      "A column-vector y was passed when a 1d array was expected. Please change the shape of y to (n_samples, ), for example using ravel().\n",
      "\n"
     ]
    },
    {
     "data": {
      "text/html": [
       "<style>#sk-container-id-2 {color: black;background-color: white;}#sk-container-id-2 pre{padding: 0;}#sk-container-id-2 div.sk-toggleable {background-color: white;}#sk-container-id-2 label.sk-toggleable__label {cursor: pointer;display: block;width: 100%;margin-bottom: 0;padding: 0.3em;box-sizing: border-box;text-align: center;}#sk-container-id-2 label.sk-toggleable__label-arrow:before {content: \"▸\";float: left;margin-right: 0.25em;color: #696969;}#sk-container-id-2 label.sk-toggleable__label-arrow:hover:before {color: black;}#sk-container-id-2 div.sk-estimator:hover label.sk-toggleable__label-arrow:before {color: black;}#sk-container-id-2 div.sk-toggleable__content {max-height: 0;max-width: 0;overflow: hidden;text-align: left;background-color: #f0f8ff;}#sk-container-id-2 div.sk-toggleable__content pre {margin: 0.2em;color: black;border-radius: 0.25em;background-color: #f0f8ff;}#sk-container-id-2 input.sk-toggleable__control:checked~div.sk-toggleable__content {max-height: 200px;max-width: 100%;overflow: auto;}#sk-container-id-2 input.sk-toggleable__control:checked~label.sk-toggleable__label-arrow:before {content: \"▾\";}#sk-container-id-2 div.sk-estimator input.sk-toggleable__control:checked~label.sk-toggleable__label {background-color: #d4ebff;}#sk-container-id-2 div.sk-label input.sk-toggleable__control:checked~label.sk-toggleable__label {background-color: #d4ebff;}#sk-container-id-2 input.sk-hidden--visually {border: 0;clip: rect(1px 1px 1px 1px);clip: rect(1px, 1px, 1px, 1px);height: 1px;margin: -1px;overflow: hidden;padding: 0;position: absolute;width: 1px;}#sk-container-id-2 div.sk-estimator {font-family: monospace;background-color: #f0f8ff;border: 1px dotted black;border-radius: 0.25em;box-sizing: border-box;margin-bottom: 0.5em;}#sk-container-id-2 div.sk-estimator:hover {background-color: #d4ebff;}#sk-container-id-2 div.sk-parallel-item::after {content: \"\";width: 100%;border-bottom: 1px solid gray;flex-grow: 1;}#sk-container-id-2 div.sk-label:hover label.sk-toggleable__label {background-color: #d4ebff;}#sk-container-id-2 div.sk-serial::before {content: \"\";position: absolute;border-left: 1px solid gray;box-sizing: border-box;top: 0;bottom: 0;left: 50%;z-index: 0;}#sk-container-id-2 div.sk-serial {display: flex;flex-direction: column;align-items: center;background-color: white;padding-right: 0.2em;padding-left: 0.2em;position: relative;}#sk-container-id-2 div.sk-item {position: relative;z-index: 1;}#sk-container-id-2 div.sk-parallel {display: flex;align-items: stretch;justify-content: center;background-color: white;position: relative;}#sk-container-id-2 div.sk-item::before, #sk-container-id-2 div.sk-parallel-item::before {content: \"\";position: absolute;border-left: 1px solid gray;box-sizing: border-box;top: 0;bottom: 0;left: 50%;z-index: -1;}#sk-container-id-2 div.sk-parallel-item {display: flex;flex-direction: column;z-index: 1;position: relative;background-color: white;}#sk-container-id-2 div.sk-parallel-item:first-child::after {align-self: flex-end;width: 50%;}#sk-container-id-2 div.sk-parallel-item:last-child::after {align-self: flex-start;width: 50%;}#sk-container-id-2 div.sk-parallel-item:only-child::after {width: 0;}#sk-container-id-2 div.sk-dashed-wrapped {border: 1px dashed gray;margin: 0 0.4em 0.5em 0.4em;box-sizing: border-box;padding-bottom: 0.4em;background-color: white;}#sk-container-id-2 div.sk-label label {font-family: monospace;font-weight: bold;display: inline-block;line-height: 1.2em;}#sk-container-id-2 div.sk-label-container {text-align: center;}#sk-container-id-2 div.sk-container {/* jupyter's `normalize.less` sets `[hidden] { display: none; }` but bootstrap.min.css set `[hidden] { display: none !important; }` so we also need the `!important` here to be able to override the default hidden behavior on the sphinx rendered scikit-learn.org. See: https://github.com/scikit-learn/scikit-learn/issues/21755 */display: inline-block !important;position: relative;}#sk-container-id-2 div.sk-text-repr-fallback {display: none;}</style><div id=\"sk-container-id-2\" class=\"sk-top-container\"><div class=\"sk-text-repr-fallback\"><pre>SVR(C=100, epsilon=1, kernel=&#x27;linear&#x27;)</pre><b>In a Jupyter environment, please rerun this cell to show the HTML representation or trust the notebook. <br />On GitHub, the HTML representation is unable to render, please try loading this page with nbviewer.org.</b></div><div class=\"sk-container\" hidden><div class=\"sk-item\"><div class=\"sk-estimator sk-toggleable\"><input class=\"sk-toggleable__control sk-hidden--visually\" id=\"sk-estimator-id-2\" type=\"checkbox\" checked><label for=\"sk-estimator-id-2\" class=\"sk-toggleable__label sk-toggleable__label-arrow\">SVR</label><div class=\"sk-toggleable__content\"><pre>SVR(C=100, epsilon=1, kernel=&#x27;linear&#x27;)</pre></div></div></div></div></div>"
      ],
      "text/plain": [
       "SVR(C=100, epsilon=1, kernel='linear')"
      ]
     },
     "execution_count": 44,
     "metadata": {},
     "output_type": "execute_result"
    }
   ],
   "source": [
    "# creating the svr model with approprieate hyperparameter tuning techniques\n",
    "svr=SVR(kernel='linear',C = 100, epsilon=1)\n",
    "# training the model\n",
    "svr.fit(X_train, y_train)\n"
   ]
  },
  {
   "cell_type": "code",
   "execution_count": 45,
   "metadata": {},
   "outputs": [
    {
     "name": "stdout",
     "output_type": "stream",
     "text": [
      "Predicted temperature: 23.6092 degrees Celsius\n"
     ]
    },
    {
     "name": "stderr",
     "output_type": "stream",
     "text": [
      "c:\\Users\\shree\\anaconda3\\Lib\\site-packages\\sklearn\\base.py:439: UserWarning:\n",
      "\n",
      "X does not have valid feature names, but SVR was fitted with feature names\n",
      "\n"
     ]
    }
   ],
   "source": [
    "\n",
    "new_data = np.array([[5.0,30.02,0.0,38,12.4,24]]) \n",
    "\n",
    "# Predict the temperature for the new data\n",
    "predicted_temperature = svr.predict(new_data)\n",
    "\n",
    "# Print the predicted temperature\n",
    "print(f\"Predicted temperature: {predicted_temperature[0]:.4f} degrees Celsius\")\n"
   ]
  },
  {
   "cell_type": "code",
   "execution_count": 46,
   "metadata": {},
   "outputs": [
    {
     "data": {
      "text/html": [
       "<div>\n",
       "<style scoped>\n",
       "    .dataframe tbody tr th:only-of-type {\n",
       "        vertical-align: middle;\n",
       "    }\n",
       "\n",
       "    .dataframe tbody tr th {\n",
       "        vertical-align: top;\n",
       "    }\n",
       "\n",
       "    .dataframe thead th {\n",
       "        text-align: right;\n",
       "    }\n",
       "</style>\n",
       "<table border=\"1\" class=\"dataframe\">\n",
       "  <thead>\n",
       "    <tr style=\"text-align: right;\">\n",
       "      <th></th>\n",
       "      <th>wind_kph</th>\n",
       "      <th>pressure_in</th>\n",
       "      <th>precip_mm</th>\n",
       "      <th>humidity</th>\n",
       "      <th>air_quality_Nitrogen_dioxide</th>\n",
       "      <th>feels_like_celsius</th>\n",
       "    </tr>\n",
       "    <tr>\n",
       "      <th>date_time</th>\n",
       "      <th></th>\n",
       "      <th></th>\n",
       "      <th></th>\n",
       "      <th></th>\n",
       "      <th></th>\n",
       "      <th></th>\n",
       "    </tr>\n",
       "  </thead>\n",
       "  <tbody>\n",
       "    <tr>\n",
       "      <th>2023-10-08 02:45:00</th>\n",
       "      <td>3.6</td>\n",
       "      <td>29.85</td>\n",
       "      <td>0.01</td>\n",
       "      <td>83</td>\n",
       "      <td>18.5</td>\n",
       "      <td>24.8</td>\n",
       "    </tr>\n",
       "    <tr>\n",
       "      <th>2023-09-29 04:15:00</th>\n",
       "      <td>7.9</td>\n",
       "      <td>29.70</td>\n",
       "      <td>0.00</td>\n",
       "      <td>90</td>\n",
       "      <td>38.7</td>\n",
       "      <td>25.3</td>\n",
       "    </tr>\n",
       "    <tr>\n",
       "      <th>2023-09-18 04:15:00</th>\n",
       "      <td>9.0</td>\n",
       "      <td>29.69</td>\n",
       "      <td>0.01</td>\n",
       "      <td>92</td>\n",
       "      <td>6.9</td>\n",
       "      <td>21.8</td>\n",
       "    </tr>\n",
       "    <tr>\n",
       "      <th>2023-11-29 01:15:00</th>\n",
       "      <td>3.6</td>\n",
       "      <td>29.86</td>\n",
       "      <td>0.00</td>\n",
       "      <td>87</td>\n",
       "      <td>48.0</td>\n",
       "      <td>20.4</td>\n",
       "    </tr>\n",
       "    <tr>\n",
       "      <th>2023-12-27 00:45:00</th>\n",
       "      <td>3.6</td>\n",
       "      <td>30.00</td>\n",
       "      <td>0.00</td>\n",
       "      <td>42</td>\n",
       "      <td>75.4</td>\n",
       "      <td>19.7</td>\n",
       "    </tr>\n",
       "    <tr>\n",
       "      <th>2024-01-25 23:00:00</th>\n",
       "      <td>4.7</td>\n",
       "      <td>30.02</td>\n",
       "      <td>0.00</td>\n",
       "      <td>32</td>\n",
       "      <td>55.5</td>\n",
       "      <td>19.6</td>\n",
       "    </tr>\n",
       "    <tr>\n",
       "      <th>2024-01-26 23:30:00</th>\n",
       "      <td>4.0</td>\n",
       "      <td>30.07</td>\n",
       "      <td>0.00</td>\n",
       "      <td>39</td>\n",
       "      <td>68.6</td>\n",
       "      <td>21.0</td>\n",
       "    </tr>\n",
       "    <tr>\n",
       "      <th>2023-11-20 01:30:00</th>\n",
       "      <td>5.0</td>\n",
       "      <td>29.92</td>\n",
       "      <td>0.00</td>\n",
       "      <td>58</td>\n",
       "      <td>33.2</td>\n",
       "      <td>25.1</td>\n",
       "    </tr>\n",
       "    <tr>\n",
       "      <th>2023-09-16 04:15:00</th>\n",
       "      <td>13.3</td>\n",
       "      <td>29.73</td>\n",
       "      <td>0.00</td>\n",
       "      <td>91</td>\n",
       "      <td>4.2</td>\n",
       "      <td>21.7</td>\n",
       "    </tr>\n",
       "    <tr>\n",
       "      <th>2023-09-07 04:45:00</th>\n",
       "      <td>13.0</td>\n",
       "      <td>29.71</td>\n",
       "      <td>0.00</td>\n",
       "      <td>92</td>\n",
       "      <td>5.2</td>\n",
       "      <td>21.5</td>\n",
       "    </tr>\n",
       "    <tr>\n",
       "      <th>2024-02-10 23:30:00</th>\n",
       "      <td>9.4</td>\n",
       "      <td>30.04</td>\n",
       "      <td>0.00</td>\n",
       "      <td>35</td>\n",
       "      <td>28.1</td>\n",
       "      <td>21.5</td>\n",
       "    </tr>\n",
       "    <tr>\n",
       "      <th>2023-09-10 04:30:00</th>\n",
       "      <td>14.4</td>\n",
       "      <td>29.71</td>\n",
       "      <td>0.00</td>\n",
       "      <td>94</td>\n",
       "      <td>2.9</td>\n",
       "      <td>21.7</td>\n",
       "    </tr>\n",
       "    <tr>\n",
       "      <th>2023-11-05 01:45:00</th>\n",
       "      <td>5.8</td>\n",
       "      <td>29.88</td>\n",
       "      <td>0.00</td>\n",
       "      <td>47</td>\n",
       "      <td>63.8</td>\n",
       "      <td>25.2</td>\n",
       "    </tr>\n",
       "    <tr>\n",
       "      <th>2023-10-20 02:30:00</th>\n",
       "      <td>3.6</td>\n",
       "      <td>29.91</td>\n",
       "      <td>0.00</td>\n",
       "      <td>70</td>\n",
       "      <td>26.4</td>\n",
       "      <td>26.2</td>\n",
       "    </tr>\n",
       "    <tr>\n",
       "      <th>2024-01-23 00:00:00</th>\n",
       "      <td>6.1</td>\n",
       "      <td>30.00</td>\n",
       "      <td>0.00</td>\n",
       "      <td>69</td>\n",
       "      <td>21.8</td>\n",
       "      <td>16.9</td>\n",
       "    </tr>\n",
       "    <tr>\n",
       "      <th>2023-12-21 00:30:00</th>\n",
       "      <td>9.4</td>\n",
       "      <td>30.00</td>\n",
       "      <td>0.00</td>\n",
       "      <td>36</td>\n",
       "      <td>23.7</td>\n",
       "      <td>18.8</td>\n",
       "    </tr>\n",
       "    <tr>\n",
       "      <th>2023-10-21 02:15:00</th>\n",
       "      <td>3.6</td>\n",
       "      <td>29.92</td>\n",
       "      <td>0.00</td>\n",
       "      <td>66</td>\n",
       "      <td>33.6</td>\n",
       "      <td>25.1</td>\n",
       "    </tr>\n",
       "    <tr>\n",
       "      <th>2023-10-12 02:45:00</th>\n",
       "      <td>4.0</td>\n",
       "      <td>29.88</td>\n",
       "      <td>0.00</td>\n",
       "      <td>74</td>\n",
       "      <td>23.3</td>\n",
       "      <td>26.2</td>\n",
       "    </tr>\n",
       "    <tr>\n",
       "      <th>2024-02-01 23:30:00</th>\n",
       "      <td>9.4</td>\n",
       "      <td>30.03</td>\n",
       "      <td>0.00</td>\n",
       "      <td>73</td>\n",
       "      <td>46.6</td>\n",
       "      <td>18.5</td>\n",
       "    </tr>\n",
       "    <tr>\n",
       "      <th>2024-02-19 23:15:00</th>\n",
       "      <td>9.4</td>\n",
       "      <td>29.94</td>\n",
       "      <td>0.00</td>\n",
       "      <td>33</td>\n",
       "      <td>38.4</td>\n",
       "      <td>23.7</td>\n",
       "    </tr>\n",
       "    <tr>\n",
       "      <th>2024-03-12 22:15:00</th>\n",
       "      <td>10.1</td>\n",
       "      <td>29.96</td>\n",
       "      <td>0.00</td>\n",
       "      <td>34</td>\n",
       "      <td>19.2</td>\n",
       "      <td>26.0</td>\n",
       "    </tr>\n",
       "    <tr>\n",
       "      <th>2023-11-19 01:15:00</th>\n",
       "      <td>3.6</td>\n",
       "      <td>29.93</td>\n",
       "      <td>0.00</td>\n",
       "      <td>58</td>\n",
       "      <td>36.7</td>\n",
       "      <td>24.6</td>\n",
       "    </tr>\n",
       "    <tr>\n",
       "      <th>2023-09-08 04:30:00</th>\n",
       "      <td>13.3</td>\n",
       "      <td>29.70</td>\n",
       "      <td>0.20</td>\n",
       "      <td>96</td>\n",
       "      <td>4.2</td>\n",
       "      <td>21.3</td>\n",
       "    </tr>\n",
       "    <tr>\n",
       "      <th>2023-12-04 02:00:00</th>\n",
       "      <td>7.2</td>\n",
       "      <td>29.88</td>\n",
       "      <td>0.00</td>\n",
       "      <td>63</td>\n",
       "      <td>19.2</td>\n",
       "      <td>20.8</td>\n",
       "    </tr>\n",
       "    <tr>\n",
       "      <th>2023-11-30 01:00:00</th>\n",
       "      <td>3.6</td>\n",
       "      <td>29.90</td>\n",
       "      <td>0.00</td>\n",
       "      <td>85</td>\n",
       "      <td>61.7</td>\n",
       "      <td>20.1</td>\n",
       "    </tr>\n",
       "    <tr>\n",
       "      <th>2024-03-05 22:30:00</th>\n",
       "      <td>8.6</td>\n",
       "      <td>29.95</td>\n",
       "      <td>0.00</td>\n",
       "      <td>32</td>\n",
       "      <td>33.9</td>\n",
       "      <td>23.9</td>\n",
       "    </tr>\n",
       "    <tr>\n",
       "      <th>2023-11-24 01:15:00</th>\n",
       "      <td>3.6</td>\n",
       "      <td>29.82</td>\n",
       "      <td>0.00</td>\n",
       "      <td>55</td>\n",
       "      <td>61.0</td>\n",
       "      <td>24.7</td>\n",
       "    </tr>\n",
       "    <tr>\n",
       "      <th>2024-03-16 22:00:00</th>\n",
       "      <td>11.5</td>\n",
       "      <td>29.95</td>\n",
       "      <td>0.00</td>\n",
       "      <td>37</td>\n",
       "      <td>17.7</td>\n",
       "      <td>24.9</td>\n",
       "    </tr>\n",
       "    <tr>\n",
       "      <th>2024-01-30 23:30:00</th>\n",
       "      <td>7.9</td>\n",
       "      <td>30.00</td>\n",
       "      <td>0.00</td>\n",
       "      <td>45</td>\n",
       "      <td>45.2</td>\n",
       "      <td>21.0</td>\n",
       "    </tr>\n",
       "    <tr>\n",
       "      <th>2023-12-19 00:30:00</th>\n",
       "      <td>9.7</td>\n",
       "      <td>30.01</td>\n",
       "      <td>0.00</td>\n",
       "      <td>60</td>\n",
       "      <td>11.0</td>\n",
       "      <td>19.5</td>\n",
       "    </tr>\n",
       "    <tr>\n",
       "      <th>2024-02-16 23:00:00</th>\n",
       "      <td>6.5</td>\n",
       "      <td>29.99</td>\n",
       "      <td>0.00</td>\n",
       "      <td>36</td>\n",
       "      <td>42.2</td>\n",
       "      <td>24.6</td>\n",
       "    </tr>\n",
       "    <tr>\n",
       "      <th>2023-09-19 04:00:00</th>\n",
       "      <td>8.3</td>\n",
       "      <td>29.74</td>\n",
       "      <td>0.00</td>\n",
       "      <td>93</td>\n",
       "      <td>7.9</td>\n",
       "      <td>21.6</td>\n",
       "    </tr>\n",
       "    <tr>\n",
       "      <th>2023-12-05 01:15:00</th>\n",
       "      <td>5.4</td>\n",
       "      <td>29.85</td>\n",
       "      <td>0.00</td>\n",
       "      <td>70</td>\n",
       "      <td>34.3</td>\n",
       "      <td>20.3</td>\n",
       "    </tr>\n",
       "    <tr>\n",
       "      <th>2024-01-01 00:00:00</th>\n",
       "      <td>3.6</td>\n",
       "      <td>29.92</td>\n",
       "      <td>0.00</td>\n",
       "      <td>43</td>\n",
       "      <td>59.6</td>\n",
       "      <td>19.3</td>\n",
       "    </tr>\n",
       "    <tr>\n",
       "      <th>2023-12-23 00:00:00</th>\n",
       "      <td>3.6</td>\n",
       "      <td>29.95</td>\n",
       "      <td>0.00</td>\n",
       "      <td>33</td>\n",
       "      <td>52.1</td>\n",
       "      <td>19.5</td>\n",
       "    </tr>\n",
       "    <tr>\n",
       "      <th>2023-10-25 02:15:00</th>\n",
       "      <td>3.6</td>\n",
       "      <td>29.93</td>\n",
       "      <td>0.00</td>\n",
       "      <td>57</td>\n",
       "      <td>29.1</td>\n",
       "      <td>24.6</td>\n",
       "    </tr>\n",
       "    <tr>\n",
       "      <th>2023-09-27 03:45:00</th>\n",
       "      <td>7.6</td>\n",
       "      <td>29.77</td>\n",
       "      <td>0.00</td>\n",
       "      <td>95</td>\n",
       "      <td>37.4</td>\n",
       "      <td>21.5</td>\n",
       "    </tr>\n",
       "    <tr>\n",
       "      <th>2023-10-14 02:30:00</th>\n",
       "      <td>3.6</td>\n",
       "      <td>29.91</td>\n",
       "      <td>0.00</td>\n",
       "      <td>72</td>\n",
       "      <td>40.4</td>\n",
       "      <td>25.0</td>\n",
       "    </tr>\n",
       "    <tr>\n",
       "      <th>2023-11-02 01:45:00</th>\n",
       "      <td>4.3</td>\n",
       "      <td>29.94</td>\n",
       "      <td>0.00</td>\n",
       "      <td>49</td>\n",
       "      <td>41.8</td>\n",
       "      <td>20.3</td>\n",
       "    </tr>\n",
       "    <tr>\n",
       "      <th>2024-02-11 23:15:00</th>\n",
       "      <td>8.3</td>\n",
       "      <td>30.04</td>\n",
       "      <td>0.00</td>\n",
       "      <td>30</td>\n",
       "      <td>33.9</td>\n",
       "      <td>21.6</td>\n",
       "    </tr>\n",
       "    <tr>\n",
       "      <th>2023-11-18 01:30:00</th>\n",
       "      <td>4.3</td>\n",
       "      <td>29.95</td>\n",
       "      <td>0.00</td>\n",
       "      <td>51</td>\n",
       "      <td>111.0</td>\n",
       "      <td>20.2</td>\n",
       "    </tr>\n",
       "    <tr>\n",
       "      <th>2024-01-07 23:15:00</th>\n",
       "      <td>3.6</td>\n",
       "      <td>29.93</td>\n",
       "      <td>0.00</td>\n",
       "      <td>52</td>\n",
       "      <td>29.1</td>\n",
       "      <td>21.6</td>\n",
       "    </tr>\n",
       "    <tr>\n",
       "      <th>2023-10-04 03:15:00</th>\n",
       "      <td>6.8</td>\n",
       "      <td>29.86</td>\n",
       "      <td>0.00</td>\n",
       "      <td>92</td>\n",
       "      <td>6.7</td>\n",
       "      <td>21.4</td>\n",
       "    </tr>\n",
       "    <tr>\n",
       "      <th>2023-12-16 01:00:00</th>\n",
       "      <td>3.6</td>\n",
       "      <td>29.96</td>\n",
       "      <td>0.00</td>\n",
       "      <td>53</td>\n",
       "      <td>61.0</td>\n",
       "      <td>18.5</td>\n",
       "    </tr>\n",
       "    <tr>\n",
       "      <th>2023-11-11 01:30:00</th>\n",
       "      <td>4.3</td>\n",
       "      <td>29.98</td>\n",
       "      <td>0.00</td>\n",
       "      <td>63</td>\n",
       "      <td>15.9</td>\n",
       "      <td>24.7</td>\n",
       "    </tr>\n",
       "    <tr>\n",
       "      <th>2023-11-08 01:45:00</th>\n",
       "      <td>5.4</td>\n",
       "      <td>29.92</td>\n",
       "      <td>0.00</td>\n",
       "      <td>58</td>\n",
       "      <td>63.1</td>\n",
       "      <td>21.9</td>\n",
       "    </tr>\n",
       "    <tr>\n",
       "      <th>2024-01-18 23:45:00</th>\n",
       "      <td>7.6</td>\n",
       "      <td>29.95</td>\n",
       "      <td>0.00</td>\n",
       "      <td>73</td>\n",
       "      <td>39.4</td>\n",
       "      <td>17.5</td>\n",
       "    </tr>\n",
       "    <tr>\n",
       "      <th>2024-01-05 00:00:00</th>\n",
       "      <td>4.3</td>\n",
       "      <td>29.89</td>\n",
       "      <td>0.00</td>\n",
       "      <td>49</td>\n",
       "      <td>38.0</td>\n",
       "      <td>19.9</td>\n",
       "    </tr>\n",
       "    <tr>\n",
       "      <th>2024-01-12 23:45:00</th>\n",
       "      <td>5.0</td>\n",
       "      <td>29.96</td>\n",
       "      <td>0.00</td>\n",
       "      <td>45</td>\n",
       "      <td>62.4</td>\n",
       "      <td>24.5</td>\n",
       "    </tr>\n",
       "    <tr>\n",
       "      <th>2024-02-28 22:45:00</th>\n",
       "      <td>10.4</td>\n",
       "      <td>29.91</td>\n",
       "      <td>0.00</td>\n",
       "      <td>38</td>\n",
       "      <td>39.8</td>\n",
       "      <td>26.5</td>\n",
       "    </tr>\n",
       "    <tr>\n",
       "      <th>2023-11-25 01:00:00</th>\n",
       "      <td>9.4</td>\n",
       "      <td>29.88</td>\n",
       "      <td>0.04</td>\n",
       "      <td>68</td>\n",
       "      <td>10.3</td>\n",
       "      <td>25.2</td>\n",
       "    </tr>\n",
       "    <tr>\n",
       "      <th>2024-02-08 23:15:00</th>\n",
       "      <td>5.0</td>\n",
       "      <td>29.99</td>\n",
       "      <td>0.00</td>\n",
       "      <td>34</td>\n",
       "      <td>52.1</td>\n",
       "      <td>23.7</td>\n",
       "    </tr>\n",
       "    <tr>\n",
       "      <th>2023-09-17 04:00:00</th>\n",
       "      <td>13.7</td>\n",
       "      <td>29.71</td>\n",
       "      <td>0.00</td>\n",
       "      <td>89</td>\n",
       "      <td>1.8</td>\n",
       "      <td>24.5</td>\n",
       "    </tr>\n",
       "    <tr>\n",
       "      <th>2024-01-19 23:45:00</th>\n",
       "      <td>6.5</td>\n",
       "      <td>29.94</td>\n",
       "      <td>0.00</td>\n",
       "      <td>58</td>\n",
       "      <td>38.0</td>\n",
       "      <td>18.9</td>\n",
       "    </tr>\n",
       "    <tr>\n",
       "      <th>2023-12-07 01:15:00</th>\n",
       "      <td>4.3</td>\n",
       "      <td>29.89</td>\n",
       "      <td>0.06</td>\n",
       "      <td>78</td>\n",
       "      <td>29.1</td>\n",
       "      <td>20.9</td>\n",
       "    </tr>\n",
       "    <tr>\n",
       "      <th>2023-09-21 04:00:00</th>\n",
       "      <td>8.6</td>\n",
       "      <td>29.77</td>\n",
       "      <td>0.00</td>\n",
       "      <td>93</td>\n",
       "      <td>11.3</td>\n",
       "      <td>24.7</td>\n",
       "    </tr>\n",
       "    <tr>\n",
       "      <th>2023-10-16 02:30:00</th>\n",
       "      <td>4.3</td>\n",
       "      <td>29.86</td>\n",
       "      <td>0.00</td>\n",
       "      <td>71</td>\n",
       "      <td>26.7</td>\n",
       "      <td>25.2</td>\n",
       "    </tr>\n",
       "    <tr>\n",
       "      <th>2023-10-15 02:30:00</th>\n",
       "      <td>5.8</td>\n",
       "      <td>29.89</td>\n",
       "      <td>0.00</td>\n",
       "      <td>70</td>\n",
       "      <td>16.6</td>\n",
       "      <td>24.9</td>\n",
       "    </tr>\n",
       "    <tr>\n",
       "      <th>2023-10-05 03:00:00</th>\n",
       "      <td>4.3</td>\n",
       "      <td>29.86</td>\n",
       "      <td>0.00</td>\n",
       "      <td>88</td>\n",
       "      <td>9.4</td>\n",
       "      <td>21.8</td>\n",
       "    </tr>\n",
       "  </tbody>\n",
       "</table>\n",
       "</div>"
      ],
      "text/plain": [
       "                     wind_kph  pressure_in  precip_mm  humidity  \\\n",
       "date_time                                                         \n",
       "2023-10-08 02:45:00       3.6        29.85       0.01        83   \n",
       "2023-09-29 04:15:00       7.9        29.70       0.00        90   \n",
       "2023-09-18 04:15:00       9.0        29.69       0.01        92   \n",
       "2023-11-29 01:15:00       3.6        29.86       0.00        87   \n",
       "2023-12-27 00:45:00       3.6        30.00       0.00        42   \n",
       "2024-01-25 23:00:00       4.7        30.02       0.00        32   \n",
       "2024-01-26 23:30:00       4.0        30.07       0.00        39   \n",
       "2023-11-20 01:30:00       5.0        29.92       0.00        58   \n",
       "2023-09-16 04:15:00      13.3        29.73       0.00        91   \n",
       "2023-09-07 04:45:00      13.0        29.71       0.00        92   \n",
       "2024-02-10 23:30:00       9.4        30.04       0.00        35   \n",
       "2023-09-10 04:30:00      14.4        29.71       0.00        94   \n",
       "2023-11-05 01:45:00       5.8        29.88       0.00        47   \n",
       "2023-10-20 02:30:00       3.6        29.91       0.00        70   \n",
       "2024-01-23 00:00:00       6.1        30.00       0.00        69   \n",
       "2023-12-21 00:30:00       9.4        30.00       0.00        36   \n",
       "2023-10-21 02:15:00       3.6        29.92       0.00        66   \n",
       "2023-10-12 02:45:00       4.0        29.88       0.00        74   \n",
       "2024-02-01 23:30:00       9.4        30.03       0.00        73   \n",
       "2024-02-19 23:15:00       9.4        29.94       0.00        33   \n",
       "2024-03-12 22:15:00      10.1        29.96       0.00        34   \n",
       "2023-11-19 01:15:00       3.6        29.93       0.00        58   \n",
       "2023-09-08 04:30:00      13.3        29.70       0.20        96   \n",
       "2023-12-04 02:00:00       7.2        29.88       0.00        63   \n",
       "2023-11-30 01:00:00       3.6        29.90       0.00        85   \n",
       "2024-03-05 22:30:00       8.6        29.95       0.00        32   \n",
       "2023-11-24 01:15:00       3.6        29.82       0.00        55   \n",
       "2024-03-16 22:00:00      11.5        29.95       0.00        37   \n",
       "2024-01-30 23:30:00       7.9        30.00       0.00        45   \n",
       "2023-12-19 00:30:00       9.7        30.01       0.00        60   \n",
       "2024-02-16 23:00:00       6.5        29.99       0.00        36   \n",
       "2023-09-19 04:00:00       8.3        29.74       0.00        93   \n",
       "2023-12-05 01:15:00       5.4        29.85       0.00        70   \n",
       "2024-01-01 00:00:00       3.6        29.92       0.00        43   \n",
       "2023-12-23 00:00:00       3.6        29.95       0.00        33   \n",
       "2023-10-25 02:15:00       3.6        29.93       0.00        57   \n",
       "2023-09-27 03:45:00       7.6        29.77       0.00        95   \n",
       "2023-10-14 02:30:00       3.6        29.91       0.00        72   \n",
       "2023-11-02 01:45:00       4.3        29.94       0.00        49   \n",
       "2024-02-11 23:15:00       8.3        30.04       0.00        30   \n",
       "2023-11-18 01:30:00       4.3        29.95       0.00        51   \n",
       "2024-01-07 23:15:00       3.6        29.93       0.00        52   \n",
       "2023-10-04 03:15:00       6.8        29.86       0.00        92   \n",
       "2023-12-16 01:00:00       3.6        29.96       0.00        53   \n",
       "2023-11-11 01:30:00       4.3        29.98       0.00        63   \n",
       "2023-11-08 01:45:00       5.4        29.92       0.00        58   \n",
       "2024-01-18 23:45:00       7.6        29.95       0.00        73   \n",
       "2024-01-05 00:00:00       4.3        29.89       0.00        49   \n",
       "2024-01-12 23:45:00       5.0        29.96       0.00        45   \n",
       "2024-02-28 22:45:00      10.4        29.91       0.00        38   \n",
       "2023-11-25 01:00:00       9.4        29.88       0.04        68   \n",
       "2024-02-08 23:15:00       5.0        29.99       0.00        34   \n",
       "2023-09-17 04:00:00      13.7        29.71       0.00        89   \n",
       "2024-01-19 23:45:00       6.5        29.94       0.00        58   \n",
       "2023-12-07 01:15:00       4.3        29.89       0.06        78   \n",
       "2023-09-21 04:00:00       8.6        29.77       0.00        93   \n",
       "2023-10-16 02:30:00       4.3        29.86       0.00        71   \n",
       "2023-10-15 02:30:00       5.8        29.89       0.00        70   \n",
       "2023-10-05 03:00:00       4.3        29.86       0.00        88   \n",
       "\n",
       "                     air_quality_Nitrogen_dioxide  feels_like_celsius  \n",
       "date_time                                                              \n",
       "2023-10-08 02:45:00                          18.5                24.8  \n",
       "2023-09-29 04:15:00                          38.7                25.3  \n",
       "2023-09-18 04:15:00                           6.9                21.8  \n",
       "2023-11-29 01:15:00                          48.0                20.4  \n",
       "2023-12-27 00:45:00                          75.4                19.7  \n",
       "2024-01-25 23:00:00                          55.5                19.6  \n",
       "2024-01-26 23:30:00                          68.6                21.0  \n",
       "2023-11-20 01:30:00                          33.2                25.1  \n",
       "2023-09-16 04:15:00                           4.2                21.7  \n",
       "2023-09-07 04:45:00                           5.2                21.5  \n",
       "2024-02-10 23:30:00                          28.1                21.5  \n",
       "2023-09-10 04:30:00                           2.9                21.7  \n",
       "2023-11-05 01:45:00                          63.8                25.2  \n",
       "2023-10-20 02:30:00                          26.4                26.2  \n",
       "2024-01-23 00:00:00                          21.8                16.9  \n",
       "2023-12-21 00:30:00                          23.7                18.8  \n",
       "2023-10-21 02:15:00                          33.6                25.1  \n",
       "2023-10-12 02:45:00                          23.3                26.2  \n",
       "2024-02-01 23:30:00                          46.6                18.5  \n",
       "2024-02-19 23:15:00                          38.4                23.7  \n",
       "2024-03-12 22:15:00                          19.2                26.0  \n",
       "2023-11-19 01:15:00                          36.7                24.6  \n",
       "2023-09-08 04:30:00                           4.2                21.3  \n",
       "2023-12-04 02:00:00                          19.2                20.8  \n",
       "2023-11-30 01:00:00                          61.7                20.1  \n",
       "2024-03-05 22:30:00                          33.9                23.9  \n",
       "2023-11-24 01:15:00                          61.0                24.7  \n",
       "2024-03-16 22:00:00                          17.7                24.9  \n",
       "2024-01-30 23:30:00                          45.2                21.0  \n",
       "2023-12-19 00:30:00                          11.0                19.5  \n",
       "2024-02-16 23:00:00                          42.2                24.6  \n",
       "2023-09-19 04:00:00                           7.9                21.6  \n",
       "2023-12-05 01:15:00                          34.3                20.3  \n",
       "2024-01-01 00:00:00                          59.6                19.3  \n",
       "2023-12-23 00:00:00                          52.1                19.5  \n",
       "2023-10-25 02:15:00                          29.1                24.6  \n",
       "2023-09-27 03:45:00                          37.4                21.5  \n",
       "2023-10-14 02:30:00                          40.4                25.0  \n",
       "2023-11-02 01:45:00                          41.8                20.3  \n",
       "2024-02-11 23:15:00                          33.9                21.6  \n",
       "2023-11-18 01:30:00                         111.0                20.2  \n",
       "2024-01-07 23:15:00                          29.1                21.6  \n",
       "2023-10-04 03:15:00                           6.7                21.4  \n",
       "2023-12-16 01:00:00                          61.0                18.5  \n",
       "2023-11-11 01:30:00                          15.9                24.7  \n",
       "2023-11-08 01:45:00                          63.1                21.9  \n",
       "2024-01-18 23:45:00                          39.4                17.5  \n",
       "2024-01-05 00:00:00                          38.0                19.9  \n",
       "2024-01-12 23:45:00                          62.4                24.5  \n",
       "2024-02-28 22:45:00                          39.8                26.5  \n",
       "2023-11-25 01:00:00                          10.3                25.2  \n",
       "2024-02-08 23:15:00                          52.1                23.7  \n",
       "2023-09-17 04:00:00                           1.8                24.5  \n",
       "2024-01-19 23:45:00                          38.0                18.9  \n",
       "2023-12-07 01:15:00                          29.1                20.9  \n",
       "2023-09-21 04:00:00                          11.3                24.7  \n",
       "2023-10-16 02:30:00                          26.7                25.2  \n",
       "2023-10-15 02:30:00                          16.6                24.9  \n",
       "2023-10-05 03:00:00                           9.4                21.8  "
      ]
     },
     "execution_count": 46,
     "metadata": {},
     "output_type": "execute_result"
    }
   ],
   "source": [
    "X_test"
   ]
  },
  {
   "cell_type": "code",
   "execution_count": 47,
   "metadata": {},
   "outputs": [],
   "source": [
    "y_pred = svr.predict(X_test)\n",
    "y_pred=pd.DataFrame(y_pred)\n",
    "\n",
    "y_pred.columns = ['Predicted Value'] "
   ]
  },
  {
   "cell_type": "code",
   "execution_count": 48,
   "metadata": {},
   "outputs": [
    {
     "data": {
      "text/html": [
       "<div>\n",
       "<style scoped>\n",
       "    .dataframe tbody tr th:only-of-type {\n",
       "        vertical-align: middle;\n",
       "    }\n",
       "\n",
       "    .dataframe tbody tr th {\n",
       "        vertical-align: top;\n",
       "    }\n",
       "\n",
       "    .dataframe thead th {\n",
       "        text-align: right;\n",
       "    }\n",
       "</style>\n",
       "<table border=\"1\" class=\"dataframe\">\n",
       "  <thead>\n",
       "    <tr style=\"text-align: right;\">\n",
       "      <th></th>\n",
       "      <th>temperature_celsius</th>\n",
       "      <th>Predicted Value</th>\n",
       "      <th>difference</th>\n",
       "    </tr>\n",
       "    <tr>\n",
       "      <th>date_time</th>\n",
       "      <th></th>\n",
       "      <th></th>\n",
       "      <th></th>\n",
       "    </tr>\n",
       "  </thead>\n",
       "  <tbody>\n",
       "    <tr>\n",
       "      <th>2023-10-08 02:45:00</th>\n",
       "      <td>22.6</td>\n",
       "      <td>23.155978</td>\n",
       "      <td>-0.555978</td>\n",
       "    </tr>\n",
       "    <tr>\n",
       "      <th>2023-09-29 04:15:00</th>\n",
       "      <td>23.1</td>\n",
       "      <td>23.508413</td>\n",
       "      <td>-0.408413</td>\n",
       "    </tr>\n",
       "    <tr>\n",
       "      <th>2023-09-18 04:15:00</th>\n",
       "      <td>21.8</td>\n",
       "      <td>20.948353</td>\n",
       "      <td>0.851647</td>\n",
       "    </tr>\n",
       "    <tr>\n",
       "      <th>2023-11-29 01:15:00</th>\n",
       "      <td>20.4</td>\n",
       "      <td>19.241773</td>\n",
       "      <td>1.158227</td>\n",
       "    </tr>\n",
       "    <tr>\n",
       "      <th>2023-12-27 00:45:00</th>\n",
       "      <td>19.7</td>\n",
       "      <td>19.515788</td>\n",
       "      <td>0.184212</td>\n",
       "    </tr>\n",
       "    <tr>\n",
       "      <th>2024-01-25 23:00:00</th>\n",
       "      <td>19.6</td>\n",
       "      <td>19.879704</td>\n",
       "      <td>-0.279704</td>\n",
       "    </tr>\n",
       "    <tr>\n",
       "      <th>2024-01-26 23:30:00</th>\n",
       "      <td>21.0</td>\n",
       "      <td>20.597360</td>\n",
       "      <td>0.402640</td>\n",
       "    </tr>\n",
       "    <tr>\n",
       "      <th>2023-11-20 01:30:00</th>\n",
       "      <td>23.4</td>\n",
       "      <td>23.903318</td>\n",
       "      <td>-0.503318</td>\n",
       "    </tr>\n",
       "    <tr>\n",
       "      <th>2023-09-16 04:15:00</th>\n",
       "      <td>21.7</td>\n",
       "      <td>20.934953</td>\n",
       "      <td>0.765047</td>\n",
       "    </tr>\n",
       "    <tr>\n",
       "      <th>2023-09-07 04:45:00</th>\n",
       "      <td>21.5</td>\n",
       "      <td>20.763887</td>\n",
       "      <td>0.736113</td>\n",
       "    </tr>\n",
       "    <tr>\n",
       "      <th>2024-02-10 23:30:00</th>\n",
       "      <td>21.5</td>\n",
       "      <td>21.606979</td>\n",
       "      <td>-0.106979</td>\n",
       "    </tr>\n",
       "    <tr>\n",
       "      <th>2023-09-10 04:30:00</th>\n",
       "      <td>21.7</td>\n",
       "      <td>20.912917</td>\n",
       "      <td>0.787083</td>\n",
       "    </tr>\n",
       "    <tr>\n",
       "      <th>2023-11-05 01:45:00</th>\n",
       "      <td>24.2</td>\n",
       "      <td>24.121391</td>\n",
       "      <td>0.078609</td>\n",
       "    </tr>\n",
       "    <tr>\n",
       "      <th>2023-10-20 02:30:00</th>\n",
       "      <td>24.6</td>\n",
       "      <td>24.488351</td>\n",
       "      <td>0.111649</td>\n",
       "    </tr>\n",
       "    <tr>\n",
       "      <th>2024-01-23 00:00:00</th>\n",
       "      <td>16.9</td>\n",
       "      <td>16.991739</td>\n",
       "      <td>-0.091739</td>\n",
       "    </tr>\n",
       "    <tr>\n",
       "      <th>2023-12-21 00:30:00</th>\n",
       "      <td>18.8</td>\n",
       "      <td>19.512651</td>\n",
       "      <td>-0.712651</td>\n",
       "    </tr>\n",
       "    <tr>\n",
       "      <th>2023-10-21 02:15:00</th>\n",
       "      <td>23.3</td>\n",
       "      <td>23.643302</td>\n",
       "      <td>-0.343302</td>\n",
       "    </tr>\n",
       "    <tr>\n",
       "      <th>2023-10-12 02:45:00</th>\n",
       "      <td>24.5</td>\n",
       "      <td>24.455676</td>\n",
       "      <td>0.044324</td>\n",
       "    </tr>\n",
       "    <tr>\n",
       "      <th>2024-02-01 23:30:00</th>\n",
       "      <td>18.5</td>\n",
       "      <td>17.965662</td>\n",
       "      <td>0.534338</td>\n",
       "    </tr>\n",
       "    <tr>\n",
       "      <th>2024-02-19 23:15:00</th>\n",
       "      <td>22.5</td>\n",
       "      <td>23.505560</td>\n",
       "      <td>-1.005560</td>\n",
       "    </tr>\n",
       "    <tr>\n",
       "      <th>2024-03-12 22:15:00</th>\n",
       "      <td>26.5</td>\n",
       "      <td>25.466305</td>\n",
       "      <td>1.033695</td>\n",
       "    </tr>\n",
       "    <tr>\n",
       "      <th>2023-11-19 01:15:00</th>\n",
       "      <td>22.0</td>\n",
       "      <td>23.429600</td>\n",
       "      <td>-1.429600</td>\n",
       "    </tr>\n",
       "    <tr>\n",
       "      <th>2023-09-08 04:30:00</th>\n",
       "      <td>21.3</td>\n",
       "      <td>20.548412</td>\n",
       "      <td>0.751588</td>\n",
       "    </tr>\n",
       "    <tr>\n",
       "      <th>2023-12-04 02:00:00</th>\n",
       "      <td>20.8</td>\n",
       "      <td>20.532335</td>\n",
       "      <td>0.267665</td>\n",
       "    </tr>\n",
       "    <tr>\n",
       "      <th>2023-11-30 01:00:00</th>\n",
       "      <td>20.1</td>\n",
       "      <td>18.877935</td>\n",
       "      <td>1.222065</td>\n",
       "    </tr>\n",
       "    <tr>\n",
       "      <th>2024-03-05 22:30:00</th>\n",
       "      <td>23.1</td>\n",
       "      <td>23.701521</td>\n",
       "      <td>-0.601521</td>\n",
       "    </tr>\n",
       "    <tr>\n",
       "      <th>2023-11-24 01:15:00</th>\n",
       "      <td>22.7</td>\n",
       "      <td>23.569009</td>\n",
       "      <td>-0.869009</td>\n",
       "    </tr>\n",
       "    <tr>\n",
       "      <th>2024-03-16 22:00:00</th>\n",
       "      <td>24.6</td>\n",
       "      <td>24.552390</td>\n",
       "      <td>0.047610</td>\n",
       "    </tr>\n",
       "    <tr>\n",
       "      <th>2024-01-30 23:30:00</th>\n",
       "      <td>21.0</td>\n",
       "      <td>20.809848</td>\n",
       "      <td>0.190152</td>\n",
       "    </tr>\n",
       "    <tr>\n",
       "      <th>2023-12-19 00:30:00</th>\n",
       "      <td>19.5</td>\n",
       "      <td>19.481162</td>\n",
       "      <td>0.018838</td>\n",
       "    </tr>\n",
       "    <tr>\n",
       "      <th>2024-02-16 23:00:00</th>\n",
       "      <td>24.1</td>\n",
       "      <td>23.973692</td>\n",
       "      <td>0.126308</td>\n",
       "    </tr>\n",
       "    <tr>\n",
       "      <th>2023-09-19 04:00:00</th>\n",
       "      <td>21.6</td>\n",
       "      <td>20.654843</td>\n",
       "      <td>0.945157</td>\n",
       "    </tr>\n",
       "    <tr>\n",
       "      <th>2023-12-05 01:15:00</th>\n",
       "      <td>20.3</td>\n",
       "      <td>19.816492</td>\n",
       "      <td>0.483508</td>\n",
       "    </tr>\n",
       "    <tr>\n",
       "      <th>2024-01-01 00:00:00</th>\n",
       "      <td>19.3</td>\n",
       "      <td>19.428957</td>\n",
       "      <td>-0.128957</td>\n",
       "    </tr>\n",
       "    <tr>\n",
       "      <th>2023-12-23 00:00:00</th>\n",
       "      <td>19.5</td>\n",
       "      <td>19.891887</td>\n",
       "      <td>-0.391887</td>\n",
       "    </tr>\n",
       "    <tr>\n",
       "      <th>2023-10-25 02:15:00</th>\n",
       "      <td>22.3</td>\n",
       "      <td>23.522567</td>\n",
       "      <td>-1.222567</td>\n",
       "    </tr>\n",
       "    <tr>\n",
       "      <th>2023-09-27 03:45:00</th>\n",
       "      <td>21.5</td>\n",
       "      <td>20.205956</td>\n",
       "      <td>1.294044</td>\n",
       "    </tr>\n",
       "    <tr>\n",
       "      <th>2023-10-14 02:30:00</th>\n",
       "      <td>23.0</td>\n",
       "      <td>23.349213</td>\n",
       "      <td>-0.349213</td>\n",
       "    </tr>\n",
       "    <tr>\n",
       "      <th>2023-11-02 01:45:00</th>\n",
       "      <td>20.3</td>\n",
       "      <td>20.190456</td>\n",
       "      <td>0.109544</td>\n",
       "    </tr>\n",
       "    <tr>\n",
       "      <th>2024-02-11 23:15:00</th>\n",
       "      <td>21.6</td>\n",
       "      <td>21.761187</td>\n",
       "      <td>-0.161187</td>\n",
       "    </tr>\n",
       "    <tr>\n",
       "      <th>2023-11-18 01:30:00</th>\n",
       "      <td>20.1</td>\n",
       "      <td>19.451842</td>\n",
       "      <td>0.648158</td>\n",
       "    </tr>\n",
       "    <tr>\n",
       "      <th>2024-01-07 23:15:00</th>\n",
       "      <td>21.6</td>\n",
       "      <td>21.258007</td>\n",
       "      <td>0.341993</td>\n",
       "    </tr>\n",
       "    <tr>\n",
       "      <th>2023-10-04 03:15:00</th>\n",
       "      <td>21.4</td>\n",
       "      <td>20.310386</td>\n",
       "      <td>1.089614</td>\n",
       "    </tr>\n",
       "    <tr>\n",
       "      <th>2023-12-16 01:00:00</th>\n",
       "      <td>18.5</td>\n",
       "      <td>18.422526</td>\n",
       "      <td>0.077474</td>\n",
       "    </tr>\n",
       "    <tr>\n",
       "      <th>2023-11-11 01:30:00</th>\n",
       "      <td>22.4</td>\n",
       "      <td>23.474111</td>\n",
       "      <td>-1.074111</td>\n",
       "    </tr>\n",
       "    <tr>\n",
       "      <th>2023-11-08 01:45:00</th>\n",
       "      <td>21.9</td>\n",
       "      <td>21.089388</td>\n",
       "      <td>0.810612</td>\n",
       "    </tr>\n",
       "    <tr>\n",
       "      <th>2024-01-18 23:45:00</th>\n",
       "      <td>17.4</td>\n",
       "      <td>17.319115</td>\n",
       "      <td>0.080885</td>\n",
       "    </tr>\n",
       "    <tr>\n",
       "      <th>2024-01-05 00:00:00</th>\n",
       "      <td>19.9</td>\n",
       "      <td>19.982420</td>\n",
       "      <td>-0.082420</td>\n",
       "    </tr>\n",
       "    <tr>\n",
       "      <th>2024-01-12 23:45:00</th>\n",
       "      <td>22.7</td>\n",
       "      <td>23.484050</td>\n",
       "      <td>-0.784050</td>\n",
       "    </tr>\n",
       "    <tr>\n",
       "      <th>2024-02-28 22:45:00</th>\n",
       "      <td>26.6</td>\n",
       "      <td>25.665292</td>\n",
       "      <td>0.934708</td>\n",
       "    </tr>\n",
       "    <tr>\n",
       "      <th>2023-11-25 01:00:00</th>\n",
       "      <td>23.3</td>\n",
       "      <td>24.043680</td>\n",
       "      <td>-0.743680</td>\n",
       "    </tr>\n",
       "    <tr>\n",
       "      <th>2024-02-08 23:15:00</th>\n",
       "      <td>22.2</td>\n",
       "      <td>23.196608</td>\n",
       "      <td>-0.996608</td>\n",
       "    </tr>\n",
       "    <tr>\n",
       "      <th>2023-09-17 04:00:00</th>\n",
       "      <td>22.0</td>\n",
       "      <td>23.300527</td>\n",
       "      <td>-1.300527</td>\n",
       "    </tr>\n",
       "    <tr>\n",
       "      <th>2024-01-19 23:45:00</th>\n",
       "      <td>18.9</td>\n",
       "      <td>18.881561</td>\n",
       "      <td>0.018439</td>\n",
       "    </tr>\n",
       "    <tr>\n",
       "      <th>2023-12-07 01:15:00</th>\n",
       "      <td>20.9</td>\n",
       "      <td>20.035305</td>\n",
       "      <td>0.864695</td>\n",
       "    </tr>\n",
       "    <tr>\n",
       "      <th>2023-09-21 04:00:00</th>\n",
       "      <td>22.3</td>\n",
       "      <td>23.071861</td>\n",
       "      <td>-0.771861</td>\n",
       "    </tr>\n",
       "    <tr>\n",
       "      <th>2023-10-16 02:30:00</th>\n",
       "      <td>23.4</td>\n",
       "      <td>23.748526</td>\n",
       "      <td>-0.348526</td>\n",
       "    </tr>\n",
       "    <tr>\n",
       "      <th>2023-10-15 02:30:00</th>\n",
       "      <td>22.8</td>\n",
       "      <td>23.601650</td>\n",
       "      <td>-0.801650</td>\n",
       "    </tr>\n",
       "    <tr>\n",
       "      <th>2023-10-05 03:00:00</th>\n",
       "      <td>21.8</td>\n",
       "      <td>20.676298</td>\n",
       "      <td>1.123702</td>\n",
       "    </tr>\n",
       "  </tbody>\n",
       "</table>\n",
       "</div>"
      ],
      "text/plain": [
       "                     temperature_celsius  Predicted Value  difference\n",
       "date_time                                                            \n",
       "2023-10-08 02:45:00                 22.6        23.155978   -0.555978\n",
       "2023-09-29 04:15:00                 23.1        23.508413   -0.408413\n",
       "2023-09-18 04:15:00                 21.8        20.948353    0.851647\n",
       "2023-11-29 01:15:00                 20.4        19.241773    1.158227\n",
       "2023-12-27 00:45:00                 19.7        19.515788    0.184212\n",
       "2024-01-25 23:00:00                 19.6        19.879704   -0.279704\n",
       "2024-01-26 23:30:00                 21.0        20.597360    0.402640\n",
       "2023-11-20 01:30:00                 23.4        23.903318   -0.503318\n",
       "2023-09-16 04:15:00                 21.7        20.934953    0.765047\n",
       "2023-09-07 04:45:00                 21.5        20.763887    0.736113\n",
       "2024-02-10 23:30:00                 21.5        21.606979   -0.106979\n",
       "2023-09-10 04:30:00                 21.7        20.912917    0.787083\n",
       "2023-11-05 01:45:00                 24.2        24.121391    0.078609\n",
       "2023-10-20 02:30:00                 24.6        24.488351    0.111649\n",
       "2024-01-23 00:00:00                 16.9        16.991739   -0.091739\n",
       "2023-12-21 00:30:00                 18.8        19.512651   -0.712651\n",
       "2023-10-21 02:15:00                 23.3        23.643302   -0.343302\n",
       "2023-10-12 02:45:00                 24.5        24.455676    0.044324\n",
       "2024-02-01 23:30:00                 18.5        17.965662    0.534338\n",
       "2024-02-19 23:15:00                 22.5        23.505560   -1.005560\n",
       "2024-03-12 22:15:00                 26.5        25.466305    1.033695\n",
       "2023-11-19 01:15:00                 22.0        23.429600   -1.429600\n",
       "2023-09-08 04:30:00                 21.3        20.548412    0.751588\n",
       "2023-12-04 02:00:00                 20.8        20.532335    0.267665\n",
       "2023-11-30 01:00:00                 20.1        18.877935    1.222065\n",
       "2024-03-05 22:30:00                 23.1        23.701521   -0.601521\n",
       "2023-11-24 01:15:00                 22.7        23.569009   -0.869009\n",
       "2024-03-16 22:00:00                 24.6        24.552390    0.047610\n",
       "2024-01-30 23:30:00                 21.0        20.809848    0.190152\n",
       "2023-12-19 00:30:00                 19.5        19.481162    0.018838\n",
       "2024-02-16 23:00:00                 24.1        23.973692    0.126308\n",
       "2023-09-19 04:00:00                 21.6        20.654843    0.945157\n",
       "2023-12-05 01:15:00                 20.3        19.816492    0.483508\n",
       "2024-01-01 00:00:00                 19.3        19.428957   -0.128957\n",
       "2023-12-23 00:00:00                 19.5        19.891887   -0.391887\n",
       "2023-10-25 02:15:00                 22.3        23.522567   -1.222567\n",
       "2023-09-27 03:45:00                 21.5        20.205956    1.294044\n",
       "2023-10-14 02:30:00                 23.0        23.349213   -0.349213\n",
       "2023-11-02 01:45:00                 20.3        20.190456    0.109544\n",
       "2024-02-11 23:15:00                 21.6        21.761187   -0.161187\n",
       "2023-11-18 01:30:00                 20.1        19.451842    0.648158\n",
       "2024-01-07 23:15:00                 21.6        21.258007    0.341993\n",
       "2023-10-04 03:15:00                 21.4        20.310386    1.089614\n",
       "2023-12-16 01:00:00                 18.5        18.422526    0.077474\n",
       "2023-11-11 01:30:00                 22.4        23.474111   -1.074111\n",
       "2023-11-08 01:45:00                 21.9        21.089388    0.810612\n",
       "2024-01-18 23:45:00                 17.4        17.319115    0.080885\n",
       "2024-01-05 00:00:00                 19.9        19.982420   -0.082420\n",
       "2024-01-12 23:45:00                 22.7        23.484050   -0.784050\n",
       "2024-02-28 22:45:00                 26.6        25.665292    0.934708\n",
       "2023-11-25 01:00:00                 23.3        24.043680   -0.743680\n",
       "2024-02-08 23:15:00                 22.2        23.196608   -0.996608\n",
       "2023-09-17 04:00:00                 22.0        23.300527   -1.300527\n",
       "2024-01-19 23:45:00                 18.9        18.881561    0.018439\n",
       "2023-12-07 01:15:00                 20.9        20.035305    0.864695\n",
       "2023-09-21 04:00:00                 22.3        23.071861   -0.771861\n",
       "2023-10-16 02:30:00                 23.4        23.748526   -0.348526\n",
       "2023-10-15 02:30:00                 22.8        23.601650   -0.801650\n",
       "2023-10-05 03:00:00                 21.8        20.676298    1.123702"
      ]
     },
     "execution_count": 48,
     "metadata": {},
     "output_type": "execute_result"
    }
   ],
   "source": [
    "import pandas as pd\n",
    "\n",
    "\n",
    "df1 = pd.DataFrame(y_test)\n",
    "df2 = pd.DataFrame(y_pred)\n",
    "\n",
    "df1.index = y_test.index  \n",
    "df2.index = df1.index  \n",
    "\n",
    "\n",
    "\n",
    "difference = pd.DataFrame({'difference': df1.iloc[:, 0] - df2.iloc[:, 0]})\n",
    "\n",
    "merged_df = pd.concat([df1, df2, difference], axis=1)\n",
    "merged_df"
   ]
  },
  {
   "cell_type": "code",
   "execution_count": 49,
   "metadata": {},
   "outputs": [],
   "source": [
    "from sklearn.metrics import r2_score"
   ]
  },
  {
   "cell_type": "code",
   "execution_count": 50,
   "metadata": {},
   "outputs": [
    {
     "data": {
      "text/plain": [
       "0.8691641515454339"
      ]
     },
     "execution_count": 50,
     "metadata": {},
     "output_type": "execute_result"
    }
   ],
   "source": [
    "r2_score(y_test,y_pred)"
   ]
  },
  {
   "cell_type": "code",
   "execution_count": 51,
   "metadata": {},
   "outputs": [
    {
     "data": {
      "text/plain": [
       "0.4995163102878743"
      ]
     },
     "execution_count": 51,
     "metadata": {},
     "output_type": "execute_result"
    }
   ],
   "source": [
    "from sklearn.metrics import mean_squared_error\n",
    "\n",
    "def mse(y_test, y_pred):\n",
    "  return mean_squared_error(y_test, y_pred)\n",
    "mse(y_test,y_pred)\n"
   ]
  },
  {
   "cell_type": "code",
   "execution_count": 52,
   "metadata": {},
   "outputs": [
    {
     "data": {
      "image/png": "[encoded data removed]",
      "text/plain": [
       "<Figure size 1200x720 with 8 Axes>"
      ]
     },
     "metadata": {},
     "output_type": "display_data"
    }
   ],
   "source": [
    "import matplotlib.pyplot as plt\n",
    "fig, axes = plt.subplots(nrows=4, ncols=2, dpi=120, figsize=(10,6))\n",
    "for i, ax in enumerate(axes.flatten()):\n",
    "    data = City[City.columns[i]]['2023-12-22 00:15:00':'2024-03-19 21:45:00']\n",
    "    ax.plot(data, color='red', linewidth=1)\n",
    "\n",
    "    ax.set_title(City.columns[i])\n",
    "    ax.xaxis.set_ticks_position('none')\n",
    "    ax.yaxis.set_ticks_position('none')\n",
    "    ax.spines[\"top\"].set_alpha(0)\n",
    "    ax.tick_params(labelsize=7)\n",
    "plt.tight_layout()\n"
   ]
  },
  {
   "cell_type": "code",
   "execution_count": 53,
   "metadata": {},
   "outputs": [],
   "source": [
    "import pickle\n",
    "with open('model.pkl','wb') as files:\n",
    "    pickle.dump(svr, files)\n"
   ]
  }
 ],
 "metadata": {
  "kernelspec": {
   "display_name": "Python 3 (ipykernel)",
   "language": "python",
   "name": "python3"
  },
  "language_info": {
   "codemirror_mode": {
    "name": "ipython",
    "version": 3
   },
   "file_extension": ".py",
   "mimetype": "text/x-python",
   "name": "python",
   "nbconvert_exporter": "python",
   "pygments_lexer": "ipython3",
   "version": "3.11.7"
  }
 },
 "nbformat": 4,
 "nbformat_minor": 4
}
